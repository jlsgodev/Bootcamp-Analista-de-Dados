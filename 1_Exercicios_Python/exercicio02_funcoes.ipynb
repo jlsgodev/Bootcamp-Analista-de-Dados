{
  "nbformat": 4,
  "nbformat_minor": 0,
  "metadata": {
    "colab": {
      "provenance": []
    },
    "kernelspec": {
      "name": "python3",
      "display_name": "Python 3"
    },
    "language_info": {
      "name": "python"
    }
  },
  "cells": [
    {
      "cell_type": "markdown",
      "source": [
        "1. Calculadora Científica\n",
        "   - Escreva uma função que simule uma calculadora científica, capaz de realizar operações básicas como adição, subtração, multiplicação, e divisão, além de funções trigonométricas, exponenciação, e logaritmos.\n",
        "   "
      ],
      "metadata": {
        "id": "-0QFvykgFys-"
      }
    },
    {
      "cell_type": "code",
      "source": [
        "\n",
        "import math\n",
        "\n",
        "def calculadora_cientifica(num1, num2, operacao):\n",
        "\n",
        "    if operacao == \"+\":\n",
        "        return  num1 + num2\n",
        "    elif operacao == \"-\":\n",
        "        return  num1 - num2\n",
        "    elif operacao == \"*\":\n",
        "        return  num1 * num2\n",
        "    elif operacao == \"/\":\n",
        "        return  num1 / num2\n",
        "    elif operacao == \"sin\":\n",
        "        return  math.sin(num1)\n",
        "    elif operacao == \"cos\":\n",
        "        return  math.cos(num1)\n",
        "    elif operacao == \"tan\":\n",
        "        return  math.tan(num1)\n",
        "    elif operacao == \"exp\":\n",
        "        return  math.exp(num1)\n",
        "    elif operacao == \"log\":\n",
        "        return  math.log(num1)\n",
        "    else:\n",
        "        return  \" Operação inválida \"\n",
        "\n",
        "resultado = calculadora_cientifica(10,20, \"*\")\n",
        "\n",
        "print(\"Resultado: \", resultado)"
      ],
      "metadata": {
        "id": "oRPLL824F4fo",
        "colab": {
          "base_uri": "https://localhost:8080/"
        },
        "outputId": "1fdc4628-0ec1-49e2-e6d9-25623fd77062"
      },
      "execution_count": null,
      "outputs": [
        {
          "output_type": "stream",
          "name": "stdout",
          "text": [
            "Resultado:  200\n"
          ]
        }
      ]
    },
    {
      "cell_type": "markdown",
      "source": [
        "2. Conversor de Unidades\n",
        "   - Crie uma função que converta entre diferentes unidades de medida (por exemplo, metros para quilômetros, Celsius para Fahrenheit, etc.). A função deve receber a unidade original e a unidade desejada como parâmetros.\n",
        "   "
      ],
      "metadata": {
        "id": "Cxs6SRrwF6PL"
      }
    },
    {
      "cell_type": "code",
      "source": [
        "def converter_unidades(valor, unidade_original, unidade_desejada):\n",
        "    if unidade_original == \"metros\" and unidade_desejada == \"quilometros\":\n",
        "        return  valor / 1000\n",
        "    elif unidade_original == \"quilometros\" and unidade_desejada == \"metros\":\n",
        "        return  valor * 1000\n",
        "    elif unidade_original == \"celsius\" and unidade_desejada == \"fahrenheit\":\n",
        "        return  (valor * 9/5) + 32\n",
        "    elif unidade_original == \"fahrenheit\" and unidade_desejada == \"celsius\":\n",
        "        return  (valor - 32) * 5/9\n",
        "    else:\n",
        "        return \"Conversão não suportada\"\n",
        "\n",
        "\n",
        "#valor = 5000\n",
        "#unidade_original = \"metros\"\n",
        "#unidade_desejada = \"quilometros\"\n",
        "\n",
        "valor = 20\n",
        "unidade_original = \"celsius\"\n",
        "unidade_desejada = \"fahrenheit\"\n",
        "\n",
        "\n",
        "\n",
        "resultado = converter_unidades(valor, unidade_original, unidade_desejada)\n",
        "print(\"Resultado:\", resultado)\n"
      ],
      "metadata": {
        "id": "HNdl9LouGElC",
        "colab": {
          "base_uri": "https://localhost:8080/"
        },
        "outputId": "a1220be5-4ffb-4977-8899-8047b6db78a2"
      },
      "execution_count": null,
      "outputs": [
        {
          "output_type": "stream",
          "name": "stdout",
          "text": [
            "Resultado: 68.0\n"
          ]
        }
      ]
    },
    {
      "cell_type": "markdown",
      "source": [
        "\n",
        "3. Verificador de Palíndromo\n",
        "   - Escreva uma função que verifique se uma determinada palavra ou frase é um palíndromo (lê-se da mesma forma de frente para trás). A função deve ignorar espaços e pontuações."
      ],
      "metadata": {
        "id": "OH_p-lahGFHP"
      }
    },
    {
      "cell_type": "code",
      "source": [
        "\n",
        "def verificador_de_palindromo(frase):\n",
        "    palavras = frase.split()\n",
        "    junto = ''.join(palavras)\n",
        "    inverso = junto[::-1]\n",
        "    if junto == inverso:\n",
        "        return True\n",
        "    else:\n",
        "        return  False\n",
        "\n",
        "frase = \"socorram me subi  no onibus em  marrocos\"\n",
        "resultado = verificador_de_palindromo(frase)\n",
        "print(\"Resultado:\", resultado)\n"
      ],
      "metadata": {
        "id": "wCBRK_UbGLNn",
        "colab": {
          "base_uri": "https://localhost:8080/"
        },
        "outputId": "2a1148a6-5cfd-4228-e02a-1291868a81cc"
      },
      "execution_count": null,
      "outputs": [
        {
          "output_type": "stream",
          "name": "stdout",
          "text": [
            "Resultado: True\n"
          ]
        }
      ]
    },
    {
      "cell_type": "markdown",
      "source": [
        "4. Gerador de Senhas Seguras\n",
        "   - Desenvolva uma função que gere uma senha segura com um comprimento especificado. A senha deve conter letras maiúsculas e minúsculas, números e símbolos especiais."
      ],
      "metadata": {
        "id": "7bVAkw43GL2h"
      }
    },
    {
      "cell_type": "code",
      "source": [
        "import random\n",
        "import string\n",
        "\n",
        "def gerador_de_senhas_seguras(tamanho):\n",
        "    letras_maiusculas = string.ascii_uppercase\n",
        "    letras_minusculas = string.ascii_lowercase\n",
        "    numeros = string.digits\n",
        "    simbolos = string.punctuation\n",
        "\n",
        "    caracteres = letras_maiusculas +  letras_minusculas + numeros + simbolos\n",
        "\n",
        "    senha = \"\".join(random.choices(caracteres, k=tamanho))\n",
        "\n",
        "    return senha\n",
        "\n",
        "tamanho = 15\n",
        "senha = gerador_de_senhas_seguras(tamanho)\n",
        "print(senha)"
      ],
      "metadata": {
        "id": "s_orv8pqGQnI",
        "colab": {
          "base_uri": "https://localhost:8080/"
        },
        "outputId": "924fa608-423f-4a3c-82c8-c3377f52f79d"
      },
      "execution_count": null,
      "outputs": [
        {
          "output_type": "stream",
          "name": "stdout",
          "text": [
            "<eT\"9\\r^tfAVr1[\n"
          ]
        }
      ]
    },
    {
      "cell_type": "markdown",
      "source": [
        "5. Ordenação de Listas\n",
        "   - Implemente uma função que receba uma lista de números ou strings e a ordene usando um algoritmo de ordenação de sua escolha (por exemplo, QuickSort, MergeSort). A função deve permitir escolher entre ordem crescente ou decrescente.\n",
        "   "
      ],
      "metadata": {
        "id": "u-CuJhSWGREM"
      }
    },
    {
      "cell_type": "code",
      "source": [
        "def ordenacao_de_listas(lista,  ordem ):\n",
        "    if ordem == \"crescente\":\n",
        "        return sorted(lista)\n",
        "    elif ordem == \"decrescente\":\n",
        "        return sorted( lista, reverse=True )\n",
        "    else:\n",
        "        return \"Ordem inválida\"\n",
        "\n",
        "lista  = [10, 5, 7, 3, 8, 9, 4, 6, 2, 1]\n",
        "ordem  = \"crescente\"\n",
        "\n",
        "resultado = ordenacao_de_listas(lista, ordem)\n",
        "print(\"Resultado:\",  resultado)\n"
      ],
      "metadata": {
        "id": "GEaSlOlMGbWz"
      },
      "execution_count": null,
      "outputs": []
    },
    {
      "cell_type": "markdown",
      "source": [
        "6. Validador de CPF\n",
        "   - Crie uma função que valide um CPF (Cadastro de Pessoas Físicas) de acordo com as regras brasileiras, verificando se o CPF é válido ou não.\n",
        "   "
      ],
      "metadata": {
        "id": "xCRY6I5dGgnD"
      }
    },
    {
      "cell_type": "code",
      "source": [
        "def validador_de_cpf(cpf):\n",
        "    cpf = cpf.replace(\".\", \"\").replace(\"-\", \"\")         # Remove pontos e traços\n",
        "    if cpf == cpf[0] * 11:\n",
        "        return False\n",
        "    if len(cpf) != 11:                                  # Verifica se o CPF tem 11 dígitos\n",
        "        return False\n",
        "    for i in range(2):\n",
        "        total = 0\n",
        "        for j in range(9 + i):\n",
        "            total += int(cpf[j]) * (10 + i - j)         # Calcula o total\n",
        "        if (total * 10) % 11 % 10 != int(cpf[9 + i]):       # Verifica se o dígito é válido\n",
        "            return False\n",
        "\n",
        "    return True\n",
        "\n",
        "cpf = \"529.982.247-25\"\n",
        "resultado = validador_de_cpf(cpf)\n",
        "print(\"CPF válido:\", resultado)\n",
        "\n",
        "\n",
        "\n"
      ],
      "metadata": {
        "id": "fBkME0N5Gsg_"
      },
      "execution_count": null,
      "outputs": []
    },
    {
      "cell_type": "markdown",
      "source": [
        "7. Jogo da Velha\n",
        "   - Escreva funções para implementar o jogo da velha, incluindo a verificação de vitória, empate, e a atualização do tabuleiro com cada jogada.\n",
        "   "
      ],
      "metadata": {
        "id": "UqnPcTbfGuby"
      }
    },
    {
      "cell_type": "code",
      "source": [
        "# Jogo da Velha\n",
        "\n",
        "# O tabuleiro\n",
        "velha = \"\"\"               Posições\n",
        "   |   |      7 | 8 | 9\n",
        "---+---+---  ---+---+---\n",
        "   |   |      4 | 5 | 6\n",
        "---+---+---  ---+---+---\n",
        "   |   |      1 | 2 | 3\n",
        "\"\"\"\n",
        "\n",
        "# Uma lista de posições (linha e coluna) para cada posição válida do jogo\n",
        "# Um elemento extra foi adicionado para facilitar a manipulação\n",
        "# dos índices e para que estes tenham o mesmo valor da posição\n",
        "#\n",
        "#  7 | 8 | 9\n",
        "# ---+---+---\n",
        "#  4 | 5 | 6\n",
        "# ---+---+---\n",
        "#  1 | 2 | 3\n",
        "\n",
        "posições = [\n",
        "    None,  # Elemento adicionado para facilitar índices\n",
        "    (5, 1),  # 1\n",
        "    (5, 5),  # 2\n",
        "    (5, 9),  # 3\n",
        "    (3, 1),  # 4\n",
        "    (3, 5),  # 5\n",
        "    (3, 9),  # 6\n",
        "    (1, 1),  # 7\n",
        "    (1, 5),  # 8\n",
        "    (1, 9),  # 9\n",
        "]\n",
        "\n",
        "# Posições que levam ao ganho do jogo\n",
        "# Jogadas fazendo uma linha, uma coluna ou as diagonais ganham\n",
        "# Os números representam as posições ganhadoras\n",
        "ganho = [\n",
        "    [1, 2, 3],  # Linhas\n",
        "    [4, 5, 6],\n",
        "    [7, 8, 9],\n",
        "    [7, 4, 1],  # Colunas\n",
        "    [8, 5, 2],\n",
        "    [9, 6, 3],\n",
        "    [7, 5, 3],  # Diagonais\n",
        "    [1, 5, 9],\n",
        "]\n",
        "\n",
        "# Constroi o tabuleiro a partir das strings\n",
        "# gerando uma lista de listas que pode ser modificada\n",
        "tabuleiro = []\n",
        "for linha in velha.splitlines():\n",
        "    tabuleiro.append(list(linha))\n",
        "\n",
        "# Função para imprimir o tabuleiro\n",
        "def imprimir_tabuleiro():\n",
        "    for t in tabuleiro:\n",
        "        print(\"\".join(t))\n",
        "\n",
        "# Função para atualizar o tabuleiro com a jogada do jogador\n",
        "def atualizar_tabuleiro(jogada, jogador):\n",
        "    if tabuleiro[posições[jogada][0]][posições[jogada][1]] == \" \":\n",
        "        tabuleiro[posições[jogada][0]][posições[jogada][1]] = jogador\n",
        "        return True\n",
        "    return False\n",
        "\n",
        "# Função para verificar se um jogador ganhou\n",
        "def verificar_vitoria(jogador):\n",
        "    for p in ganho:\n",
        "        if all(tabuleiro[posições[x][0]][posições[x][1]] == jogador for x in p):\n",
        "            return True\n",
        "    return False\n",
        "\n",
        "# Função principal do jogo\n",
        "def jogar_jogo_da_velha():\n",
        "    jogador = \"X\"  # Começa jogando com X\n",
        "    jogando = True\n",
        "    jogadas = 0  # Contador de jogadas - usado para saber se deu velha\n",
        "\n",
        "    while True:\n",
        "        imprimir_tabuleiro()\n",
        "\n",
        "        if not jogando:  # Termina após imprimir o último tabuleiro\n",
        "            break\n",
        "\n",
        "        if jogadas == 9:  # Se 9 jogadas foram feitas, todas as posições já foram preenchidas\n",
        "            print(\"Deu velha! Ninguém ganhou.\")\n",
        "            break\n",
        "\n",
        "        try:\n",
        "            jogada = int(input(f\"Digite a posição a jogar 1-9 (jogador {jogador}): \"))\n",
        "        except ValueError:\n",
        "            print(\"Entrada inválida. Digite um número entre 1 e 9.\")\n",
        "            continue\n",
        "\n",
        "        if jogada < 1 or jogada > 9:\n",
        "            print(\"Posição inválida. Digite um número entre 1 e 9.\")\n",
        "            continue\n",
        "\n",
        "        if not atualizar_tabuleiro(jogada, jogador):\n",
        "            print(\"Posição ocupada ou inválida. Tente novamente.\")\n",
        "            continue\n",
        "\n",
        "        if verificar_vitoria(jogador):\n",
        "            imprimir_tabuleiro()\n",
        "            print(f\"O jogador {jogador} ganhou!\")\n",
        "            jogando = False\n",
        "            break\n",
        "\n",
        "        jogador = \"X\" if jogador == \"O\" else \"O\"  # Alterna jogador\n",
        "        jogadas += 1  # Contador de jogadas\n",
        "\n",
        "# Inicia o jogo\n",
        "jogar_jogo_da_velha()\n"
      ],
      "metadata": {
        "id": "y1fdqf_6G459",
        "colab": {
          "base_uri": "https://localhost:8080/"
        },
        "outputId": "81c50154-7845-4638-c75f-b2eeaff701ff"
      },
      "execution_count": null,
      "outputs": [
        {
          "output_type": "stream",
          "name": "stdout",
          "text": [
            "               Posições\n",
            "   |   |      7 | 8 | 9\n",
            "---+---+---  ---+---+---\n",
            "   |   |      4 | 5 | 6\n",
            "---+---+---  ---+---+---\n",
            "   |   |      1 | 2 | 3\n",
            "Digite a posição a jogar 1-9 (jogador X): 1\n",
            "               Posições\n",
            "   |   |      7 | 8 | 9\n",
            "---+---+---  ---+---+---\n",
            "   |   |      4 | 5 | 6\n",
            "---+---+---  ---+---+---\n",
            " X |   |      1 | 2 | 3\n",
            "Digite a posição a jogar 1-9 (jogador O): 4\n",
            "               Posições\n",
            "   |   |      7 | 8 | 9\n",
            "---+---+---  ---+---+---\n",
            " O |   |      4 | 5 | 6\n",
            "---+---+---  ---+---+---\n",
            " X |   |      1 | 2 | 3\n",
            "Digite a posição a jogar 1-9 (jogador X): 2\n",
            "               Posições\n",
            "   |   |      7 | 8 | 9\n",
            "---+---+---  ---+---+---\n",
            " O |   |      4 | 5 | 6\n",
            "---+---+---  ---+---+---\n",
            " X | X |      1 | 2 | 3\n",
            "Digite a posição a jogar 1-9 (jogador O): 5\n",
            "               Posições\n",
            "   |   |      7 | 8 | 9\n",
            "---+---+---  ---+---+---\n",
            " O | O |      4 | 5 | 6\n",
            "---+---+---  ---+---+---\n",
            " X | X |      1 | 2 | 3\n",
            "Digite a posição a jogar 1-9 (jogador X): 3\n",
            "               Posições\n",
            "   |   |      7 | 8 | 9\n",
            "---+---+---  ---+---+---\n",
            " O | O |      4 | 5 | 6\n",
            "---+---+---  ---+---+---\n",
            " X | X | X    1 | 2 | 3\n",
            "O jogador X ganhou!\n"
          ]
        }
      ]
    },
    {
      "cell_type": "markdown",
      "source": [
        "8. Análise de Sentimento\n",
        "   - Desenvolva uma função que analise uma frase ou texto e determine se o sentimento é positivo, negativo ou neutro, usando uma abordagem simples baseada em palavras-chave.\n",
        "   "
      ],
      "metadata": {
        "id": "fMBxe7fmG5kn"
      }
    },
    {
      "cell_type": "code",
      "source": [
        "\n",
        "def analisar_sentimento(texto):\n",
        "    # Listas de palavras-chave para sentimento positivo e negativo\n",
        "    palavras_positivas = [\"bom\", \"boa\", \"bem\", \"ótimo\", \"ótima\", \"feliz\", \"alegre\"]\n",
        "    palavras_negativas = [\"ruim\", \"mau\", \"mal\", \"péssimo\", \"péssima\", \"triste\", \"infeliz\"]\n",
        "\n",
        "    # Contagem de palavras positivas e negativas no texto\n",
        "    contagem_positiva = sum(1 for palavra in texto.lower().split() if palavra in palavras_positivas)\n",
        "    contagem_negativa = sum(1 for palavra in texto.lower().split() if palavra in palavras_negativas)\n",
        "\n",
        "    # Determinação do sentimento com base nas contagens\n",
        "    if contagem_positiva > contagem_negativa:\n",
        "        return \"Positivo\"\n",
        "    elif contagem_positiva < contagem_negativa:\n",
        "        return \"Negativo\"\n",
        "    else:\n",
        "        return \"Neutro\"\n",
        "\n",
        "# Teste da função\n",
        "texto = \"O filme é bom, mas o final é ruim.\"\n",
        "sentimento = analisar_sentimento(texto)\n",
        "print(f\"Texto: '{texto}' -> Sentimento: {sentimento}\")"
      ],
      "metadata": {
        "id": "rfwa-153HAac",
        "colab": {
          "base_uri": "https://localhost:8080/"
        },
        "outputId": "57188fa3-c0fb-4fe6-8c56-836c373f12ef"
      },
      "execution_count": null,
      "outputs": [
        {
          "output_type": "stream",
          "name": "stdout",
          "text": [
            "Texto: 'O filme é bom, mas o final é ruim.' -> Sentimento: Neutro\n"
          ]
        }
      ]
    },
    {
      "cell_type": "markdown",
      "source": [
        "9. Sistema de Votação\n",
        "   - Crie um sistema de votação simples em que os usuários podem votar em diferentes opções. A função deve calcular e exibir o vencedor com base nos votos.\n",
        "   "
      ],
      "metadata": {
        "id": "qCU3m17_HA6m"
      }
    },
    {
      "cell_type": "code",
      "source": [
        "def sistema_de_votacao(opcoes, num_votantes):\n",
        "    # Inicializa contagem de votos para cada opção\n",
        "    contagem_votos = {opcao: 0 for opcao in opcoes}\n",
        "\n",
        "    print(\"Sistema de Votação\")\n",
        "    print(\"-----------------\")\n",
        "\n",
        "    # Coleta votos dos usuários\n",
        "    for i in range(num_votantes):\n",
        "        while True:\n",
        "            try:\n",
        "                voto = input(f\"Votante {i + 1}, escolha uma opção ({', '.join(opcoes)}): \").strip()\n",
        "                if voto in contagem_votos:\n",
        "                    contagem_votos[voto] += 1\n",
        "                    break\n",
        "                else:\n",
        "                    print(\"Opção inválida. Por favor, escolha uma opção válida.\")\n",
        "            except ValueError:\n",
        "                print(\"Entrada inválida. Tente novamente.\")\n",
        "\n",
        "    # Exibe contagem de votos\n",
        "    print(\"\\nContagem de Votos:\")\n",
        "    for opcao, votos in contagem_votos.items():\n",
        "        print(f\"{opcao}: {votos} voto(s)\")\n",
        "\n",
        "    # Determina o vencedor\n",
        "    vencedor = max(contagem_votos, key=contagem_votos.get)\n",
        "    print(f\"\\nO vencedor é: {vencedor}\")\n",
        "\n",
        "# Definindo candidatos\n",
        "opcoes = [\"Fulano\", \"Beltrano\", \"Ciclano\"]  # Nome dos candidatos\n",
        "num_votantes = 5  # Número de pessoas que votarão\n",
        "\n",
        "sistema_de_votacao(opcoes, num_votantes)"
      ],
      "metadata": {
        "id": "OP0jdoKZHGUJ",
        "colab": {
          "base_uri": "https://localhost:8080/"
        },
        "outputId": "0a0ac56b-fcdb-4adb-ad81-4ce1307b7255"
      },
      "execution_count": null,
      "outputs": [
        {
          "output_type": "stream",
          "name": "stdout",
          "text": [
            "Sistema de Votação\n",
            "-----------------\n",
            "Votante 1, escolha uma opção (Fulano, Beltrano, Ciclano): Ciclano\n",
            "Votante 2, escolha uma opção (Fulano, Beltrano, Ciclano): Beltrano\n",
            "Votante 3, escolha uma opção (Fulano, Beltrano, Ciclano): Fulano\n",
            "Votante 4, escolha uma opção (Fulano, Beltrano, Ciclano): Fulano\n",
            "Votante 5, escolha uma opção (Fulano, Beltrano, Ciclano): Fulano\n",
            "\n",
            "Contagem de Votos:\n",
            "Fulano: 3 voto(s)\n",
            "Beltrano: 1 voto(s)\n",
            "Ciclano: 1 voto(s)\n",
            "\n",
            "O vencedor é: Fulano\n"
          ]
        }
      ]
    },
    {
      "cell_type": "markdown",
      "source": [
        "10. Simulação de Dados de Temperatura\n",
        "   - Escreva uma função que simule a coleta de dados de temperatura de diferentes cidades ao longo de uma semana e, em seguida, calcule a média, a temperatura mais alta e mais baixa\n",
        "   "
      ],
      "metadata": {
        "id": "zOE03lrAHG4s"
      }
    },
    {
      "cell_type": "code",
      "source": [
        "temperaturas = [33, 35, 22, 28, 29, 25, 22, 24]\n",
        "# função para calcular a média\n",
        "def calcular_media(temperaturas):\n",
        "    return sum(temperaturas) / len(temperaturas)\n",
        "# função para calcular a temperatura máxima\n",
        "def calcular_maxima(temperaturas):\n",
        "    maxima = temperaturas[0]\n",
        "    for e in temperaturas:\n",
        "        if e > maxima:\n",
        "            maxima = e\n",
        "    return maxima\n",
        "# função para calcular a temperatura mínima\n",
        "def calcular_minima(temperaturas):\n",
        "    minima = temperaturas[0]\n",
        "    for e in temperaturas:\n",
        "        if e < minima:\n",
        "            minima = e\n",
        "    return minima\n",
        "# chamando as funções\n",
        "media = calcular_media(temperaturas)\n",
        "maxima = calcular_maxima(temperaturas)\n",
        "minima = calcular_minima(temperaturas)\n",
        "\n",
        "print(f\"Temperatura máxima: {maxima} °C\")\n",
        "print(f\"Temperatura mínima: {minima} °C\")\n",
        "print(f\"Temperatura média: {media} °C\")"
      ],
      "metadata": {
        "id": "T4vFvlDFHN1l",
        "colab": {
          "base_uri": "https://localhost:8080/"
        },
        "outputId": "f7428736-1eaf-4a17-bfaa-3a58addb88a3"
      },
      "execution_count": null,
      "outputs": [
        {
          "output_type": "stream",
          "name": "stdout",
          "text": [
            "Temperatura máxima: 35 °C\n",
            "Temperatura mínima: 22 °C\n",
            "Temperatura média: 27.25 °C\n"
          ]
        }
      ]
    },
    {
      "cell_type": "markdown",
      "source": [
        "11. Gerador de Números Aleatórios\n",
        "   - Desenvolva uma função que gere uma lista de números aleatórios dentro de um intervalo específico e calcule a média, mediana, e moda dos números gerados."
      ],
      "metadata": {
        "id": "1djW6E0hHOWu"
      }
    },
    {
      "cell_type": "code",
      "source": [
        "import random\n",
        "import statistics\n",
        "# Função para gerar números aleatórios e calcular a média, mediana e moda\n",
        "def gerar_numeros_aleatorios(intervalo, quantidade):\n",
        "    numeros = [random.randint(intervalo[0], intervalo[1]) for _ in range(quantidade)]\n",
        "    media = statistics.mean(numeros)\n",
        "    mediana = statistics.median(numeros)\n",
        "    moda = statistics.mode(numeros)\n",
        "    return numeros, media, mediana, moda\n",
        "# Definindo o intervalo e a quantidade de números\n",
        "intervalo = (1, 100)\n",
        "quantidade = 10\n",
        "\n",
        "numeros, media, mediana, moda = gerar_numeros_aleatorios(intervalo, quantidade)\n",
        "\n",
        "print(f\"Números aleatórios: {numeros}\")\n",
        "print(f\"Média: {media:.2f}\")\n",
        "print(f\"Mediana: {mediana}\")\n",
        "print(f\"Moda: {moda}\")"
      ],
      "metadata": {
        "id": "UR8P9vJSHSpV",
        "colab": {
          "base_uri": "https://localhost:8080/"
        },
        "outputId": "c460754f-cee9-40c3-e82d-e06dd4240f38"
      },
      "execution_count": null,
      "outputs": [
        {
          "output_type": "stream",
          "name": "stdout",
          "text": [
            "Números aleatórios: [5, 32, 55, 58, 69, 20, 48, 63, 92, 51]\n",
            "Média: 49.30\n",
            "Mediana: 53.0\n",
            "Moda: 5\n"
          ]
        }
      ]
    },
    {
      "cell_type": "markdown",
      "source": [
        "\n",
        "12. Analisador de Texto\n",
        "   - Crie uma função que receba um texto e retorne o número de palavras, frases, e caracteres, além de calcular a frequência de cada palavra no texto."
      ],
      "metadata": {
        "id": "hFV72mkmHTNP"
      }
    },
    {
      "cell_type": "code",
      "source": [
        "def analisador_texto(texto):\n",
        "    palavras = texto.split()\n",
        "    frases = texto.split(\".\")\n",
        "    caracteres = len(texto)\n",
        "    frequencia = {}\n",
        "    for palavra in palavras:\n",
        "        if palavra in frequencia:\n",
        "            frequencia[palavra] += 1\n",
        "        else:\n",
        "            frequencia[palavra] = 1\n",
        "    return len(palavras), len(frases), caracteres, frequencia\n",
        "\n",
        "# Teste da função com um texto de exemplo\n",
        "texto = \"O rato roeu a roupa do rei de Roma. O rei de Roma ficou furioso.\"\n",
        "palavras, frases, caracteres, frequencia = analisador_texto(texto)\n",
        "\n",
        "print(f\"Palavras: {palavras}\")\n",
        "print(f\"Frases: {frases}\")\n",
        "print(f\"Caracteres: {caracteres}\")\n",
        "print(\"Frequência de palavras:\")\n",
        "for palavra, freq in frequencia.items():\n",
        "    print(f\"{palavra}: {freq}\")"
      ],
      "metadata": {
        "id": "6u20oSflHX-n",
        "colab": {
          "base_uri": "https://localhost:8080/"
        },
        "outputId": "4a11462d-4226-4aa2-df89-3a8e694d5cd2"
      },
      "execution_count": null,
      "outputs": [
        {
          "output_type": "stream",
          "name": "stdout",
          "text": [
            "Palavras: 15\n",
            "Frases: 3\n",
            "Caracteres: 64\n",
            "Frequência de palavras:\n",
            "O: 2\n",
            "rato: 1\n",
            "roeu: 1\n",
            "a: 1\n",
            "roupa: 1\n",
            "do: 1\n",
            "rei: 2\n",
            "de: 2\n",
            "Roma.: 1\n",
            "Roma: 1\n",
            "ficou: 1\n",
            "furioso.: 1\n"
          ]
        }
      ]
    },
    {
      "cell_type": "markdown",
      "source": [
        "13. Cálculo de Juros Compostos\n",
        "   - Escreva uma função que calcule o valor futuro de um investimento com base nos juros compostos. A função deve permitir a personalização do principal, taxa de juros, e número de períodos."
      ],
      "metadata": {
        "id": "sNjsTBG6HYpp"
      }
    },
    {
      "cell_type": "code",
      "source": [
        "def calcular_juros_compostos(principal, taxa, periodos):\n",
        "    return principal * (1 + taxa) ** periodos\n",
        "\n",
        "principal = 5000  # Valor inicial investido\n",
        "taxa = 0.05      # Taxa de juros anual (5%)\n",
        "periodos = 3      # Número de períodos (anos, se a capitalização for anual)\n",
        "\n",
        "valor_futuro = calcular_juros_compostos(principal, taxa, periodos)\n",
        "print(f\"O valor futuro do investimento é: R${valor_futuro:.2f}\")"
      ],
      "metadata": {
        "id": "9Ay_-nxJHfG4",
        "colab": {
          "base_uri": "https://localhost:8080/"
        },
        "outputId": "72ac4940-b988-4cea-88fd-6bee0f568ca0"
      },
      "execution_count": null,
      "outputs": [
        {
          "output_type": "stream",
          "name": "stdout",
          "text": [
            "O valor futuro do investimento é: R$5788.13\n"
          ]
        }
      ]
    },
    {
      "cell_type": "markdown",
      "source": [
        "14. Conversor de Data\n",
        "   - Desenvolva uma função que converta datas entre diferentes formatos (por exemplo, de \"DD/MM/YYYY\" para \"YYYY-MM-DD\") e que valide se a data inserida é válida."
      ],
      "metadata": {
        "id": "n8HhFwiyHf0u"
      }
    },
    {
      "cell_type": "code",
      "source": [
        "def converter_data(data, formato_original, formato_desejado):\n",
        "    if formato_original == \"DD/MM/YYYY\" and formato_desejado == \"YYYY-MM-DD\":\n",
        "        dia, mes, ano = data.split(\"/\")\n",
        "        return f\"{ano}-{mes}-{dia}\"\n",
        "    elif formato_original == \"YYYY-MM-DD\" and formato_desejado == \"DD/MM/YYYY\":\n",
        "        ano, mes, dia = data.split(\"-\")\n",
        "        return f\"{dia}/{mes}/{ano}\"\n",
        "    else:\n",
        "        return \"Conversão não suportada\"\n",
        "\n",
        "data = \"30/12/1991\"\n",
        "formato_original = \"DD/MM/YYYY\"\n",
        "formato_desejado = \"YYYY-MM-DD\"\n",
        "\n",
        "resultado = converter_data(data, formato_original, formato_desejado)\n",
        "print(\"Resultado:\", resultado)"
      ],
      "metadata": {
        "id": "14jSGmQBHlwM",
        "colab": {
          "base_uri": "https://localhost:8080/"
        },
        "outputId": "30ba261c-51b0-41ce-9b55-c986473d8cba"
      },
      "execution_count": null,
      "outputs": [
        {
          "output_type": "stream",
          "name": "stdout",
          "text": [
            "Resultado: 1991-12-30\n"
          ]
        }
      ]
    },
    {
      "cell_type": "markdown",
      "source": [
        "15. Simulador de Lançamento de Dados\n",
        "   - Crie uma função que simule o lançamento de um dado (ou múltiplos dados) um número específico de vezes e exiba a frequência de cada face.\n",
        "   "
      ],
      "metadata": {
        "id": "OS1LTBnZHqNV"
      }
    },
    {
      "cell_type": "code",
      "source": [
        "import random\n",
        "\n",
        "def simulador_lancamento_dados(dados, vezes):\n",
        "    resultados = {i: 0 for i in range(1, dados + 1)}\n",
        "    for _ in range(vezes):\n",
        "        resultado = random.randint(1, dados)\n",
        "        resultados[resultado] += 1\n",
        "    return resultados\n",
        "\n",
        "dados = 6\n",
        "vezes = 10\n",
        "resultados = simulador_lancamento_dados(dados, vezes)\n",
        "\n",
        "print(f\"Resultados do lançamento de {dados} dados {vezes} vezes:\")\n",
        "for face, frequencia in resultados.items():\n",
        "    print(f\"Face {face}: {frequencia} vezes\")\n",
        "\n"
      ],
      "metadata": {
        "id": "F-5lrIMzHr-k"
      },
      "execution_count": null,
      "outputs": []
    }
  ]
}