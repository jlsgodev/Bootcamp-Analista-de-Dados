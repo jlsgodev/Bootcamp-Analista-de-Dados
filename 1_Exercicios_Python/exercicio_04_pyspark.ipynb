{
  "nbformat": 4,
  "nbformat_minor": 0,
  "metadata": {
    "colab": {
      "provenance": []
    },
    "kernelspec": {
      "name": "python3",
      "display_name": "Python 3"
    },
    "language_info": {
      "name": "python"
    }
  },
  "cells": [
    {
      "cell_type": "markdown",
      "source": [
        "### A atividade de hoje é sobre uma base de dados que já utilizamos em projetos anteriores com outras ferramentas e tecnologias.\n",
        "A base encontra-se já disponível anteriormente sobre funcionários, e a atividade é a seguinte:\n",
        "\n",
        "1 - Baixe a base em sua máquina no formato .csv;\n",
        "2 - Abra um novo colab e crie uma nova seção PySpark;\n",
        "3 - Suba a base da máquina para seu ambiente Pyspark no Colab;\n",
        "4 - Elabore Análises com filtros e agrupamentos aprendidos em PySpark na aula de ontem;\n",
        "5 - Cada filtro ou agrupamento que você realizar deve estar acompanhado (no bloco de código do respectivo colab) de um comentário sobre qual  pergunta essas dados filtrados ou agrupados tentam responder sobre essa base;\n",
        "6 - Cada filtro ou agrupamento deverá ser salvo em um objeto PySpark e depois convertido em um objeto Pandas, ao longo\n",
        "do dia você deverá realizar no mínimo 20 tabelas resultantes dessas análises;\n",
        "7 - Após isso, as tabelas pandas deverão ser enviadas diretamente do colab para arquivos csv.\n",
        "8 - O formato de entrega é o próprio link, ou arquivo ypynb do colab\n",
        "\n",
        "Bom trabalho,\n",
        "\n",
        "Abraços"
      ],
      "metadata": {
        "id": "dq-GNvSXrVSH"
      }
    },
    {
      "cell_type": "code",
      "execution_count": null,
      "metadata": {
        "id": "wL4w9h_gT9uU"
      },
      "outputs": [],
      "source": [
        "# Importação da biblioteca pandas\n",
        "import pandas as pd"
      ]
    },
    {
      "cell_type": "code",
      "source": [
        "# Instalação dos requisitos para o PySpark\n",
        "!apt-get install openjdk-8-jdk-headless -qq > /dev/null\n",
        "!wget -q http://archive.apache.org/dist/spark/spark-3.1.1/spark-3.1.1-bin-hadoop3.2.tgz\n",
        "!tar xf spark-3.1.1-bin-hadoop3.2.tgz\n",
        "!pip install -q findspark"
      ],
      "metadata": {
        "id": "nVuzSN7vrPrK"
      },
      "execution_count": null,
      "outputs": []
    },
    {
      "cell_type": "code",
      "source": [
        " !pip install pyspark\n"
      ],
      "metadata": {
        "colab": {
          "base_uri": "https://localhost:8080/"
        },
        "id": "YI0Il9LJ03a3",
        "outputId": "e2d224cf-0af7-4fa2-e9cb-5333c16afba0"
      },
      "execution_count": null,
      "outputs": [
        {
          "output_type": "stream",
          "name": "stdout",
          "text": [
            "Collecting pyspark\n",
            "  Downloading pyspark-3.5.2.tar.gz (317.3 MB)\n",
            "\u001b[2K     \u001b[90m━━━━━━━━━━━━━━━━━━━━━━━━━━━━━━━━━━━━━━━━\u001b[0m \u001b[32m317.3/317.3 MB\u001b[0m \u001b[31m5.2 MB/s\u001b[0m eta \u001b[36m0:00:00\u001b[0m\n",
            "\u001b[?25h  Preparing metadata (setup.py) ... \u001b[?25l\u001b[?25hdone\n",
            "Requirement already satisfied: py4j==0.10.9.7 in /usr/local/lib/python3.10/dist-packages (from pyspark) (0.10.9.7)\n",
            "Building wheels for collected packages: pyspark\n",
            "  Building wheel for pyspark (setup.py) ... \u001b[?25l\u001b[?25hdone\n",
            "  Created wheel for pyspark: filename=pyspark-3.5.2-py2.py3-none-any.whl size=317812365 sha256=f83f2db1165b92417c9c4bf3448c97a970b40945b82705cd1493a59ed486ceb5\n",
            "  Stored in directory: /root/.cache/pip/wheels/34/34/bd/03944534c44b677cd5859f248090daa9fb27b3c8f8e5f49574\n",
            "Successfully built pyspark\n",
            "Installing collected packages: pyspark\n",
            "Successfully installed pyspark-3.5.2\n"
          ]
        }
      ]
    },
    {
      "cell_type": "code",
      "source": [
        "from pyspark.sql.functions import avg, round, F   # media, arredondar valores\n"
      ],
      "metadata": {
        "id": "887GHbLr4UG7"
      },
      "execution_count": null,
      "outputs": []
    },
    {
      "cell_type": "code",
      "source": [
        "from pyspark.sql import SparkSession\n",
        "\n",
        "spark = SparkSession.builder \\\n",
        "       .appName(\"Análise de Funcionários\") \\\n",
        "       .getOrCreate()\n",
        "\n",
        "# Carregar o arquivo CSV\n",
        "df = spark.read.csv('/content/funcionarios.csv', header=True, inferSchema=True)\n",
        "df.show()"
      ],
      "metadata": {
        "id": "l6ONFw2R1Bu0",
        "colab": {
          "base_uri": "https://localhost:8080/"
        },
        "outputId": "786fdc55-8e5c-423a-82dc-6f28a4ffa441"
      },
      "execution_count": null,
      "outputs": [
        {
          "output_type": "stream",
          "name": "stdout",
          "text": [
            "+-----+--------+--------------------+-----------------+--------------------+-----------------+------------+----------------+------------------------------------------+--------------+----------------------------------------------+---------+----------------+------------------------------------+-----------------+--------------------+-------------------------+------------+------------+--------------+---------------------------------+--------------+--------------+--------------------------------+--------------------+------------------------------------+--------------------------+--------------------------------------+-------------------------+---------------------------------------------+------------------------+------------------------------------+--------------------------------+----------------------------+-----------------------------------+\n",
            "|Idade|Demissão|  Viagem de negócios|Diárias recebidas|        Departamento|Distância de Casa|Escolaridade|Área de Formação|Número de contratos de trabalho na empresa|ID Funcionário|Nível de Satisfação com o ambiente de trabalho|   Gênero|Salário por hora|Nível de envolvimento com o trabalho|Nível hierárquico|               Cargo|Satisfação com o trabalho|Estado civil|Renda mensal|Salário Mensal|qtde de empresas que já trabalhou|Maior de idade|Faz hora extra|percentual de aumento de salário|score de performance|Satisfação nas relações Não trabalho|Jornada padrão de trabalho|opção de remaunração variável em ações|Total de anos trabalhados|Qtde de treinamentos realizados no último ano|Equilíbrio vida trabalho|Total de anos trabalhados na empresa|Anos trabalhados na função atual|Anos desde a última promoção|Anos trabalhando com o atual gestor|\n",
            "+-----+--------+--------------------+-----------------+--------------------+-----------------+------------+----------------+------------------------------------------+--------------+----------------------------------------------+---------+----------------+------------------------------------+-----------------+--------------------+-------------------------+------------+------------+--------------+---------------------------------+--------------+--------------+--------------------------------+--------------------+------------------------------------+--------------------------+--------------------------------------+-------------------------+---------------------------------------------+------------------------+------------------------------------+--------------------------------+----------------------------+-----------------------------------+\n",
            "|   41|     Sim|     Viaja raramente|             1102|              Vendas|                1|           2|Ciências Humanas|                                         1|             1|                                             2| Feminino|              94|                                   3|                2| Executivo de vendas|                        4|    Solteiro|        5993|         19479|                                8|           Sim|           Sim|                              11|                   3|                                   1|                        80|                                     0|                        8|                                            0|                       1|                                   6|                               4|                           0|                                  5|\n",
            "|   49|     Não|Viaja frequentemente|              279|Pesquisa e Desenv...|                8|           1|Ciências Humanas|                                         1|             2|                                             3|Masculino|              61|                                   2|                2|Pesquisador cient...|                        2|      Casado|        5130|         24907|                                1|           Sim|           Não|                              23|                   4|                                   4|                        80|                                     1|                       10|                                            3|                       3|                                  10|                               7|                           1|                                  7|\n",
            "|   37|     Sim|     Viaja raramente|             1373|Pesquisa e Desenv...|                2|           2|          Outras|                                         1|             4|                                             4|Masculino|              92|                                   2|                1|Técnico de Labora...|                        3|    Solteiro|        2090|          2396|                                6|           Sim|           Sim|                              15|                   3|                                   2|                        80|                                     0|                        7|                                            3|                       3|                                   0|                               0|                           0|                                  0|\n",
            "|   33|     Não|Viaja frequentemente|             1392|Pesquisa e Desenv...|                3|           4|Ciências Humanas|                                         1|             5|                                             4| Feminino|              56|                                   3|                1|Pesquisador cient...|                        3|      Casado|        2909|         23159|                                1|           Sim|           Sim|                              11|                   3|                                   3|                        80|                                     0|                        8|                                            3|                       3|                                   8|                               7|                           3|                                  0|\n",
            "|   27|     Não|     Viaja raramente|              591|Pesquisa e Desenv...|                2|           1|Ciências Médicas|                                         1|             7|                                             1|Masculino|              40|                                   3|                1|Técnico de Labora...|                        2|      Casado|        3468|         16632|                                9|           Sim|           Não|                              12|                   3|                                   4|                        80|                                     1|                        6|                                            3|                       3|                                   2|                               2|                           2|                                  2|\n",
            "|   32|     Não|Viaja frequentemente|             1005|Pesquisa e Desenv...|                2|           2|Ciências Humanas|                                         1|             8|                                             4|Masculino|              79|                                   3|                1|Técnico de Labora...|                        4|    Solteiro|        3068|         11864|                                0|           Sim|           Não|                              13|                   3|                                   3|                        80|                                     0|                        8|                                            2|                       2|                                   7|                               7|                           3|                                  6|\n",
            "|   59|     Não|     Viaja raramente|             1324|Pesquisa e Desenv...|                3|           3|Ciências Médicas|                                         1|            10|                                             3| Feminino|              81|                                   4|                1|Técnico de Labora...|                        1|      Casado|        2670|          9964|                                4|           Sim|           Sim|                              20|                   4|                                   1|                        80|                                     3|                       12|                                            3|                       2|                                   1|                               0|                           0|                                  0|\n",
            "|   30|     Não|     Viaja raramente|             1358|Pesquisa e Desenv...|               24|           1|Ciências Humanas|                                         1|            11|                                             4|Masculino|              67|                                   3|                1|Técnico de Labora...|                        3|  Divorciado|        2693|         13335|                                1|           Sim|           Não|                              22|                   4|                                   2|                        80|                                     1|                        1|                                            2|                       3|                                   1|                               0|                           0|                                  0|\n",
            "|   38|     Não|Viaja frequentemente|              216|Pesquisa e Desenv...|               23|           3|Ciências Humanas|                                         1|            12|                                             4|Masculino|              44|                                   2|                3|Diretor de manufa...|                        3|    Solteiro|        9526|          8787|                                0|           Sim|           Não|                              21|                   4|                                   2|                        80|                                     0|                       10|                                            2|                       3|                                   9|                               7|                           1|                                  8|\n",
            "|   36|     Não|     Viaja raramente|             1299|Pesquisa e Desenv...|               27|           3|Ciências Médicas|                                         1|            13|                                             3|Masculino|              94|                                   3|                2|Reprentante de saúde|                        3|      Casado|        5237|         16577|                                6|           Sim|           Não|                              13|                   3|                                   2|                        80|                                     2|                       17|                                            3|                       2|                                   7|                               7|                           7|                                  7|\n",
            "|   35|     Não|     Viaja raramente|              809|Pesquisa e Desenv...|               16|           3|Ciências Médicas|                                         1|            14|                                             1|Masculino|              84|                                   4|                1|Técnico de Labora...|                        2|      Casado|        2426|         16479|                                0|           Sim|           Não|                              13|                   3|                                   3|                        80|                                     1|                        6|                                            5|                       3|                                   5|                               4|                           0|                                  3|\n",
            "|   29|     Não|     Viaja raramente|              153|Pesquisa e Desenv...|               15|           2|Ciências Humanas|                                         1|            15|                                             4| Feminino|              49|                                   2|                2|Técnico de Labora...|                        3|    Solteiro|        4193|         12682|                                0|           Sim|           Sim|                              12|                   3|                                   4|                        80|                                     0|                       10|                                            3|                       3|                                   9|                               5|                           0|                                  8|\n",
            "|   31|     Não|     Viaja raramente|              670|Pesquisa e Desenv...|               26|           1|Ciências Humanas|                                         1|            16|                                             1|Masculino|              31|                                   3|                1|Pesquisador cient...|                        3|  Divorciado|        2911|         15170|                                1|           Sim|           Não|                              17|                   3|                                   4|                        80|                                     1|                        5|                                            1|                       2|                                   5|                               2|                           4|                                  3|\n",
            "|   34|     Não|     Viaja raramente|             1346|Pesquisa e Desenv...|               19|           2|Ciências Médicas|                                         1|            18|                                             2|Masculino|              93|                                   3|                1|Técnico de Labora...|                        4|  Divorciado|        2661|          8758|                                0|           Sim|           Não|                              11|                   3|                                   3|                        80|                                     1|                        3|                                            2|                       3|                                   2|                               2|                           1|                                  2|\n",
            "|   28|     Sim|     Viaja raramente|              103|Pesquisa e Desenv...|               24|           3|Ciências Humanas|                                         1|            19|                                             3|Masculino|              93|                                   2|                1|Técnico de Labora...|                        3|    Solteiro|        2028|         12947|                                5|           Sim|           Sim|                              14|                   3|                                   2|                        80|                                     0|                        6|                                            4|                       3|                                   4|                               2|                           0|                                  3|\n",
            "|   29|     Não|     Viaja raramente|             1389|Pesquisa e Desenv...|               21|           4|Ciências Humanas|                                         1|            20|                                             2| Feminino|              51|                                   4|                3|Diretor de manufa...|                        1|  Divorciado|        9980|         10195|                                1|           Sim|           Não|                              11|                   3|                                   3|                        80|                                     1|                       10|                                            1|                       3|                                  10|                               9|                           8|                                  8|\n",
            "|   32|     Não|     Viaja raramente|              334|Pesquisa e Desenv...|                5|           2|Ciências Humanas|                                         1|            21|                                             1|Masculino|              80|                                   4|                1|Pesquisador cient...|                        2|  Divorciado|        3298|         15053|                                0|           Sim|           Sim|                              12|                   3|                                   4|                        80|                                     2|                        7|                                            5|                       2|                                   6|                               2|                           0|                                  5|\n",
            "|   22|     Não|           Não Viaja|             1123|Pesquisa e Desenv...|               16|           2|Ciências Médicas|                                         1|            22|                                             4|Masculino|              96|                                   4|                1|Técnico de Labora...|                        4|  Divorciado|        2935|          7324|                                1|           Sim|           Sim|                              13|                   3|                                   2|                        80|                                     2|                        1|                                            2|                       2|                                   1|                               0|                           0|                                  0|\n",
            "|   53|     Não|     Viaja raramente|             1219|              Vendas|                2|           4|Ciências Humanas|                                         1|            23|                                             1| Feminino|              78|                                   2|                4|             Gerente|                        4|      Casado|       15427|         22021|                                2|           Sim|           Não|                              16|                   3|                                   3|                        80|                                     0|                       31|                                            3|                       3|                                  25|                               8|                           3|                                  7|\n",
            "|   38|     Não|     Viaja raramente|              371|Pesquisa e Desenv...|                2|           3|Ciências Humanas|                                         1|            24|                                             4|Masculino|              45|                                   3|                1|Pesquisador cient...|                        4|    Solteiro|        3944|          4306|                                5|           Sim|           Sim|                              11|                   3|                                   3|                        80|                                     0|                        6|                                            3|                       3|                                   3|                               2|                           1|                                  2|\n",
            "+-----+--------+--------------------+-----------------+--------------------+-----------------+------------+----------------+------------------------------------------+--------------+----------------------------------------------+---------+----------------+------------------------------------+-----------------+--------------------+-------------------------+------------+------------+--------------+---------------------------------+--------------+--------------+--------------------------------+--------------------+------------------------------------+--------------------------+--------------------------------------+-------------------------+---------------------------------------------+------------------------+------------------------------------+--------------------------------+----------------------------+-----------------------------------+\n",
            "only showing top 20 rows\n",
            "\n"
          ]
        }
      ]
    },
    {
      "cell_type": "markdown",
      "source": [
        "### 1. Contagem de funcionários por departamento.\n",
        "### Quantos funcionários existem em cada departamento?"
      ],
      "metadata": {
        "id": "_M-2Dl_vyZvL"
      }
    },
    {
      "cell_type": "code",
      "source": [
        "# Agrupar funcionários por departamento e contar\n",
        "contagem_por_departamento = df.groupBy(\"Departamento\").count()\n",
        "# Converter para Pandas\n",
        "contagem_por_departamento_pd = contagem_por_departamento.toPandas()\n",
        "# Salvar em um arquivo CSV\n",
        "contagem_por_departamento_pd.to_csv('contagem_por_departamento.csv', index=False)\n",
        "# Exibir os resultados\n",
        "contagem_por_departamento.show()\n"
      ],
      "metadata": {
        "id": "TM41pgLF4Tw3",
        "colab": {
          "base_uri": "https://localhost:8080/"
        },
        "outputId": "7253eef2-6265-4050-e0b2-62b9b3d3e7a0"
      },
      "execution_count": null,
      "outputs": [
        {
          "output_type": "stream",
          "name": "stdout",
          "text": [
            "+--------------------+-----+\n",
            "|        Departamento|count|\n",
            "+--------------------+-----+\n",
            "|              Vendas|  446|\n",
            "|Pesquisa e Desenv...|  961|\n",
            "|   Recursos HumaNãos|   63|\n",
            "+--------------------+-----+\n",
            "\n"
          ]
        }
      ]
    },
    {
      "cell_type": "markdown",
      "source": [
        "### # 2. Média salarial por cargo\n",
        "### Qual é a média salarial para cada cargo?"
      ],
      "metadata": {
        "id": "vin9U4A31qZo"
      }
    },
    {
      "cell_type": "code",
      "source": [
        "# Agrupar por Cargo e calcular a media salarial\n",
        "media_salario = df.groupBy(\"Cargo\").agg(round(avg(\"Salário Mensal\"), 2).alias(\"media_salario\"))\n",
        "media_salario_pd = media_salario.toPandas()\n",
        "media_salario_pd.to_csv('media_salario_cargo.csv', index=False)\n",
        "media_salario.show()"
      ],
      "metadata": {
        "id": "5Et3Llpi8FbS",
        "colab": {
          "base_uri": "https://localhost:8080/"
        },
        "outputId": "a028c133-5610-4708-ce29-b5b1363c1f0a"
      },
      "execution_count": null,
      "outputs": [
        {
          "output_type": "stream",
          "name": "stdout",
          "text": [
            "+--------------------+-------------+\n",
            "|               Cargo|media_salario|\n",
            "+--------------------+-------------+\n",
            "|             Gerente|     15139.58|\n",
            "|Diretor de manufa...|     14478.97|\n",
            "| Diretor de pesquisa|     15080.55|\n",
            "|Pesquisador cient...|     13927.11|\n",
            "| Executivo de vendas|     14471.11|\n",
            "|Técnico de Labora...|     14066.06|\n",
            "|   Recursos HumaNãos|      13292.4|\n",
            "|Reprentante de saúde|      14400.2|\n",
            "|Representante de ...|      14278.2|\n",
            "+--------------------+-------------+\n",
            "\n"
          ]
        }
      ]
    },
    {
      "cell_type": "markdown",
      "source": [
        "###  3. Funcionários com salário acima da média\n",
        "### Quais funcionários têm salário acima da média geral?"
      ],
      "metadata": {
        "id": "Cx5vmAGI-jEx"
      }
    },
    {
      "cell_type": "code",
      "source": [
        "# Calculando a média geral do salário\n",
        "media_salario = df.select(avg(\"Salário Mensal\")).first()[0]\n",
        "\n",
        "# Filtrando os funcionários com salário acima da média arredondada\n",
        "funcionarios_acima_media = df.filter(df[\"Salário Mensal\"] > media_salario)\n",
        "\n",
        "# Convertendo para Pandas\n",
        "funcionarios_acima_media_pd = funcionarios_acima_media.toPandas()\n",
        "\n",
        "# Salvando em um arquivo CSV\n",
        "funcionarios_acima_media_pd.to_csv('funcionarios_acima_media.csv', index=False)\n",
        "\n",
        "# Exibindo os resultados\n",
        "df.select(avg(\"Salário Mensal\")).show()\n",
        "funcionarios_acima_media.show()\n"
      ],
      "metadata": {
        "id": "ecvtdt_N80KM",
        "colab": {
          "base_uri": "https://localhost:8080/"
        },
        "outputId": "c3618e57-fe2f-4575-e1cb-e6b4bfab9d49"
      },
      "execution_count": null,
      "outputs": [
        {
          "output_type": "stream",
          "name": "stdout",
          "text": [
            "+-------------------+\n",
            "|avg(Salário Mensal)|\n",
            "+-------------------+\n",
            "| 14313.103401360544|\n",
            "+-------------------+\n",
            "\n",
            "+-----+--------+--------------------+-----------------+--------------------+-----------------+------------+----------------+------------------------------------------+--------------+----------------------------------------------+---------+----------------+------------------------------------+-----------------+--------------------+-------------------------+------------+------------+--------------+---------------------------------+--------------+--------------+--------------------------------+--------------------+------------------------------------+--------------------------+--------------------------------------+-------------------------+---------------------------------------------+------------------------+------------------------------------+--------------------------------+----------------------------+-----------------------------------+\n",
            "|Idade|Demissão|  Viagem de negócios|Diárias recebidas|        Departamento|Distância de Casa|Escolaridade|Área de Formação|Número de contratos de trabalho na empresa|ID Funcionário|Nível de Satisfação com o ambiente de trabalho|   Gênero|Salário por hora|Nível de envolvimento com o trabalho|Nível hierárquico|               Cargo|Satisfação com o trabalho|Estado civil|Renda mensal|Salário Mensal|qtde de empresas que já trabalhou|Maior de idade|Faz hora extra|percentual de aumento de salário|score de performance|Satisfação nas relações Não trabalho|Jornada padrão de trabalho|opção de remaunração variável em ações|Total de anos trabalhados|Qtde de treinamentos realizados no último ano|Equilíbrio vida trabalho|Total de anos trabalhados na empresa|Anos trabalhados na função atual|Anos desde a última promoção|Anos trabalhando com o atual gestor|\n",
            "+-----+--------+--------------------+-----------------+--------------------+-----------------+------------+----------------+------------------------------------------+--------------+----------------------------------------------+---------+----------------+------------------------------------+-----------------+--------------------+-------------------------+------------+------------+--------------+---------------------------------+--------------+--------------+--------------------------------+--------------------+------------------------------------+--------------------------+--------------------------------------+-------------------------+---------------------------------------------+------------------------+------------------------------------+--------------------------------+----------------------------+-----------------------------------+\n",
            "|   41|     Sim|     Viaja raramente|             1102|              Vendas|                1|           2|Ciências Humanas|                                         1|             1|                                             2| Feminino|              94|                                   3|                2| Executivo de vendas|                        4|    Solteiro|        5993|         19479|                                8|           Sim|           Sim|                              11|                   3|                                   1|                        80|                                     0|                        8|                                            0|                       1|                                   6|                               4|                           0|                                  5|\n",
            "|   49|     Não|Viaja frequentemente|              279|Pesquisa e Desenv...|                8|           1|Ciências Humanas|                                         1|             2|                                             3|Masculino|              61|                                   2|                2|Pesquisador cient...|                        2|      Casado|        5130|         24907|                                1|           Sim|           Não|                              23|                   4|                                   4|                        80|                                     1|                       10|                                            3|                       3|                                  10|                               7|                           1|                                  7|\n",
            "|   33|     Não|Viaja frequentemente|             1392|Pesquisa e Desenv...|                3|           4|Ciências Humanas|                                         1|             5|                                             4| Feminino|              56|                                   3|                1|Pesquisador cient...|                        3|      Casado|        2909|         23159|                                1|           Sim|           Sim|                              11|                   3|                                   3|                        80|                                     0|                        8|                                            3|                       3|                                   8|                               7|                           3|                                  0|\n",
            "|   27|     Não|     Viaja raramente|              591|Pesquisa e Desenv...|                2|           1|Ciências Médicas|                                         1|             7|                                             1|Masculino|              40|                                   3|                1|Técnico de Labora...|                        2|      Casado|        3468|         16632|                                9|           Sim|           Não|                              12|                   3|                                   4|                        80|                                     1|                        6|                                            3|                       3|                                   2|                               2|                           2|                                  2|\n",
            "|   36|     Não|     Viaja raramente|             1299|Pesquisa e Desenv...|               27|           3|Ciências Médicas|                                         1|            13|                                             3|Masculino|              94|                                   3|                2|Reprentante de saúde|                        3|      Casado|        5237|         16577|                                6|           Sim|           Não|                              13|                   3|                                   2|                        80|                                     2|                       17|                                            3|                       2|                                   7|                               7|                           7|                                  7|\n",
            "|   35|     Não|     Viaja raramente|              809|Pesquisa e Desenv...|               16|           3|Ciências Médicas|                                         1|            14|                                             1|Masculino|              84|                                   4|                1|Técnico de Labora...|                        2|      Casado|        2426|         16479|                                0|           Sim|           Não|                              13|                   3|                                   3|                        80|                                     1|                        6|                                            5|                       3|                                   5|                               4|                           0|                                  3|\n",
            "|   31|     Não|     Viaja raramente|              670|Pesquisa e Desenv...|               26|           1|Ciências Humanas|                                         1|            16|                                             1|Masculino|              31|                                   3|                1|Pesquisador cient...|                        3|  Divorciado|        2911|         15170|                                1|           Sim|           Não|                              17|                   3|                                   4|                        80|                                     1|                        5|                                            1|                       2|                                   5|                               2|                           4|                                  3|\n",
            "|   32|     Não|     Viaja raramente|              334|Pesquisa e Desenv...|                5|           2|Ciências Humanas|                                         1|            21|                                             1|Masculino|              80|                                   4|                1|Pesquisador cient...|                        2|  Divorciado|        3298|         15053|                                0|           Sim|           Sim|                              12|                   3|                                   4|                        80|                                     2|                        7|                                            5|                       2|                                   6|                               2|                           0|                                  5|\n",
            "|   53|     Não|     Viaja raramente|             1219|              Vendas|                2|           4|Ciências Humanas|                                         1|            23|                                             1| Feminino|              78|                                   2|                4|             Gerente|                        4|      Casado|       15427|         22021|                                2|           Sim|           Não|                              16|                   3|                                   3|                        80|                                     0|                       31|                                            3|                       3|                                  25|                               8|                           3|                                  7|\n",
            "|   34|     Não|     Viaja raramente|              419|Pesquisa e Desenv...|                7|           4|Ciências Humanas|                                         1|            28|                                             1| Feminino|              53|                                   3|                3| Diretor de pesquisa|                        2|    Solteiro|       11994|         21293|                                0|           Sim|           Não|                              11|                   3|                                   3|                        80|                                     0|                       13|                                            4|                       3|                                  12|                               6|                           2|                                 11|\n",
            "|   21|     Não|     Viaja raramente|              391|Pesquisa e Desenv...|               15|           2|Ciências Humanas|                                         1|            30|                                             3|Masculino|              96|                                   3|                1|Pesquisador cient...|                        4|    Solteiro|        1232|         19281|                                1|           Sim|           Não|                              14|                   3|                                   4|                        80|                                     0|                        0|                                            6|                       3|                                   0|                               0|                           0|                                  0|\n",
            "|   34|     Sim|     Viaja raramente|              699|Pesquisa e Desenv...|                6|           1|Ciências Médicas|                                         1|            31|                                             2|Masculino|              83|                                   3|                1|Pesquisador cient...|                        1|    Solteiro|        2960|         17102|                                2|           Sim|           Não|                              11|                   3|                                   3|                        80|                                     0|                        8|                                            2|                       3|                                   4|                               2|                           1|                                  3|\n",
            "|   42|     Não|     Viaja raramente|              691|              Vendas|                8|           4|       Marketing|                                         1|            35|                                             3|Masculino|              48|                                   3|                2| Executivo de vendas|                        2|      Casado|        6825|         21173|                                0|           Sim|           Não|                              11|                   3|                                   4|                        80|                                     1|                       10|                                            2|                       3|                                   9|                               7|                           4|                                  2|\n",
            "|   46|     Não|     Viaja raramente|              705|              Vendas|                2|           4|       Marketing|                                         1|            38|                                             2| Feminino|              83|                                   3|                5|             Gerente|                        1|    Solteiro|       18947|         22822|                                3|           Sim|           Não|                              12|                   3|                                   4|                        80|                                     0|                       22|                                            2|                       2|                                   2|                               2|                           2|                                  1|\n",
            "|   44|     Não|     Viaja raramente|             1459|Pesquisa e Desenv...|               10|           4|          Outras|                                         1|            40|                                             4|Masculino|              41|                                   3|                2|Reprentante de saúde|                        4|      Casado|        6465|         19121|                                2|           Sim|           Sim|                              13|                   3|                                   4|                        80|                                     0|                        9|                                            5|                       4|                                   4|                               2|                           1|                                  3|\n",
            "|   30|     Não|     Viaja raramente|              125|Pesquisa e Desenv...|                9|           2|Ciências Médicas|                                         1|            41|                                             4|Masculino|              83|                                   2|                1|Técnico de Labora...|                        3|    Solteiro|        2206|         16117|                                1|           Sim|           Não|                              13|                   3|                                   1|                        80|                                     0|                       10|                                            5|                       3|                                  10|                               0|                           1|                                  8|\n",
            "|   43|     Não|     Viaja raramente|             1273|Pesquisa e Desenv...|                2|           2|Ciências Médicas|                                         1|            46|                                             4| Feminino|              72|                                   4|                1|Pesquisador cient...|                        3|  Divorciado|        2645|         21923|                                1|           Sim|           Não|                              12|                   3|                                   4|                        80|                                     2|                        6|                                            3|                       2|                                   5|                               3|                           1|                                  4|\n",
            "|   27|     Não|     Viaja raramente|             1240|Pesquisa e Desenv...|                2|           4|Ciências Humanas|                                         1|            54|                                             4| Feminino|              33|                                   3|                1|Técnico de Labora...|                        1|  Divorciado|        2341|         19715|                                1|           Sim|           Não|                              13|                   3|                                   4|                        80|                                     1|                        1|                                            6|                       3|                                   1|                               0|                           0|                                  0|\n",
            "|   41|     Sim|     Viaja raramente|             1360|Pesquisa e Desenv...|               12|           3| EnsiNão técnico|                                         1|            58|                                             2| Feminino|              49|                                   3|                5| Diretor de pesquisa|                        3|      Casado|       19545|         16280|                                1|           Sim|           Não|                              12|                   3|                                   4|                        80|                                     0|                       23|                                            0|                       3|                                  22|                              15|                          15|                                  8|\n",
            "|   46|     Não|Viaja frequentemente|             1211|              Vendas|                5|           4|       Marketing|                                         1|            62|                                             1|Masculino|              98|                                   3|                2| Executivo de vendas|                        4|    Solteiro|        5772|         20445|                                4|           Sim|           Sim|                              21|                   4|                                   3|                        80|                                     0|                       14|                                            4|                       3|                                   9|                               6|                           0|                                  8|\n",
            "+-----+--------+--------------------+-----------------+--------------------+-----------------+------------+----------------+------------------------------------------+--------------+----------------------------------------------+---------+----------------+------------------------------------+-----------------+--------------------+-------------------------+------------+------------+--------------+---------------------------------+--------------+--------------+--------------------------------+--------------------+------------------------------------+--------------------------+--------------------------------------+-------------------------+---------------------------------------------+------------------------+------------------------------------+--------------------------------+----------------------------+-----------------------------------+\n",
            "only showing top 20 rows\n",
            "\n"
          ]
        }
      ]
    },
    {
      "cell_type": "markdown",
      "source": [
        "###  4. Contagem de funcionários por gênero\n",
        "### Qual é a distribuição de gênero na empresa?"
      ],
      "metadata": {
        "id": "cIytD9Z1htLc"
      }
    },
    {
      "cell_type": "code",
      "source": [
        "# contagem de funcionarios por gênero\n",
        "genero_contagem = df.groupBy(\"Gênero\").count()\n",
        "genero_contagem_pd = genero_contagem.toPandas()\n",
        "genero_contagem_pd.to_csv(\"genero_contagem.csv\", index=False)\n",
        "genero_contagem.show()"
      ],
      "metadata": {
        "id": "4Dj1yi2b83nL",
        "colab": {
          "base_uri": "https://localhost:8080/"
        },
        "outputId": "3944e840-82f5-4326-b3b9-3fd7e50e29e5"
      },
      "execution_count": null,
      "outputs": [
        {
          "output_type": "stream",
          "name": "stdout",
          "text": [
            "+---------+-----+\n",
            "|   Gênero|count|\n",
            "+---------+-----+\n",
            "| Feminino|  588|\n",
            "|Masculino|  882|\n",
            "+---------+-----+\n",
            "\n"
          ]
        }
      ]
    },
    {
      "cell_type": "markdown",
      "source": [
        "###  5. Média de idade por departamento\n",
        "### Qual é a média de idade dos funcionários em cada departamento?"
      ],
      "metadata": {
        "id": "lhsVHCrhyliQ"
      }
    },
    {
      "cell_type": "code",
      "source": [
        "# Agrupar por departamento e calcular a media de idade\n",
        "departamento_idade_media = df.groupBy(\"Departamento\").agg(round(avg(\"Idade\")).alias(\"departamento_idade_media\"))\n",
        "departamento_idade_media_pd = departamento_idade_media.toPandas()\n",
        "departamento_idade_media_pd.to_csv('idade_media_por_departamento.csv', index=False)\n",
        "departamento_idade_media.show()"
      ],
      "metadata": {
        "id": "Lw_kYSHC86AK",
        "colab": {
          "base_uri": "https://localhost:8080/"
        },
        "outputId": "cca2232e-d5f4-4a50-dbf6-f45d517fdf74"
      },
      "execution_count": null,
      "outputs": [
        {
          "output_type": "stream",
          "name": "stdout",
          "text": [
            "+--------------------+------------------------+\n",
            "|        Departamento|departamento_idade_media|\n",
            "+--------------------+------------------------+\n",
            "|              Vendas|                    37.0|\n",
            "|Pesquisa e Desenv...|                    37.0|\n",
            "|   Recursos HumaNãos|                    38.0|\n",
            "+--------------------+------------------------+\n",
            "\n"
          ]
        }
      ]
    },
    {
      "cell_type": "markdown",
      "source": [
        "### # 6. Quais funcionários têm mais de 5 anos de experiência na empresa?"
      ],
      "metadata": {
        "id": "X1XuThVw0o8n"
      }
    },
    {
      "cell_type": "code",
      "source": [
        "# 6. Quais funcionários têm mais de 5 anos de experiência na empresa?\n",
        "anos_trabalho = df.filter(df[\"Total de anos trabalhados na empresa\"] > 5)\n",
        "anos_trabalho_pd = anos_trabalho.toPandas()\n",
        "anos_trabalho_pd.to_csv('anos_trabalho.csv', index=False)\n",
        "anos_trabalho.show()"
      ],
      "metadata": {
        "id": "q3_YjKiw96S3",
        "colab": {
          "base_uri": "https://localhost:8080/"
        },
        "outputId": "ec44b0fd-0256-4ff1-9ec0-ce54f6493bce"
      },
      "execution_count": null,
      "outputs": [
        {
          "output_type": "stream",
          "name": "stdout",
          "text": [
            "+-----+--------+--------------------+-----------------+--------------------+-----------------+------------+----------------+------------------------------------------+--------------+----------------------------------------------+---------+----------------+------------------------------------+-----------------+--------------------+-------------------------+------------+------------+--------------+---------------------------------+--------------+--------------+--------------------------------+--------------------+------------------------------------+--------------------------+--------------------------------------+-------------------------+---------------------------------------------+------------------------+------------------------------------+--------------------------------+----------------------------+-----------------------------------+\n",
            "|Idade|Demissão|  Viagem de negócios|Diárias recebidas|        Departamento|Distância de Casa|Escolaridade|Área de Formação|Número de contratos de trabalho na empresa|ID Funcionário|Nível de Satisfação com o ambiente de trabalho|   Gênero|Salário por hora|Nível de envolvimento com o trabalho|Nível hierárquico|               Cargo|Satisfação com o trabalho|Estado civil|Renda mensal|Salário Mensal|qtde de empresas que já trabalhou|Maior de idade|Faz hora extra|percentual de aumento de salário|score de performance|Satisfação nas relações Não trabalho|Jornada padrão de trabalho|opção de remaunração variável em ações|Total de anos trabalhados|Qtde de treinamentos realizados no último ano|Equilíbrio vida trabalho|Total de anos trabalhados na empresa|Anos trabalhados na função atual|Anos desde a última promoção|Anos trabalhando com o atual gestor|\n",
            "+-----+--------+--------------------+-----------------+--------------------+-----------------+------------+----------------+------------------------------------------+--------------+----------------------------------------------+---------+----------------+------------------------------------+-----------------+--------------------+-------------------------+------------+------------+--------------+---------------------------------+--------------+--------------+--------------------------------+--------------------+------------------------------------+--------------------------+--------------------------------------+-------------------------+---------------------------------------------+------------------------+------------------------------------+--------------------------------+----------------------------+-----------------------------------+\n",
            "|   41|     Sim|     Viaja raramente|             1102|              Vendas|                1|           2|Ciências Humanas|                                         1|             1|                                             2| Feminino|              94|                                   3|                2| Executivo de vendas|                        4|    Solteiro|        5993|         19479|                                8|           Sim|           Sim|                              11|                   3|                                   1|                        80|                                     0|                        8|                                            0|                       1|                                   6|                               4|                           0|                                  5|\n",
            "|   49|     Não|Viaja frequentemente|              279|Pesquisa e Desenv...|                8|           1|Ciências Humanas|                                         1|             2|                                             3|Masculino|              61|                                   2|                2|Pesquisador cient...|                        2|      Casado|        5130|         24907|                                1|           Sim|           Não|                              23|                   4|                                   4|                        80|                                     1|                       10|                                            3|                       3|                                  10|                               7|                           1|                                  7|\n",
            "|   33|     Não|Viaja frequentemente|             1392|Pesquisa e Desenv...|                3|           4|Ciências Humanas|                                         1|             5|                                             4| Feminino|              56|                                   3|                1|Pesquisador cient...|                        3|      Casado|        2909|         23159|                                1|           Sim|           Sim|                              11|                   3|                                   3|                        80|                                     0|                        8|                                            3|                       3|                                   8|                               7|                           3|                                  0|\n",
            "|   32|     Não|Viaja frequentemente|             1005|Pesquisa e Desenv...|                2|           2|Ciências Humanas|                                         1|             8|                                             4|Masculino|              79|                                   3|                1|Técnico de Labora...|                        4|    Solteiro|        3068|         11864|                                0|           Sim|           Não|                              13|                   3|                                   3|                        80|                                     0|                        8|                                            2|                       2|                                   7|                               7|                           3|                                  6|\n",
            "|   38|     Não|Viaja frequentemente|              216|Pesquisa e Desenv...|               23|           3|Ciências Humanas|                                         1|            12|                                             4|Masculino|              44|                                   2|                3|Diretor de manufa...|                        3|    Solteiro|        9526|          8787|                                0|           Sim|           Não|                              21|                   4|                                   2|                        80|                                     0|                       10|                                            2|                       3|                                   9|                               7|                           1|                                  8|\n",
            "|   36|     Não|     Viaja raramente|             1299|Pesquisa e Desenv...|               27|           3|Ciências Médicas|                                         1|            13|                                             3|Masculino|              94|                                   3|                2|Reprentante de saúde|                        3|      Casado|        5237|         16577|                                6|           Sim|           Não|                              13|                   3|                                   2|                        80|                                     2|                       17|                                            3|                       2|                                   7|                               7|                           7|                                  7|\n",
            "|   29|     Não|     Viaja raramente|              153|Pesquisa e Desenv...|               15|           2|Ciências Humanas|                                         1|            15|                                             4| Feminino|              49|                                   2|                2|Técnico de Labora...|                        3|    Solteiro|        4193|         12682|                                0|           Sim|           Sim|                              12|                   3|                                   4|                        80|                                     0|                       10|                                            3|                       3|                                   9|                               5|                           0|                                  8|\n",
            "|   29|     Não|     Viaja raramente|             1389|Pesquisa e Desenv...|               21|           4|Ciências Humanas|                                         1|            20|                                             2| Feminino|              51|                                   4|                3|Diretor de manufa...|                        1|  Divorciado|        9980|         10195|                                1|           Sim|           Não|                              11|                   3|                                   3|                        80|                                     1|                       10|                                            1|                       3|                                  10|                               9|                           8|                                  8|\n",
            "|   32|     Não|     Viaja raramente|              334|Pesquisa e Desenv...|                5|           2|Ciências Humanas|                                         1|            21|                                             1|Masculino|              80|                                   4|                1|Pesquisador cient...|                        2|  Divorciado|        3298|         15053|                                0|           Sim|           Sim|                              12|                   3|                                   4|                        80|                                     2|                        7|                                            5|                       2|                                   6|                               2|                           0|                                  5|\n",
            "|   53|     Não|     Viaja raramente|             1219|              Vendas|                2|           4|Ciências Humanas|                                         1|            23|                                             1| Feminino|              78|                                   2|                4|             Gerente|                        4|      Casado|       15427|         22021|                                2|           Sim|           Não|                              16|                   3|                                   3|                        80|                                     0|                       31|                                            3|                       3|                                  25|                               8|                           3|                                  7|\n",
            "|   34|     Não|     Viaja raramente|              419|Pesquisa e Desenv...|                7|           4|Ciências Humanas|                                         1|            28|                                             1| Feminino|              53|                                   3|                3| Diretor de pesquisa|                        2|    Solteiro|       11994|         21293|                                0|           Sim|           Não|                              11|                   3|                                   3|                        80|                                     0|                       13|                                            4|                       3|                                  12|                               6|                           2|                                 11|\n",
            "|   53|     Não|     Viaja raramente|             1282|Pesquisa e Desenv...|                5|           3|          Outras|                                         1|            32|                                             3| Feminino|              58|                                   3|                5|             Gerente|                        3|  Divorciado|       19094|         10735|                                4|           Sim|           Não|                              11|                   3|                                   4|                        80|                                     1|                       26|                                            3|                       2|                                  14|                              13|                           4|                                  8|\n",
            "|   32|     Sim|Viaja frequentemente|             1125|Pesquisa e Desenv...|               16|           1|Ciências Humanas|                                         1|            33|                                             2| Feminino|              72|                                   1|                1|Pesquisador cient...|                        1|    Solteiro|        3919|          4681|                                1|           Sim|           Sim|                              22|                   4|                                   2|                        80|                                     0|                       10|                                            5|                       3|                                  10|                               2|                           6|                                  7|\n",
            "|   42|     Não|     Viaja raramente|              691|              Vendas|                8|           4|       Marketing|                                         1|            35|                                             3|Masculino|              48|                                   3|                2| Executivo de vendas|                        2|      Casado|        6825|         21173|                                0|           Sim|           Não|                              11|                   3|                                   4|                        80|                                     1|                       10|                                            2|                       3|                                   9|                               7|                           4|                                  2|\n",
            "|   44|     Não|     Viaja raramente|              477|Pesquisa e Desenv...|                7|           4|Ciências Médicas|                                         1|            36|                                             1| Feminino|              42|                                   2|                3|Reprentante de saúde|                        4|      Casado|       10248|          2094|                                3|           Sim|           Não|                              14|                   3|                                   4|                        80|                                     1|                       24|                                            4|                       3|                                  22|                               6|                           5|                                 17|\n",
            "|   30|     Não|     Viaja raramente|              125|Pesquisa e Desenv...|                9|           2|Ciências Médicas|                                         1|            41|                                             4|Masculino|              83|                                   2|                1|Técnico de Labora...|                        3|    Solteiro|        2206|         16117|                                1|           Sim|           Não|                              13|                   3|                                   1|                        80|                                     0|                       10|                                            5|                       3|                                  10|                               0|                           1|                                  8|\n",
            "|   27|     Não|Viaja frequentemente|              994|              Vendas|                8|           3|Ciências Humanas|                                         1|            56|                                             4|Masculino|              37|                                   3|                3| Executivo de vendas|                        3|    Solteiro|        8726|          2975|                                1|           Sim|           Não|                              15|                   3|                                   4|                        80|                                     0|                        9|                                            0|                       3|                                   9|                               8|                           1|                                  7|\n",
            "|   30|     Não|Viaja frequentemente|              721|Pesquisa e Desenv...|                1|           2|Ciências Médicas|                                         1|            57|                                             3| Feminino|              58|                                   3|                2|Técnico de Labora...|                        4|    Solteiro|        4011|         10781|                                1|           Sim|           Não|                              23|                   4|                                   4|                        80|                                     0|                       12|                                            2|                       3|                                  12|                               8|                           3|                                  7|\n",
            "|   41|     Sim|     Viaja raramente|             1360|Pesquisa e Desenv...|               12|           3| EnsiNão técnico|                                         1|            58|                                             2| Feminino|              49|                                   3|                5| Diretor de pesquisa|                        3|      Casado|       19545|         16280|                                1|           Sim|           Não|                              12|                   3|                                   4|                        80|                                     0|                       23|                                            0|                       3|                                  22|                              15|                          15|                                  8|\n",
            "|   34|     Não|           Não Viaja|             1065|              Vendas|               23|           4|       Marketing|                                         1|            60|                                             2|Masculino|              72|                                   3|                2| Executivo de vendas|                        3|    Solteiro|        4568|         10034|                                0|           Sim|           Não|                              20|                   4|                                   3|                        80|                                     0|                       10|                                            2|                       3|                                   9|                               5|                           8|                                  7|\n",
            "+-----+--------+--------------------+-----------------+--------------------+-----------------+------------+----------------+------------------------------------------+--------------+----------------------------------------------+---------+----------------+------------------------------------+-----------------+--------------------+-------------------------+------------+------------+--------------+---------------------------------+--------------+--------------+--------------------------------+--------------------+------------------------------------+--------------------------+--------------------------------------+-------------------------+---------------------------------------------+------------------------+------------------------------------+--------------------------------+----------------------------+-----------------------------------+\n",
            "only showing top 20 rows\n",
            "\n"
          ]
        }
      ]
    },
    {
      "cell_type": "markdown",
      "source": [
        "###  7. Qual é a distribuição de funcionários por nível educacional?"
      ],
      "metadata": {
        "id": "aGp6oaz71pvP"
      }
    },
    {
      "cell_type": "code",
      "source": [
        "# Agrupar por nivel de escolaridade e contar o número de funcionários em cada nível\n",
        "nivel_escolaridade = df.groupBy(\"Escolaridade\").count()\n",
        "nivel_escolaridade_pd = nivel_escolaridade.toPandas()\n",
        "nivel_escolaridade_pd.to_csv('nivel_escolaridade.csv', index=False)\n",
        "nivel_escolaridade.show()"
      ],
      "metadata": {
        "id": "xCcdJyYP9_Y_",
        "colab": {
          "base_uri": "https://localhost:8080/"
        },
        "outputId": "af9f7170-8284-47ad-c2f3-bf286c44f40e"
      },
      "execution_count": null,
      "outputs": [
        {
          "output_type": "stream",
          "name": "stdout",
          "text": [
            "+------------+-----+\n",
            "|Escolaridade|count|\n",
            "+------------+-----+\n",
            "|           1|  170|\n",
            "|           3|  572|\n",
            "|           5|   48|\n",
            "|           4|  398|\n",
            "|           2|  282|\n",
            "+------------+-----+\n",
            "\n"
          ]
        }
      ]
    },
    {
      "cell_type": "markdown",
      "source": [
        "### 8. Pergunta: Quais funcionários não viajam?"
      ],
      "metadata": {
        "id": "duXaoSW93sC7"
      }
    },
    {
      "cell_type": "code",
      "source": [
        "# Filtrar por coluna Viagem de negócios, selecionando não viaja.\n",
        "empregados_nao_viajam = df.filter(df[\"Viagem de negócios\"] == \"Não Viaja\")\n",
        "empregados_nao_viajam_pd = empregados_nao_viajam.toPandas()\n",
        "empregados_nao_viajam_pd.to_csv(\"empregados_nao_viajam\", index=False)\n",
        "empregados_nao_viajam.show()"
      ],
      "metadata": {
        "id": "8Gt60uJG-Bxk",
        "colab": {
          "base_uri": "https://localhost:8080/"
        },
        "outputId": "abc50613-413d-4f1c-d59d-d3257f5c13a5"
      },
      "execution_count": null,
      "outputs": [
        {
          "output_type": "stream",
          "name": "stdout",
          "text": [
            "+-----+--------+------------------+-----------------+--------------------+-----------------+------------+-----------------+------------------------------------------+--------------+----------------------------------------------+---------+----------------+------------------------------------+-----------------+--------------------+-------------------------+------------+------------+--------------+---------------------------------+--------------+--------------+--------------------------------+--------------------+------------------------------------+--------------------------+--------------------------------------+-------------------------+---------------------------------------------+------------------------+------------------------------------+--------------------------------+----------------------------+-----------------------------------+\n",
            "|Idade|Demissão|Viagem de negócios|Diárias recebidas|        Departamento|Distância de Casa|Escolaridade| Área de Formação|Número de contratos de trabalho na empresa|ID Funcionário|Nível de Satisfação com o ambiente de trabalho|   Gênero|Salário por hora|Nível de envolvimento com o trabalho|Nível hierárquico|               Cargo|Satisfação com o trabalho|Estado civil|Renda mensal|Salário Mensal|qtde de empresas que já trabalhou|Maior de idade|Faz hora extra|percentual de aumento de salário|score de performance|Satisfação nas relações Não trabalho|Jornada padrão de trabalho|opção de remaunração variável em ações|Total de anos trabalhados|Qtde de treinamentos realizados no último ano|Equilíbrio vida trabalho|Total de anos trabalhados na empresa|Anos trabalhados na função atual|Anos desde a última promoção|Anos trabalhando com o atual gestor|\n",
            "+-----+--------+------------------+-----------------+--------------------+-----------------+------------+-----------------+------------------------------------------+--------------+----------------------------------------------+---------+----------------+------------------------------------+-----------------+--------------------+-------------------------+------------+------------+--------------+---------------------------------+--------------+--------------+--------------------------------+--------------------+------------------------------------+--------------------------+--------------------------------------+-------------------------+---------------------------------------------+------------------------+------------------------------------+--------------------------------+----------------------------+-----------------------------------+\n",
            "|   22|     Não|         Não Viaja|             1123|Pesquisa e Desenv...|               16|           2| Ciências Médicas|                                         1|            22|                                             4|Masculino|              96|                                   4|                1|Técnico de Labora...|                        4|  Divorciado|        2935|          7324|                                1|           Sim|           Sim|                              13|                   3|                                   2|                        80|                                     2|                        1|                                            2|                       2|                                   1|                               0|                           0|                                  0|\n",
            "|   24|     Não|         Não Viaja|              673|Pesquisa e Desenv...|               11|           2|           Outras|                                         1|            26|                                             1| Feminino|              96|                                   4|                2|Diretor de manufa...|                        3|  Divorciado|        4011|          8232|                                0|           Sim|           Não|                              18|                   3|                                   4|                        80|                                     1|                        5|                                            5|                       2|                                   4|                               2|                           1|                                  3|\n",
            "|   34|     Não|         Não Viaja|             1065|              Vendas|               23|           4|        Marketing|                                         1|            60|                                             2|Masculino|              72|                                   3|                2| Executivo de vendas|                        3|    Solteiro|        4568|         10034|                                0|           Sim|           Não|                              20|                   4|                                   3|                        80|                                     0|                       10|                                            2|                       3|                                   9|                               5|                           8|                                  7|\n",
            "|   35|     Não|         Não Viaja|             1097|Pesquisa e Desenv...|               11|           2| Ciências Médicas|                                         1|            70|                                             3|Masculino|              79|                                   2|                3|Reprentante de saúde|                        1|      Casado|        9884|          8302|                                2|           Sim|           Sim|                              13|                   3|                                   3|                        80|                                     1|                       10|                                            3|                       3|                                   4|                               0|                           2|                                  3|\n",
            "|   38|     Não|         Não Viaja|              573|Pesquisa e Desenv...|                6|           3| Ciências Médicas|                                         1|           107|                                             2| Feminino|              79|                                   1|                2|Pesquisador cient...|                        4|  Divorciado|        5329|         15717|                                7|           Sim|           Sim|                              12|                   3|                                   4|                        80|                                     3|                       17|                                            3|                       3|                                  13|                              11|                           1|                                  9|\n",
            "|   28|     Não|         Não Viaja|              120|              Vendas|                4|           3| Ciências Médicas|                                         1|           129|                                             2|Masculino|              43|                                   3|                2| Executivo de vendas|                        3|      Casado|        4221|          8863|                                1|           Sim|           Não|                              15|                   3|                                   2|                        80|                                     0|                        5|                                            3|                       4|                                   5|                               4|                           0|                                  4|\n",
            "|   44|     Não|         Não Viaja|              489|Pesquisa e Desenv...|               23|           3| Ciências Médicas|                                         1|           132|                                             2|Masculino|              67|                                   3|                2|Técnico de Labora...|                        2|      Casado|        2042|         25043|                                4|           Sim|           Não|                              12|                   3|                                   3|                        80|                                     1|                       17|                                            3|                       4|                                   3|                               2|                           1|                                  2|\n",
            "|   37|     Não|         Não Viaja|             1040|Pesquisa e Desenv...|                2|           2| Ciências Humanas|                                         1|           139|                                             3|Masculino|             100|                                   2|                2|Reprentante de saúde|                        4|  Divorciado|        5163|         15850|                                5|           Sim|           Não|                              14|                   3|                                   4|                        80|                                     1|                       17|                                            2|                       4|                                   1|                               0|                           0|                                  0|\n",
            "|   59|     Não|         Não Viaja|             1420|   Recursos HumaNãos|                2|           4|Recursos HumaNãos|                                         1|           140|                                             3| Feminino|              32|                                   2|                5|             Gerente|                        4|      Casado|       18844|         21922|                                9|           Sim|           Não|                              21|                   4|                                   4|                        80|                                     1|                       30|                                            3|                       3|                                   3|                               2|                           2|                                  2|\n",
            "|   54|     Não|         Não Viaja|              142|   Recursos HumaNãos|               26|           3|Recursos HumaNãos|                                         1|           148|                                             4| Feminino|              30|                                   4|                4|             Gerente|                        4|    Solteiro|       17328|         13871|                                2|           Sim|           Sim|                              12|                   3|                                   3|                        80|                                     0|                       23|                                            3|                       3|                                   5|                               3|                           4|                                  4|\n",
            "|   33|     Não|         Não Viaja|              750|              Vendas|               22|           2|        Marketing|                                         1|           160|                                             3|Masculino|              95|                                   3|                2| Executivo de vendas|                        2|      Casado|        6146|         15480|                                0|           Sim|           Não|                              13|                   3|                                   1|                        80|                                     1|                        8|                                            2|                       4|                                   7|                               7|                           0|                                  7|\n",
            "|   29|     Não|         Não Viaja|             1496|Pesquisa e Desenv...|                1|           1|  EnsiNão técnico|                                         1|           208|                                             4|Masculino|              41|                                   3|                2|Diretor de manufa...|                        3|      Casado|        4319|         26283|                                1|           Sim|           Não|                              13|                   3|                                   1|                        80|                                     1|                       10|                                            1|                       3|                                  10|                               7|                           0|                                  9|\n",
            "|   27|     Não|         Não Viaja|              691|Pesquisa e Desenv...|                9|           3| Ciências Médicas|                                         1|           218|                                             4|Masculino|              57|                                   3|                1|Pesquisador cient...|                        2|  Divorciado|        2024|          5970|                                6|           Sim|           Não|                              18|                   3|                                   4|                        80|                                     1|                        6|                                            1|                       1|                                   2|                               2|                           2|                                  2|\n",
            "|   27|     Não|         Não Viaja|             1450|Pesquisa e Desenv...|                3|           3| Ciências Médicas|                                         1|           224|                                             3|Masculino|              79|                                   2|                1|Pesquisador cient...|                        3|  Divorciado|        2566|         25326|                                1|           Sim|           Sim|                              15|                   3|                                   4|                        80|                                     1|                        1|                                            2|                       2|                                   1|                               1|                           0|                                  1|\n",
            "|   30|     Não|         Não Viaja|              111|Pesquisa e Desenv...|                9|           3| Ciências Médicas|                                         1|           239|                                             3|Masculino|              66|                                   3|                2|Técnico de Labora...|                        1|  Divorciado|        3072|         11012|                                1|           Sim|           Não|                              11|                   3|                                   3|                        80|                                     2|                       12|                                            4|                       3|                                  12|                               9|                           6|                                 10|\n",
            "|   43|     Não|         Não Viaja|             1344|Pesquisa e Desenv...|                7|           3| Ciências Médicas|                                         1|           262|                                             4|Masculino|              37|                                   4|                1|Pesquisador cient...|                        4|  Divorciado|        2089|          5228|                                4|           Sim|           Não|                              14|                   3|                                   4|                        80|                                     3|                        7|                                            3|                       4|                                   5|                               4|                           2|                                  2|\n",
            "|   45|     Não|         Não Viaja|             1195|Pesquisa e Desenv...|                2|           2| Ciências Médicas|                                         1|           264|                                             1|Masculino|              65|                                   2|                4|             Gerente|                        4|      Casado|       16792|         20462|                                9|           Sim|           Não|                              23|                   4|                                   4|                        80|                                     1|                       22|                                            1|                       3|                                  20|                               8|                          11|                                  8|\n",
            "|   42|     Não|         Não Viaja|              926|Pesquisa e Desenv...|               21|           2| Ciências Médicas|                                         1|           270|                                             3| Feminino|              36|                                   3|                2|Diretor de manufa...|                        3|  Divorciado|        5265|         16439|                                2|           Sim|           Não|                              16|                   3|                                   2|                        80|                                     1|                       11|                                            5|                       3|                                   5|                               3|                           0|                                  2|\n",
            "|   49|     Não|         Não Viaja|             1002|Pesquisa e Desenv...|               18|           4| Ciências Humanas|                                         1|           275|                                             4|Masculino|              92|                                   3|                2|Diretor de manufa...|                        4|  Divorciado|        6804|         23793|                                1|           Sim|           Sim|                              15|                   3|                                   1|                        80|                                     2|                        7|                                            0|                       3|                                   7|                               7|                           1|                                  7|\n",
            "|   40|     Não|         Não Viaja|             1151|Pesquisa e Desenv...|                9|           5| Ciências Humanas|                                         1|           287|                                             4|Masculino|              63|                                   2|                2|Reprentante de saúde|                        4|      Casado|        4876|         14242|                                9|           Sim|           Não|                              14|                   3|                                   4|                        80|                                     1|                        5|                                            5|                       1|                                   3|                               2|                           0|                                  2|\n",
            "+-----+--------+------------------+-----------------+--------------------+-----------------+------------+-----------------+------------------------------------------+--------------+----------------------------------------------+---------+----------------+------------------------------------+-----------------+--------------------+-------------------------+------------+------------+--------------+---------------------------------+--------------+--------------+--------------------------------+--------------------+------------------------------------+--------------------------+--------------------------------------+-------------------------+---------------------------------------------+------------------------+------------------------------------+--------------------------------+----------------------------+-----------------------------------+\n",
            "only showing top 20 rows\n",
            "\n"
          ]
        }
      ]
    },
    {
      "cell_type": "markdown",
      "source": [
        "### 9. Qual é a distribuição de funcionários por cargo e gênero?"
      ],
      "metadata": {
        "id": "ABBQCJgR4cVI"
      }
    },
    {
      "cell_type": "code",
      "source": [
        "# Agrupar por cargo e gênero e contar o número de funcionários\n",
        "distribuicao_cargo_genero = df.groupBy(\"Cargo\", \"Gênero\").count()\n",
        "# Converter para Pandas\n",
        "distribuicao_cargo_genero_pd = distribuicao_cargo_genero.toPandas()\n",
        "# Salvar em um arquivo CSV\n",
        "distribuicao_cargo_genero_pd.to_csv('distribuicao_cargo_genero.csv', index=False)\n",
        "distribuicao_cargo_genero.show()"
      ],
      "metadata": {
        "id": "kDh_yybj-QXg",
        "colab": {
          "base_uri": "https://localhost:8080/"
        },
        "outputId": "d68d3108-2410-4be3-a1d6-a31e7a168b62"
      },
      "execution_count": null,
      "outputs": [
        {
          "output_type": "stream",
          "name": "stdout",
          "text": [
            "+--------------------+---------+-----+\n",
            "|               Cargo|   Gênero|count|\n",
            "+--------------------+---------+-----+\n",
            "|             Gerente| Feminino|   47|\n",
            "|Diretor de manufa...|Masculino|   73|\n",
            "|   Recursos HumaNãos| Feminino|   16|\n",
            "|Representante de ...| Feminino|   38|\n",
            "| Diretor de pesquisa| Feminino|   33|\n",
            "|Representante de ...|Masculino|   45|\n",
            "|Pesquisador cient...| Feminino|  114|\n",
            "|Reprentante de saúde|Masculino|   80|\n",
            "|   Recursos HumaNãos|Masculino|   36|\n",
            "|Técnico de Labora...|Masculino|  174|\n",
            "|             Gerente|Masculino|   55|\n",
            "|Técnico de Labora...| Feminino|   85|\n",
            "|Reprentante de saúde| Feminino|   51|\n",
            "|Pesquisador cient...|Masculino|  178|\n",
            "| Executivo de vendas|Masculino|  194|\n",
            "| Diretor de pesquisa|Masculino|   47|\n",
            "|Diretor de manufa...| Feminino|   72|\n",
            "| Executivo de vendas| Feminino|  132|\n",
            "+--------------------+---------+-----+\n",
            "\n"
          ]
        }
      ]
    },
    {
      "cell_type": "markdown",
      "source": [
        "### 10. Qual é a média de horas trabalhadas por departamento?"
      ],
      "metadata": {
        "id": "gaJr_iJU6q-w"
      }
    },
    {
      "cell_type": "code",
      "source": [
        "# Agrupar por departamento e calcular a média do score de performance\n",
        "media_performance_por_departamento = df.groupBy(\"Departamento\").agg(avg(\"Score de Performance\").alias(\"media_performance\"))\n",
        "\n",
        "# Converter para Pandas\n",
        "media_performance_por_departamento_pd = media_performance_por_departamento.toPandas()\n",
        "# Salvar em um arquivo CSV\n",
        "media_performance_por_departamento_pd.to_csv('media_performance_por_departamento.csv', index=False)\n",
        "media_performance_por_departamento.show()\n",
        "\n"
      ],
      "metadata": {
        "id": "QurSUfeA-UXx",
        "colab": {
          "base_uri": "https://localhost:8080/"
        },
        "outputId": "9e71b3e1-8611-40be-8f32-ab5307451c18"
      },
      "execution_count": null,
      "outputs": [
        {
          "output_type": "stream",
          "name": "stdout",
          "text": [
            "+--------------------+------------------+\n",
            "|        Departamento| media_performance|\n",
            "+--------------------+------------------+\n",
            "|              Vendas|3.1367713004484306|\n",
            "|Pesquisa e Desenv...| 3.162330905306972|\n",
            "|   Recursos HumaNãos| 3.142857142857143|\n",
            "+--------------------+------------------+\n",
            "\n"
          ]
        }
      ]
    },
    {
      "cell_type": "markdown",
      "source": [
        "### 11. Qual é a distribuição de funcionários por estado civil?"
      ],
      "metadata": {
        "id": "qWARMC8O-tjJ"
      }
    },
    {
      "cell_type": "code",
      "source": [
        "# Agrupar funcionários por estado civil e contar\n",
        "contagem_por_estado_civil = df.groupBy(\"Estado Civil\").count()\n",
        "# Converter para Pandas\n",
        "contagem_por_estado_civil_pd = contagem_por_estado_civil.toPandas()\n",
        "# Salvar em um arquivo CSV\n",
        "contagem_por_estado_civil_pd.to_csv('contagem_por_estado_civil.csv', index=False)\n",
        "contagem_por_estado_civil.show()\n"
      ],
      "metadata": {
        "id": "jpQZmM5f-XZX",
        "colab": {
          "base_uri": "https://localhost:8080/"
        },
        "outputId": "d0b8a7ab-ce93-4297-8916-cd922dda8812"
      },
      "execution_count": null,
      "outputs": [
        {
          "output_type": "stream",
          "name": "stdout",
          "text": [
            "+------------+-----+\n",
            "|Estado Civil|count|\n",
            "+------------+-----+\n",
            "|  Divorciado|  327|\n",
            "|    Solteiro|  470|\n",
            "|      Casado|  673|\n",
            "+------------+-----+\n",
            "\n"
          ]
        }
      ]
    },
    {
      "cell_type": "markdown",
      "source": [
        "### 12. Qual é a distribuição de funcionários por faixa etária?"
      ],
      "metadata": {
        "id": "omgFbwpY_UGI"
      }
    },
    {
      "cell_type": "code",
      "source": [
        "from pyspark.sql import functions as F\n",
        "# Definindo a faixa etária\n",
        "faixa_etaria_bins = [20, 30, 40, 50, 60, 70]\n",
        "faixa_etaria_labels = ['18-29', '30-39', '40-49', '50-59', '60-69']\n",
        "# Criando a coluna de faixa etária\n",
        "df = df.withColumn(\"faixa_etaria\", F.when(df.Idade < 30, '18-29')\n",
        "                   .when((df.Idade >= 30) & (df.Idade < 40), '30-39')\n",
        "                   .when((df.Idade >= 40) & (df.Idade < 50), '40-49')\n",
        "                   .when((df.Idade >= 50) & (df.Idade < 60), '50-59')\n",
        "                   .otherwise('60-69'))\n",
        "# Agrupando e contando funcionários por faixa etária\n",
        "contagem_por_faixa_etaria = df.groupBy(\"faixa_etaria\").count()\n",
        "# Convertendo para Pandas\n",
        "contagem_por_faixa_etaria_pd = contagem_por_faixa_etaria.toPandas()\n",
        "# Salvando em um arquivo CSV\n",
        "contagem_por_faixa_etaria_pd.to_csv('contagem_por_faixa_etaria.csv', index=False)\n",
        "contagem_por_faixa_etaria.show()\n",
        "\n"
      ],
      "metadata": {
        "id": "gVUgg_CS-cMs",
        "colab": {
          "base_uri": "https://localhost:8080/"
        },
        "outputId": "6b55f84f-3263-4099-886e-f2a27f2fcb25"
      },
      "execution_count": null,
      "outputs": [
        {
          "output_type": "stream",
          "name": "stdout",
          "text": [
            "+------------+-----+\n",
            "|faixa_etaria|count|\n",
            "+------------+-----+\n",
            "|       30-39|  622|\n",
            "|       60-69|    5|\n",
            "|       40-49|  349|\n",
            "|       18-29|  326|\n",
            "|       50-59|  168|\n",
            "+------------+-----+\n",
            "\n"
          ]
        }
      ]
    },
    {
      "cell_type": "markdown",
      "source": [
        "### 13. Qual é a média salarial por gênero?"
      ],
      "metadata": {
        "id": "bMoXeFrMBlcC"
      }
    },
    {
      "cell_type": "code",
      "source": [
        "# Calculando a média salarial por gênero\n",
        "media_salarial_por_genero = df.groupBy(\"Gênero\").agg(F.round(F.avg(\"Salário Mensal\"), 2).alias(\"media_salarial\"))\n",
        "# Convertendo para Pandas\n",
        "media_salarial_por_genero_pd = media_salarial_por_genero.toPandas()\n",
        "# Salvando em um arquivo CSV\n",
        "media_salarial_por_genero_pd.to_csv('media_salarial_por_genero.csv', index=False)\n",
        "media_salarial_por_genero.show()\n"
      ],
      "metadata": {
        "id": "NmgD2NeP-oFF",
        "colab": {
          "base_uri": "https://localhost:8080/"
        },
        "outputId": "9272e32f-5800-4090-b917-8bf564011ba3"
      },
      "execution_count": null,
      "outputs": [
        {
          "output_type": "stream",
          "name": "stdout",
          "text": [
            "+---------+--------------+\n",
            "|   Gênero|media_salarial|\n",
            "+---------+--------------+\n",
            "| Feminino|       14674.6|\n",
            "|Masculino|      14072.11|\n",
            "+---------+--------------+\n",
            "\n"
          ]
        }
      ]
    },
    {
      "cell_type": "markdown",
      "source": [
        "### 14. Contagem de funcionários por tempo na empresa"
      ],
      "metadata": {
        "id": "eV7HdtB4-yN2"
      }
    },
    {
      "cell_type": "code",
      "source": [
        "# Agrupar por tempo de serviço e contar o número de funcionários\n",
        "contagem_por_tempo_empresa = df.groupBy(\"Total de anos trabalhados na empresa\").count()\n",
        "# Convertendo para Pandas\n",
        "contagem_por_tempo_empresa_pd = contagem_por_tempo_empresa.toPandas()\n",
        "# Salvando em um arquivo CSV\n",
        "contagem_por_tempo_empresa_pd.to_csv('contagem_por_tempo_empresa.csv', index=False)\n",
        "contagem_por_tempo_empresa.show()"
      ],
      "metadata": {
        "id": "r94R4UOP-uRM",
        "colab": {
          "base_uri": "https://localhost:8080/"
        },
        "outputId": "24efff47-c8bd-4b34-d69b-038b5e4213a1"
      },
      "execution_count": null,
      "outputs": [
        {
          "output_type": "stream",
          "name": "stdout",
          "text": [
            "+------------------------------------+-----+\n",
            "|Total de anos trabalhados na empresa|count|\n",
            "+------------------------------------+-----+\n",
            "|                                  31|    3|\n",
            "|                                  34|    1|\n",
            "|                                  27|    2|\n",
            "|                                  26|    4|\n",
            "|                                  12|   14|\n",
            "|                                  22|   15|\n",
            "|                                   1|  171|\n",
            "|                                  13|   24|\n",
            "|                                   6|   76|\n",
            "|                                  16|   12|\n",
            "|                                   3|  128|\n",
            "|                                  20|   27|\n",
            "|                                  40|    1|\n",
            "|                                   5|  196|\n",
            "|                                  19|   11|\n",
            "|                                  15|   20|\n",
            "|                                  37|    1|\n",
            "|                                   9|   82|\n",
            "|                                  17|    9|\n",
            "|                                   4|  110|\n",
            "+------------------------------------+-----+\n",
            "only showing top 20 rows\n",
            "\n"
          ]
        }
      ]
    },
    {
      "cell_type": "markdown",
      "source": [
        "### 15. Funcionários com cargo de liderança e ativos?\n"
      ],
      "metadata": {
        "id": "danLXSql-8ZT"
      }
    },
    {
      "cell_type": "code",
      "source": [
        "# Filtrando funcionários que ocupam cargos de liderança e que não pediram demissão\n",
        "cargos_lideranca_ativos = df.filter(\n",
        "    (df[\"Cargo\"].isin([\"Gerente\", \"Diretor de pesquisa\", \"Diretor de manufatura\", \"Executivo de vendas\"])) &\n",
        "    (df[\"Demissão\"] == \"Não\")\n",
        ")\n",
        "# Convertendo para Pandas\n",
        "cargos_lideranca_ativos_pd = cargos_lideranca_ativos.toPandas()\n",
        "# Salvando em um arquivo CSV\n",
        "cargos_lideranca_ativos_pd.to_csv('cargos_lideranca_ativos.csv', index=False)\n",
        "cargos_lideranca_ativos.show()\n",
        "\n"
      ],
      "metadata": {
        "id": "lOnzWi1l-_Me",
        "colab": {
          "base_uri": "https://localhost:8080/"
        },
        "outputId": "d695fd0a-906c-4dcd-9baa-a7747158caf4"
      },
      "execution_count": null,
      "outputs": [
        {
          "output_type": "stream",
          "name": "stdout",
          "text": [
            "+-----+--------+--------------------+-----------------+--------------------+-----------------+------------+----------------+------------------------------------------+--------------+----------------------------------------------+---------+----------------+------------------------------------+-----------------+--------------------+-------------------------+------------+------------+--------------+---------------------------------+--------------+--------------+--------------------------------+--------------------+------------------------------------+--------------------------+--------------------------------------+-------------------------+---------------------------------------------+------------------------+------------------------------------+--------------------------------+----------------------------+-----------------------------------+------------+\n",
            "|Idade|Demissão|  Viagem de negócios|Diárias recebidas|        Departamento|Distância de Casa|Escolaridade|Área de Formação|Número de contratos de trabalho na empresa|ID Funcionário|Nível de Satisfação com o ambiente de trabalho|   Gênero|Salário por hora|Nível de envolvimento com o trabalho|Nível hierárquico|               Cargo|Satisfação com o trabalho|Estado civil|Renda mensal|Salário Mensal|qtde de empresas que já trabalhou|Maior de idade|Faz hora extra|percentual de aumento de salário|score de performance|Satisfação nas relações Não trabalho|Jornada padrão de trabalho|opção de remaunração variável em ações|Total de anos trabalhados|Qtde de treinamentos realizados no último ano|Equilíbrio vida trabalho|Total de anos trabalhados na empresa|Anos trabalhados na função atual|Anos desde a última promoção|Anos trabalhando com o atual gestor|faixa_etaria|\n",
            "+-----+--------+--------------------+-----------------+--------------------+-----------------+------------+----------------+------------------------------------------+--------------+----------------------------------------------+---------+----------------+------------------------------------+-----------------+--------------------+-------------------------+------------+------------+--------------+---------------------------------+--------------+--------------+--------------------------------+--------------------+------------------------------------+--------------------------+--------------------------------------+-------------------------+---------------------------------------------+------------------------+------------------------------------+--------------------------------+----------------------------+-----------------------------------+------------+\n",
            "|   38|     Não|Viaja frequentemente|              216|Pesquisa e Desenv...|               23|           3|Ciências Humanas|                                         1|            12|                                             4|Masculino|              44|                                   2|                3|Diretor de manufa...|                        3|    Solteiro|        9526|          8787|                                0|           Sim|           Não|                              21|                   4|                                   2|                        80|                                     0|                       10|                                            2|                       3|                                   9|                               7|                           1|                                  8|       30-39|\n",
            "|   29|     Não|     Viaja raramente|             1389|Pesquisa e Desenv...|               21|           4|Ciências Humanas|                                         1|            20|                                             2| Feminino|              51|                                   4|                3|Diretor de manufa...|                        1|  Divorciado|        9980|         10195|                                1|           Sim|           Não|                              11|                   3|                                   3|                        80|                                     1|                       10|                                            1|                       3|                                  10|                               9|                           8|                                  8|       18-29|\n",
            "|   53|     Não|     Viaja raramente|             1219|              Vendas|                2|           4|Ciências Humanas|                                         1|            23|                                             1| Feminino|              78|                                   2|                4|             Gerente|                        4|      Casado|       15427|         22021|                                2|           Sim|           Não|                              16|                   3|                                   3|                        80|                                     0|                       31|                                            3|                       3|                                  25|                               8|                           3|                                  7|       50-59|\n",
            "|   24|     Não|           Não Viaja|              673|Pesquisa e Desenv...|               11|           2|          Outras|                                         1|            26|                                             1| Feminino|              96|                                   4|                2|Diretor de manufa...|                        3|  Divorciado|        4011|          8232|                                0|           Sim|           Não|                              18|                   3|                                   4|                        80|                                     1|                        5|                                            5|                       2|                                   4|                               2|                           1|                                  3|       18-29|\n",
            "|   34|     Não|     Viaja raramente|              419|Pesquisa e Desenv...|                7|           4|Ciências Humanas|                                         1|            28|                                             1| Feminino|              53|                                   3|                3| Diretor de pesquisa|                        2|    Solteiro|       11994|         21293|                                0|           Sim|           Não|                              11|                   3|                                   3|                        80|                                     0|                       13|                                            4|                       3|                                  12|                               6|                           2|                                 11|       30-39|\n",
            "|   53|     Não|     Viaja raramente|             1282|Pesquisa e Desenv...|                5|           3|          Outras|                                         1|            32|                                             3| Feminino|              58|                                   3|                5|             Gerente|                        3|  Divorciado|       19094|         10735|                                4|           Sim|           Não|                              11|                   3|                                   4|                        80|                                     1|                       26|                                            3|                       2|                                  14|                              13|                           4|                                  8|       50-59|\n",
            "|   42|     Não|     Viaja raramente|              691|              Vendas|                8|           4|       Marketing|                                         1|            35|                                             3|Masculino|              48|                                   3|                2| Executivo de vendas|                        2|      Casado|        6825|         21173|                                0|           Sim|           Não|                              11|                   3|                                   4|                        80|                                     1|                       10|                                            2|                       3|                                   9|                               7|                           4|                                  2|       40-49|\n",
            "|   46|     Não|     Viaja raramente|              705|              Vendas|                2|           4|       Marketing|                                         1|            38|                                             2| Feminino|              83|                                   3|                5|             Gerente|                        1|    Solteiro|       18947|         22822|                                3|           Sim|           Não|                              12|                   3|                                   4|                        80|                                     0|                       22|                                            2|                       2|                                   2|                               2|                           2|                                  1|       40-49|\n",
            "|   33|     Não|Viaja frequentemente|             1141|              Vendas|                1|           3|Ciências Humanas|                                         1|            52|                                             3| Feminino|              42|                                   4|                2| Executivo de vendas|                        1|      Casado|        5376|          3193|                                2|           Sim|           Não|                              19|                   3|                                   1|                        80|                                     2|                       10|                                            3|                       3|                                   5|                               3|                           1|                                  3|       30-39|\n",
            "|   27|     Não|Viaja frequentemente|              994|              Vendas|                8|           3|Ciências Humanas|                                         1|            56|                                             4|Masculino|              37|                                   3|                3| Executivo de vendas|                        3|    Solteiro|        8726|          2975|                                1|           Sim|           Não|                              15|                   3|                                   4|                        80|                                     0|                        9|                                            0|                       3|                                   9|                               8|                           1|                                  7|       18-29|\n",
            "|   34|     Não|           Não Viaja|             1065|              Vendas|               23|           4|       Marketing|                                         1|            60|                                             2|Masculino|              72|                                   3|                2| Executivo de vendas|                        3|    Solteiro|        4568|         10034|                                0|           Sim|           Não|                              20|                   4|                                   3|                        80|                                     0|                       10|                                            2|                       3|                                   9|                               5|                           8|                                  7|       30-39|\n",
            "|   46|     Não|Viaja frequentemente|             1211|              Vendas|                5|           4|       Marketing|                                         1|            62|                                             1|Masculino|              98|                                   3|                2| Executivo de vendas|                        4|    Solteiro|        5772|         20445|                                4|           Sim|           Sim|                              21|                   4|                                   3|                        80|                                     0|                       14|                                            4|                       3|                                   9|                               6|                           0|                                  8|       40-49|\n",
            "|   44|     Não|     Viaja raramente|             1488|              Vendas|                1|           5|       Marketing|                                         1|            68|                                             2| Feminino|              75|                                   3|                2| Executivo de vendas|                        1|  Divorciado|        5454|          4009|                                5|           Sim|           Sim|                              21|                   4|                                   3|                        80|                                     1|                        9|                                            2|                       2|                                   4|                               3|                           1|                                  3|       40-49|\n",
            "|   26|     Não|     Viaja raramente|             1443|              Vendas|               23|           3|       Marketing|                                         1|            72|                                             3| Feminino|              47|                                   2|                2| Executivo de vendas|                        4|      Casado|        4157|         21436|                                7|           Sim|           Sim|                              19|                   3|                                   3|                        80|                                     1|                        5|                                            2|                       2|                                   2|                               2|                           0|                                  0|       18-29|\n",
            "|   33|     Não|Viaja frequentemente|              515|Pesquisa e Desenv...|                1|           2|Ciências Humanas|                                         1|            73|                                             1| Feminino|              98|                                   3|                3| Diretor de pesquisa|                        4|    Solteiro|       13458|         15146|                                1|           Sim|           Sim|                              12|                   3|                                   3|                        80|                                     0|                       15|                                            1|                       3|                                  15|                              14|                           8|                                 12|       30-39|\n",
            "|   35|     Não|Viaja frequentemente|              853|              Vendas|               18|           5|Ciências Humanas|                                         1|            74|                                             2|Masculino|              71|                                   3|                3| Executivo de vendas|                        1|      Casado|        9069|         11031|                                1|           Sim|           Não|                              22|                   4|                                   4|                        80|                                     1|                        9|                                            3|                       2|                                   9|                               8|                           1|                                  8|       30-39|\n",
            "|   37|     Não|     Viaja raramente|             1115|Pesquisa e Desenv...|                1|           4|Ciências Humanas|                                         1|            77|                                             1|Masculino|              51|                                   2|                2|Diretor de manufa...|                        3|  Divorciado|        5993|          2689|                                1|           Sim|           Não|                              18|                   3|                                   3|                        80|                                     1|                        7|                                            2|                       4|                                   7|                               5|                           0|                                  7|       30-39|\n",
            "|   32|     Não|     Viaja raramente|              427|Pesquisa e Desenv...|                1|           3|Ciências Médicas|                                         1|            78|                                             1|Masculino|              33|                                   3|                2|Diretor de manufa...|                        4|      Casado|        6162|         10877|                                1|           Sim|           Sim|                              22|                   4|                                   2|                        80|                                     1|                        9|                                            3|                       3|                                   9|                               8|                           7|                                  8|       30-39|\n",
            "|   50|     Não|     Viaja raramente|              989|Pesquisa e Desenv...|                7|           2|Ciências Médicas|                                         1|            80|                                             2| Feminino|              43|                                   2|                5| Diretor de pesquisa|                        3|  Divorciado|       18740|         16701|                                5|           Sim|           Sim|                              12|                   3|                                   4|                        80|                                     1|                       29|                                            2|                       2|                                  27|                               3|                          13|                                  8|       50-59|\n",
            "|   59|     Não|     Viaja raramente|             1435|              Vendas|               25|           3|Ciências Humanas|                                         1|            81|                                             1| Feminino|              99|                                   3|                3| Executivo de vendas|                        1|    Solteiro|        7637|          2354|                                7|           Sim|           Não|                              11|                   3|                                   4|                        80|                                     0|                       28|                                            3|                       2|                                  21|                              16|                           7|                                  9|       50-59|\n",
            "+-----+--------+--------------------+-----------------+--------------------+-----------------+------------+----------------+------------------------------------------+--------------+----------------------------------------------+---------+----------------+------------------------------------+-----------------+--------------------+-------------------------+------------+------------+--------------+---------------------------------+--------------+--------------+--------------------------------+--------------------+------------------------------------+--------------------------+--------------------------------------+-------------------------+---------------------------------------------+------------------------+------------------------------------+--------------------------------+----------------------------+-----------------------------------+------------+\n",
            "only showing top 20 rows\n",
            "\n"
          ]
        }
      ]
    },
    {
      "cell_type": "markdown",
      "source": [
        " ### 16. Funcionários que foram Demitidos:\n",
        "\n"
      ],
      "metadata": {
        "id": "mpo_QODa_LqN"
      }
    },
    {
      "cell_type": "code",
      "source": [
        "# Filtrando funcionários que foram demitidos\n",
        "funcionarios_demitidos = df.filter(df[\"Demissão\"] == \"Sim\")\n",
        "# Convertendo para Pandas\n",
        "funcionarios_demitidos_pd = funcionarios_demitidos.toPandas()\n",
        "# Salvando em um arquivo CSV\n",
        "funcionarios_demitidos_pd.to_csv('funcionarios_demitidos.csv', index=False)\n",
        "funcionarios_demitidos.show()\n"
      ],
      "metadata": {
        "id": "x3txk48C_FSd",
        "colab": {
          "base_uri": "https://localhost:8080/"
        },
        "outputId": "77b3ae1f-4177-4438-fa90-479c8525998e"
      },
      "execution_count": null,
      "outputs": [
        {
          "output_type": "stream",
          "name": "stdout",
          "text": [
            "+-----+--------+--------------------+-----------------+--------------------+-----------------+------------+-----------------+------------------------------------------+--------------+----------------------------------------------+---------+----------------+------------------------------------+-----------------+--------------------+-------------------------+------------+------------+--------------+---------------------------------+--------------+--------------+--------------------------------+--------------------+------------------------------------+--------------------------+--------------------------------------+-------------------------+---------------------------------------------+------------------------+------------------------------------+--------------------------------+----------------------------+-----------------------------------+------------+\n",
            "|Idade|Demissão|  Viagem de negócios|Diárias recebidas|        Departamento|Distância de Casa|Escolaridade| Área de Formação|Número de contratos de trabalho na empresa|ID Funcionário|Nível de Satisfação com o ambiente de trabalho|   Gênero|Salário por hora|Nível de envolvimento com o trabalho|Nível hierárquico|               Cargo|Satisfação com o trabalho|Estado civil|Renda mensal|Salário Mensal|qtde de empresas que já trabalhou|Maior de idade|Faz hora extra|percentual de aumento de salário|score de performance|Satisfação nas relações Não trabalho|Jornada padrão de trabalho|opção de remaunração variável em ações|Total de anos trabalhados|Qtde de treinamentos realizados no último ano|Equilíbrio vida trabalho|Total de anos trabalhados na empresa|Anos trabalhados na função atual|Anos desde a última promoção|Anos trabalhando com o atual gestor|faixa_etaria|\n",
            "+-----+--------+--------------------+-----------------+--------------------+-----------------+------------+-----------------+------------------------------------------+--------------+----------------------------------------------+---------+----------------+------------------------------------+-----------------+--------------------+-------------------------+------------+------------+--------------+---------------------------------+--------------+--------------+--------------------------------+--------------------+------------------------------------+--------------------------+--------------------------------------+-------------------------+---------------------------------------------+------------------------+------------------------------------+--------------------------------+----------------------------+-----------------------------------+------------+\n",
            "|   41|     Sim|     Viaja raramente|             1102|              Vendas|                1|           2| Ciências Humanas|                                         1|             1|                                             2| Feminino|              94|                                   3|                2| Executivo de vendas|                        4|    Solteiro|        5993|         19479|                                8|           Sim|           Sim|                              11|                   3|                                   1|                        80|                                     0|                        8|                                            0|                       1|                                   6|                               4|                           0|                                  5|       40-49|\n",
            "|   37|     Sim|     Viaja raramente|             1373|Pesquisa e Desenv...|                2|           2|           Outras|                                         1|             4|                                             4|Masculino|              92|                                   2|                1|Técnico de Labora...|                        3|    Solteiro|        2090|          2396|                                6|           Sim|           Sim|                              15|                   3|                                   2|                        80|                                     0|                        7|                                            3|                       3|                                   0|                               0|                           0|                                  0|       30-39|\n",
            "|   28|     Sim|     Viaja raramente|              103|Pesquisa e Desenv...|               24|           3| Ciências Humanas|                                         1|            19|                                             3|Masculino|              93|                                   2|                1|Técnico de Labora...|                        3|    Solteiro|        2028|         12947|                                5|           Sim|           Sim|                              14|                   3|                                   2|                        80|                                     0|                        6|                                            4|                       3|                                   4|                               2|                           0|                                  3|       18-29|\n",
            "|   36|     Sim|     Viaja raramente|             1218|              Vendas|                9|           4| Ciências Humanas|                                         1|            27|                                             3|Masculino|              82|                                   2|                1|Representante de ...|                        1|    Solteiro|        3407|          6986|                                7|           Sim|           Não|                              23|                   4|                                   2|                        80|                                     0|                       10|                                            4|                       3|                                   5|                               3|                           0|                                  3|       30-39|\n",
            "|   34|     Sim|     Viaja raramente|              699|Pesquisa e Desenv...|                6|           1| Ciências Médicas|                                         1|            31|                                             2|Masculino|              83|                                   3|                1|Pesquisador cient...|                        1|    Solteiro|        2960|         17102|                                2|           Sim|           Não|                              11|                   3|                                   3|                        80|                                     0|                        8|                                            2|                       3|                                   4|                               2|                           1|                                  3|       30-39|\n",
            "|   32|     Sim|Viaja frequentemente|             1125|Pesquisa e Desenv...|               16|           1| Ciências Humanas|                                         1|            33|                                             2| Feminino|              72|                                   1|                1|Pesquisador cient...|                        1|    Solteiro|        3919|          4681|                                1|           Sim|           Sim|                              22|                   4|                                   2|                        80|                                     0|                       10|                                            5|                       3|                                  10|                               2|                           6|                                  7|       30-39|\n",
            "|   39|     Sim|     Viaja raramente|              895|              Vendas|                5|           3|  EnsiNão técnico|                                         1|            42|                                             4|Masculino|              56|                                   3|                2|Representante de ...|                        4|      Casado|        2086|          3335|                                3|           Sim|           Não|                              14|                   3|                                   3|                        80|                                     1|                       19|                                            6|                       4|                                   1|                               0|                           0|                                  0|       30-39|\n",
            "|   24|     Sim|     Viaja raramente|              813|Pesquisa e Desenv...|                1|           3| Ciências Médicas|                                         1|            45|                                             2|Masculino|              61|                                   3|                1|Pesquisador cient...|                        4|      Casado|        2293|          3020|                                2|           Sim|           Sim|                              16|                   3|                                   1|                        80|                                     1|                        6|                                            2|                       2|                                   2|                               0|                           2|                                  0|       18-29|\n",
            "|   50|     Sim|     Viaja raramente|              869|              Vendas|                3|           2|        Marketing|                                         1|            47|                                             1|Masculino|              86|                                   2|                1|Representante de ...|                        3|      Casado|        2683|          3810|                                1|           Sim|           Sim|                              14|                   3|                                   3|                        80|                                     0|                        3|                                            2|                       3|                                   3|                               2|                           0|                                  2|       50-59|\n",
            "|   26|     Sim|     Viaja raramente|             1357|Pesquisa e Desenv...|               25|           3| Ciências Humanas|                                         1|            55|                                             1|Masculino|              48|                                   1|                1|Técnico de Labora...|                        3|    Solteiro|        2293|         10558|                                1|           Sim|           Não|                              12|                   3|                                   3|                        80|                                     0|                        1|                                            2|                       2|                                   1|                               0|                           0|                                  1|       18-29|\n",
            "|   41|     Sim|     Viaja raramente|             1360|Pesquisa e Desenv...|               12|           3|  EnsiNão técnico|                                         1|            58|                                             2| Feminino|              49|                                   3|                5| Diretor de pesquisa|                        3|      Casado|       19545|         16280|                                1|           Sim|           Não|                              12|                   3|                                   4|                        80|                                     0|                       23|                                            0|                       3|                                  22|                              15|                          15|                                  8|       40-49|\n",
            "|   48|     Sim|     Viaja raramente|              626|Pesquisa e Desenv...|                1|           2| Ciências Humanas|                                         1|            64|                                             1|Masculino|              98|                                   2|                3|Técnico de Labora...|                        3|    Solteiro|        5381|         19294|                                9|           Sim|           Sim|                              13|                   3|                                   4|                        80|                                     0|                       23|                                            2|                       3|                                   1|                               0|                           0|                                  0|       40-49|\n",
            "|   28|     Sim|     Viaja raramente|             1434|Pesquisa e Desenv...|                5|           4|  EnsiNão técnico|                                         1|            65|                                             3|Masculino|              50|                                   3|                1|Técnico de Labora...|                        3|    Solteiro|        3441|         11179|                                1|           Sim|           Sim|                              13|                   3|                                   3|                        80|                                     0|                        2|                                            3|                       2|                                   2|                               2|                           2|                                  2|       18-29|\n",
            "|   36|     Sim|     Viaja raramente|              318|Pesquisa e Desenv...|                9|           3| Ciências Médicas|                                         1|            90|                                             4|Masculino|              79|                                   2|                1|Pesquisador cient...|                        3|      Casado|        3388|         21777|                                0|           Sim|           Sim|                              17|                   3|                                   1|                        80|                                     1|                        2|                                            0|                       2|                                   1|                               0|                           0|                                  0|       30-39|\n",
            "|   46|     Sim|     Viaja raramente|              669|              Vendas|                9|           2| Ciências Médicas|                                         1|           118|                                             3|Masculino|              64|                                   2|                3| Executivo de vendas|                        4|    Solteiro|        9619|         13596|                                1|           Sim|           Não|                              16|                   3|                                   4|                        80|                                     0|                        9|                                            3|                       3|                                   9|                               8|                           4|                                  7|       40-49|\n",
            "|   37|     Sim|     Viaja raramente|              807|   Recursos HumaNãos|                6|           4|Recursos HumaNãos|                                         1|           133|                                             3|Masculino|              63|                                   3|                1|   Recursos HumaNãos|                        1|  Divorciado|        2073|         23648|                                4|           Sim|           Sim|                              22|                   4|                                   4|                        80|                                     0|                        7|                                            3|                       3|                                   3|                               2|                           0|                                  2|       30-39|\n",
            "|   20|     Sim|Viaja frequentemente|              871|Pesquisa e Desenv...|                6|           3| Ciências Humanas|                                         1|           137|                                             4| Feminino|              66|                                   2|                1|Técnico de Labora...|                        4|    Solteiro|        2926|         19783|                                1|           Sim|           Sim|                              18|                   3|                                   2|                        80|                                     0|                        1|                                            5|                       3|                                   1|                               0|                           1|                                  0|       18-29|\n",
            "|   25|     Sim|     Viaja raramente|              240|              Vendas|                5|           3|        Marketing|                                         1|           142|                                             3|Masculino|              46|                                   2|                2| Executivo de vendas|                        3|    Solteiro|        5744|         26959|                                1|           Sim|           Sim|                              11|                   3|                                   4|                        80|                                     0|                        6|                                            1|                       3|                                   6|                               4|                           0|                                  3|       18-29|\n",
            "|   34|     Sim|Viaja frequentemente|              658|Pesquisa e Desenv...|                7|           3| Ciências Humanas|                                         1|           147|                                             1|Masculino|              66|                                   1|                2|Técnico de Labora...|                        3|    Solteiro|        6074|         22887|                                1|           Sim|           Sim|                              24|                   4|                                   4|                        80|                                     0|                        9|                                            3|                       3|                                   9|                               7|                           0|                                  6|       30-39|\n",
            "|   56|     Sim|     Viaja raramente|              441|Pesquisa e Desenv...|               14|           4| Ciências Humanas|                                         1|           161|                                             2| Feminino|              72|                                   3|                1|Pesquisador cient...|                        2|      Casado|        4963|          4510|                                9|           Sim|           Sim|                              18|                   3|                                   1|                        80|                                     3|                        7|                                            2|                       3|                                   5|                               4|                           4|                                  3|       50-59|\n",
            "+-----+--------+--------------------+-----------------+--------------------+-----------------+------------+-----------------+------------------------------------------+--------------+----------------------------------------------+---------+----------------+------------------------------------+-----------------+--------------------+-------------------------+------------+------------+--------------+---------------------------------+--------------+--------------+--------------------------------+--------------------+------------------------------------+--------------------------+--------------------------------------+-------------------------+---------------------------------------------+------------------------+------------------------------------+--------------------------------+----------------------------+-----------------------------------+------------+\n",
            "only showing top 20 rows\n",
            "\n"
          ]
        }
      ]
    },
    {
      "cell_type": "markdown",
      "source": [
        "### 17. Funcionários que participaram de treinamentos no último ano:"
      ],
      "metadata": {
        "id": "ZjGHLTVV_kEz"
      }
    },
    {
      "cell_type": "code",
      "source": [
        "# Filtrando funcionários que participaram de algum treinamento\n",
        "participantes_treinamento = df.filter(df[\"Qtde de treinamentos realizados no último ano\"] > 0)\n",
        "# Convertendo para Pandas\n",
        "participantes_treinamento_pd = participantes_treinamento.toPandas()\n",
        "# Salvando em um arquivo CSV\n",
        "participantes_treinamento_pd.to_csv('participantes_treinamento.csv', index=False)\n",
        "participantes_treinamento.show()\n"
      ],
      "metadata": {
        "id": "kKbkfIxs_bZ-",
        "colab": {
          "base_uri": "https://localhost:8080/"
        },
        "outputId": "50682476-c2da-45eb-fbdc-050ae310bfe8"
      },
      "execution_count": null,
      "outputs": [
        {
          "output_type": "stream",
          "name": "stdout",
          "text": [
            "+-----+--------+--------------------+-----------------+--------------------+-----------------+------------+----------------+------------------------------------------+--------------+----------------------------------------------+---------+----------------+------------------------------------+-----------------+--------------------+-------------------------+------------+------------+--------------+---------------------------------+--------------+--------------+--------------------------------+--------------------+------------------------------------+--------------------------+--------------------------------------+-------------------------+---------------------------------------------+------------------------+------------------------------------+--------------------------------+----------------------------+-----------------------------------+------------+\n",
            "|Idade|Demissão|  Viagem de negócios|Diárias recebidas|        Departamento|Distância de Casa|Escolaridade|Área de Formação|Número de contratos de trabalho na empresa|ID Funcionário|Nível de Satisfação com o ambiente de trabalho|   Gênero|Salário por hora|Nível de envolvimento com o trabalho|Nível hierárquico|               Cargo|Satisfação com o trabalho|Estado civil|Renda mensal|Salário Mensal|qtde de empresas que já trabalhou|Maior de idade|Faz hora extra|percentual de aumento de salário|score de performance|Satisfação nas relações Não trabalho|Jornada padrão de trabalho|opção de remaunração variável em ações|Total de anos trabalhados|Qtde de treinamentos realizados no último ano|Equilíbrio vida trabalho|Total de anos trabalhados na empresa|Anos trabalhados na função atual|Anos desde a última promoção|Anos trabalhando com o atual gestor|faixa_etaria|\n",
            "+-----+--------+--------------------+-----------------+--------------------+-----------------+------------+----------------+------------------------------------------+--------------+----------------------------------------------+---------+----------------+------------------------------------+-----------------+--------------------+-------------------------+------------+------------+--------------+---------------------------------+--------------+--------------+--------------------------------+--------------------+------------------------------------+--------------------------+--------------------------------------+-------------------------+---------------------------------------------+------------------------+------------------------------------+--------------------------------+----------------------------+-----------------------------------+------------+\n",
            "|   49|     Não|Viaja frequentemente|              279|Pesquisa e Desenv...|                8|           1|Ciências Humanas|                                         1|             2|                                             3|Masculino|              61|                                   2|                2|Pesquisador cient...|                        2|      Casado|        5130|         24907|                                1|           Sim|           Não|                              23|                   4|                                   4|                        80|                                     1|                       10|                                            3|                       3|                                  10|                               7|                           1|                                  7|       40-49|\n",
            "|   37|     Sim|     Viaja raramente|             1373|Pesquisa e Desenv...|                2|           2|          Outras|                                         1|             4|                                             4|Masculino|              92|                                   2|                1|Técnico de Labora...|                        3|    Solteiro|        2090|          2396|                                6|           Sim|           Sim|                              15|                   3|                                   2|                        80|                                     0|                        7|                                            3|                       3|                                   0|                               0|                           0|                                  0|       30-39|\n",
            "|   33|     Não|Viaja frequentemente|             1392|Pesquisa e Desenv...|                3|           4|Ciências Humanas|                                         1|             5|                                             4| Feminino|              56|                                   3|                1|Pesquisador cient...|                        3|      Casado|        2909|         23159|                                1|           Sim|           Sim|                              11|                   3|                                   3|                        80|                                     0|                        8|                                            3|                       3|                                   8|                               7|                           3|                                  0|       30-39|\n",
            "|   27|     Não|     Viaja raramente|              591|Pesquisa e Desenv...|                2|           1|Ciências Médicas|                                         1|             7|                                             1|Masculino|              40|                                   3|                1|Técnico de Labora...|                        2|      Casado|        3468|         16632|                                9|           Sim|           Não|                              12|                   3|                                   4|                        80|                                     1|                        6|                                            3|                       3|                                   2|                               2|                           2|                                  2|       18-29|\n",
            "|   32|     Não|Viaja frequentemente|             1005|Pesquisa e Desenv...|                2|           2|Ciências Humanas|                                         1|             8|                                             4|Masculino|              79|                                   3|                1|Técnico de Labora...|                        4|    Solteiro|        3068|         11864|                                0|           Sim|           Não|                              13|                   3|                                   3|                        80|                                     0|                        8|                                            2|                       2|                                   7|                               7|                           3|                                  6|       30-39|\n",
            "|   59|     Não|     Viaja raramente|             1324|Pesquisa e Desenv...|                3|           3|Ciências Médicas|                                         1|            10|                                             3| Feminino|              81|                                   4|                1|Técnico de Labora...|                        1|      Casado|        2670|          9964|                                4|           Sim|           Sim|                              20|                   4|                                   1|                        80|                                     3|                       12|                                            3|                       2|                                   1|                               0|                           0|                                  0|       50-59|\n",
            "|   30|     Não|     Viaja raramente|             1358|Pesquisa e Desenv...|               24|           1|Ciências Humanas|                                         1|            11|                                             4|Masculino|              67|                                   3|                1|Técnico de Labora...|                        3|  Divorciado|        2693|         13335|                                1|           Sim|           Não|                              22|                   4|                                   2|                        80|                                     1|                        1|                                            2|                       3|                                   1|                               0|                           0|                                  0|       30-39|\n",
            "|   38|     Não|Viaja frequentemente|              216|Pesquisa e Desenv...|               23|           3|Ciências Humanas|                                         1|            12|                                             4|Masculino|              44|                                   2|                3|Diretor de manufa...|                        3|    Solteiro|        9526|          8787|                                0|           Sim|           Não|                              21|                   4|                                   2|                        80|                                     0|                       10|                                            2|                       3|                                   9|                               7|                           1|                                  8|       30-39|\n",
            "|   36|     Não|     Viaja raramente|             1299|Pesquisa e Desenv...|               27|           3|Ciências Médicas|                                         1|            13|                                             3|Masculino|              94|                                   3|                2|Reprentante de saúde|                        3|      Casado|        5237|         16577|                                6|           Sim|           Não|                              13|                   3|                                   2|                        80|                                     2|                       17|                                            3|                       2|                                   7|                               7|                           7|                                  7|       30-39|\n",
            "|   35|     Não|     Viaja raramente|              809|Pesquisa e Desenv...|               16|           3|Ciências Médicas|                                         1|            14|                                             1|Masculino|              84|                                   4|                1|Técnico de Labora...|                        2|      Casado|        2426|         16479|                                0|           Sim|           Não|                              13|                   3|                                   3|                        80|                                     1|                        6|                                            5|                       3|                                   5|                               4|                           0|                                  3|       30-39|\n",
            "|   29|     Não|     Viaja raramente|              153|Pesquisa e Desenv...|               15|           2|Ciências Humanas|                                         1|            15|                                             4| Feminino|              49|                                   2|                2|Técnico de Labora...|                        3|    Solteiro|        4193|         12682|                                0|           Sim|           Sim|                              12|                   3|                                   4|                        80|                                     0|                       10|                                            3|                       3|                                   9|                               5|                           0|                                  8|       18-29|\n",
            "|   31|     Não|     Viaja raramente|              670|Pesquisa e Desenv...|               26|           1|Ciências Humanas|                                         1|            16|                                             1|Masculino|              31|                                   3|                1|Pesquisador cient...|                        3|  Divorciado|        2911|         15170|                                1|           Sim|           Não|                              17|                   3|                                   4|                        80|                                     1|                        5|                                            1|                       2|                                   5|                               2|                           4|                                  3|       30-39|\n",
            "|   34|     Não|     Viaja raramente|             1346|Pesquisa e Desenv...|               19|           2|Ciências Médicas|                                         1|            18|                                             2|Masculino|              93|                                   3|                1|Técnico de Labora...|                        4|  Divorciado|        2661|          8758|                                0|           Sim|           Não|                              11|                   3|                                   3|                        80|                                     1|                        3|                                            2|                       3|                                   2|                               2|                           1|                                  2|       30-39|\n",
            "|   28|     Sim|     Viaja raramente|              103|Pesquisa e Desenv...|               24|           3|Ciências Humanas|                                         1|            19|                                             3|Masculino|              93|                                   2|                1|Técnico de Labora...|                        3|    Solteiro|        2028|         12947|                                5|           Sim|           Sim|                              14|                   3|                                   2|                        80|                                     0|                        6|                                            4|                       3|                                   4|                               2|                           0|                                  3|       18-29|\n",
            "|   29|     Não|     Viaja raramente|             1389|Pesquisa e Desenv...|               21|           4|Ciências Humanas|                                         1|            20|                                             2| Feminino|              51|                                   4|                3|Diretor de manufa...|                        1|  Divorciado|        9980|         10195|                                1|           Sim|           Não|                              11|                   3|                                   3|                        80|                                     1|                       10|                                            1|                       3|                                  10|                               9|                           8|                                  8|       18-29|\n",
            "|   32|     Não|     Viaja raramente|              334|Pesquisa e Desenv...|                5|           2|Ciências Humanas|                                         1|            21|                                             1|Masculino|              80|                                   4|                1|Pesquisador cient...|                        2|  Divorciado|        3298|         15053|                                0|           Sim|           Sim|                              12|                   3|                                   4|                        80|                                     2|                        7|                                            5|                       2|                                   6|                               2|                           0|                                  5|       30-39|\n",
            "|   22|     Não|           Não Viaja|             1123|Pesquisa e Desenv...|               16|           2|Ciências Médicas|                                         1|            22|                                             4|Masculino|              96|                                   4|                1|Técnico de Labora...|                        4|  Divorciado|        2935|          7324|                                1|           Sim|           Sim|                              13|                   3|                                   2|                        80|                                     2|                        1|                                            2|                       2|                                   1|                               0|                           0|                                  0|       18-29|\n",
            "|   53|     Não|     Viaja raramente|             1219|              Vendas|                2|           4|Ciências Humanas|                                         1|            23|                                             1| Feminino|              78|                                   2|                4|             Gerente|                        4|      Casado|       15427|         22021|                                2|           Sim|           Não|                              16|                   3|                                   3|                        80|                                     0|                       31|                                            3|                       3|                                  25|                               8|                           3|                                  7|       50-59|\n",
            "|   38|     Não|     Viaja raramente|              371|Pesquisa e Desenv...|                2|           3|Ciências Humanas|                                         1|            24|                                             4|Masculino|              45|                                   3|                1|Pesquisador cient...|                        4|    Solteiro|        3944|          4306|                                5|           Sim|           Sim|                              11|                   3|                                   3|                        80|                                     0|                        6|                                            3|                       3|                                   3|                               2|                           1|                                  2|       30-39|\n",
            "|   24|     Não|           Não Viaja|              673|Pesquisa e Desenv...|               11|           2|          Outras|                                         1|            26|                                             1| Feminino|              96|                                   4|                2|Diretor de manufa...|                        3|  Divorciado|        4011|          8232|                                0|           Sim|           Não|                              18|                   3|                                   4|                        80|                                     1|                        5|                                            5|                       2|                                   4|                               2|                           1|                                  3|       18-29|\n",
            "+-----+--------+--------------------+-----------------+--------------------+-----------------+------------+----------------+------------------------------------------+--------------+----------------------------------------------+---------+----------------+------------------------------------+-----------------+--------------------+-------------------------+------------+------------+--------------+---------------------------------+--------------+--------------+--------------------------------+--------------------+------------------------------------+--------------------------+--------------------------------------+-------------------------+---------------------------------------------+------------------------+------------------------------------+--------------------------------+----------------------------+-----------------------------------+------------+\n",
            "only showing top 20 rows\n",
            "\n"
          ]
        }
      ]
    },
    {
      "cell_type": "markdown",
      "source": [
        "### 18. Funcionários que não participaram de treinamentos no último ano:"
      ],
      "metadata": {
        "id": "8GvPqP9C_p3v"
      }
    },
    {
      "cell_type": "code",
      "source": [
        "# Filtrando funcionários que não participaram de nenhum treinamento\n",
        "funcionarios_sem_treinamento = df.filter(df[\"Qtde de treinamentos realizados no último ano\"] == 0)\n",
        "# Convertendo para Pandas\n",
        "funcionarios_sem_treinamento_pd = funcionarios_sem_treinamento.toPandas()\n",
        "# Salvando em um arquivo CSV\n",
        "funcionarios_sem_treinamento_pd.to_csv('funcionarios_sem_treinamento.csv', index=False)\n",
        "funcionarios_sem_treinamento.show()\n"
      ],
      "metadata": {
        "id": "yvLHqbzS_hYi",
        "colab": {
          "base_uri": "https://localhost:8080/"
        },
        "outputId": "575bfde3-3812-4299-bd09-a3da7cc68280"
      },
      "execution_count": null,
      "outputs": [
        {
          "output_type": "stream",
          "name": "stdout",
          "text": [
            "+-----+--------+--------------------+-----------------+--------------------+-----------------+------------+----------------+------------------------------------------+--------------+----------------------------------------------+---------+----------------+------------------------------------+-----------------+--------------------+-------------------------+------------+------------+--------------+---------------------------------+--------------+--------------+--------------------------------+--------------------+------------------------------------+--------------------------+--------------------------------------+-------------------------+---------------------------------------------+------------------------+------------------------------------+--------------------------------+----------------------------+-----------------------------------+------------+\n",
            "|Idade|Demissão|  Viagem de negócios|Diárias recebidas|        Departamento|Distância de Casa|Escolaridade|Área de Formação|Número de contratos de trabalho na empresa|ID Funcionário|Nível de Satisfação com o ambiente de trabalho|   Gênero|Salário por hora|Nível de envolvimento com o trabalho|Nível hierárquico|               Cargo|Satisfação com o trabalho|Estado civil|Renda mensal|Salário Mensal|qtde de empresas que já trabalhou|Maior de idade|Faz hora extra|percentual de aumento de salário|score de performance|Satisfação nas relações Não trabalho|Jornada padrão de trabalho|opção de remaunração variável em ações|Total de anos trabalhados|Qtde de treinamentos realizados no último ano|Equilíbrio vida trabalho|Total de anos trabalhados na empresa|Anos trabalhados na função atual|Anos desde a última promoção|Anos trabalhando com o atual gestor|faixa_etaria|\n",
            "+-----+--------+--------------------+-----------------+--------------------+-----------------+------------+----------------+------------------------------------------+--------------+----------------------------------------------+---------+----------------+------------------------------------+-----------------+--------------------+-------------------------+------------+------------+--------------+---------------------------------+--------------+--------------+--------------------------------+--------------------+------------------------------------+--------------------------+--------------------------------------+-------------------------+---------------------------------------------+------------------------+------------------------------------+--------------------------------+----------------------------+-----------------------------------+------------+\n",
            "|   41|     Sim|     Viaja raramente|             1102|              Vendas|                1|           2|Ciências Humanas|                                         1|             1|                                             2| Feminino|              94|                                   3|                2| Executivo de vendas|                        4|    Solteiro|        5993|         19479|                                8|           Sim|           Sim|                              11|                   3|                                   1|                        80|                                     0|                        8|                                            0|                       1|                                   6|                               4|                           0|                                  5|       40-49|\n",
            "|   27|     Não|Viaja frequentemente|              994|              Vendas|                8|           3|Ciências Humanas|                                         1|            56|                                             4|Masculino|              37|                                   3|                3| Executivo de vendas|                        3|    Solteiro|        8726|          2975|                                1|           Sim|           Não|                              15|                   3|                                   4|                        80|                                     0|                        9|                                            0|                       3|                                   9|                               8|                           1|                                  7|       18-29|\n",
            "|   41|     Sim|     Viaja raramente|             1360|Pesquisa e Desenv...|               12|           3| EnsiNão técnico|                                         1|            58|                                             2| Feminino|              49|                                   3|                5| Diretor de pesquisa|                        3|      Casado|       19545|         16280|                                1|           Sim|           Não|                              12|                   3|                                   4|                        80|                                     0|                       23|                                            0|                       3|                                  22|                              15|                          15|                                  8|       40-49|\n",
            "|   36|     Sim|     Viaja raramente|              318|Pesquisa e Desenv...|                9|           3|Ciências Médicas|                                         1|            90|                                             4|Masculino|              79|                                   2|                1|Pesquisador cient...|                        3|      Casado|        3388|         21777|                                0|           Sim|           Sim|                              17|                   3|                                   1|                        80|                                     1|                        2|                                            0|                       2|                                   1|                               0|                           0|                                  0|       30-39|\n",
            "|   32|     Não|     Viaja raramente|             1093|              Vendas|                6|           4|Ciências Médicas|                                         1|           125|                                             2|Masculino|              87|                                   3|                2| Executivo de vendas|                        3|    Solteiro|        5010|         24301|                                1|           Sim|           Não|                              16|                   3|                                   1|                        80|                                     0|                       12|                                            0|                       3|                                  11|                               8|                           5|                                  7|       30-39|\n",
            "|   36|     Não|     Viaja raramente|              216|Pesquisa e Desenv...|                6|           2|Ciências Médicas|                                         1|           178|                                             2|Masculino|              84|                                   3|                2|Diretor de manufa...|                        2|  Divorciado|        4941|          2819|                                6|           Sim|           Não|                              20|                   4|                                   4|                        80|                                     2|                        7|                                            0|                       3|                                   3|                               2|                           0|                                  1|       30-39|\n",
            "|   31|     Não|     Viaja raramente|              140|Pesquisa e Desenv...|               12|           1|Ciências Médicas|                                         1|           246|                                             3| Feminino|              95|                                   3|                1|Pesquisador cient...|                        4|      Casado|        3929|          6984|                                8|           Sim|           Sim|                              23|                   4|                                   3|                        80|                                     1|                        7|                                            0|                       3|                                   4|                               2|                           0|                                  2|       30-39|\n",
            "|   49|     Não|           Não Viaja|             1002|Pesquisa e Desenv...|               18|           4|Ciências Humanas|                                         1|           275|                                             4|Masculino|              92|                                   3|                2|Diretor de manufa...|                        4|  Divorciado|        6804|         23793|                                1|           Sim|           Sim|                              15|                   3|                                   1|                        80|                                     2|                        7|                                            0|                       3|                                   7|                               7|                           1|                                  7|       40-49|\n",
            "|   51|     Não|     Viaja raramente|              833|Pesquisa e Desenv...|                1|           3|Ciências Humanas|                                         1|           353|                                             3|Masculino|              96|                                   3|                1|Pesquisador cient...|                        4|      Casado|        2723|         23231|                                1|           Sim|           Não|                              11|                   3|                                   2|                        80|                                     0|                        1|                                            0|                       2|                                   1|                               0|                           0|                                  0|       50-59|\n",
            "|   38|     Não|           Não Viaja|             1327|              Vendas|                2|           2|Ciências Humanas|                                         1|           361|                                             4|Masculino|              39|                                   2|                2| Executivo de vendas|                        4|      Casado|        5249|         19682|                                3|           Sim|           Não|                              18|                   3|                                   4|                        80|                                     1|                       13|                                            0|                       3|                                   8|                               7|                           7|                                  5|       30-39|\n",
            "|   44|     Sim|Viaja frequentemente|              920|Pesquisa e Desenv...|               24|           3|Ciências Humanas|                                         1|           392|                                             4|Masculino|              43|                                   3|                1|Técnico de Labora...|                        3|  Divorciado|        3161|         19920|                                3|           Sim|           Sim|                              22|                   4|                                   4|                        80|                                     1|                       19|                                            0|                       1|                                   1|                               0|                           0|                                  0|       40-49|\n",
            "|   26|     Sim|     Viaja raramente|              950|              Vendas|                4|           4|       Marketing|                                         1|           401|                                             4|Masculino|              48|                                   2|                2| Executivo de vendas|                        4|    Solteiro|        5828|          8450|                                1|           Sim|           Sim|                              12|                   3|                                   2|                        80|                                     0|                        8|                                            0|                       3|                                   8|                               7|                           7|                                  4|       18-29|\n",
            "|   32|     Não|     Viaja raramente|             1018|Pesquisa e Desenv...|                2|           4|Ciências Médicas|                                         1|           439|                                             1| Feminino|              74|                                   4|                2|Pesquisador cient...|                        4|    Solteiro|        5055|         10557|                                7|           Sim|           Não|                              16|                   3|                                   3|                        80|                                     0|                       10|                                            0|                       2|                                   7|                               7|                           0|                                  7|       30-39|\n",
            "|   27|     Não|           Não Viaja|              210|              Vendas|                1|           1|       Marketing|                                         1|           449|                                             3|Masculino|              73|                                   3|                2| Executivo de vendas|                        2|      Casado|        6349|         22107|                                0|           Sim|           Sim|                              13|                   3|                                   4|                        80|                                     1|                        6|                                            0|                       3|                                   5|                               4|                           1|                                  4|       18-29|\n",
            "|   21|     Sim|     Viaja raramente|              156|              Vendas|               12|           3|Ciências Humanas|                                         1|           494|                                             3| Feminino|              90|                                   4|                1|Representante de ...|                        2|    Solteiro|        2716|         25422|                                1|           Sim|           Não|                              15|                   3|                                   4|                        80|                                     0|                        1|                                            0|                       3|                                   1|                               0|                           0|                                  0|       18-29|\n",
            "|   56|     Não|Viaja frequentemente|              906|              Vendas|                6|           3|Ciências Humanas|                                         1|           532|                                             3| Feminino|              86|                                   4|                4| Executivo de vendas|                        1|      Casado|       13212|         18256|                                9|           Sim|           Não|                              11|                   3|                                   4|                        80|                                     3|                       36|                                            0|                       2|                                   7|                               7|                           7|                                  7|       50-59|\n",
            "|   20|     Não|     Viaja raramente|              959|Pesquisa e Desenv...|                1|           3|Ciências Humanas|                                         1|           657|                                             4| Feminino|              83|                                   2|                1|Pesquisador cient...|                        2|    Solteiro|        2836|         11757|                                1|           Sim|           Não|                              13|                   3|                                   4|                        80|                                     0|                        1|                                            0|                       4|                                   1|                               0|                           0|                                  0|       18-29|\n",
            "|   27|     Não|     Viaja raramente|             1115|Pesquisa e Desenv...|                3|           4|Ciências Médicas|                                         1|           700|                                             1|Masculino|              54|                                   2|                1|Pesquisador cient...|                        4|    Solteiro|        2045|         15174|                                0|           Sim|           Não|                              13|                   3|                                   4|                        80|                                     0|                        5|                                            0|                       3|                                   4|                               2|                           1|                                  1|       18-29|\n",
            "|   38|     Não|     Viaja raramente|              268|Pesquisa e Desenv...|                2|           5|Ciências Médicas|                                         1|           773|                                             4|Masculino|              92|                                   3|                1|Pesquisador cient...|                        3|      Casado|        3057|         20471|                                6|           Sim|           Sim|                              13|                   3|                                   2|                        80|                                     1|                        6|                                            0|                       1|                                   1|                               0|                           0|                                  1|       30-39|\n",
            "|   35|     Não|     Viaja raramente|             1258|Pesquisa e Desenv...|                1|           4|Ciências Humanas|                                         1|           826|                                             4| Feminino|              40|                                   4|                1|Pesquisador cient...|                        3|    Solteiro|        2506|         13301|                                3|           Sim|           Não|                              13|                   3|                                   3|                        80|                                     0|                        7|                                            0|                       3|                                   2|                               2|                           2|                                  2|       30-39|\n",
            "+-----+--------+--------------------+-----------------+--------------------+-----------------+------------+----------------+------------------------------------------+--------------+----------------------------------------------+---------+----------------+------------------------------------+-----------------+--------------------+-------------------------+------------+------------+--------------+---------------------------------+--------------+--------------+--------------------------------+--------------------+------------------------------------+--------------------------+--------------------------------------+-------------------------+---------------------------------------------+------------------------+------------------------------------+--------------------------------+----------------------------+-----------------------------------+------------+\n",
            "only showing top 20 rows\n",
            "\n"
          ]
        }
      ]
    },
    {
      "cell_type": "markdown",
      "source": [
        "### 19. Contagem de funcionários por satisfação com o trabalho:"
      ],
      "metadata": {
        "id": "hfPo-sfe_35j"
      }
    },
    {
      "cell_type": "code",
      "source": [
        "# Qual é a distribuição de funcionários por Satisfação com o trabalho?\n",
        "satisfacao_trabalho = df.groupBy(\"Satisfação com o trabalho\").count()\n",
        "satisfacao_trabalho_pd = satisfacao_trabalho.toPandas()\n",
        "satisfacao_trabalho_pd.to_csv('satisfacao_trabalho.csv', index=False)\n",
        "satisfacao_trabalho.show()\n"
      ],
      "metadata": {
        "id": "RwkfDmGz_5ve",
        "colab": {
          "base_uri": "https://localhost:8080/"
        },
        "outputId": "e5105152-c54b-47e2-9adb-ac5b28f83bae"
      },
      "execution_count": null,
      "outputs": [
        {
          "output_type": "stream",
          "name": "stdout",
          "text": [
            "+-------------------------+-----+\n",
            "|Satisfação com o trabalho|count|\n",
            "+-------------------------+-----+\n",
            "|                        1|  289|\n",
            "|                        3|  442|\n",
            "|                        4|  459|\n",
            "|                        2|  280|\n",
            "+-------------------------+-----+\n",
            "\n"
          ]
        }
      ]
    },
    {
      "cell_type": "markdown",
      "source": [
        "### 20. Funcionários com mais de 20 anos na empresa:\n",
        "\n"
      ],
      "metadata": {
        "id": "5HNPsiRYABIp"
      }
    },
    {
      "cell_type": "code",
      "source": [
        "# 20. Pergunta: Quantos funcionários têm mais de 15 anos na empresa?\n",
        "# Filtrando funcionários com mais de 15 anos na empresa\n",
        "funcionarios_longa_duracao = df.filter(df[\"Total de anos trabalhados na empresa\"] > 20)\n",
        "# Convertendo para Pandas\n",
        "funcionarios_longa_duracao_pd = funcionarios_longa_duracao.toPandas()\n",
        "# Salvando em um arquivo CSV\n",
        "funcionarios_longa_duracao_pd.to_csv('funcionarios_longa_duracao.csv', index=False)\n",
        "funcionarios_longa_duracao.show()\n"
      ],
      "metadata": {
        "id": "RGdDa1asADYl",
        "colab": {
          "base_uri": "https://localhost:8080/"
        },
        "outputId": "4799f8f6-219d-45db-d158-918697078308"
      },
      "execution_count": null,
      "outputs": [
        {
          "output_type": "stream",
          "name": "stdout",
          "text": [
            "+-----+--------+--------------------+-----------------+--------------------+-----------------+------------+----------------+------------------------------------------+--------------+----------------------------------------------+---------+----------------+------------------------------------+-----------------+--------------------+-------------------------+------------+------------+--------------+---------------------------------+--------------+--------------+--------------------------------+--------------------+------------------------------------+--------------------------+--------------------------------------+-------------------------+---------------------------------------------+------------------------+------------------------------------+--------------------------------+----------------------------+-----------------------------------+------------+\n",
            "|Idade|Demissão|  Viagem de negócios|Diárias recebidas|        Departamento|Distância de Casa|Escolaridade|Área de Formação|Número de contratos de trabalho na empresa|ID Funcionário|Nível de Satisfação com o ambiente de trabalho|   Gênero|Salário por hora|Nível de envolvimento com o trabalho|Nível hierárquico|               Cargo|Satisfação com o trabalho|Estado civil|Renda mensal|Salário Mensal|qtde de empresas que já trabalhou|Maior de idade|Faz hora extra|percentual de aumento de salário|score de performance|Satisfação nas relações Não trabalho|Jornada padrão de trabalho|opção de remaunração variável em ações|Total de anos trabalhados|Qtde de treinamentos realizados no último ano|Equilíbrio vida trabalho|Total de anos trabalhados na empresa|Anos trabalhados na função atual|Anos desde a última promoção|Anos trabalhando com o atual gestor|faixa_etaria|\n",
            "+-----+--------+--------------------+-----------------+--------------------+-----------------+------------+----------------+------------------------------------------+--------------+----------------------------------------------+---------+----------------+------------------------------------+-----------------+--------------------+-------------------------+------------+------------+--------------+---------------------------------+--------------+--------------+--------------------------------+--------------------+------------------------------------+--------------------------+--------------------------------------+-------------------------+---------------------------------------------+------------------------+------------------------------------+--------------------------------+----------------------------+-----------------------------------+------------+\n",
            "|   53|     Não|     Viaja raramente|             1219|              Vendas|                2|           4|Ciências Humanas|                                         1|            23|                                             1| Feminino|              78|                                   2|                4|             Gerente|                        4|      Casado|       15427|         22021|                                2|           Sim|           Não|                              16|                   3|                                   3|                        80|                                     0|                       31|                                            3|                       3|                                  25|                               8|                           3|                                  7|       50-59|\n",
            "|   44|     Não|     Viaja raramente|              477|Pesquisa e Desenv...|                7|           4|Ciências Médicas|                                         1|            36|                                             1| Feminino|              42|                                   2|                3|Reprentante de saúde|                        4|      Casado|       10248|          2094|                                3|           Sim|           Não|                              14|                   3|                                   4|                        80|                                     1|                       24|                                            4|                       3|                                  22|                               6|                           5|                                 17|       40-49|\n",
            "|   41|     Sim|     Viaja raramente|             1360|Pesquisa e Desenv...|               12|           3| EnsiNão técnico|                                         1|            58|                                             2| Feminino|              49|                                   3|                5| Diretor de pesquisa|                        3|      Casado|       19545|         16280|                                1|           Sim|           Não|                              12|                   3|                                   4|                        80|                                     0|                       23|                                            0|                       3|                                  22|                              15|                          15|                                  8|       40-49|\n",
            "|   50|     Não|     Viaja raramente|              989|Pesquisa e Desenv...|                7|           2|Ciências Médicas|                                         1|            80|                                             2| Feminino|              43|                                   2|                5| Diretor de pesquisa|                        3|  Divorciado|       18740|         16701|                                5|           Sim|           Sim|                              12|                   3|                                   4|                        80|                                     1|                       29|                                            2|                       2|                                  27|                               3|                          13|                                  8|       50-59|\n",
            "|   59|     Não|     Viaja raramente|             1435|              Vendas|               25|           3|Ciências Humanas|                                         1|            81|                                             1| Feminino|              99|                                   3|                3| Executivo de vendas|                        1|    Solteiro|        7637|          2354|                                7|           Sim|           Não|                              11|                   3|                                   4|                        80|                                     0|                       28|                                            3|                       2|                                  21|                              16|                           7|                                  9|       50-59|\n",
            "|   40|     Não|Viaja frequentemente|              530|Pesquisa e Desenv...|                1|           4|Ciências Humanas|                                         1|           119|                                             3|Masculino|              78|                                   2|                4|Reprentante de saúde|                        2|      Casado|       13503|         14115|                                1|           Sim|           Não|                              22|                   4|                                   4|                        80|                                     1|                       22|                                            3|                       2|                                  22|                               3|                          11|                                 11|       40-49|\n",
            "|   58|     Não|     Viaja raramente|              682|              Vendas|               10|           4|Ciências Médicas|                                         1|           131|                                             4|Masculino|              37|                                   3|                4| Executivo de vendas|                        3|    Solteiro|       13872|         24409|                                0|           Sim|           Não|                              13|                   3|                                   3|                        80|                                     0|                       38|                                            1|                       2|                                  37|                              10|                           1|                                  8|       50-59|\n",
            "|   43|     Não|Viaja frequentemente|              394|              Vendas|               26|           2|Ciências Humanas|                                         1|           158|                                             3|Masculino|              92|                                   3|                4|             Gerente|                        4|      Casado|       16959|         19494|                                1|           Sim|           Sim|                              12|                   3|                                   4|                        80|                                     2|                       25|                                            3|                       4|                                  25|                              12|                           4|                                 12|       40-49|\n",
            "|   58|     Sim|     Viaja raramente|              147|Pesquisa e Desenv...|               23|           4|Ciências Médicas|                                         1|           165|                                             4| Feminino|              94|                                   3|                3|Reprentante de saúde|                        4|      Casado|       10312|          3465|                                1|           Sim|           Não|                              12|                   3|                                   4|                        80|                                     1|                       40|                                            3|                       2|                                  40|                              10|                          15|                                  6|       50-59|\n",
            "|   46|     Não|     Viaja raramente|              526|              Vendas|                1|           2|       Marketing|                                         1|           244|                                             2| Feminino|              92|                                   3|                3| Executivo de vendas|                        1|  Divorciado|       10453|          2137|                                1|           Sim|           Não|                              25|                   4|                                   3|                        80|                                     3|                       24|                                            2|                       3|                                  24|                              13|                          15|                                  7|       40-49|\n",
            "|   55|     Não|     Viaja raramente|              692|Pesquisa e Desenv...|               14|           4|Ciências Médicas|                                         1|           254|                                             3|Masculino|              61|                                   4|                5| Diretor de pesquisa|                        2|    Solteiro|       18722|         13339|                                8|           Sim|           Não|                              11|                   3|                                   4|                        80|                                     0|                       36|                                            3|                       3|                                  24|                              15|                           2|                                 15|       50-59|\n",
            "|   52|     Não|     Viaja raramente|              699|Pesquisa e Desenv...|                1|           4|Ciências Humanas|                                         1|           259|                                             3|Masculino|              65|                                   2|                5|             Gerente|                        3|      Casado|       19999|          5678|                                0|           Sim|           Não|                              14|                   3|                                   1|                        80|                                     1|                       34|                                            5|                       3|                                  33|                              18|                          11|                                  9|       50-59|\n",
            "|   42|     Não|     Viaja raramente|              532|Pesquisa e Desenv...|                4|           2| EnsiNão técnico|                                         1|           319|                                             3|Masculino|              58|                                   3|                5|             Gerente|                        4|      Casado|       19232|          4933|                                1|           Sim|           Não|                              11|                   3|                                   4|                        80|                                     0|                       22|                                            3|                       3|                                  22|                              17|                          11|                                 15|       40-49|\n",
            "|   52|     Não|           Não Viaja|              771|              Vendas|                2|           4|Ciências Humanas|                                         1|           329|                                             1|Masculino|              79|                                   2|                5|             Gerente|                        3|    Solteiro|       19068|         21030|                                1|           Sim|           Sim|                              18|                   3|                                   4|                        80|                                     0|                       33|                                            2|                       4|                                  33|                               7|                          15|                                 12|       50-59|\n",
            "|   45|     Não|     Viaja raramente|              252|Pesquisa e Desenv...|                1|           3|          Outras|                                         1|           336|                                             3|Masculino|              70|                                   4|                5|             Gerente|                        4|      Casado|       19202|         15970|                                0|           Sim|           Não|                              11|                   3|                                   3|                        80|                                     1|                       25|                                            2|                       3|                                  24|                               0|                           1|                                  7|       40-49|\n",
            "|   40|     Não|     Viaja raramente|             1416|Pesquisa e Desenv...|                2|           2|Ciências Médicas|                                         1|           352|                                             1|Masculino|              49|                                   3|                5| Diretor de pesquisa|                        3|  Divorciado|       19436|          5949|                                0|           Sim|           Não|                              19|                   3|                                   4|                        80|                                     1|                       22|                                            5|                       3|                                  21|                               7|                           3|                                  9|       40-49|\n",
            "|   55|     Não|     Viaja raramente|              452|Pesquisa e Desenv...|                1|           3|Ciências Médicas|                                         1|           374|                                             4|Masculino|              81|                                   3|                5|             Gerente|                        1|    Solteiro|       19045|         18938|                                0|           Sim|           Sim|                              14|                   3|                                   3|                        80|                                     0|                       37|                                            2|                       3|                                  36|                              10|                           4|                                 13|       50-59|\n",
            "|   41|     Não|     Viaja raramente|              334|              Vendas|                2|           4|Ciências Humanas|                                         1|           410|                                             4|Masculino|              88|                                   3|                4|             Gerente|                        2|    Solteiro|       16015|         15896|                                1|           Sim|           Não|                              19|                   3|                                   2|                        80|                                     0|                       22|                                            2|                       3|                                  22|                              10|                           0|                                  4|       40-49|\n",
            "|   45|     Não|Viaja frequentemente|             1249|Pesquisa e Desenv...|                7|           3|Ciências Humanas|                                         1|           425|                                             1|Masculino|              97|                                   3|                3|Técnico de Labora...|                        1|  Divorciado|        5210|         20308|                                1|           Sim|           Não|                              18|                   3|                                   1|                        80|                                     1|                       24|                                            2|                       3|                                  24|                               9|                           9|                                 11|       40-49|\n",
            "|   39|     Não|     Viaja raramente|              117|Pesquisa e Desenv...|               10|           1|Ciências Médicas|                                         1|           429|                                             3|Masculino|              99|                                   3|                4|             Gerente|                        1|      Casado|       17068|          5355|                                1|           Sim|           Sim|                              14|                   3|                                   4|                        80|                                     0|                       21|                                            3|                       3|                                  21|                               9|                          11|                                 10|       30-39|\n",
            "+-----+--------+--------------------+-----------------+--------------------+-----------------+------------+----------------+------------------------------------------+--------------+----------------------------------------------+---------+----------------+------------------------------------+-----------------+--------------------+-------------------------+------------+------------+--------------+---------------------------------+--------------+--------------+--------------------------------+--------------------+------------------------------------+--------------------------+--------------------------------------+-------------------------+---------------------------------------------+------------------------+------------------------------------+--------------------------------+----------------------------+-----------------------------------+------------+\n",
            "only showing top 20 rows\n",
            "\n"
          ]
        }
      ]
    }
  ]
}