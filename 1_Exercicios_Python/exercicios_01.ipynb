{
  "nbformat": 4,
  "nbformat_minor": 0,
  "metadata": {
    "colab": {
      "provenance": []
    },
    "kernelspec": {
      "name": "python3",
      "display_name": "Python 3"
    },
    "language_info": {
      "name": "python"
    }
  },
  "cells": [
    {
      "cell_type": "code",
      "execution_count": null,
      "metadata": {
        "colab": {
          "base_uri": "https://localhost:8080/"
        },
        "id": "CjI9_ioyALYX",
        "outputId": "8ea4a680-11be-45fe-99e0-4c7533660593"
      },
      "outputs": [
        {
          "output_type": "stream",
          "name": "stdout",
          "text": [
            "Digite o custo do primeiro produto: R$ 800\n",
            "Digite o custo do segundo produto: R$ 200\n",
            "Digite o custo do terceiro produto: R$ 1\n",
            "Valor final após o desconto: R$ 850.85\n"
          ]
        }
      ],
      "source": [
        "#1. Cálculo de Despesa com Desconto Progressivo\n",
        "#Problema: Crie um programa que receba o custo de três produtos e calcule o valor total.\n",
        "#Se o total exceder R$ 500, aplique um desconto progressivo: 10% se o total for\n",
        "#entre R$ 500 e R$ 1.000, e 15% se for acima de R$ 1.000. Mostre o valor final após o desconto.\n",
        "\n",
        "# Solicitando o custo dos três produtos\n",
        "produto1 = float(input(\"Digite o custo do primeiro produto: R$ \"))\n",
        "produto2 = float(input(\"Digite o custo do segundo produto: R$ \"))\n",
        "produto3 = float(input(\"Digite o custo do terceiro produto: R$ \"))\n",
        "\n",
        "# Calculando o valor total\n",
        "valor_total = produto1 + produto2 + produto3\n",
        "\n",
        "# Aplicando o desconto progressivo\n",
        "if valor_total > 1000:\n",
        "    desconto = 0.15\n",
        "elif valor_total > 500:\n",
        "    desconto = 0.10\n",
        "else:\n",
        "    desconto = 0\n",
        "\n",
        "# Calculando o valor final após o desconto\n",
        "valor_final = valor_total - (valor_total * desconto)\n",
        "\n",
        "\n",
        "print(f\"Valor final após o desconto: R$ {valor_final:.2f}\")\n",
        "\n"
      ]
    },
    {
      "cell_type": "code",
      "source": [
        "#2. Classificação de Idade com Mensagens Personalizadas\n",
        "#**Problema:** Desenvolva um programa que receba a idade de uma pessoa e determine sua\n",
        "#categoria: \"Criança\" (0-12 anos), \"Adolescente\" (13-17 anos), \"Adulto\" (18-64 anos) ou \"Idoso\" (65 anos ou mais).\n",
        "#Exiba uma mensagem personalizada para cada faixa etária,\n",
        "#como \"Você é uma criança cheia de energia!\" ou \"Você tem muita sabedoria como idoso!\".\n",
        "\n",
        "idade = int(input(\"Digite sua idade: \"))\n",
        "\n",
        "# Verificar e classificar faixa etária\n",
        "if idade >= 0 and idade <= 12:\n",
        "    print(\"Você é uma criança cheia de energia!\")\n",
        "elif idade >= 13 and idade <= 17:\n",
        "    print(\"Aproveite sua Adolescência\")\n",
        "elif idade >= 18 and idade <= 64:\n",
        "    print(\"Você tem muitos boletos a pagar!\")\n",
        "elif idade >= 65 and idade<= 130:\n",
        "    print(\"Como idoso, você tem muita sabedoria!\")\n",
        "else:\n",
        "    print(\"Idade inválida\")"
      ],
      "metadata": {
        "colab": {
          "base_uri": "https://localhost:8080/"
        },
        "id": "QeZpQTweHLcu",
        "outputId": "293fe93b-0f20-4581-ea38-bbe032b0bd4e"
      },
      "execution_count": null,
      "outputs": [
        {
          "output_type": "stream",
          "name": "stdout",
          "text": [
            "Digite sua idade: 333\n",
            "Idade inválida\n"
          ]
        }
      ]
    },
    {
      "cell_type": "code",
      "source": [
        "# 3. Verificação de Número Par, Ímpar e Positivo/Negativo\n",
        "# Problema: Crie um programa que receba um número inteiro e informe se ele é par ou ímpar e, adicionalmente, se é positivo,\n",
        "# negativo ou zero. Inclua uma mensagem especial para números que sejam múltiplos de 10.\n",
        "\n",
        "# Solicitando um número inteiro ao usuário\n",
        "numero = int(input(\"Digite um número: \"))\n",
        "\n",
        "# Verificando se o número é par ou ímpar\n",
        "if numero % 2 == 0:\n",
        "    par_impar = \"par\"\n",
        "else:\n",
        "    par_impar = \"ímpar\"\n",
        "\n",
        "# Verificando se o número é positivo, negativo ou zero\n",
        "if numero > 0:\n",
        "    positivo_negativo = \"positivo\"\n",
        "elif numero < 0:\n",
        "    positivo_negativo = \"negativo\"\n",
        "else:\n",
        "    positivo_negativo = \"zero\"\n",
        "\n",
        "# Verificando se o número é múltiplo de 10\n",
        "if numero % 10 == 0:\n",
        "    multiplo_de_10 = \"é múltiplo de 10\"\n",
        "else:\n",
        "    multiplo_de_10 = \"não é múltiplo de 10\"\n",
        "\n",
        "# Exibindo os resultados\n",
        "print(f\"O número {numero} é {par_impar} e {positivo_negativo}. Além disso, ele {multiplo_de_10}.\")\n",
        "\n",
        "\n"
      ],
      "metadata": {
        "colab": {
          "base_uri": "https://localhost:8080/"
        },
        "id": "nlyXaaXJJKT-",
        "outputId": "7b48c17a-a37e-4541-bcc3-d10bed937493"
      },
      "execution_count": null,
      "outputs": [
        {
          "output_type": "stream",
          "name": "stdout",
          "text": [
            "Digite um número: -89\n",
            "O número -89 é ímpar e negativo. Além disso, ele não é múltiplo de 10.\n"
          ]
        }
      ]
    },
    {
      "cell_type": "code",
      "source": [
        "# 4 - Cálculo de Média com Condição de Recuperação**\n",
        "#Problema:** Desenvolva um programa que receba as notas de quatro provas e calcule a média. Se a média for menor que 5,\n",
        "#informe que o aluno está reprovado. Se estiver entre 5 e 7,\n",
        "#informe que o aluno está em recuperação, e se for maior ou igual a 7, informe que o aluno está aprovado.\n",
        "\n",
        "\n",
        "\n",
        "# Recebendo as notas do aluno\n",
        "nota1 = float(input(\"Digite sua primeira nota: \"))\n",
        "nota2 = float(input(\"Digite sua segunda nota: \"))\n",
        "nota3 = float(input(\"Digite sua terceira nota: \"))\n",
        "nota4 = float(input(\"Digite sua quarta nota: \"))\n",
        "\n",
        "# Calculando a média\n",
        "media = (nota1 + nota2 + nota3 + nota4) / 4\n",
        "\n",
        "# Exibindo a média para o usuário\n",
        "print(f\"Sua média foi: {media:.2f}\")\n",
        "\n",
        "# Verificando a situação do aluno\n",
        "if media < 5:\n",
        "    print(\"Você está reprovado\")\n",
        "elif 5 <= media < 7:\n",
        "    print(\"Você está em recuperação\")\n",
        "else:\n",
        "    print(\"Você está aprovado!\")\n"
      ],
      "metadata": {
        "id": "QDeGGHjfLrNg",
        "colab": {
          "base_uri": "https://localhost:8080/"
        },
        "outputId": "8ff8bd9c-fae6-4fb5-a419-4616f815b8f8"
      },
      "execution_count": null,
      "outputs": [
        {
          "output_type": "stream",
          "name": "stdout",
          "text": [
            "Digite sua primeira nota: 2\n",
            "Digite sua segunda nota: 9\n",
            "Digite sua terceira nota: 9\n",
            "Digite sua quarta nota: 9\n",
            "Sua média foi: 7.25\n",
            "Você está aprovado!\n"
          ]
        }
      ]
    },
    {
      "cell_type": "code",
      "source": [
        "#**5. Classificação e Ajuste de Salário com Reajuste**\n",
        "#Problema:** Crie um programa que receba o salário de um funcionário e determine\n",
        "#sua faixa salarial: \"Baixa\" (até R$ 2.500), \"Média\" (de R$ 2.501 a R$ 5.000) ou \"Alta\" (acima de R$ 5.000).\n",
        "#Aplique um reajuste de 7% para a faixa baixa, 5% para a faixa média e 3% para a faixa alta. Mostre o salário reajustado.\n",
        "\n",
        "salario = float(input(\"Digite o salario do funcionario: \"))\n",
        "if salario <= 2500:\n",
        "    salario = salario + (salario * 0.07)\n",
        "    print(\"Salario reajustado: R$ \", salario)\n",
        "elif salario >2501 and salario <= 5000:\n",
        "    salario = salario + (salario * 0.05)\n",
        "    print(\"Salario reajustado: R$ \", salario)\n",
        "else:\n",
        "    salario = salario + (salario * 0.03)\n",
        "    print(\"Salario reajustado: R$ \", salario)"
      ],
      "metadata": {
        "colab": {
          "base_uri": "https://localhost:8080/"
        },
        "id": "eftVvpFO1Kg2",
        "outputId": "1fd9608b-8c18-432a-fc8f-de7d6694abc8"
      },
      "execution_count": null,
      "outputs": [
        {
          "output_type": "stream",
          "name": "stdout",
          "text": [
            "Digite o salario do funcionario: 3333\n",
            "Salario reajustado: R$  3499.65\n"
          ]
        }
      ]
    },
    {
      "cell_type": "code",
      "source": [
        "#**6. Verificação de Ano Bissexto com Mensagens**\n",
        "#Problema:** Desenvolva um programa que receba um ano e determine se ele é bissexto.\n",
        "#Se for, informe que \"O ano é bissexto e possui 366 dias.\" Caso contrário,\n",
        "#informe que \"O ano não é bissexto e possui 365 dias.\"\n",
        "\n",
        "ano = int(input(\"Digite o ano: \"))\n",
        "if (ano % 4 == 0 and ano % 100 != 0) or (ano % 400 == 0):\n",
        "    print(\"O ano é bissexto e possui 366 dias.\")\n",
        "else:\n",
        "    print(\"O ano não é bissexto e possui 365 dias.\")\n"
      ],
      "metadata": {
        "colab": {
          "base_uri": "https://localhost:8080/"
        },
        "id": "0Abmeds05NHV",
        "outputId": "b34252eb-4281-4963-df1c-bed651223416"
      },
      "execution_count": null,
      "outputs": [
        {
          "output_type": "stream",
          "name": "stdout",
          "text": [
            "Digite o ano: 2024\n",
            "O ano é bissexto e possui 366 dias.\n"
          ]
        }
      ]
    },
    {
      "cell_type": "code",
      "source": [
        "# **7. Conversão e Comparação de Temperatura**\n",
        "# Problema:** Crie um programa que receba uma temperatura em graus Celsius e a converta para Fahrenheit.\n",
        "# Em seguida, verifique se a temperatura em Fahrenheit é inferior a 32°F (fria), entre 32°F e 68°F (amena), ou superior a 68°F (quente).\n",
        "# Mostre a classificação junto com a temperatura convertida.\n",
        "\n",
        "temperatura = float(input(\"Digite a temperatura em graus Celsius: \"))\n",
        "fahrenheit = (temperatura * 9/5) + 32\n",
        "if fahrenheit < 32:\n",
        "    print(\"Temperatura fria: \", fahrenheit, \"°F\")\n",
        "elif fahrenheit >= 32 and fahrenheit <= 68:\n",
        "        print(\"Temperatura amena: \", fahrenheit, \"°F\")\n",
        "else:\n",
        "            print(\"Temperatura quente: \", fahrenheit, \"°F\")"
      ],
      "metadata": {
        "colab": {
          "base_uri": "https://localhost:8080/"
        },
        "id": "CLTioLQn7nl2",
        "outputId": "ab8d74fc-75cb-41a8-8780-5efb7b5ad9a6"
      },
      "execution_count": null,
      "outputs": [
        {
          "output_type": "stream",
          "name": "stdout",
          "text": [
            "Digite a temperatura em graus Celsius: 33\n",
            "Temperatura quente:  91.4 °F\n"
          ]
        }
      ]
    },
    {
      "cell_type": "code",
      "source": [
        "# 8. Comparação de Três Números com Verificação de Ordenação**\n",
        "#  Problema:  Desenvolva um programa que receba três números inteiros e determine qual é o maior e o menor.\n",
        "# Além disso, verifique e informe se os números estão em ordem crescente, decrescente ou se não estão ordenados.\n",
        "\n",
        "\n",
        "\n",
        "# Solicitando três números inteiros ao usuário\n",
        "numero1 = int(input(\"Digite o primeiro número: \"))\n",
        "numero2 = int(input(\"Digite o segundo número: \"))\n",
        "numero3 = int(input(\"Digite o terceiro número: \"))\n",
        "\n",
        "# Determinando o maior e o menor número\n",
        "maior = max(numero1, numero2, numero3)\n",
        "menor = min(numero1, numero2, numero3)\n",
        "\n",
        "# Exibindo o maior e o menor número\n",
        "print(f\"O maior número é: {maior}\")\n",
        "print(f\"O menor número é: {menor}\")\n",
        "\n",
        "# Verificando a ordenação dos números\n",
        "if numero1 <= numero2 <= numero3:\n",
        "    print(\"Os números estão em ordem crescente.\")\n",
        "elif numero1 >= numero2 >= numero3:\n",
        "    print(\"Os números estão em ordem decrescente.\")\n",
        "else:\n",
        "    print(\"Os números não estão ordenados.\")"
      ],
      "metadata": {
        "colab": {
          "base_uri": "https://localhost:8080/"
        },
        "id": "yIRH5n-_AljJ",
        "outputId": "df10fc1e-3d9b-4c34-d377-bb5b4d9e63ce"
      },
      "execution_count": null,
      "outputs": [
        {
          "output_type": "stream",
          "name": "stdout",
          "text": [
            "Digite o primeiro número: 3\n",
            "Digite o segundo número: 6\n",
            "Digite o terceiro número: 1\n",
            "O maior número é: 6\n",
            "O menor número é: 1\n",
            "Os números não estão ordenados.\n"
          ]
        }
      ]
    },
    {
      "cell_type": "code",
      "source": [
        "# 9. Calculadora de Desconto com Condição de Pagamento**\n",
        "# Problema: Crie um programa que receba o valor de uma compra e determine o desconto a ser aplicado.\n",
        "# Aplique 20% de desconto para compras acima de R$ 1.500, 10% para compras entre R$ 800 e R$ 1.500, e 5% para compras abaixo de R$ 800.\n",
        "# Se o pagamento for à vista, aplique um desconto adicional de 5% sobre o valor final com desconto.\n",
        "\n",
        "\n",
        "\n",
        "valor = float(input(\"Digite o valor da compra: \"))\n",
        "\n",
        "# Determinando o desconto inicial com base no valor da compra\n",
        "if valor > 1500:\n",
        "    desconto = valor * 0.20\n",
        "    valor -= desconto\n",
        "    print(\"Desconto de 20% aplicado. Valor final:R$ \", valor )\n",
        "elif valor >= 800:\n",
        "    desconto = valor * 0.10\n",
        "    valor -= desconto\n",
        "    print(\"Desconto de 10% aplicado. Valor final: R$ \", valor)\n",
        "else:\n",
        "    valor > 0 and valor < 800\n",
        "    desconto = valor * 0.05\n",
        "    valor -= desconto\n",
        "    print(\"Desconto de 5% aplicado. Valor final: R$ \", valor )\n",
        "\n",
        "# Solicitando a forma de pagamento\n",
        "pagamento = input(\"Digite a forma de pagamento (a vista ou parcelado): \")\n",
        "\n",
        "# Aplicando desconto adicional se o pagamento for à vista\n",
        "if pagamento.lower() == \"a vista\":\n",
        "    desconto_adicional = valor * 0.05\n",
        "    valor -= desconto_adicional\n",
        "    print(\"Desconto adicional de 5% aplicado. Valor final: R$ \", valor )\n",
        "else:\n",
        "    print(\"Valor final: R$  \", valor )"
      ],
      "metadata": {
        "colab": {
          "base_uri": "https://localhost:8080/"
        },
        "id": "daGQ9d8DAz1b",
        "outputId": "b77eef40-2117-406e-a999-2fbd01bd20bb"
      },
      "execution_count": null,
      "outputs": [
        {
          "output_type": "stream",
          "name": "stdout",
          "text": [
            "Digite o valor da compra: 799\n",
            "Desconto de 5% aplicado. Valor final: R$  759.05\n",
            "Digite a forma de pagamento (a vista ou parcelado): parcelado\n",
            "Valor final: R$   759.05\n"
          ]
        }
      ]
    },
    {
      "cell_type": "code",
      "source": [
        "# 10. Verificação de Senha Segura com Requisitos Adicionais\n",
        "# Problema:  Desenvolva um programa que receba uma senha e verifique se ela é segura.\n",
        "# Uma senha é considerada segura se tiver pelo menos 8 caracteres, incluir pelo menos uma letra maiúscula, uma letra minúscula,\n",
        "# um número e um caractere especial (como !, @, #). Informe se a senha é segura ou não e liste quais requisitos estão faltando.\n",
        "\n",
        "\n",
        "senha = input(\"Digite a senha: \")\n",
        "\n",
        "# Requisitos da senha\n",
        "comprimento = len(senha) >= 8\n",
        "maiuscula = False\n",
        "minuscula = False\n",
        "numero = False\n",
        "especial = False\n",
        "\n",
        "# Verificar cada caractere da senha\n",
        "for caractere in senha:\n",
        "    if caractere.isupper():\n",
        "        maiuscula = True\n",
        "    elif caractere.islower():\n",
        "        minuscula = True\n",
        "    elif caractere.isdigit():\n",
        "        numero = True\n",
        "    elif caractere in \"!@#$%^&*(),.?\\\":{}|<>\":\n",
        "        especial = True\n",
        "\n",
        "# Verificar se todos os requisitos são atendidos\n",
        "segura = comprimento and maiuscula and minuscula and numero and especial\n",
        "\n",
        "# Listar os requisitos faltando\n",
        "requisitos_faltando = []\n",
        "if not comprimento:\n",
        "    requisitos_faltando.append(\"comprimento\")\n",
        "if not maiuscula:\n",
        "    requisitos_faltando.append(\"maiuscula\")\n",
        "if not minuscula:\n",
        "    requisitos_faltando.append(\"minuscula\")\n",
        "if not numero:\n",
        "    requisitos_faltando.append(\"numero\")\n",
        "if not especial:\n",
        "    requisitos_faltando.append(\"especial\")\n",
        "\n",
        "# Exibindo o resultado\n",
        "if segura:\n",
        "    print(\"A senha é segura.\")\n",
        "else:\n",
        "    print(\"A senha não é segura. Requisitos faltando:\")\n",
        "    for requisito in requisitos_faltando:\n",
        "        print(f\"- {requisito}\")\n"
      ],
      "metadata": {
        "colab": {
          "base_uri": "https://localhost:8080/"
        },
        "id": "tMiflTRuNRXU",
        "outputId": "5d8042f1-5e8a-4248-be72-0e265b3623b7"
      },
      "execution_count": null,
      "outputs": [
        {
          "output_type": "stream",
          "name": "stdout",
          "text": [
            "Digite a senha: jesus321*\n",
            "A senha não é segura. Requisitos faltando:\n",
            "- maiuscula\n"
          ]
        }
      ]
    },
    {
      "cell_type": "code",
      "source": [
        "# 11 . **Contador de Números Ímpares**\n",
        "# Descrição:** Crie um programa que conte e imprima todos os números\n",
        "# ímpares entre 1 e 100 usando um loop `for`.\n",
        "\n",
        "\n",
        "for numero in range(1, 101):\n",
        "    if numero % 2 != 0:\n",
        "        print(numero)\n"
      ],
      "metadata": {
        "colab": {
          "base_uri": "https://localhost:8080/"
        },
        "id": "-WEOLtOXTNEM",
        "outputId": "aa545a74-adc2-4402-b577-18c4f06b988e"
      },
      "execution_count": null,
      "outputs": [
        {
          "output_type": "stream",
          "name": "stdout",
          "text": [
            "1\n",
            "3\n",
            "5\n",
            "7\n",
            "9\n",
            "11\n",
            "13\n",
            "15\n",
            "17\n",
            "19\n",
            "21\n",
            "23\n",
            "25\n",
            "27\n",
            "29\n",
            "31\n",
            "33\n",
            "35\n",
            "37\n",
            "39\n",
            "41\n",
            "43\n",
            "45\n",
            "47\n",
            "49\n",
            "51\n",
            "53\n",
            "55\n",
            "57\n",
            "59\n",
            "61\n",
            "63\n",
            "65\n",
            "67\n",
            "69\n",
            "71\n",
            "73\n",
            "75\n",
            "77\n",
            "79\n",
            "81\n",
            "83\n",
            "85\n",
            "87\n",
            "89\n",
            "91\n",
            "93\n",
            "95\n",
            "97\n",
            "99\n"
          ]
        }
      ]
    },
    {
      "cell_type": "code",
      "source": [],
      "metadata": {
        "id": "mFdkBj77Vz3f"
      },
      "execution_count": null,
      "outputs": []
    },
    {
      "cell_type": "code",
      "source": [
        "# 12. Soma de Números até um Limite\n",
        "# Descrição:** Desenvolva um programa que receba um número inteiro positivo e use um loop `while`\n",
        "# para calcular a soma de todos os números de 1 até o número fornecido.\n",
        "\n",
        "# Solicitando um número inteiro positivo ao usuário\n",
        "numero = int(input(\"Digite um número inteiro positivo: \"))\n",
        "soma = 0\n",
        "i = 1\n",
        "\n",
        "# Calculando a soma de todos os números de 1 até o número fornecido\n",
        "while(i <= numero):\n",
        "    soma += i\n",
        "    i += 1\n",
        "print(f\"A soma de todos os números de 1 até {numero} é {soma}.\")\n"
      ],
      "metadata": {
        "colab": {
          "base_uri": "https://localhost:8080/"
        },
        "id": "e_Zyh7RI1GNt",
        "outputId": "2bba069d-33b8-45f3-f4c0-9dc55ec004ad"
      },
      "execution_count": null,
      "outputs": [
        {
          "output_type": "stream",
          "name": "stdout",
          "text": [
            "Digite um número inteiro positivo: 3\n",
            "A soma de todos os números de 1 até 3 é 6.\n"
          ]
        }
      ]
    },
    {
      "cell_type": "code",
      "source": [
        "# 13. Número de Tentativas para Senha\n",
        "# Descrição: Crie um programa que limite o número de tentativas para\n",
        "# digitar a senha correta.\n",
        "# O usuário deve ter no máximo 3 tentativas. Use `while` e `if`.\n",
        "\n",
        "\n",
        "senha_correta = \"1234\"\n",
        "tentativas_maximas = 3\n",
        "contar_tentativas = 0\n",
        "\n",
        "while contar_tentativas < tentativas_maximas:\n",
        "  senha = input(\"Digite a senha:\")\n",
        "  if senha == senha_correta:\n",
        "    print(\"Acesso Autorizado\")\n",
        "    break\n",
        "  else:\n",
        "    contar_tentativas +=1\n",
        "    if contar_tentativas < tentativas_maximas:\n",
        "      print(f\"Senha incorreta, tente novamente. Você tem {tentativas_maximas - contar_tentativas} tentativas restantes.\")\n",
        "    else:\n",
        "      print(\"Número máximo de tentativas atingido. Acesso Bloqueado\")\n",
        "\n",
        "\n",
        "\n"
      ],
      "metadata": {
        "id": "BCh2yyEo1Ru-"
      },
      "execution_count": null,
      "outputs": []
    },
    {
      "cell_type": "code",
      "source": [
        "# 14. Fatorial de um Número\n",
        "# Descrição:** Calcule o fatorial de um número fornecido pelo\n",
        "# usuário usando um loop `for`.\n",
        "# O fatorial de um número `n` é o produto de todos os números de 1 até `n`.\n",
        "\n",
        "\n",
        "# Solicitando um número inteiro positivo ao usuário\n",
        "numero = int(input(\"Digite um número inteiro positivo: \"))\n",
        "fatorial = 1\n",
        "for i in range (1,numero +1 ):\n",
        "    fatorial = (fatorial*i)\n",
        "\n",
        "print(f\"O fatorial de {numero} é {fatorial}\")\n",
        "\n"
      ],
      "metadata": {
        "colab": {
          "base_uri": "https://localhost:8080/"
        },
        "id": "FgdPzWq7mdGM",
        "outputId": "bb08453d-885c-4d83-ee62-b69d29d03603"
      },
      "execution_count": null,
      "outputs": [
        {
          "output_type": "stream",
          "name": "stdout",
          "text": [
            "Digite um número inteiro positivo: 10\n",
            "O fatorial de 10 é 3628800\n"
          ]
        }
      ]
    },
    {
      "cell_type": "code",
      "source": [
        "# 15. Verificação de Primalidade\n",
        "# Descrição: Crie um programa que verifique se um número é primo. Use um loop `for` e condicionais\n",
        "# para determinar se o número tem apenas dois divisores: 1 e ele mesmo.\n",
        "\n",
        "numero = int(input(\"Digite um numero inteiro: \"))\n",
        "contador = 0\n",
        "for i in range(1, numero + 1):\n",
        "    if numero % i == 0:\n",
        "        contador +=1\n",
        "if contador == 2:\n",
        "    print(f\"{numero} é um número primo.\")\n",
        "else:\n",
        "    print(f\"{numero} não é um número primo.\")"
      ],
      "metadata": {
        "colab": {
          "base_uri": "https://localhost:8080/"
        },
        "id": "8-neGVsVpMbr",
        "outputId": "e5d44c3e-cc07-4c6c-885b-ee0e94c1c2cf"
      },
      "execution_count": null,
      "outputs": [
        {
          "output_type": "stream",
          "name": "stdout",
          "text": [
            "Digite um numero inteiro: 11\n",
            "11 é um número primo.\n"
          ]
        }
      ]
    },
    {
      "cell_type": "code",
      "source": [
        "# 16. Sequência de Fibonacci\n",
        "#    - **Descrição:** Gere a sequência de Fibonacci até um número máximo fornecido pelo usuário usando um loop `while`.\n",
        "#    A sequência começa com 0 e 1, e cada número subsequente é a soma dos dois anteriores.\n",
        "\n",
        "numero = int(input(\"Digite um número inteiro positivo: \"))\n",
        "n1 = 0\n",
        "n2 = 1\n",
        "contador = 0\n",
        "while n1 <= numero:\n",
        "    print(n1)\n",
        "    nesimo = n1 + n2\n",
        "    n1 = n2\n",
        "    n2 = nesimo\n"
      ],
      "metadata": {
        "colab": {
          "base_uri": "https://localhost:8080/"
        },
        "id": "MvJvLBvXr5ZU",
        "outputId": "ca8f46f6-1fba-4b2d-97fa-33e5a2cf37b3"
      },
      "execution_count": null,
      "outputs": [
        {
          "output_type": "stream",
          "name": "stdout",
          "text": [
            "Digite um número inteiro positivo: 10\n",
            "0\n",
            "1\n",
            "1\n",
            "2\n",
            "3\n",
            "5\n",
            "8\n"
          ]
        }
      ]
    },
    {
      "cell_type": "code",
      "source": [
        "# 17. Contar Caracteres em uma String\n",
        "#    - **Descrição:** Conte quantas vezes um caractere específico aparece em uma string\n",
        "#    fornecida pelo usuário usando um loop `for`.\n",
        "\n",
        "palavra = input(\"Digite uma palavra: \")\n",
        "caractere = input(\"Digite um caractere: \")\n",
        "contador = 0\n",
        "for letra in palavra:\n",
        "    if letra == caractere:\n",
        "        contador += 1\n",
        "\n",
        "print(f\"O caractere '{caractere}' aparece {contador} vezes na palavra '{palavra}'.\")"
      ],
      "metadata": {
        "id": "nYCYYl5Tr8Uo"
      },
      "execution_count": null,
      "outputs": []
    },
    {
      "cell_type": "code",
      "source": [
        "# 18. Tabuada de um Número\n",
        "#    - **Descrição:** Crie um programa que exiba a tabuada (de 1 a 10) de um número\n",
        "#    fornecido pelo usuário usando um loop `for`.\n",
        "\n",
        "numero = int(input(\"Digite um número inteiro positivo: \"))\n",
        "for i in range(1,11):\n",
        "    print(f\"{numero} x {i} = {numero*i}\")\n"
      ],
      "metadata": {
        "colab": {
          "base_uri": "https://localhost:8080/"
        },
        "id": "EDiAgzKlsCG_",
        "outputId": "d847fe7f-aad8-49ee-a720-8c86d2c6fb08"
      },
      "execution_count": null,
      "outputs": [
        {
          "output_type": "stream",
          "name": "stdout",
          "text": [
            "Digite um número inteiro positivo: 2\n",
            "2 x 1 = 2\n",
            "2 x 2 = 4\n",
            "2 x 3 = 6\n",
            "2 x 4 = 8\n",
            "2 x 5 = 10\n",
            "2 x 6 = 12\n",
            "2 x 7 = 14\n",
            "2 x 8 = 16\n",
            "2 x 9 = 18\n",
            "2 x 10 = 20\n"
          ]
        }
      ]
    },
    {
      "cell_type": "code",
      "source": [
        "#  19. Contador de Letras em Palavras\n",
        "#    - **Descrição:** Dada uma lista de palavras, conte quantas letras `a` existem\n",
        "#    em todas as palavras usando um loop `for` e condicionais.\n",
        "\n",
        "palavras = [\"banana\", \"açai\", \"abacaxi\", \"abacate\", \"melancia\"]\n",
        "contador = 0\n",
        "for palavra in palavras:\n",
        "    for letra in palavra:\n",
        "        if letra == \"a\":\n",
        "            contador += 1\n",
        "print(f\"O caractere 'a' aparece {contador} vezes nas palavras: \", palavras)\n"
      ],
      "metadata": {
        "colab": {
          "base_uri": "https://localhost:8080/"
        },
        "id": "6igAuqPpsDol",
        "outputId": "1a01c077-db6c-45f5-fac7-0f2d0f223d06"
      },
      "execution_count": null,
      "outputs": [
        {
          "output_type": "stream",
          "name": "stdout",
          "text": [
            "O caractere 'a' aparece 13 vezes nas palavras:  ['banana', 'açai', 'abacaxi', 'abacate', 'melancia']\n"
          ]
        }
      ]
    },
    {
      "cell_type": "code",
      "source": [
        "# 20. Conversão de Temperatura\n",
        "#     - **Descrição:** Desenvolva um programa que converta temperaturas de Celsius para Fahrenheit e vice-versa.\n",
        "#     Use loops para permitir múltiplas conversões até que o usuário decida parar.\n",
        "\n",
        "def celsius_para_fahrenheit(celsius):\n",
        "    return celsius * 9/5 + 32\n",
        "\n",
        "def fahrenheit_para_celsius(fahrenheit):\n",
        "    return (fahrenheit - 32) * 5/9\n",
        "\n",
        "while True:\n",
        "    print(\"Escolha uma opção:\")\n",
        "    print(\"1. Celsius para Fahrenheit\")\n",
        "    print(\"2. Fahrenheit para Celsius\")\n",
        "    print(\"3. Sair\")\n",
        "    escolha = input(\"Digite 1, 2 ou 3: \")\n",
        "\n",
        "    if escolha == \"1\":\n",
        "        celsius = float(input(\"Digite a temperatura em Celsius: \"))\n",
        "        print(f\"{celsius}°C é igual a {celsius_para_fahrenheit(celsius)}°F.\")\n",
        "    elif escolha == \"2\":\n",
        "        fahrenheit = float(input(\"Digite a temperatura em Fahrenheit: \"))\n",
        "        print(f\"{fahrenheit}°F é igual a {fahrenheit_para_celsius(fahrenheit)}°C.\")\n",
        "    elif escolha == \"3\":\n",
        "        print(\"Programa encerrado.\")\n",
        "        break\n",
        "    else:\n",
        "        print(\"Opção inválida. Tente novamente.\")\n",
        "        continue\n"
      ],
      "metadata": {
        "colab": {
          "base_uri": "https://localhost:8080/"
        },
        "id": "eNcazIRNsF6r",
        "outputId": "94556a91-163f-4742-acd9-c8af892ef766"
      },
      "execution_count": null,
      "outputs": [
        {
          "output_type": "stream",
          "name": "stdout",
          "text": [
            "Escolha uma opção:\n",
            "1. Celsius para Fahrenheit\n",
            "2. Fahrenheit para Celsius\n",
            "3. Sair\n",
            "Digite 1, 2 ou 3: 1\n",
            "Digite a temperatura em Celsius: 1\n",
            "1.0°C é igual a 33.8°F.\n",
            "Escolha uma opção:\n",
            "1. Celsius para Fahrenheit\n",
            "2. Fahrenheit para Celsius\n",
            "3. Sair\n",
            "Digite 1, 2 ou 3: 3\n",
            "Programa encerrado.\n"
          ]
        }
      ]
    },
    {
      "cell_type": "code",
      "source": [
        "# 21. Média de Notas\n",
        "#     - **Descrição:** Crie um programa que calcule a média de uma série de notas fornecidas pelo usuário.\n",
        "#     O programa deve parar quando o usuário digitar um valor negativo.\n",
        "\n",
        "nota1 = float(input(\"Digite a primeira nota: \"))\n",
        "nota2 = float(input(\"Digite a segunda nota: \"))\n",
        "nota3 = float(input(\"Digite a terceira nota: \"))\n",
        "nota4 = float(input(\"Digite a quarta nota: \"))\n",
        "\n",
        "media = (nota1 + nota2 + nota3 + nota4) / 4\n",
        "\n",
        "if media <= -1:\n",
        "    print(\"Valor negativo\")\n",
        "\n",
        "else:\n",
        "    print(f\"A média das notas é {media}.\")1"
      ],
      "metadata": {
        "colab": {
          "base_uri": "https://localhost:8080/"
        },
        "id": "WJVuWrDvsIdd",
        "outputId": "d2ca5432-2480-49a8-cdb3-b83e5d2c5638"
      },
      "execution_count": null,
      "outputs": [
        {
          "output_type": "stream",
          "name": "stdout",
          "text": [
            "Digite a primeira nota: 10\n",
            "Digite a segunda nota: 0\n",
            "Digite a terceira nota: 0\n",
            "Digite a quarta nota: -1\n",
            "A média das notas é 2.25.\n"
          ]
        }
      ]
    },
    {
      "cell_type": "code",
      "source": [
        "# 22. Números Divisíveis por 3 e 5\n",
        "#     - **Descrição:** Crie um programa que liste todos os números entre 1 e 100 que são divisíveis por 3 e por 5\n",
        "#     usando um loop `for` e condicionais.\n",
        "\n",
        "for i in range(1,101):\n",
        "    if i % 3 == 0 and i % 5 == 0:\n",
        "        print(i)"
      ],
      "metadata": {
        "colab": {
          "base_uri": "https://localhost:8080/"
        },
        "id": "pORQf8tBsLdX",
        "outputId": "77fbcbaa-d5a1-4328-b0f5-8b7fa9e7255b"
      },
      "execution_count": null,
      "outputs": [
        {
          "output_type": "stream",
          "name": "stdout",
          "text": [
            "15\n",
            "30\n",
            "45\n",
            "60\n",
            "75\n",
            "90\n"
          ]
        }
      ]
    },
    {
      "cell_type": "code",
      "source": [
        " #  23 Inverter uma String\n",
        " #   - **Descrição:** Crie um programa que inverta uma\n",
        "# string fornecida pelo usuário sem usar funções embutidas, utilizando um loop `for`.\n",
        "\n",
        "\n",
        "s = input(\"Digite uma frase: \")\n",
        "print(s)\n",
        "\n",
        "#Inverter uma string usando slicing\n",
        "x = s[::-1] # O slicing [::-1] começa do início até o final da sequência, mas com um passo de -1, o que inverte a string.\n",
        "\n",
        "# y = s[0:5:2]\n",
        "\n",
        "print(x)"
      ],
      "metadata": {
        "colab": {
          "base_uri": "https://localhost:8080/"
        },
        "id": "9glbM500sObV",
        "outputId": "b2efa0dd-e605-46c8-dd91-90c2b8053702"
      },
      "execution_count": null,
      "outputs": [
        {
          "output_type": "stream",
          "name": "stdout",
          "text": [
            "Digite uma frase: salve\n",
            "salve\n",
            "evlas\n"
          ]
        }
      ]
    },
    {
      "cell_type": "code",
      "source": [
        "# 24. Verificar Palíndromo\n",
        "#     - **Descrição:** Desenvolva um programa que verifique se uma palavra é um palíndromo\n",
        "#     (ou seja, se pode ser lida da mesma forma de trás para frente). Use um loop `for` e condicionais.\n",
        "\n",
        "  palavra = input(\"Digite uma palavra: \")\n",
        "  palavra = palavra.lower()\n",
        "  palavra_invertida = palavra[::-1]\n",
        "\n",
        "  if palavra == palavra_invertida:\n",
        "      print(f\"{palavra} é um palíndromo.\")\n",
        "  else:\n",
        "      print(f\"{palavra} não é um palíndromo.\")\n"
      ],
      "metadata": {
        "colab": {
          "base_uri": "https://localhost:8080/"
        },
        "id": "XsMkfRIZsSIX",
        "outputId": "fa8750a1-ff20-46f7-8381-7b1371e48e42"
      },
      "execution_count": null,
      "outputs": [
        {
          "output_type": "stream",
          "name": "stdout",
          "text": [
            "Digite uma palavra: ovo\n",
            "ovo é um palíndromo.\n"
          ]
        }
      ]
    },
    {
      "cell_type": "code",
      "source": [
        "#\n",
        "#  25. Múltiplos de um Número\n",
        " #   - **Descrição:** Crie um programa que encontre todos os múltiplos de um número fornecido\n",
        "# pelo usuário até um valor máximo também fornecido pelo usuário.\n",
        "\n",
        "numero = int(input(\"Digite um número inteiro positivo: \"))\n",
        "maximo = int(input(\"Digite um valor máximo: \"))\n",
        "for i in range(1,maximo+1):\n",
        "    if i % numero == 0:\n",
        "        print(i)\n"
      ],
      "metadata": {
        "colab": {
          "base_uri": "https://localhost:8080/"
        },
        "id": "O_pmpBHKsUzO",
        "outputId": "6da9dba7-30b9-43b4-f151-5aa375de9658"
      },
      "execution_count": null,
      "outputs": [
        {
          "output_type": "stream",
          "name": "stdout",
          "text": [
            "Digite um número inteiro positivo: 1\n",
            "Digite um valor máximo: 6\n",
            "1\n",
            "2\n",
            "3\n",
            "4\n",
            "5\n",
            "6\n"
          ]
        }
      ]
    },
    {
      "cell_type": "code",
      "source": [
        "#   26. Gerar Números Aleatórios\n",
        "#     - **Descrição:** Gere e exiba uma lista de 10 números aleatórios entre 1 e 100.\n",
        "#     Use um loop `for` e a biblioteca `random` para isso.\n",
        "\n",
        "import random\n",
        "\n",
        "for i in range(10):\n",
        "    print(random.randint(1,100))"
      ],
      "metadata": {
        "colab": {
          "base_uri": "https://localhost:8080/"
        },
        "id": "HqOdEENHsXdv",
        "outputId": "71f2f98b-5472-4aaf-9ead-a56320802c12"
      },
      "execution_count": null,
      "outputs": [
        {
          "output_type": "stream",
          "name": "stdout",
          "text": [
            "69\n",
            "14\n",
            "12\n",
            "45\n",
            "33\n",
            "8\n",
            "82\n",
            "34\n",
            "40\n",
            "69\n"
          ]
        }
      ]
    },
    {
      "cell_type": "code",
      "source": [
        "#  27. Contar Palavras em uma Frase\n",
        "#     - **Descrição:** Crie um programa que conte o número de palavras em uma frase fornecida pelo usuário.\n",
        "#     Use um loop `for` para iterar sobre as palavras da frase.\n",
        "\n",
        "\n",
        "frase = input(\"Digite uma frase: \")\n",
        "contador = 1\n",
        "for letra in frase:\n",
        "    if letra == \" \":\n",
        "        contador += 1\n",
        "\n",
        "print(f\"A frase '{frase}' tem {contador} palavras.\")\n",
        "\n"
      ],
      "metadata": {
        "id": "IM2N0CBgscj2",
        "colab": {
          "base_uri": "https://localhost:8080/"
        },
        "outputId": "5dec8608-c819-49b4-9992-7da250c9f521"
      },
      "execution_count": null,
      "outputs": [
        {
          "output_type": "stream",
          "name": "stdout",
          "text": [
            "Digite uma frase: ola bao\n",
            "A frase 'ola bao' tem 2 palavras.\n"
          ]
        }
      ]
    },
    {
      "cell_type": "code",
      "source": [
        "#  28. Tabuada de 1 a 10\n",
        "#     - **Descrição:** Crie um programa que exiba a tabuada de 1 a 10\n",
        "#     usando dois loops `for`: um para o número base e outro para o multiplicador.\n",
        "\n",
        "for i in range(1,11):\n",
        "    print(f\"Tabuada do {i}\")\n",
        "    for j in range(1,11):\n",
        "        print(f\"{i} x {j} = {i*j}\")\n",
        "    print(\"\\n\")\n",
        "\n"
      ],
      "metadata": {
        "colab": {
          "base_uri": "https://localhost:8080/"
        },
        "id": "n1vGJflusfo_",
        "outputId": "a483a4d8-08b0-436a-a35b-520521a05cfc"
      },
      "execution_count": null,
      "outputs": [
        {
          "output_type": "stream",
          "name": "stdout",
          "text": [
            "Tabuada do 1\n",
            "1 x 1 = 1\n",
            "1 x 2 = 2\n",
            "1 x 3 = 3\n",
            "1 x 4 = 4\n",
            "1 x 5 = 5\n",
            "1 x 6 = 6\n",
            "1 x 7 = 7\n",
            "1 x 8 = 8\n",
            "1 x 9 = 9\n",
            "1 x 10 = 10\n",
            "\n",
            "\n",
            "Tabuada do 2\n",
            "2 x 1 = 2\n",
            "2 x 2 = 4\n",
            "2 x 3 = 6\n",
            "2 x 4 = 8\n",
            "2 x 5 = 10\n",
            "2 x 6 = 12\n",
            "2 x 7 = 14\n",
            "2 x 8 = 16\n",
            "2 x 9 = 18\n",
            "2 x 10 = 20\n",
            "\n",
            "\n",
            "Tabuada do 3\n",
            "3 x 1 = 3\n",
            "3 x 2 = 6\n",
            "3 x 3 = 9\n",
            "3 x 4 = 12\n",
            "3 x 5 = 15\n",
            "3 x 6 = 18\n",
            "3 x 7 = 21\n",
            "3 x 8 = 24\n",
            "3 x 9 = 27\n",
            "3 x 10 = 30\n",
            "\n",
            "\n",
            "Tabuada do 4\n",
            "4 x 1 = 4\n",
            "4 x 2 = 8\n",
            "4 x 3 = 12\n",
            "4 x 4 = 16\n",
            "4 x 5 = 20\n",
            "4 x 6 = 24\n",
            "4 x 7 = 28\n",
            "4 x 8 = 32\n",
            "4 x 9 = 36\n",
            "4 x 10 = 40\n",
            "\n",
            "\n",
            "Tabuada do 5\n",
            "5 x 1 = 5\n",
            "5 x 2 = 10\n",
            "5 x 3 = 15\n",
            "5 x 4 = 20\n",
            "5 x 5 = 25\n",
            "5 x 6 = 30\n",
            "5 x 7 = 35\n",
            "5 x 8 = 40\n",
            "5 x 9 = 45\n",
            "5 x 10 = 50\n",
            "\n",
            "\n",
            "Tabuada do 6\n",
            "6 x 1 = 6\n",
            "6 x 2 = 12\n",
            "6 x 3 = 18\n",
            "6 x 4 = 24\n",
            "6 x 5 = 30\n",
            "6 x 6 = 36\n",
            "6 x 7 = 42\n",
            "6 x 8 = 48\n",
            "6 x 9 = 54\n",
            "6 x 10 = 60\n",
            "\n",
            "\n",
            "Tabuada do 7\n",
            "7 x 1 = 7\n",
            "7 x 2 = 14\n",
            "7 x 3 = 21\n",
            "7 x 4 = 28\n",
            "7 x 5 = 35\n",
            "7 x 6 = 42\n",
            "7 x 7 = 49\n",
            "7 x 8 = 56\n",
            "7 x 9 = 63\n",
            "7 x 10 = 70\n",
            "\n",
            "\n",
            "Tabuada do 8\n",
            "8 x 1 = 8\n",
            "8 x 2 = 16\n",
            "8 x 3 = 24\n",
            "8 x 4 = 32\n",
            "8 x 5 = 40\n",
            "8 x 6 = 48\n",
            "8 x 7 = 56\n",
            "8 x 8 = 64\n",
            "8 x 9 = 72\n",
            "8 x 10 = 80\n",
            "\n",
            "\n",
            "Tabuada do 9\n",
            "9 x 1 = 9\n",
            "9 x 2 = 18\n",
            "9 x 3 = 27\n",
            "9 x 4 = 36\n",
            "9 x 5 = 45\n",
            "9 x 6 = 54\n",
            "9 x 7 = 63\n",
            "9 x 8 = 72\n",
            "9 x 9 = 81\n",
            "9 x 10 = 90\n",
            "\n",
            "\n",
            "Tabuada do 10\n",
            "10 x 1 = 10\n",
            "10 x 2 = 20\n",
            "10 x 3 = 30\n",
            "10 x 4 = 40\n",
            "10 x 5 = 50\n",
            "10 x 6 = 60\n",
            "10 x 7 = 70\n",
            "10 x 8 = 80\n",
            "10 x 9 = 90\n",
            "10 x 10 = 100\n",
            "\n",
            "\n"
          ]
        }
      ]
    },
    {
      "cell_type": "code",
      "source": [
        "# 29. Verificar Paridade de Números\n",
        "#     - **Descrição:** Dado um número máximo fornecido pelo usuário, crie um programa que exiba\n",
        "#     todos os números de 1 até o máximo e informe se cada um é par ou ímpar.\n",
        "\n",
        "\n",
        "numero = int(input(\"Digite um número inteiro positivo: \"))\n",
        "for i in range(1,numero+1):\n",
        "    if i % 2 == 0:\n",
        "        print(f\"{i} é par\")\n",
        "    else:\n",
        "        print(f\"{i} é ímpar\")"
      ],
      "metadata": {
        "colab": {
          "base_uri": "https://localhost:8080/"
        },
        "id": "EhiHUqitsgs7",
        "outputId": "e4f7146b-33e7-4615-9339-5fc6ace753f6"
      },
      "execution_count": null,
      "outputs": [
        {
          "output_type": "stream",
          "name": "stdout",
          "text": [
            "Digite um número inteiro positivo: 3\n",
            "1 é ímpar\n",
            "2 é par\n",
            "3 é ímpar\n"
          ]
        }
      ]
    },
    {
      "cell_type": "code",
      "source": [
        "#  30. Somar Números em uma Lista\n",
        "#     - **Descrição:** Crie uma lista de números e calcule a soma de todos\n",
        "#     os números positivos usando um loop `for`.\n",
        "\n",
        "\n",
        "lista = [1,2,3,4,5,6,7,8,9,-10]\n",
        "soma = 0\n",
        "for i in lista:\n",
        "    if i > 0:\n",
        "        soma += i\n",
        "print(f\"A soma de todos os números positivos na lista é {soma}\")\n",
        "\n"
      ],
      "metadata": {
        "colab": {
          "base_uri": "https://localhost:8080/"
        },
        "id": "WJTlK6xKsjp9",
        "outputId": "5724ba67-4e60-46a1-e632-e6920cdd3be5"
      },
      "execution_count": null,
      "outputs": [
        {
          "output_type": "stream",
          "name": "stdout",
          "text": [
            "A soma de todos os números positivos na lista é 45\n"
          ]
        }
      ]
    }
  ]
}