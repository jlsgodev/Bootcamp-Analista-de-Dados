{
  "nbformat": 4,
  "nbformat_minor": 0,
  "metadata": {
    "colab": {
      "provenance": []
    },
    "kernelspec": {
      "name": "python3",
      "display_name": "Python 3"
    },
    "language_info": {
      "name": "python"
    }
  },
  "cells": [
    {
      "cell_type": "markdown",
      "source": [
        "1. **Função de Saudação**:\n",
        "   - Crie uma função chamada `saudacao` que receba um nome como argumento e exiba uma mensagem de saudação no console.\n",
        "   "
      ],
      "metadata": {
        "id": "bf20x8ptq36x"
      }
    },
    {
      "cell_type": "code",
      "source": [
        "def saudacao(nome):                         # função saudacao com um argumento nome\n",
        "    print(f\"Olá, {nome}! Bora codar?\")          # print a mensagem de saudação com o argumento nome\n",
        "\n",
        "\n",
        "saudacao(\"jhon\")        # chama a função saudacao com o argumento \"jhon\"\n",
        "\n"
      ],
      "metadata": {
        "colab": {
          "base_uri": "https://localhost:8080/"
        },
        "id": "ng25qfocq6V4",
        "outputId": "46a176ba-68e6-4aa7-c495-70259618bfe5"
      },
      "execution_count": null,
      "outputs": [
        {
          "output_type": "stream",
          "name": "stdout",
          "text": [
            "Olá, jhon! Bora codar?\n"
          ]
        }
      ]
    },
    {
      "cell_type": "markdown",
      "source": [
        "2. **Função de Soma**:\n",
        "   - Crie uma função chamada `soma` que receba dois números como argumentos e retorne a soma deles."
      ],
      "metadata": {
        "id": "PP9DsNjKrnSw"
      }
    },
    {
      "cell_type": "code",
      "source": [
        "def soma(num1 , num2):    # função soma com dois argumentos num1 e num2\n",
        "    return num1 + num2      # retorna a soma dos argumentos num1 e num2\n",
        "\n",
        "print(soma(40,51)) # print a função soma com os argumentos 40 e 51\n"
      ],
      "metadata": {
        "colab": {
          "base_uri": "https://localhost:8080/"
        },
        "id": "7rmfm0rCrown",
        "outputId": "4dccdf88-abc9-4dc3-87c2-55bbd35243d3"
      },
      "execution_count": null,
      "outputs": [
        {
          "output_type": "stream",
          "name": "stdout",
          "text": [
            "91\n"
          ]
        }
      ]
    },
    {
      "cell_type": "markdown",
      "source": [
        "3. **Função de Subtração**:\n",
        "   - Crie uma função chamada `subtracao` que receba dois números como argumentos e retorne a subtração do segundo número pelo primeiro.\n",
        "   "
      ],
      "metadata": {
        "id": "jWpbEV9Zru4a"
      }
    },
    {
      "cell_type": "code",
      "source": [
        "def subtracao(num1 , num2 ):   # função subtracao com dois argumentos num1 e num2\n",
        "    return num2 - num1        # retorna a subtração  do segundo argumento pelo primeiro\n",
        "\n",
        "print(subtracao(1991 , 2024))  # print a função subtracao com os argumentos 2024 e 1991\n",
        "\n",
        "\n"
      ],
      "metadata": {
        "colab": {
          "base_uri": "https://localhost:8080/"
        },
        "id": "9u4Jb34qryUC",
        "outputId": "254d06b6-3b3d-41f2-8e3e-048c42958c3f"
      },
      "execution_count": null,
      "outputs": [
        {
          "output_type": "stream",
          "name": "stdout",
          "text": [
            "33\n"
          ]
        }
      ]
    },
    {
      "cell_type": "markdown",
      "source": [
        "4. **Função de Multiplicação**:\n",
        "   - Crie uma função chamada `multiplicacao` que receba dois números como argumentos e retorne a multiplicação deles.\n"
      ],
      "metadata": {
        "id": "H6-6WNqbr-gl"
      }
    },
    {
      "cell_type": "code",
      "source": [
        "\n",
        "def multiplicacao( num1 , num2 ):   # função multiplicacao com dois argumentos num1 e num2\n",
        "    return num1 * num2              # retorna a multiplicação dos argumentos num1 e num2\n",
        "\n",
        "print(multiplicacao( 13 , 7))       # chama a função multiplicacao com os argumentos 13 e 7\n"
      ],
      "metadata": {
        "colab": {
          "base_uri": "https://localhost:8080/"
        },
        "id": "e6AZIdWlsB_u",
        "outputId": "8762174d-cd31-4011-8a12-d318ad87e1fa"
      },
      "execution_count": null,
      "outputs": [
        {
          "output_type": "stream",
          "name": "stdout",
          "text": [
            "91\n"
          ]
        }
      ]
    },
    {
      "cell_type": "markdown",
      "source": [
        "5. **Função de Divisão**:\n",
        "   - Crie uma função chamada `divisao` que receba dois números como argumentos e retorne a divisão do primeiro pelo segundo."
      ],
      "metadata": {
        "id": "GrM7deX-sLFA"
      }
    },
    {
      "cell_type": "code",
      "source": [
        "def divisao(num1 , num2 ):  # função divisao com dois argumentos num1 e num2\n",
        "    return num1 / num2     # retorna a divisão do primeiro argumento pelo segundo\n",
        "\n",
        "print(divisao( 2024 , 2))   # função divisao com os argumentos 2024 e 2\n",
        "\n",
        "\n"
      ],
      "metadata": {
        "colab": {
          "base_uri": "https://localhost:8080/"
        },
        "id": "vb6yYb4lsNYo",
        "outputId": "2c3658b8-b8b8-499e-bce0-c0b4e184c43f"
      },
      "execution_count": null,
      "outputs": [
        {
          "output_type": "stream",
          "name": "stdout",
          "text": [
            "1012.0\n"
          ]
        }
      ]
    },
    {
      "cell_type": "markdown",
      "source": [
        "6. **Função de Fatorial**:\n",
        "   - Crie uma função chamada `fatorial` que receba um número como argumento e retorne o fatorial desse número\n",
        "   "
      ],
      "metadata": {
        "id": "hXfn0FavsTCF"
      }
    },
    {
      "cell_type": "code",
      "source": [
        "def fatorial (num):  # função fatorial com um argumento num\n",
        "    fat = 1          # variável fat recebe 1\n",
        "    for i in range(1, num + 1): # para i no intervalo de 1 até num + 1\n",
        "        fat *=i               # fat recebe fat vezes i\n",
        "    return fat              # retorna fat\n",
        "print(fatorial (5))       # printa a função fatorial com o argumento 2\n",
        "\n",
        "\n"
      ],
      "metadata": {
        "colab": {
          "base_uri": "https://localhost:8080/"
        },
        "id": "T9Cx_4FqsYLn",
        "outputId": "2d4f067b-8586-45ef-b280-eba7a9cf3861"
      },
      "execution_count": null,
      "outputs": [
        {
          "output_type": "stream",
          "name": "stdout",
          "text": [
            "120\n"
          ]
        }
      ]
    },
    {
      "cell_type": "markdown",
      "source": [
        "7. **Função para Verificar Número Primo**:\n",
        "   - Crie uma função chamada `ePrimo` que receba um número como argumento e retorne `true` se o número for primo e `false` caso contrário.\n",
        "   "
      ],
      "metadata": {
        "id": "q__jOlyLsjmt"
      }
    },
    {
      "cell_type": "code",
      "source": [
        "def ePrimo(numero):                   # Função para verificar se um número é primo\n",
        "    if numero <= 1:                     # Se o número for menor ou igual a 1, não é primo\n",
        "        return False\n",
        "    if numero == 2:                     # Se o número for igual a 2, é primo\n",
        "        return True\n",
        "    if numero % 2 == 0:                 # Se o número for par, não é primo, pois o único número primo par é o 2\n",
        "     return False\n",
        "\n",
        "    for i in range(3 , int(numero ** 0.5 ) + 1,  2):   # for para verificar se o número é primo. Se o número for divisível por algum número entre 3 e a raiz quadrada do número, não é primo\n",
        "     if numero % i == 0:                                    # Se o número for divisível por i, não é primo = False\n",
        "       return False\n",
        "    return True\n",
        "\n",
        "print(ePrimo(91))"
      ],
      "metadata": {
        "colab": {
          "base_uri": "https://localhost:8080/"
        },
        "id": "jjqK5qigslM6",
        "outputId": "82c03913-b38c-491d-9013-8329806f7b2f"
      },
      "execution_count": null,
      "outputs": [
        {
          "output_type": "stream",
          "name": "stdout",
          "text": [
            "False\n"
          ]
        }
      ]
    },
    {
      "cell_type": "markdown",
      "source": [
        "8. **Função para Calcular Média**:\n",
        "   - Crie uma função chamada `media` que receba um array de números como argumento e retorne a média dos números.\n",
        "   "
      ],
      "metadata": {
        "id": "Pgm8tQghs3is"
      }
    },
    {
      "cell_type": "code",
      "source": [
        "def media(numeros):\n",
        "    total = 0\n",
        "    for i in numeros:       # para i em numeros usando for para percorrer a lista\n",
        "        total += i          # total recebe total mais i\n",
        "\n",
        "    if len(numeros) > 0:                 # se o tamanho da lista numeros for maior que 0\n",
        "        return total  /  len(numeros)     # retorna total dividido pelo tamanho da lista numeros\n",
        "    else:\n",
        "        media  = 0                       # senão media recebe 0\n",
        "\n",
        "\n",
        "print(media([91, 95, 95, 80, 90]))        # printa a função media com a lista\n",
        "\n"
      ],
      "metadata": {
        "colab": {
          "base_uri": "https://localhost:8080/"
        },
        "id": "El7M01BCs7pI",
        "outputId": "66ead129-4051-412f-9382-d567db66ce4e"
      },
      "execution_count": null,
      "outputs": [
        {
          "output_type": "stream",
          "name": "stdout",
          "text": [
            "90.2\n"
          ]
        }
      ]
    },
    {
      "cell_type": "markdown",
      "source": [
        "9. **Função para Inverter String**:\n",
        "   - Crie uma função chamada `inverterString` que receba uma string como argumento e retorne a string invertida.\n"
      ],
      "metadata": {
        "id": "0F-ufMN2tCH7"
      }
    },
    {
      "cell_type": "code",
      "source": [
        "\n",
        "def inverterString(string):\n",
        "    stringInvertida = \"\"                    # variável stringInvertida recebe uma string vazia\n",
        "\n",
        "    for i in range(len(string) -1, -1, -1):     # para i no intervalo do tamanho da string -1 até -1  com passo -1\n",
        "        stringInvertida += string[i]            # stringInvertida recebe stringInvertida mais string[i]\n",
        "\n",
        "    return stringInvertida\n",
        "\n",
        "print(inverterString(\"python é massa!\"))            # printa a função inverterString\n",
        "\n"
      ],
      "metadata": {
        "colab": {
          "base_uri": "https://localhost:8080/"
        },
        "id": "YcFJTWH1tFNK",
        "outputId": "ee214101-07f1-4fd0-f9a8-841784c76fc2"
      },
      "execution_count": null,
      "outputs": [
        {
          "output_type": "stream",
          "name": "stdout",
          "text": [
            "!assam é nohtyp\n"
          ]
        }
      ]
    },
    {
      "cell_type": "markdown",
      "source": [
        "10. **Função para Contar Caracteres**:\n",
        "    - Crie uma função chamada `contarCaracteres` que receba uma string e um caractere como argumentos e retorne o número de vezes que o caractere aparece na string."
      ],
      "metadata": {
        "id": "qUjQlPfDtN3r"
      }
    },
    {
      "cell_type": "code",
      "source": [
        "def contarCaracteres(texto,  caractere): # função contarCaracteres com dois argumentos texto e caractere\n",
        "    contador = 0                         # variável contador recebe 0\n",
        "\n",
        "    for char in texto:                      # para cada char em texto\n",
        "        if char == caractere:               # se char for igual a caractere\n",
        "            contador += 1                   # contador recebe contador + 1\n",
        "\n",
        "    return contador\n",
        "\n",
        "print(contarCaracteres(\"Bora codar\", \"a\"))\n"
      ],
      "metadata": {
        "colab": {
          "base_uri": "https://localhost:8080/"
        },
        "id": "SZgDo44TtRDU",
        "outputId": "62eef371-e6a4-4900-de7d-6caf377d8956"
      },
      "execution_count": null,
      "outputs": [
        {
          "output_type": "stream",
          "name": "stdout",
          "text": [
            "2\n"
          ]
        }
      ]
    },
    {
      "cell_type": "markdown",
      "source": [
        "11. **Função Anônima**:\n",
        "    - Crie uma função anônima e atribua-a a uma variável chamada `multiplicar`. A função deve receber dois números como argumentos e retornar a multiplicação deles.\n",
        "\n"
      ],
      "metadata": {
        "id": "c5d7LAt4ti9z"
      }
    },
    {
      "cell_type": "code",
      "source": [
        "multiplicar = lambda num1, num2 : num1 * num2    # função anônima multiplicar com dois argumentos num1 e num2\n",
        "\n",
        "\n",
        "print(multiplicar(10, 9))                  # chama  a função multiplicar com os argumentos\n",
        "\n"
      ],
      "metadata": {
        "colab": {
          "base_uri": "https://localhost:8080/"
        },
        "id": "H-3yQRyLtkN3",
        "outputId": "5c1754c4-a79a-446d-e272-7b6ad580d783"
      },
      "execution_count": null,
      "outputs": [
        {
          "output_type": "stream",
          "name": "stdout",
          "text": [
            "90\n"
          ]
        }
      ]
    },
    {
      "cell_type": "markdown",
      "source": [
        "12. **Função de Ordem Superior**:\n",
        "    - Crie uma função chamada `operacao` que receba dois números e uma função como argumentos. A função deve aplicar a função fornecida aos dois números e retornar o resultado."
      ],
      "metadata": {
        "id": "EjbN2IeTtsKo"
      }
    },
    {
      "cell_type": "code",
      "source": [
        "def operacao(num1 , num2, funcao):             # função operacao com três argumentos num1, num2 e funcao\n",
        "\n",
        "    return funcao(num1, num2)                   # retorna a função com os argumentos num1 e num2\n",
        "\n",
        "def dividir(num1, num2):                        # função dividir com dois argumentos num1 e num2\n",
        "    return num1 / num2\n",
        "\n",
        "def multiplicar(num1 , num2):                   # função multiplicar com dois argumentos num1 e num2\n",
        "    return num1 * num2\n",
        "\n",
        "print(operacao(50, 5, dividir ))\n",
        "print(operacao(50, 15, multiplicar))\n",
        "\n"
      ],
      "metadata": {
        "colab": {
          "base_uri": "https://localhost:8080/"
        },
        "id": "cccFv1Ettv6k",
        "outputId": "a6598d93-f541-4d8d-bd2f-0b049b596ca6"
      },
      "execution_count": null,
      "outputs": [
        {
          "output_type": "stream",
          "name": "stdout",
          "text": [
            "10.0\n",
            "750\n"
          ]
        }
      ]
    },
    {
      "cell_type": "markdown",
      "source": [
        "13. **Função de Retorno**:\n",
        "    - Crie uma função chamada `criarSaudacao` que receba uma saudação como argumento e retorne uma nova função. A função retornada deve receber um nome como argumento e exibir a saudação seguida pelo nome.\n",
        "    "
      ],
      "metadata": {
        "id": "qga1FRYUt7UX"
      }
    },
    {
      "cell_type": "code",
      "source": [
        "def criarSaudacao(saudacao):  # função criarSaudacao com um argumento saudacao\n",
        "    def saudar(nome):         # função saudar com um argumento nome\n",
        "        print(saudacao, nome)\n",
        "    return saudar             # retorna saudar\n",
        "\n",
        "ola = criarSaudacao('Olá')    # ola recebe criarSaudacao com o argumento 'Olá'\n",
        "ola('jhon')\n",
        "\n"
      ],
      "metadata": {
        "colab": {
          "base_uri": "https://localhost:8080/"
        },
        "id": "lrJe-m_Wt_WV",
        "outputId": "30096393-85b2-4b30-cf36-1adc22b184d7"
      },
      "execution_count": null,
      "outputs": [
        {
          "output_type": "stream",
          "name": "stdout",
          "text": [
            "Olá jhon\n"
          ]
        }
      ]
    },
    {
      "cell_type": "markdown",
      "source": [
        "14. **Função Recursiva**:\n",
        "    - Crie uma função chamada `contagemRegressiva` que receba um número como argumento e exiba uma contagem regressiva a partir desse número até 0, usando recursão."
      ],
      "metadata": {
        "id": "2AXSb_2xuJSG"
      }
    },
    {
      "cell_type": "code",
      "source": [
        "def contagemRegressiva(num):\n",
        "    if num <= 0:            # se num for menor ou igual a 0\n",
        "        print(\"0\")          # imprime 0\n",
        "    else:\n",
        "        print(num)\n",
        "        contagemRegressiva(num - 1)         # chama a função contagemRegressiva com num - 1\n",
        "\n",
        "contagemRegressiva(19)\n"
      ],
      "metadata": {
        "colab": {
          "base_uri": "https://localhost:8080/"
        },
        "id": "tohd6580uMaX",
        "outputId": "a70aeb4d-1663-495c-f4c4-b37b68438e67"
      },
      "execution_count": null,
      "outputs": [
        {
          "output_type": "stream",
          "name": "stdout",
          "text": [
            "19\n",
            "18\n",
            "17\n",
            "16\n",
            "15\n",
            "14\n",
            "13\n",
            "12\n",
            "11\n",
            "10\n",
            "9\n",
            "8\n",
            "7\n",
            "6\n",
            "5\n",
            "4\n",
            "3\n",
            "2\n",
            "1\n",
            "0\n"
          ]
        }
      ]
    },
    {
      "cell_type": "markdown",
      "source": [
        "15. **Função para Calcular Fibonacci**:\n",
        "    - Crie uma função chamada `fibonacci` que receba um número `n` como argumento e retorne o `n`-ésimo número da sequência de Fibonacci."
      ],
      "metadata": {
        "id": "oEpNY1q1uVIw"
      }
    },
    {
      "cell_type": "code",
      "source": [
        "def fibonacci(n):           # função fibonacci com um argumento n\n",
        "    if n <= 0:              # se n for menor ou igual a 0\n",
        "        return 0\n",
        "    elif n == 1:            # se n for igual a 1\n",
        "        return 1\n",
        "    else:\n",
        "        return fibonacci(n -  1) + fibonacci(n - 2)     # retorna a soma de fibonacci(n - 1) e fibonacci(n - 2)\n",
        "\n",
        "print(fibonacci(19))\n",
        "\n"
      ],
      "metadata": {
        "colab": {
          "base_uri": "https://localhost:8080/"
        },
        "id": "VZI4Uya8uWXq",
        "outputId": "83ffa09d-b557-41e3-a477-4de59d47a09c"
      },
      "execution_count": null,
      "outputs": [
        {
          "output_type": "stream",
          "name": "stdout",
          "text": [
            "4181\n"
          ]
        }
      ]
    },
    {
      "cell_type": "markdown",
      "source": [
        "16. **Função para Converter Celsius para Fahrenheit**:\n",
        "    - Crie uma função chamada `celsiusParaFahrenheit` que receba uma temperatura em Celsius e retorne a temperatura convertida para Fahrenheit."
      ],
      "metadata": {
        "id": "G_CmOJ5Wuf8P"
      }
    },
    {
      "cell_type": "code",
      "source": [
        "def celsiusParaFahrenheit(celsius):\n",
        "    return celsius * 1.8 + 32         # retorna celsius * 1.8 + 32. Conversão de celsius para fahrenheit\n",
        "\n",
        "print(celsiusParaFahrenheit(20))    # imprime celsiusParaFahrenheit com o argumento 20"
      ],
      "metadata": {
        "colab": {
          "base_uri": "https://localhost:8080/"
        },
        "id": "1YC8LUZXuhPi",
        "outputId": "e0b019a9-b63b-4e35-98e8-abbeeed815ce"
      },
      "execution_count": null,
      "outputs": [
        {
          "output_type": "stream",
          "name": "stdout",
          "text": [
            "68.0\n"
          ]
        }
      ]
    },
    {
      "cell_type": "markdown",
      "source": [
        "17. **Função para Converter Fahrenheit para Celsius**:\n",
        "    - Crie uma função chamada `fahrenheitParaCelsius` que receba uma temperatura em Fahrenheit e retorne a temperatura convertida para Celsius."
      ],
      "metadata": {
        "id": "fncLVt9EupN3"
      }
    },
    {
      "cell_type": "code",
      "source": [
        "def fahrenheitParaCelsius(Fahrenheit):\n",
        "    return (Fahrenheit - 32) / 1.8          # retorna (Fahrenheit - 32) / 1.8. Conversão de fahrenheit para celsius\n",
        "\n",
        "print(fahrenheitParaCelsius(68))        # imprime fahrenheitParaCelsius com o argumento 68\n",
        "\n"
      ],
      "metadata": {
        "colab": {
          "base_uri": "https://localhost:8080/"
        },
        "id": "XSBu-eUVur2t",
        "outputId": "9dfc101e-c2cf-4792-9656-ef7938b61f88"
      },
      "execution_count": null,
      "outputs": [
        {
          "output_type": "stream",
          "name": "stdout",
          "text": [
            "20.0\n"
          ]
        }
      ]
    },
    {
      "cell_type": "markdown",
      "source": [
        "18. **Função para Verificar Paridade**:\n",
        "    - Crie uma função chamada `ePar` que receba um número como argumento e retorne `true` se o número for par e `false` caso contrário.\n"
      ],
      "metadata": {
        "id": "RNtpB66-uv8T"
      }
    },
    {
      "cell_type": "code",
      "source": [
        "def ePar(num):\n",
        "    if num % 2 == 0:\n",
        "        return True\n",
        "    else:\n",
        "        return False\n",
        "\n",
        "\n",
        "print(ePar(91))"
      ],
      "metadata": {
        "colab": {
          "base_uri": "https://localhost:8080/"
        },
        "id": "PmkYtCFyuzjP",
        "outputId": "25dec5cd-1fe1-473a-9e7d-5cc860fefd96"
      },
      "execution_count": null,
      "outputs": [
        {
          "output_type": "stream",
          "name": "stdout",
          "text": [
            "False\n"
          ]
        }
      ]
    },
    {
      "cell_type": "markdown",
      "source": [
        "19. **Função para Calcular Quadrado**:\n",
        "    - Crie uma função chamada `quadrado` que receba um número como argumento e retorne o quadrado desse número."
      ],
      "metadata": {
        "id": "9Ng_QOkNu5ha"
      }
    },
    {
      "cell_type": "code",
      "source": [
        "def quadrado(num):\n",
        "    resultado = num * num\n",
        "    return resultado\n",
        "\n",
        "print(quadrado(9))"
      ],
      "metadata": {
        "colab": {
          "base_uri": "https://localhost:8080/"
        },
        "id": "Au67xu8pu830",
        "outputId": "71bfb51e-9202-4644-f519-12086810e1a2"
      },
      "execution_count": null,
      "outputs": [
        {
          "output_type": "stream",
          "name": "stdout",
          "text": [
            "81\n"
          ]
        }
      ]
    },
    {
      "cell_type": "markdown",
      "source": [
        "20. **Função para Calcular Raiz Quadrada**:\n",
        "    - Crie uma função chamada `raizQuadrada` que receba um número como argumento e retorne a raiz quadrada desse número."
      ],
      "metadata": {
        "id": "gWc7UeOgvCXP"
      }
    },
    {
      "cell_type": "code",
      "source": [
        "import math                     # importa o módulo math\n",
        "\n",
        "def raizQuadrada(num):          # função raizQuadrada com um argumento num\n",
        "    return math.sqrt(num)       # retorna a raiz quadrada de num\n",
        "\n",
        "print(raizQuadrada(81))         # imprime raizQuadrada com o argumento 81\n",
        "\n",
        "\n"
      ],
      "metadata": {
        "colab": {
          "base_uri": "https://localhost:8080/"
        },
        "id": "bJcs6JXmvFeW",
        "outputId": "21046a04-d3d3-43f2-e31d-9c2a5d3e83b7"
      },
      "execution_count": null,
      "outputs": [
        {
          "output_type": "stream",
          "name": "stdout",
          "text": [
            "9.0\n"
          ]
        }
      ]
    },
    {
      "cell_type": "markdown",
      "source": [
        "21. **Função para Contar Vogais**:\n",
        "    - Crie uma função chamada `contarVogais` que receba uma string como argumento e retorne o número de vogais na string."
      ],
      "metadata": {
        "id": "DHqIuQXwvKMF"
      }
    },
    {
      "cell_type": "code",
      "source": [
        "def contarVogais( string):\n",
        "    vogais = \"aeiouAEIOU\"           # vogais em maiúsculas e minúsculas\n",
        "    contador = 0\n",
        "    for letra in string:            # para cada letra na string\n",
        "        if letra in vogais:         # se a letra for uma vogal\n",
        "            contador +=  1\n",
        "    return contador\n",
        "\n",
        "\n",
        "print(contarVogais(\"Eu gosto de programar em Python!\"))\n",
        "\n"
      ],
      "metadata": {
        "colab": {
          "base_uri": "https://localhost:8080/"
        },
        "id": "nMO_4Bj7vMxt",
        "outputId": "d4431971-2de1-4244-d972-039f7d9c39e5"
      },
      "execution_count": null,
      "outputs": [
        {
          "output_type": "stream",
          "name": "stdout",
          "text": [
            "10\n"
          ]
        }
      ]
    },
    {
      "cell_type": "markdown",
      "source": [
        "22. **Função para Verificar Palíndromo**:\n",
        "    - Crie uma função chamada `ePalindromo` que receba uma string como argumento e retorne `true` se a string for um palíndromo e `false` caso contrário."
      ],
      "metadata": {
        "id": "3hB-7kXIvRkN"
      }
    },
    {
      "cell_type": "code",
      "source": [
        "\n",
        "def ePalindromo(string):\n",
        "    string = string.lower()             # converte a string para minúsculas\n",
        "    string = string.replace(\" \", \"\")    # remove os espaços da string\n",
        "    return string == string [::-1]      # Usa List Slicing para inverter a string e compara com a string original\n",
        "\n",
        "print(ePalindromo(\"anotaram a data da maratona\"))\n",
        "\n"
      ],
      "metadata": {
        "colab": {
          "base_uri": "https://localhost:8080/"
        },
        "id": "O07APJQ1vVtD",
        "outputId": "5e4e2d94-3b16-49bd-81e8-1126496cb8ee"
      },
      "execution_count": null,
      "outputs": [
        {
          "output_type": "stream",
          "name": "stdout",
          "text": [
            "True\n"
          ]
        }
      ]
    },
    {
      "cell_type": "markdown",
      "source": [
        "23. **Função para Encontrar o Maior Número em um Array**:\n",
        "    - Crie uma função chamada `maiorNumero` que receba um array de números como argumento e retorne o maior número do array.\n",
        "    "
      ],
      "metadata": {
        "id": "7H8hLUHyvbo-"
      }
    },
    {
      "cell_type": "code",
      "source": [
        "def maiorNumero(array):    # Função para encontrar o maior número em um array de números\n",
        "    maior = array[0]       # Inicializa a variável maior com o primeiro elemento do array\n",
        "    for i in range(1, len(array)):    # Percorre o array\n",
        "        if array[i] > maior:          # Se o elemento atual for maior que o maior\n",
        "            maior = array[i]          # Atualiza o maior\n",
        "    return maior\n",
        "\n",
        "print(maiorNumero([111, 22, 3, 444, 55]))"
      ],
      "metadata": {
        "colab": {
          "base_uri": "https://localhost:8080/"
        },
        "id": "M-l96g9vvg-n",
        "outputId": "40dcec7f-e444-4691-8da7-3453b69c3050"
      },
      "execution_count": null,
      "outputs": [
        {
          "output_type": "stream",
          "name": "stdout",
          "text": [
            "444\n"
          ]
        }
      ]
    },
    {
      "cell_type": "markdown",
      "source": [
        "24. **Função para Ordenar um Array em Ordem Crescente**:\n",
        "    - Crie uma função chamada `ordenarArray` que receba um array de números como argumento e retorne o array ordenado em ordem crescente."
      ],
      "metadata": {
        "id": "NGh7BPt0vpH7"
      }
    },
    {
      "cell_type": "code",
      "source": [
        "def ordenarArray(array):  # Função para ordenar um array de números em ordem crescente\n",
        "    for i in range(len(array)):\n",
        "        for j in range(i + 1, len(array)):\n",
        "            if array[i] > array[j]:\n",
        "                array[i], array[j] = array[j], array[i]\n",
        "    return array  # O return deve estar fora do loop for\n",
        "\n",
        "print(ordenarArray([111, 22, 3, 444, 55]))\n",
        "\n"
      ],
      "metadata": {
        "colab": {
          "base_uri": "https://localhost:8080/"
        },
        "id": "quR577_Gvrca",
        "outputId": "fe83b1bb-e158-4b07-a1ab-86eae9ddd9fa"
      },
      "execution_count": null,
      "outputs": [
        {
          "output_type": "stream",
          "name": "stdout",
          "text": [
            "[3, 22, 55, 111, 444]\n"
          ]
        }
      ]
    },
    {
      "cell_type": "markdown",
      "source": [
        "\n",
        "25. **Função para Filtrar Números Pares**:\n",
        "    - Crie uma função chamada `filtrarPares` que receba um array de números como argumento e retorne um novo array contendo apenas os números pares.\n"
      ],
      "metadata": {
        "id": "AJtFWIlJvwEL"
      }
    },
    {
      "cell_type": "code",
      "source": [
        "def filtrarPares(array): # função para filtrar números pares\n",
        "    pares = [ ] # inicializa um array vazio para armazenar os números pares\n",
        "    for i in array: # percorre todo o array\n",
        "        if i % 2 == 0:\n",
        "            pares.append(i) # se o número for par, adiciona ao array pares\n",
        "    return pares\n",
        "\n",
        "print(filtrarPares([1, 2, 36, 47, 55, 68, 72, 83, 91, 100]))"
      ],
      "metadata": {
        "colab": {
          "base_uri": "https://localhost:8080/"
        },
        "id": "J_PZS5j5v0MC",
        "outputId": "1650f766-52bd-4560-ad76-59cd6980d616"
      },
      "execution_count": null,
      "outputs": [
        {
          "output_type": "stream",
          "name": "stdout",
          "text": [
            "[2, 36, 68, 72, 100]\n"
          ]
        }
      ]
    },
    {
      "cell_type": "markdown",
      "source": [
        "26. **Função para Concatenar Arrays**:\n",
        "    - Crie uma função chamada `concatenarArrays` que receba dois arrays como argumentos e retorne um novo array que seja a concatenação dos dois arrays.\n",
        "\n"
      ],
      "metadata": {
        "id": "8NOW2He6v5WX"
      }
    },
    {
      "cell_type": "code",
      "source": [
        "def concatenarArrays(array1 , array2): # função para concatenar dois arrays\n",
        "    return array1 + array2 # retorna a concatenação dos dois arrays\n",
        "\n",
        "print(concatenarArrays([11, 22, 33], [44, 55, 66]))"
      ],
      "metadata": {
        "colab": {
          "base_uri": "https://localhost:8080/"
        },
        "id": "wlKrZeRTv8qY",
        "outputId": "a2b30583-c03e-41ab-ee60-e6e880d26323"
      },
      "execution_count": null,
      "outputs": [
        {
          "output_type": "stream",
          "name": "stdout",
          "text": [
            "[11, 22, 33, 44, 55, 66]\n"
          ]
        }
      ]
    },
    {
      "cell_type": "markdown",
      "source": [
        "27. **Função de Memoização para Fatorial**:\n",
        "    - Crie uma função chamada `memoFatorial` que usa memoização para otimizar o cálculo do fatorial."
      ],
      "metadata": {
        "id": "Dz_kErmLwC_L"
      }
    },
    {
      "cell_type": "code",
      "source": [
        "def memoFatorial (n, memo = {}):   # Função de memoização para fatorial\n",
        "    if n == 0: return 1             # Se n for igual a 0, retorna 1\n",
        "    if n in memo: return memo[n]        # Se n estiver no dicionário memo, retorna memo[n]\n",
        "    memo[n] = n * memoFatorial(n - 1, memo)     # memo[n] recebe n multiplicado pelo resultado da chamada recursiva de memoFatorial(n - 1, memo)\n",
        "    return memo[n]\n",
        "\n",
        "print(memoFatorial(3))"
      ],
      "metadata": {
        "colab": {
          "base_uri": "https://localhost:8080/"
        },
        "id": "jYGiQdvmwHJd",
        "outputId": "997ce01f-11c1-4954-96db-2cce4d457ade"
      },
      "execution_count": null,
      "outputs": [
        {
          "output_type": "stream",
          "name": "stdout",
          "text": [
            "6\n"
          ]
        }
      ]
    },
    {
      "cell_type": "markdown",
      "source": [
        "28. **Função para Verificar Substring**:\n",
        "    - Crie uma função chamada `contemSubstring` que receba duas strings como argumentos e retorne `true` se a primeira string contiver a segunda string, e `false` caso contrário."
      ],
      "metadata": {
        "id": "2v8S_L4CwNlB"
      }
    },
    {
      "cell_type": "code",
      "source": [
        "def contemSubstring (string1, string2): # função para verificar se a primeira string contém a segunda string\n",
        "    if string2 in string1: # se a segunda string estiver contida na primeira string\n",
        "        return True\n",
        "    else:\n",
        "        return False\n",
        "\n",
        "print(contemSubstring(\"bora codar\", \"codar\"))"
      ],
      "metadata": {
        "colab": {
          "base_uri": "https://localhost:8080/"
        },
        "id": "Hnr40mrvwQJJ",
        "outputId": "3905ee24-d09e-4a11-e5ef-851429abb6a6"
      },
      "execution_count": null,
      "outputs": [
        {
          "output_type": "stream",
          "name": "stdout",
          "text": [
            "True\n"
          ]
        }
      ]
    },
    {
      "cell_type": "markdown",
      "source": [
        "29. **Função de Curry**:\n",
        "    - Crie uma função chamada `currySoma` que usa currying para somar três números. A função deve ser chamada assim: `currySoma(a)(b)(c)`."
      ],
      "metadata": {
        "id": "h2wHPtGhwUo3"
      }
    },
    {
      "cell_type": "code",
      "source": [
        "def currySoma(a):   # Função de curry para somar três números\n",
        "    return lambda b: lambda c: a + b + c       # retorna função lambda que recebe b e retorna outra função lambda que recebe c e retorna a + b + c\n",
        "\n",
        "print(currySoma(3)(2)(1))"
      ],
      "metadata": {
        "colab": {
          "base_uri": "https://localhost:8080/"
        },
        "id": "YCAirAJ4wYFm",
        "outputId": "014bff65-0d49-41a3-b8f5-3c6a958efd80"
      },
      "execution_count": null,
      "outputs": [
        {
          "output_type": "stream",
          "name": "stdout",
          "text": [
            "6\n"
          ]
        }
      ]
    },
    {
      "cell_type": "markdown",
      "source": [
        "30. **Função para Reduzir um Array**:\n",
        "    - Crie uma função chamada `reduzirArray` que receba um array de números e uma função de redução (callback) como argumentos e retorne o valor reduzido."
      ],
      "metadata": {
        "id": "kh7barLMweZ9"
      }
    },
    {
      "cell_type": "code",
      "source": [
        "def reduzirArray(array, callback): # função para reduzir um array\n",
        "    resultado = array[0] # inicializa a variável resultado com o primeiro elemento do array\n",
        "    for i in range(1, len(array)): # percorre o array\n",
        "        resultado = callback(resultado, array[i]) # chama a função de redução passando o resultado e o elemento atual\n",
        "    return resultado # retorna o valor reduzido\n",
        "\n",
        "print(reduzirArray([1, 2, 3, 4, 5], lambda a, b: a + b))"
      ],
      "metadata": {
        "colab": {
          "base_uri": "https://localhost:8080/"
        },
        "id": "3Gj7d15cwhcZ",
        "outputId": "55e23d67-824a-41cb-e007-16fe8094462f"
      },
      "execution_count": null,
      "outputs": [
        {
          "output_type": "stream",
          "name": "stdout",
          "text": [
            "15\n"
          ]
        }
      ]
    },
    {
      "cell_type": "markdown",
      "source": [
        "31. **Função para Remover Duplicatas de um Array**:\n",
        "    - Crie uma função chamada `removerDuplicatas` que receba um array como argumento e retorne um novo array sem duplicatas."
      ],
      "metadata": {
        "id": "kBK7CWLlwmOU"
      }
    },
    {
      "cell_type": "code",
      "source": [
        "def removerDuplicatas(array): # função para remover duplicatas de um array\n",
        "    semDuplicatas = [ ] # inicializa um array vazio para armazenar os elementos sem duplicatas\n",
        "    for i in array: # percorre todo o array\n",
        "        if i not in semDuplicatas: # se o elemento não estiver no array semDuplicatas\n",
        "            semDuplicatas.append(i) # adiciona o elemento ao array semDuplicatas\n",
        "    return semDuplicatas\n",
        "\n",
        "print(removerDuplicatas([1, 2, 2, 3, 4, 4, 5, 6, 6, 7, 8, 8, 9, 10]))"
      ],
      "metadata": {
        "colab": {
          "base_uri": "https://localhost:8080/"
        },
        "id": "9UN8GHFmwo15",
        "outputId": "ffbf967a-1b75-47b6-d94d-20f31372759b"
      },
      "execution_count": null,
      "outputs": [
        {
          "output_type": "stream",
          "name": "stdout",
          "text": [
            "[1, 2, 3, 4, 5, 6, 7, 8, 9, 10]\n"
          ]
        }
      ]
    },
    {
      "cell_type": "markdown",
      "source": [
        "32. **Função de Composição**:\n",
        "    - Crie uma função chamada `compor` que receba duas funções como argumentos e retorne uma nova função que é a composição das duas."
      ],
      "metadata": {
        "id": "fwipgzkmwumc"
      }
    },
    {
      "cell_type": "code",
      "source": [
        "def compor(funcao1, funcao2): # função de composição\n",
        "    def nova_funcao(*args, **kwargs): # nova função que recebe argumentos e palavras-chave\n",
        "        return funcao1(funcao2(*args, **kwargs)) # retorna a composição das duas funções\n",
        "    return nova_funcao\n",
        "\n",
        "def quadrado(x): # função que retorna o quadrado de um número\n",
        "    return x * x\n",
        "\n",
        "print(compor(quadrado, quadrado)(2))"
      ],
      "metadata": {
        "colab": {
          "base_uri": "https://localhost:8080/"
        },
        "id": "W347FDEvwxpO",
        "outputId": "3be87ec2-dfa5-441d-a19d-85eb9dfd8d6b"
      },
      "execution_count": null,
      "outputs": [
        {
          "output_type": "stream",
          "name": "stdout",
          "text": [
            "16\n"
          ]
        }
      ]
    },
    {
      "cell_type": "markdown",
      "source": [
        "33. **Função para Mapear um Array**:\n",
        "    - Crie uma função chamada `mapearArray` que receba um array e uma função de mapeamento (callback) como argumentos e retorne um novo array com os resultados da função de mapeamento aplicada a cada elemento.\n",
        "    "
      ],
      "metadata": {
        "id": "6Ir5Tgngw58Z"
      }
    },
    {
      "cell_type": "code",
      "source": [
        "def mapearArray(array, callback): # função para mapear um array\n",
        "    resultado = [ ] # inicializa um array vazio para armazenar os resultados\n",
        "    for i in array: # percorre todo o array\n",
        "        resultado.append(callback(i)) # adiciona o resultado da função de mapeamento ao array de resultados\n",
        "    return resultado\n",
        "print(mapearArray([1, 2, 3, 4, 5], lambda a: a * 2))"
      ],
      "metadata": {
        "colab": {
          "base_uri": "https://localhost:8080/"
        },
        "id": "LKEOqeRyw_K1",
        "outputId": "1ea6235b-4af5-4283-b21f-be610ea37c77"
      },
      "execution_count": null,
      "outputs": [
        {
          "output_type": "stream",
          "name": "stdout",
          "text": [
            "[2, 4, 6, 8, 10]\n"
          ]
        }
      ]
    },
    {
      "cell_type": "markdown",
      "source": [
        "34. **Função de Ordenação Personalizada**:\n",
        "    - Crie uma função chamada `ordenarPersonalizado` que receba um array de objetos e uma função de comparação (callback) como argumentos e retorne o array ordenado."
      ],
      "metadata": {
        "id": "nmLNv2JgxD5d"
      }
    },
    {
      "cell_type": "code",
      "source": [
        "def ordenarPersonalizado(array, callback):\n",
        "    for i in range(len(array)):\n",
        "        for j in range(i + 1, len(array)):\n",
        "            if callback(array[i], array[j]):\n",
        "                array[i], array[j] = array[j], array[i]\n",
        "    return array\n",
        "\n",
        "print(ordenarPersonalizado([{'nome': 'João', 'idade': 25}, {'nome': 'Maria', 'idade': 20}, {'nome': 'Pedro', 'idade': 30}], lambda a, b: a['idade'] > b['idade']))"
      ],
      "metadata": {
        "colab": {
          "base_uri": "https://localhost:8080/"
        },
        "id": "soukkn1MxGsj",
        "outputId": "c23ac3e2-b4a5-420f-d7a1-a92d23832b27"
      },
      "execution_count": null,
      "outputs": [
        {
          "output_type": "stream",
          "name": "stdout",
          "text": [
            "[{'nome': 'Maria', 'idade': 20}, {'nome': 'João', 'idade': 25}, {'nome': 'Pedro', 'idade': 30}]\n"
          ]
        }
      ]
    }
  ]
}