{
  "nbformat": 4,
  "nbformat_minor": 0,
  "metadata": {
    "colab": {
      "provenance": []
    },
    "kernelspec": {
      "name": "python3",
      "display_name": "Python 3"
    },
    "language_info": {
      "name": "python"
    }
  },
  "cells": [
    {
      "cell_type": "markdown",
      "source": [
        "### 01 - Filtrar por idade maior que 50 anos"
      ],
      "metadata": {
        "id": "3g_IizFjp-AS"
      }
    },
    {
      "cell_type": "code",
      "execution_count": null,
      "metadata": {
        "id": "H7391PYgV3eL"
      },
      "outputs": [],
      "source": [
        "import pandas as pd\n",
        "from IPython.display import display\n",
        "\n",
        "#  ler dados de um arquivo .csv\n",
        "df = pd.read_csv(\"/content/Base de dados - Dados sobre desgaste de funcionarios.csv\")\n",
        "#display(df)\n",
        "\n",
        "# 01 - Filtrar por idade maior que 50 anos\n",
        "df_filtro_idade = df[df[\"Idade\"]>50]\n",
        "display(df_filtro_idade)\n",
        "\n"
      ]
    },
    {
      "cell_type": "markdown",
      "source": [
        "### 02 - Filtrar por sexo feminino"
      ],
      "metadata": {
        "id": "ACbQQa5jpNTK"
      }
    },
    {
      "cell_type": "code",
      "source": [
        "import pandas as pd\n",
        "from IPython.display import display\n",
        "\n",
        "#  ler dados de um arquivo .csv\n",
        "df = pd.read_csv(\"/content/Base de dados - Dados sobre desgaste de funcionarios.csv\")\n",
        "#display(df)\n",
        "# 02 - Filtrar por sexo feminino\n",
        "df_filtro_genero = df[df[\"Gênero\"]==\"Feminino\"]\n",
        "print(f\"Gênero Feminino\" )\n",
        "display(df_filtro_genero)\n"
      ],
      "metadata": {
        "id": "n4UGSGE1osgP"
      },
      "execution_count": null,
      "outputs": []
    },
    {
      "cell_type": "markdown",
      "source": [
        "### 03 - Remover Duplicatas\n",
        "\n"
      ],
      "metadata": {
        "id": "ZDdEGvpTpWkY"
      }
    },
    {
      "cell_type": "code",
      "source": [
        "import pandas as pd\n",
        "from IPython.display import display\n",
        "\n",
        "### 03 - Remover Duplicatas\n",
        "df = df.drop_duplicates()\n",
        "display(df)"
      ],
      "metadata": {
        "id": "SkEGvmv7psCY"
      },
      "execution_count": null,
      "outputs": []
    },
    {
      "cell_type": "markdown",
      "source": [
        "### 04 - Classificação e Ordenação por Idade"
      ],
      "metadata": {
        "id": "ZpsxfgcWqeaU"
      }
    },
    {
      "cell_type": "code",
      "source": [
        "import pandas as pd\n",
        "from IPython.display import display\n",
        "\n",
        "# 04 - Classificação e Ordenação por Idade\n",
        "df = df.sort_values(by='Idade', ascending=True)\n",
        "display(df)"
      ],
      "metadata": {
        "id": "hRjkowfgqEt7"
      },
      "execution_count": null,
      "outputs": []
    },
    {
      "cell_type": "markdown",
      "source": [
        "### 05 - Filtrar menores de 19 anos"
      ],
      "metadata": {
        "id": "AbXLDyzvqhag"
      }
    },
    {
      "cell_type": "code",
      "source": [
        "import pandas as pd\n",
        "from IPython.display import display\n",
        "\n",
        "\n",
        "# 05 - Filtrar menores de 19 anos\n",
        "df_menores_19 = df[df['Idade'] < 19]\n",
        "display(df_menores_19)"
      ],
      "metadata": {
        "id": "HZUAc6VyqJc3"
      },
      "execution_count": null,
      "outputs": []
    },
    {
      "cell_type": "markdown",
      "source": [
        "### 06 -  Agrupar por Departamento"
      ],
      "metadata": {
        "id": "uQM7EEySqu8m"
      }
    },
    {
      "cell_type": "code",
      "source": [
        "import pandas as pd\n",
        "from IPython.display import display\n",
        "\n",
        "# 06 -  Agrupar por Departamento\n",
        "grupos_por_departamento = df.groupby('Departamento')\n",
        "\n",
        "for nome_departamento, grupo in grupos_por_departamento:\n",
        "    print(f\"Departamento: {nome_departamento}\")\n",
        "    display(grupo)"
      ],
      "metadata": {
        "id": "SW7KforDqKpS"
      },
      "execution_count": null,
      "outputs": []
    },
    {
      "cell_type": "markdown",
      "source": [
        "### 07 - Agrupar por Área de Formação"
      ],
      "metadata": {
        "id": "4z4-BN_crN7G"
      }
    },
    {
      "cell_type": "code",
      "source": [
        "import pandas as pd\n",
        "from IPython.display import display\n",
        "\n",
        "# 07 - Agrupar por Área de Formação\n",
        "grupos_por_area_formacao = df.groupby('Área de Formação')\n",
        "for area, grupo in grupos_por_area_formacao:\n",
        "    print(f\"Área de Formação: {area}\")\n",
        "    display(grupo)"
      ],
      "metadata": {
        "id": "MXU7qJT3qL-y"
      },
      "execution_count": null,
      "outputs": []
    },
    {
      "cell_type": "markdown",
      "source": [
        "### 08 - Agrupar por Gênero"
      ],
      "metadata": {
        "id": "_s9rE-0MrbfY"
      }
    },
    {
      "cell_type": "code",
      "source": [
        "import pandas as pd\n",
        "from IPython.display import display\n",
        "\n",
        "# 08 - Agrupar por Gênero\n",
        "grupos_por_genero = df.groupby('Gênero')\n",
        "for genero, grupo in grupos_por_genero:\n",
        "     print(f\"Gênero: {genero}\")\n",
        "     display(grupo)"
      ],
      "metadata": {
        "id": "eYFOMe6mqNBf"
      },
      "execution_count": null,
      "outputs": []
    },
    {
      "cell_type": "markdown",
      "source": [
        "### 09 - Nivel de Escolaridade"
      ],
      "metadata": {
        "id": "UtVuuoOirtdU"
      }
    },
    {
      "cell_type": "code",
      "source": [
        "import pandas as pd\n",
        "from IPython.display import display\n",
        "\n",
        "# 09 - Nivel de Escolaridade\n",
        "nivel_escolaridade = df['Escolaridade' ].value_counts()\n",
        "print(\"Nivel de Escolaridade\")\n",
        "display(nivel_escolaridade)"
      ],
      "metadata": {
        "id": "73KUrmE0qOcm"
      },
      "execution_count": null,
      "outputs": []
    },
    {
      "cell_type": "markdown",
      "source": [
        "### 10 - Agrupar por Cargo e calcular a média dos salários mensais e o número de funcionários"
      ],
      "metadata": {
        "id": "8G--HTWXsCtu"
      }
    },
    {
      "cell_type": "code",
      "source": [
        "import pandas as pd\n",
        "from IPython.display import display\n",
        "\n",
        "# 10 - Agrupar por Cargo e calcular a média dos salários mensais e o número de funcionários\n",
        "relatorio_salario_por_cargo = df.groupby('Cargo')['Salário Mensal'].agg(['mean', 'count'])\n",
        "# Renomear as colunas para facilitar a leitura\n",
        "relatorio_salario_por_cargo.columns = ['Média Salarial', 'Número de Funcionários']\n",
        "#Ordenar pela Média Salarial, da maior para a menor\n",
        "relatorio_salario_por_cargo = relatorio_salario_por_cargo.sort_values(by='Média Salarial', ascending=False)\n",
        "display(relatorio_salario_por_cargo)"
      ],
      "metadata": {
        "id": "sJw60HpKqRQz"
      },
      "execution_count": null,
      "outputs": []
    },
    {
      "cell_type": "markdown",
      "source": [
        "### 11 - Agrupar por Cargo  e calcular a satisfação com o trabalho e o numero de funcionários"
      ],
      "metadata": {
        "id": "q680sgLysasG"
      }
    },
    {
      "cell_type": "code",
      "source": [
        "import pandas as pd\n",
        "from IPython.display import display\n",
        "\n",
        "# 11 - Agrupar por Cargo  e calcular a satisfação com o trabalho e o numero de funcionários\n",
        "relatorio_satisfacao_por_cargo = df.groupby(\"Cargo\")[\"Satisfação com o trabalho\"].agg([\"mean\", \"count\"])\n",
        "# Renomear as colunas\n",
        "relatorio_satisfacao_por_cargo.columns = [\"Média Satisfação\", \"Número de Funcionários\"]\n",
        "# Ordenar pela Média de Satisfação\n",
        "relatorio_satisfacao_por_cargo = relatorio_satisfacao_por_cargo.sort_values(by=\"Média Satisfação\", ascending=False)\n",
        "print(\"Relação entre o cargo e a Satisfação com o trabalho \")\n",
        "display(relatorio_satisfacao_por_cargo)\n"
      ],
      "metadata": {
        "id": "VxTrFWTKqSBR"
      },
      "execution_count": null,
      "outputs": []
    },
    {
      "cell_type": "markdown",
      "source": [
        "### 12 - Agrupar por Gênero e calcular a média de Satisfação com o Trabalho"
      ],
      "metadata": {
        "id": "qSjlq9jHsnIo"
      }
    },
    {
      "cell_type": "code",
      "source": [
        "import pandas as pd\n",
        "from IPython.display import display\n",
        "\n",
        "# 12 - Agrupar por Gênero e calcular a média de Satisfação com o Trabalho\n",
        "relacao_genero_satisfacao = df.groupby('Gênero')['Satisfação com o trabalho'].agg([\"mean\", \"count\"])\n",
        "\n",
        "# Exibir o resultado\n",
        "display(relacao_genero_satisfacao)\n"
      ],
      "metadata": {
        "id": "_IOkpwAAqS_X"
      },
      "execution_count": null,
      "outputs": []
    },
    {
      "cell_type": "markdown",
      "source": [
        "### 13 - Relação entre Gênero  e o quanto ganha de Salário  por hora"
      ],
      "metadata": {
        "id": "rp7Jojy1s2Lx"
      }
    },
    {
      "cell_type": "code",
      "source": [
        "import pandas as pd\n",
        "from IPython.display import display\n",
        "\n",
        "\n",
        "# 13 - Relação entre Gênero  e o quanto ganha de Salário  por hora\n",
        "relacao_genero_salario = df.groupby(\"Gênero\")[\"Salário por hora\"].agg([\"mean\", \"count\"])\n",
        "\n",
        "display(relacao_genero_salario)\n"
      ],
      "metadata": {
        "id": "qjBoxVx9qUML"
      },
      "execution_count": null,
      "outputs": []
    },
    {
      "cell_type": "markdown",
      "source": [
        "### 14 - Relação entre quem faz Viagem de negócios e Departamento em que trabalha"
      ],
      "metadata": {
        "id": "4CnyrFtcs_0p"
      }
    },
    {
      "cell_type": "code",
      "source": [
        "import pandas as pd\n",
        "from IPython.display import display\n",
        "\n",
        "# 14 - Relação entre quem faz Viagem de negócios e Departamento em que trabalha\n",
        "relacao_viagem_departamento = df.groupby(\"Viagem de negócios\")[\"Departamento\"].value_counts()\n",
        "display(relacao_viagem_departamento)"
      ],
      "metadata": {
        "id": "k5MZ2rSyqVL9"
      },
      "execution_count": null,
      "outputs": []
    },
    {
      "cell_type": "markdown",
      "source": [
        "### 15 - Fitrar por trabalhadores em idade ou proximo de se aposentar e seu departamento e gênero"
      ],
      "metadata": {
        "id": "0HxrmdFctOLr"
      }
    },
    {
      "cell_type": "code",
      "source": [
        "import pandas as pd\n",
        "from IPython.display import display\n",
        "\n",
        "# 15 - Fitrar por trabalhadores em idade ou proximo de se aposentar e seu departamento e gênero\n",
        "df_filtro_anos_trabalhado_departamento = df[df[\"Total de anos trabalhados\"] > 28]\n",
        "df_ordenado = df_filtro_anos_trabalhado_departamento[[\"Total de anos trabalhados\", \"Departamento\", \"Gênero\"]]\n",
        "display(df_ordenado)"
      ],
      "metadata": {
        "id": "CQL90PcWqWIZ"
      },
      "execution_count": null,
      "outputs": []
    },
    {
      "cell_type": "markdown",
      "source": [
        "### 16 - Renomear nome de coluna"
      ],
      "metadata": {
        "id": "X5AxgL9ptcXB"
      }
    },
    {
      "cell_type": "code",
      "source": [
        "import pandas as pd\n",
        "from IPython.display import display\n",
        "\n",
        "# 16 - Renomear nome de coluna\n",
        "df = df.rename(columns={\"Qtde de treinamentos realizados no último ano\": \"Treinamentos\"})\n",
        "display(df)"
      ],
      "metadata": {
        "id": "_w7IppMLqW53"
      },
      "execution_count": null,
      "outputs": []
    },
    {
      "cell_type": "markdown",
      "source": [
        "### 17 -  Agrupar por Treinamentos e Demissão e contar as ocorrências"
      ],
      "metadata": {
        "id": "71xyovCXul4J"
      }
    },
    {
      "cell_type": "code",
      "source": [
        "import pandas as pd\n",
        "from IPython.display import display\n",
        "\n",
        "# 16 - Renomear nome de coluna\n",
        "df = df.rename(columns={\"Qtde de treinamentos realizados no último ano\": \"Treinamentos\"})\n",
        "display(df)\n",
        "\n",
        "# 17 -  Agrupar por Treinamentos e Demissão e contar as ocorrências\n",
        "relacao_treinamentos_demissao = df.groupby(['Treinamentos', 'Demissão']).size().reset_index(name='Contagem')\n",
        "display(relacao_treinamentos_demissao )"
      ],
      "metadata": {
        "id": "uSRexSswqX6Z"
      },
      "execution_count": null,
      "outputs": []
    },
    {
      "cell_type": "markdown",
      "source": [
        "### 18 -  Criar uma nova coluna 'faixa_etaria' baseada na idade"
      ],
      "metadata": {
        "id": "NKPGCJutuxOZ"
      }
    },
    {
      "cell_type": "code",
      "source": [
        "import pandas as pd\n",
        "from IPython.display import display\n",
        "\n",
        "# 18 -  Criar uma nova coluna 'faixa_etaria' baseada na idade\n",
        "df['faixa_etaria'] = df['Idade'].apply(lambda x: 'Adulto' if x < 60 else 'Idoso')\n",
        "display(df)"
      ],
      "metadata": {
        "id": "6TPOjm-IqY2t"
      },
      "execution_count": null,
      "outputs": []
    },
    {
      "cell_type": "markdown",
      "source": [
        "### 19 - Filtrar por idade, equilíbrio  de vida e satisfação com o trabalho"
      ],
      "metadata": {
        "id": "mlxKDUINu7Hx"
      }
    },
    {
      "cell_type": "code",
      "source": [
        "import pandas as pd\n",
        "from IPython.display import display\n",
        "\n",
        "# 19 - Filtrar por idade, equilíbrio  de vida e satisfação com o trabalho\n",
        "df_ordenado = df[[\"Idade\", \"Equilíbrio vida trabalho\", \"Satisfação com o trabalho\"  ]]\n",
        "display(df_ordenado)"
      ],
      "metadata": {
        "id": "gOddQTjCqZo3"
      },
      "execution_count": null,
      "outputs": []
    },
    {
      "cell_type": "code",
      "source": [
        "import pandas as pd\n",
        "from IPython.display import display\n",
        "\n",
        "# 20 - Adicionar a coluna com a categorização\n",
        "df_agrupado = df\n",
        "def categorizar(row):\n",
        "  if row['Total de anos trabalhados'] > 0 and row['Total de anos trabalhados'] <=12:\n",
        "    return 'Novato'\n",
        "  elif row['Total de anos trabalhados'] > 12 and row['Total de anos trabalhados'] <=20:\n",
        "    return 'Intermédiário'\n",
        "  elif row['Total de anos trabalhados'] > 20:\n",
        "    return 'Vetereno'\n",
        "  else:\n",
        "    return 'Sem experiência'\n",
        "\n",
        "df_agrupado['Total de anos trabalhados'] = df_agrupado.apply(categorizar, axis=1)\n",
        "display(df_agrupado)"
      ],
      "metadata": {
        "id": "H0fx7h9mqad8"
      },
      "execution_count": null,
      "outputs": []
    },
    {
      "cell_type": "markdown",
      "source": [
        "### 21 - Drop na coluna"
      ],
      "metadata": {
        "id": "tz3FLn9GvVxA"
      }
    },
    {
      "cell_type": "code",
      "source": [
        "import pandas as pd\n",
        "from IPython.display import display\n",
        "\n",
        "# 18 -  Criar uma nova coluna 'faixa_etaria' baseada na idade\n",
        "df['faixa_etaria'] = df['Idade'].apply(lambda x: 'Adulto' if x < 60 else 'Idoso')\n",
        "#display(df)\n",
        "# 21 - Drop na coluna\n",
        "df = df.drop(columns=[\"faixa_etaria\"])\n",
        "display(df)"
      ],
      "metadata": {
        "id": "Uzon37FOvO_v"
      },
      "execution_count": null,
      "outputs": []
    }
  ]
}