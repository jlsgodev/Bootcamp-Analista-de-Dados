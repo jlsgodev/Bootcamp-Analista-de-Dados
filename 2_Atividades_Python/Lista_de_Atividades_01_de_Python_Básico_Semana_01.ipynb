{
  "nbformat": 4,
  "nbformat_minor": 0,
  "metadata": {
    "colab": {
      "provenance": []
    },
    "kernelspec": {
      "name": "python3",
      "display_name": "Python 3"
    },
    "language_info": {
      "name": "python"
    }
  },
  "cells": [
    {
      "cell_type": "markdown",
      "source": [
        "# 1 - Variáveis e Tipos de Dados"
      ],
      "metadata": {
        "id": "uxGISqtR2yNT"
      }
    },
    {
      "cell_type": "markdown",
      "source": [
        "'''\n",
        "1.1. Crie variáveis para armazenar o nome, idade, peso e altura de uma pessoa.\n",
        "Imprima os valores e os tipos de dados dessas variáveis.\n",
        "'''"
      ],
      "metadata": {
        "id": "pTjDSdflurOy"
      }
    },
    {
      "cell_type": "code",
      "execution_count": null,
      "metadata": {
        "id": "tLS0FEGj2rS7",
        "colab": {
          "base_uri": "https://localhost:8080/"
        },
        "outputId": "68de7f8e-5fea-4da7-a7bf-5f950ca055a8"
      },
      "outputs": [
        {
          "output_type": "stream",
          "name": "stdout",
          "text": [
            "Nome: jhon Tipo: <class 'str'>\n",
            "Idade:  32 Tipo: <class 'int'>\n",
            "Peso: 82 Tipo: <class 'int'>\n",
            "Altura: 1.79 Tipo: <class 'float'>\n"
          ]
        }
      ],
      "source": [
        "\n",
        "nome = \"jhon\"\n",
        "idade = 32\n",
        "peso = 82\n",
        "altura = 1.79\n",
        "\n",
        "print(\"Nome:\", nome, \"Tipo:\", type (nome))\n",
        "print(\"Idade: \", idade, \"Tipo:\", type(idade))\n",
        "print(\"Peso:\", peso, \"Tipo:\", type(peso))\n",
        "print(\"Altura:\", altura, \"Tipo:\" , type(altura) )"
      ]
    },
    {
      "cell_type": "markdown",
      "source": [
        "'''\n",
        "1.2. Atualize a variável de peso para um valor diferente e imprima o novo valor.\n",
        "'''"
      ],
      "metadata": {
        "id": "qM8NKi9yuxUo"
      }
    },
    {
      "cell_type": "code",
      "source": [
        "\n",
        "\n",
        "peso = 82\n",
        "peso = 80.0\n",
        "print(peso , type(peso))\n"
      ],
      "metadata": {
        "id": "VFVgrodF27TT",
        "colab": {
          "base_uri": "https://localhost:8080/"
        },
        "outputId": "480195e5-55ce-4fcd-9674-0a5268d9ab24"
      },
      "execution_count": null,
      "outputs": [
        {
          "output_type": "stream",
          "name": "stdout",
          "text": [
            "80.0 <class 'float'>\n"
          ]
        }
      ]
    },
    {
      "cell_type": "markdown",
      "source": [
        "# 2 - Operadores Matemáticos"
      ],
      "metadata": {
        "id": "RRRbkSkr3Ajw"
      }
    },
    {
      "cell_type": "markdown",
      "source": [
        "'''\n",
        "2.1. Crie uma variável a com valor 10 e uma variável b com valor 3. Realize as\n",
        "seguintes operações e imprima os resultados:\n",
        "Soma\n",
        "Subtração\n",
        "Multiplicação\n",
        "Divisão\n",
        "Parte inteira da divisão\n",
        "Resto da divisão\n",
        "Exponenciação\n",
        "'''\n"
      ],
      "metadata": {
        "id": "P5ENRrd8vKFg"
      }
    },
    {
      "cell_type": "code",
      "source": [
        "\n",
        "\n",
        "\n",
        "\n",
        "a = 10\n",
        "b = 3\n",
        "print(a + b)\n",
        "print(a - b)\n",
        "print(a * b)\n",
        "print(a / b )\n",
        "print(a // b) # Divisão inteira\n",
        "print(a % b ) # Resto da divisão\n",
        "print(a ** b  )  # Exponenciação"
      ],
      "metadata": {
        "id": "hHAztIDU3AJP",
        "colab": {
          "base_uri": "https://localhost:8080/"
        },
        "outputId": "c350e634-8c35-4d3d-9c57-680050adf821"
      },
      "execution_count": null,
      "outputs": [
        {
          "output_type": "stream",
          "name": "stdout",
          "text": [
            "13\n",
            "7\n",
            "30\n",
            "3.3333333333333335\n",
            "3\n",
            "1\n",
            "1000\n"
          ]
        }
      ]
    },
    {
      "cell_type": "markdown",
      "source": [
        "# 3 - Entrada de Dados pelo Usuário\n"
      ],
      "metadata": {
        "id": "jWJt5Ep23OFd"
      }
    },
    {
      "cell_type": "markdown",
      "source": [
        "'''\n",
        "3.1. Peça ao usuário para digitar seu nome e armazene em uma variável. Imprima\n",
        "uma mensagem de boas-vindas usando o nome fornecido.\n",
        "'''"
      ],
      "metadata": {
        "id": "zBamzd_nvTdp"
      }
    },
    {
      "cell_type": "code",
      "source": [
        "\n",
        "\n",
        "\n",
        "nome = input(\"Digite seu nome: \")\n",
        "print(\"Boas vindas,\", nome)"
      ],
      "metadata": {
        "id": "IiD6jUJh3eiD",
        "colab": {
          "base_uri": "https://localhost:8080/"
        },
        "outputId": "4a7f2b90-384d-47a8-cd1c-1bdbaa5514c8"
      },
      "execution_count": null,
      "outputs": [
        {
          "output_type": "stream",
          "name": "stdout",
          "text": [
            "Digite seu nome: jh\n",
            "Boas vindas, jh\n"
          ]
        }
      ]
    },
    {
      "cell_type": "markdown",
      "source": [
        "'''\n",
        "3.2. Peça ao usuário para digitar sua idade, peso e altura. Calcule o IMC e\n",
        "imprima o resultado arredondado para três casas decimais.\n",
        "'''"
      ],
      "metadata": {
        "id": "Xi7VsF-BvXDp"
      }
    },
    {
      "cell_type": "code",
      "source": [
        "\n",
        "\n",
        "\n",
        "idade = int(input(\"Digite sua idade: \"))\n",
        "\n",
        "peso = float(input(\"Digite seu peso: \"))\n",
        "\n",
        "altura = float(input(\"Digite sua altura: \"))\n",
        "\n",
        "imc = (peso / (altura ** 2))\n",
        "imc = round(imc, 3)\n",
        "print(\"Seu IMC é: \", imc )"
      ],
      "metadata": {
        "id": "Y4kz72aR3k8d",
        "colab": {
          "base_uri": "https://localhost:8080/"
        },
        "outputId": "6ad89b3d-da66-45d9-87d5-a97a3adceb51"
      },
      "execution_count": null,
      "outputs": [
        {
          "output_type": "stream",
          "name": "stdout",
          "text": [
            "Digite sua idade: 32\n",
            "Digite seu peso: 82\n",
            "Digite sua altura: 1.78\n",
            "Seu IMC é:  25.881\n"
          ]
        }
      ]
    },
    {
      "cell_type": "markdown",
      "source": [
        "# 4 - Função de Impressão"
      ],
      "metadata": {
        "id": "zqRV3Plv3pjL"
      }
    },
    {
      "cell_type": "markdown",
      "source": [
        "'''\n",
        "4.1. Peça ao usuário para digitar um número e imprima o número digitado.\n",
        "'''"
      ],
      "metadata": {
        "id": "QuaZH_2ivaej"
      }
    },
    {
      "cell_type": "code",
      "source": [
        "\n",
        "\n",
        "numero = int(input(\"Digite um numero: \"))\n",
        "print( numero)"
      ],
      "metadata": {
        "id": "N5AbRV3i3vYV",
        "colab": {
          "base_uri": "https://localhost:8080/"
        },
        "outputId": "30c287a7-7db0-4e38-c037-384088464c7f"
      },
      "execution_count": null,
      "outputs": [
        {
          "output_type": "stream",
          "name": "stdout",
          "text": [
            "Digite um numero: 66\n",
            "66\n"
          ]
        }
      ]
    },
    {
      "cell_type": "markdown",
      "source": [
        "'''\n",
        "4.2. Peça ao usuário para digitar dois números e imprima a soma deles.\n",
        "'''\n"
      ],
      "metadata": {
        "id": "gS_tMZ-RveRG"
      }
    },
    {
      "cell_type": "code",
      "source": [
        "\n",
        "\n",
        "num1 = int(input(\"Digite um numero: \"))\n",
        "num2 = int(input(\"Digite outro numero: \"))\n",
        "soma = soma = (num1 + num2)\n",
        "print(\" A soma do primeiro numero com o segundo numero é: \", soma)"
      ],
      "metadata": {
        "id": "qM2ocOFl3vpB",
        "colab": {
          "base_uri": "https://localhost:8080/"
        },
        "outputId": "fc9bf4b2-cd8a-4292-9d12-348515688442"
      },
      "execution_count": null,
      "outputs": [
        {
          "output_type": "stream",
          "name": "stdout",
          "text": [
            "Digite um numero: 12\n",
            "Digite outro numero: 8\n",
            " A soma do primeiro numero com o segundo numero é:  20\n"
          ]
        }
      ]
    },
    {
      "cell_type": "markdown",
      "source": [
        "# 5 - Métodos de Strings"
      ],
      "metadata": {
        "id": "RWwlLaOu35jq"
      }
    },
    {
      "cell_type": "markdown",
      "source": [
        "'''\n",
        "5.1. Peça ao usuário para digitar um e-mail e verifique se o e-mail contém o\n",
        "caractere '@'. Imprima uma mensagem indicando se é um e-mail válido ou não.\n",
        "'''"
      ],
      "metadata": {
        "id": "p5_EBQxQvi9a"
      }
    },
    {
      "cell_type": "code",
      "source": [
        "\n",
        "\n",
        "mail = input(\"Digite seu Email: \"  )\n",
        "\n",
        "if  (\"@\" in mail):\n",
        "    print(\"Email Valido!\")\n",
        "else:\n",
        "    print(\"Email invalido!\")\n",
        "\n"
      ],
      "metadata": {
        "id": "PnAPaeXY3-dA",
        "colab": {
          "base_uri": "https://localhost:8080/"
        },
        "outputId": "4371e643-5351-434e-d985-1c1c1699bb24"
      },
      "execution_count": null,
      "outputs": [
        {
          "output_type": "stream",
          "name": "stdout",
          "text": [
            "Digite seu Email: jhon@mail.com\n",
            "Email Valido!\n"
          ]
        }
      ]
    },
    {
      "cell_type": "markdown",
      "source": [
        "'''\n",
        "5.2. Peça ao usuário para digitar uma frase e:\n",
        "Converta a frase para maiúsculas.\n",
        "Converta a frase para minúsculas.\n",
        "Converta a primeira letra de cada palavra para maiúscula.\n",
        "Verifique se a frase começa com uma determinada palavra (ex.: 'Olá').\n",
        "'''"
      ],
      "metadata": {
        "id": "uakboCsrvmBm"
      }
    },
    {
      "cell_type": "code",
      "source": [
        "\n",
        "\n",
        "\n",
        "frase =  input(\"Digite uma frase: \")\n",
        "\n",
        "print(frase.upper())\n",
        "print(frase.lower())\n",
        "print(frase.title())\n",
        "print(frase.count(\"hello\"))\n"
      ],
      "metadata": {
        "id": "nkwe0I9c3-w-",
        "colab": {
          "base_uri": "https://localhost:8080/"
        },
        "outputId": "3cc2b9ba-d8a8-4dd7-935a-e1a8fc6c71f3"
      },
      "execution_count": null,
      "outputs": [
        {
          "output_type": "stream",
          "name": "stdout",
          "text": [
            "Digite uma frase: miNhA terRa tem PalmEIRas\n",
            "MINHA TERRA TEM PALMEIRAS\n",
            "minha terra tem palmeiras\n",
            "Minha Terra Tem Palmeiras\n",
            "0\n"
          ]
        }
      ]
    },
    {
      "cell_type": "markdown",
      "source": [
        "# 6 - Listas"
      ],
      "metadata": {
        "id": "HZQlB-8K4snX"
      }
    },
    {
      "cell_type": "markdown",
      "source": [
        "'''\n",
        "6.1. Crie uma lista com os nomes de cinco amigos. Imprima o nome do terceiro\n",
        "amigo na lista.\n",
        "\n",
        "'''"
      ],
      "metadata": {
        "id": "ZIuzQs-ivqh6"
      }
    },
    {
      "cell_type": "code",
      "source": [
        "\n",
        "\n",
        "lista = [\"lucas\", \"junior\", \"pedro\", \"maria\", \"carlos\"]\n",
        "\n",
        "print(lista[2])"
      ],
      "metadata": {
        "id": "3_3JLvXZ4sBG",
        "colab": {
          "base_uri": "https://localhost:8080/"
        },
        "outputId": "05a771c1-d2b4-4a6e-b03e-7689837b5ce5"
      },
      "execution_count": null,
      "outputs": [
        {
          "output_type": "stream",
          "name": "stdout",
          "text": [
            "pedro\n"
          ]
        }
      ]
    },
    {
      "cell_type": "markdown",
      "source": [
        "'''\n",
        "6.2. Adicione um novo nome à lista de amigos e remova o primeiro nome.\n",
        "Imprima a lista atualizada.\n",
        "'''"
      ],
      "metadata": {
        "id": "9ae3211-vuKA"
      }
    },
    {
      "cell_type": "code",
      "source": [
        "\n",
        "\n",
        "\n",
        "lista = [\"Lucas\", \"Junior\", \"Pedro\", \"Maria\", \"Carlos\"]\n",
        "\n",
        "lista.append( \"Natan\")\n",
        "lista.remove(\"Lucas\")\n",
        "\n",
        "print(lista)\n"
      ],
      "metadata": {
        "id": "ppcjLqMb4yDu",
        "colab": {
          "base_uri": "https://localhost:8080/"
        },
        "outputId": "372c8d17-54a9-4d53-c50d-4c255dad9d60"
      },
      "execution_count": null,
      "outputs": [
        {
          "output_type": "stream",
          "name": "stdout",
          "text": [
            "['Junior', 'Pedro', 'Maria', 'Carlos', 'Natan']\n"
          ]
        }
      ]
    },
    {
      "cell_type": "markdown",
      "source": [
        "'''\n",
        "6.3. Crie uma lista com as idades dos seus amigos e:\n",
        "Imprima a idade do amigo mais velho.\n",
        "Imprima a idade do amigo mais novo.\n",
        "Calcule e imprima a soma das idades.\n",
        "'''\n"
      ],
      "metadata": {
        "id": "xMTikisMvxDk"
      }
    },
    {
      "cell_type": "code",
      "source": [
        "\n",
        "\n",
        "\n",
        "\n",
        "lista = [\"Lucas\", \"Junior\", \"Pedro\", \"Maria\", \"Carlos\"]\n",
        "idade = [18, 25, 20, 36, 31]\n",
        "\n",
        "print(max(idade))\n",
        "\n",
        "print(min(idade))\n",
        "\n",
        "print(sum(idade))\n"
      ],
      "metadata": {
        "id": "Hoz7RcUW4zc4",
        "colab": {
          "base_uri": "https://localhost:8080/"
        },
        "outputId": "0bc32d7d-bf06-47a3-f98e-75a1833f3b69"
      },
      "execution_count": null,
      "outputs": [
        {
          "output_type": "stream",
          "name": "stdout",
          "text": [
            "36\n",
            "18\n",
            "130\n"
          ]
        }
      ]
    },
    {
      "cell_type": "markdown",
      "source": [
        "# 7 - Tuplas"
      ],
      "metadata": {
        "id": "9WTzsCNH4-tT"
      }
    },
    {
      "cell_type": "markdown",
      "source": [
        "'''\n",
        "7.1 Crie uma tupla com as informações de um cliente (nome, idade, peso, altura).\n",
        "Imprima todas as informações.\n",
        "'''"
      ],
      "metadata": {
        "id": "y1mpwSc8v5qn"
      }
    },
    {
      "cell_type": "code",
      "source": [
        "\n",
        "\n",
        "cliente = (\"jhon\", 32, 82, 1.79) # tupla com as informações do\n",
        "\n",
        "\n",
        "\n",
        "nome, idade, peso, altura = cliente\n",
        "print(f\"Nome: {nome}\")\n",
        "print(f\"Idade: {idade} anos\")\n",
        "print(f\"Peso: {peso} kg\")\n",
        "print(f\"Altura: {altura} m\")"
      ],
      "metadata": {
        "id": "XpWW7G-p5BOJ",
        "colab": {
          "base_uri": "https://localhost:8080/"
        },
        "outputId": "f98cfbb7-2e8a-4873-c75d-5bddc9eb8f6c"
      },
      "execution_count": null,
      "outputs": [
        {
          "output_type": "stream",
          "name": "stdout",
          "text": [
            "Nome: jhon\n",
            "Idade: 32 anos\n",
            "Peso: 82 kg\n",
            "Altura: 1.79 m\n"
          ]
        }
      ]
    },
    {
      "cell_type": "markdown",
      "source": [
        "'''\n",
        "7.2. Crie uma nova tupla concatenando a tupla do exercício anterior com o e-mail\n",
        "do cliente. Imprima a nova tupla.\n",
        "'''"
      ],
      "metadata": {
        "id": "iIjihT1_v8uZ"
      }
    },
    {
      "cell_type": "code",
      "source": [
        "\n",
        "\n",
        "cliente = (\"jhon\",32, 82, 1.79)\n",
        "mail = \"jhon@mail.com\"\n",
        "\n",
        "cliente = cliente + (mail,)\n",
        "\n",
        "print(cliente)\n"
      ],
      "metadata": {
        "id": "tIzWFwzc5GQ8",
        "colab": {
          "base_uri": "https://localhost:8080/"
        },
        "outputId": "419fc35e-59d4-4ebd-a210-a77b84b13b80"
      },
      "execution_count": null,
      "outputs": [
        {
          "output_type": "stream",
          "name": "stdout",
          "text": [
            "('jhon', 32, 82, 1.79, 'jhon@mail.com')\n"
          ]
        }
      ]
    },
    {
      "cell_type": "markdown",
      "source": [
        "# 8 - Dicionários"
      ],
      "metadata": {
        "id": "-zg06dPu5ZJC"
      }
    },
    {
      "cell_type": "markdown",
      "source": [
        "'''\n",
        "8.1. Crie um dicionário com informações de um cliente\n",
        "(nome, idade, peso, altura). Imprima o valor associado à chave 'nome'.\n",
        "'''"
      ],
      "metadata": {
        "id": "BWiN9HN5wBEy"
      }
    },
    {
      "cell_type": "code",
      "source": [
        "\n",
        "\n",
        "\n",
        "pessoa = {\n",
        "    \"nome\": \"jhon\",\n",
        "    \"idade\": 32,\n",
        "    \"cidade\": \"BC\"\n",
        "}\n",
        "print(pessoa[\"nome\"])\n"
      ],
      "metadata": {
        "id": "E_wd3pdX5clA",
        "colab": {
          "base_uri": "https://localhost:8080/"
        },
        "outputId": "13232888-a4e1-4265-93e9-92e87de5d7c6"
      },
      "execution_count": null,
      "outputs": [
        {
          "output_type": "stream",
          "name": "stdout",
          "text": [
            "jhon\n"
          ]
        }
      ]
    },
    {
      "cell_type": "markdown",
      "source": [
        "'''\n",
        "8.2. Adicione uma nova chave 'email' ao dicionário do exercício anterior e\n",
        "imprima o dicionário atualizado.\n",
        "'''"
      ],
      "metadata": {
        "id": "B-qQLYHtwFVA"
      }
    },
    {
      "cell_type": "code",
      "source": [
        "\n",
        "\n",
        "\n",
        "pessoa = {\n",
        "    \"nome\": \"jhon\",\n",
        "    \"idade\": 32,\n",
        "    \"cidade\": \"BC\"\n",
        "}\n",
        "\n",
        "pessoa[\"email\"] = \"jhon@mail.com\"\n",
        "\n",
        "print(pessoa)"
      ],
      "metadata": {
        "id": "kM-tUW7o5eK7",
        "colab": {
          "base_uri": "https://localhost:8080/"
        },
        "outputId": "d7650cf3-63cd-4910-a539-dcdad3efb703"
      },
      "execution_count": null,
      "outputs": [
        {
          "output_type": "stream",
          "name": "stdout",
          "text": [
            "{'nome': 'jhon', 'idade': 32, 'cidade': 'BC', 'email': 'jhon@mail.com'}\n"
          ]
        }
      ]
    },
    {
      "cell_type": "markdown",
      "source": [
        "'''\n",
        "8.3. Remova a chave 'peso' do dicionário e verifique se a chave 'endereço' está\n",
        "no dicionário. Imprima os resultados.\n",
        "'''"
      ],
      "metadata": {
        "id": "qjmv0Ni0wI78"
      }
    },
    {
      "cell_type": "code",
      "source": [
        "\n",
        "\n",
        "\n",
        "pessoa = {\n",
        "    \"nome\": \"jhon\",\n",
        "    \"idade\": 32,\n",
        "    \"peso\": 82,\n",
        "    \"cidade\": \"BC\",\n",
        "    \"email\": \"jhon@mail.com\"\n",
        "}\n",
        "\n",
        "\n",
        "pessoa.pop(\"peso\")\n",
        "\n",
        "print(pessoa)\n",
        "\n",
        "if \"endereco\" in pessoa:\n",
        "    print(pessoa[\"enereco\"])\n"
      ],
      "metadata": {
        "id": "xFhFuFOV5ffs",
        "colab": {
          "base_uri": "https://localhost:8080/"
        },
        "outputId": "ae838586-57ae-4a7e-bc0a-016d383863f8"
      },
      "execution_count": null,
      "outputs": [
        {
          "output_type": "stream",
          "name": "stdout",
          "text": [
            "{'nome': 'jhon', 'idade': 32, 'cidade': 'BC', 'email': 'jhon@mail.com'}\n"
          ]
        }
      ]
    },
    {
      "cell_type": "markdown",
      "source": [
        "# 9 - Controle de Fluxo"
      ],
      "metadata": {
        "id": "zDOsohbe5sjQ"
      }
    },
    {
      "cell_type": "markdown",
      "source": [
        "\n",
        "'''\n",
        "9.1. Peça ao usuário para digitar sua idade e verifique se ele é menor de idade,\n",
        " adulto ou idoso. Imprima uma mensagem correspondente.\n",
        "'''"
      ],
      "metadata": {
        "id": "W3x9PwQMwPsj"
      }
    },
    {
      "cell_type": "code",
      "source": [
        "\n",
        "\n",
        "\n",
        "idade = int(input(\"Digite sua idade :  \"))\n",
        "if (idade <= 17):\n",
        "    print(\"Você é menor de idade!\")\n",
        "elif (idade >= 18 and idade <= 60):\n",
        "    print(\"Você é maior de idade!\")\n",
        "else:\n",
        "    print(\"Você é idoso!\")\n"
      ],
      "metadata": {
        "id": "efFgv5Xx5wFC",
        "colab": {
          "base_uri": "https://localhost:8080/"
        },
        "outputId": "4dfa7186-35d0-4b50-d31a-a5605f0806d4"
      },
      "execution_count": null,
      "outputs": [
        {
          "output_type": "stream",
          "name": "stdout",
          "text": [
            "Digite sua idade :  99\n",
            "Você é idoso!\n"
          ]
        }
      ]
    },
    {
      "cell_type": "markdown",
      "source": [
        "\n",
        "'''\n",
        "9.2. Peça ao usuário para digitar uma nota (0 a 100) e imprima se ele foi\n",
        "aprovado (nota >= 60) ou reprovado.\n",
        "'''"
      ],
      "metadata": {
        "id": "gkUSGPuTwbtI"
      }
    },
    {
      "cell_type": "code",
      "source": [
        "\n",
        "\n",
        "nota = int(input(\"Digite sua nota da prova: \"))\n",
        "if (nota >= 60 and nota <= 100):\n",
        "    print(\"Você foi aprovado!\")\n",
        "elif (nota >= 0 and nota <= 59):\n",
        "    print(\"Você foi reprovado!\")\n",
        "else:\n",
        "    print(\"Valor inválido!\")\n",
        "\n"
      ],
      "metadata": {
        "id": "pse5b4NO52OP",
        "colab": {
          "base_uri": "https://localhost:8080/"
        },
        "outputId": "a6e197ae-5de3-4ef5-b727-778b0c4ba389"
      },
      "execution_count": null,
      "outputs": [
        {
          "output_type": "stream",
          "name": "stdout",
          "text": [
            "Digite sua nota da prova: 91\n",
            "Você foi aprovado!\n"
          ]
        }
      ]
    },
    {
      "cell_type": "markdown",
      "source": [
        "\n",
        "'''\n",
        "9.3. Crie uma lista com os nomes de cinco cidades. Use um loop for para imprimir\n",
        "cada nome de cidade.\n",
        "'''"
      ],
      "metadata": {
        "id": "o5F39iPAwf9r"
      }
    },
    {
      "cell_type": "code",
      "source": [
        "\n",
        "\n",
        "\n",
        "cidades = [\"Balneario Camboriu\", \"Itajai\", \"Bombinhas\",   \"Florianopolis\", \"Joinville\" ]\n",
        "\n",
        "for x in cidades:\n",
        "    print(x)"
      ],
      "metadata": {
        "id": "inMnGHFy525K",
        "colab": {
          "base_uri": "https://localhost:8080/"
        },
        "outputId": "70ecd9be-388b-461d-ca38-b42265489243"
      },
      "execution_count": null,
      "outputs": [
        {
          "output_type": "stream",
          "name": "stdout",
          "text": [
            "Balneario Camboriu\n",
            "Itajai\n",
            "Bombinhas\n",
            "Florianopolis\n",
            "Joinville\n"
          ]
        }
      ]
    },
    {
      "cell_type": "markdown",
      "source": [
        "'''\n",
        "9.4. Crie uma lista com os números de 1 a 10. Use um loop for para imprimir o\n",
        "quadrado de cada número.\n",
        "'''"
      ],
      "metadata": {
        "id": "nPBFoftZwkwR"
      }
    },
    {
      "cell_type": "code",
      "source": [
        "\n",
        "\n",
        "\n",
        "numeros = [1, 2, 3, 4, 5, 6, 7, 8, 9, 10]\n",
        "\n",
        "for  numero in numeros:\n",
        "    print( numero  ** 2)\n"
      ],
      "metadata": {
        "id": "GitTfGfM539Y",
        "colab": {
          "base_uri": "https://localhost:8080/"
        },
        "outputId": "099042e2-26a7-439a-b290-04509d875710"
      },
      "execution_count": null,
      "outputs": [
        {
          "output_type": "stream",
          "name": "stdout",
          "text": [
            "1\n",
            "4\n",
            "9\n",
            "16\n",
            "25\n",
            "36\n",
            "49\n",
            "64\n",
            "81\n",
            "100\n"
          ]
        }
      ]
    },
    {
      "cell_type": "markdown",
      "source": [
        "# 10 - Estudo de caso 01"
      ],
      "metadata": {
        "id": "_vJUEjo_6mWX"
      }
    },
    {
      "cell_type": "markdown",
      "source": [
        "'''\n",
        "Contexto:\n",
        "Uma empresa precisa registrar informações sobre seus clientes e calcular o IMC\n",
        "(Índice de Massa Corporal) de cada um deles. As informações devem ser\n",
        "armazenadas em um dicionário e exibidas ao final.\n",
        "'''\n",
        "\n",
        "\n",
        "'''\n",
        "Requisitos:\n",
        "Peça ao usuário para inserir os seguintes dados de um cliente:\n",
        "Nome\n",
        "Idade\n",
        "Peso (em kg)\n",
        "Altura (em metros)\n",
        "E-mail\n",
        "Armazene essas informações em um dicionário.\n",
        "Calcule o IMC do cliente (IMC = Peso / (Altura * Altura)) e adicione esse valor ao dicionário.\n",
        "Exiba todas as informações do cliente, incluindo o IMC arredondado para duas casas decimais.\n",
        "\n",
        "'''"
      ],
      "metadata": {
        "id": "MEuiiEUkwsaN"
      }
    },
    {
      "cell_type": "code",
      "source": [
        "\n",
        "\n",
        "\n",
        "\n",
        "\n",
        "nome = input(\"Digite o nome do cliente: \")\n",
        "idade = int(input(\"Digite a idade: \"))\n",
        "peso = float(input(\"Digite o peso do cliente: \"))\n",
        "altura = float(input(\"Digite o altura do cliente: \"))\n",
        "email = input(\"Digite o email do cliente: \")\n",
        "\n",
        "cliente = {\"Nome\": nome,\"Idade\": idade,\"Peso\": peso,\"Altura\": altura,\"Email\": email}\n",
        "\n",
        "\n",
        "\n",
        "imc = peso / (altura * altura )\n",
        "imc =round(imc,2)\n",
        "\n",
        "cliente[\"IMC\"] = imc\n",
        "\n",
        "\n",
        "\n",
        "print(cliente)\n",
        "\n"
      ],
      "metadata": {
        "id": "llIsNhsG6l_z",
        "colab": {
          "base_uri": "https://localhost:8080/"
        },
        "outputId": "773433d8-25e3-4b5e-df2e-42e76cf681e6"
      },
      "execution_count": null,
      "outputs": [
        {
          "output_type": "stream",
          "name": "stdout",
          "text": [
            "Digite o nome do cliente: jhon\n",
            "Digite a idade: 32\n",
            "Digite o peso do cliente: 82\n",
            "Digite o altura do cliente: 1.79\n",
            "Digite o email do cliente: jhon@mail.com\n",
            "{'Nome': 'jhon', 'Idade': 32, 'Peso': 82.0, 'Altura': 1.79, 'Email': 'jhon@mail.com', 'IMC': 25.59}\n"
          ]
        }
      ]
    },
    {
      "cell_type": "markdown",
      "source": [
        "# 11 - Estudo de Caso 02"
      ],
      "metadata": {
        "id": "_Yi8lRKQ68B3"
      }
    },
    {
      "cell_type": "markdown",
      "source": [
        "'''\n",
        "Contexto:\n",
        "Uma escola precisa analisar as notas de seus alunos e determinar se cada aluno\n",
        "foi aprovado ou reprovado. As notas serão armazenadas em uma lista e a análise\n",
        "deve ser realizada em um loop.\n",
        "'''\n",
        "\n",
        "'''\n",
        "Requisitos:\n",
        "Peça ao usuário para inserir o nome e a nota de cinco alunos.\n",
        "Armazene os nomes e as notas em listas separadas.\n",
        "Para cada aluno, verifique se a nota é maior ou igual a 60. Se sim, o aluno está\n",
        "aprovado; caso contrário, está reprovado.\n",
        "Exiba uma mensagem para cada aluno informando seu nome, nota e se foi aprovado\n",
        "ou reprovado.\n",
        "'''"
      ],
      "metadata": {
        "id": "IbaWA7iAwxL4"
      }
    },
    {
      "cell_type": "code",
      "source": [
        "\n",
        "\n",
        "\n",
        "alunos = []\n",
        "notas = []\n",
        "for i in range(5):\n",
        "    aluno = input(\"Digite o nome do aluno: \")\n",
        "    nota =  int(input(\"Digite a nota do aluno: \"))\n",
        "    alunos.append(aluno)\n",
        "    notas.append(nota)\n",
        "\n",
        "for i in range(5):\n",
        "    if notas[i] >= 60:\n",
        "        print(\"O aluno\", alunos[i],   \"foi aprovado!  Com a nota : \", notas[i])\n",
        "    else:\n",
        "        print(\"O aluno\", alunos[i], \"foi reprovado! com a nota : \", notas[i])\n",
        "\n"
      ],
      "metadata": {
        "id": "mrqCtmjg6_It",
        "colab": {
          "base_uri": "https://localhost:8080/"
        },
        "outputId": "a7ae1ea6-2ff2-44e7-a888-c798454a3774"
      },
      "execution_count": null,
      "outputs": [
        {
          "output_type": "stream",
          "name": "stdout",
          "text": [
            "Digite o nome do aluno: leon\n",
            "Digite a nota do aluno: 50\n",
            "Digite o nome do aluno: eva\n",
            "Digite a nota do aluno: 100\n",
            "Digite o nome do aluno: haku\n",
            "Digite a nota do aluno: 59\n",
            "Digite o nome do aluno: silva\n",
            "Digite a nota do aluno: 70\n",
            "Digite o nome do aluno: jhon\n",
            "Digite a nota do aluno: 100\n",
            "O aluno leon foi reprovado! com a nota :  50\n",
            "O aluno eva foi aprovado!  Com a nota :  100\n",
            "O aluno haku foi reprovado! com a nota :  59\n",
            "O aluno silva foi aprovado!  Com a nota :  70\n",
            "O aluno jhon foi aprovado!  Com a nota :  100\n"
          ]
        }
      ]
    },
    {
      "cell_type": "markdown",
      "source": [
        "# 12 - Estudo de caso 03"
      ],
      "metadata": {
        "id": "DoDAFqG37QWG"
      }
    },
    {
      "cell_type": "markdown",
      "source": [
        "'''\n",
        "Contexto\n",
        "Uma empresa deseja realizar uma pesquisa de opinião com cinco participantes\n",
        "sobre um novo produto. As respostas devem ser armazenadas e analisadas para\n",
        "verificar a satisfação dos clientes.\n",
        "'''\n",
        "\n",
        "'''\n",
        "Requisitos\n",
        "Peça ao usuário para inserir o nome e a opinião (satisfeito/insatisfeito) de\n",
        "cinco participantes.\n",
        "Armazene os nomes e as opiniões em um dicionário.\n",
        "Conte o número de participantes satisfeitos e insatisfeitos.\n",
        "Exiba a lista de participantes satisfeitos e insatisfeitos, bem como o número\n",
        "total de cada categoria.\n",
        "'''"
      ],
      "metadata": {
        "id": "hLKc69yTw3O-"
      }
    },
    {
      "cell_type": "code",
      "source": [
        "\n",
        "\n",
        "\n",
        "participantes = {}\n",
        "satisfeitos = 0\n",
        "insatisfeitos = 0\n",
        "\n",
        "for i in range(5):\n",
        "    nome = input(\"Digite o  nome do participante:  \")\n",
        "    opiniao = input(\"Digite a  opinião do participante. (satisfeito/insatisfeito):  \")\n",
        "    participantes[nome] = opiniao\n",
        "\n",
        "for opiniao in participantes.values():\n",
        "    if opiniao == \"satisfeito\":\n",
        "        satisfeitos += 1\n",
        "    elif opiniao == \"insatisfeito\":\n",
        "        insatisfeitos += 1\n",
        "\n",
        "print(\"Total de participantes satisfeitos:\",  satisfeitos)\n",
        "print(\"Total de participantes insatisfeitos:\",  insatisfeitos)\n",
        "\n",
        "print(\"Lista de participantes satisfeitos:\")\n",
        "for nome, opiniao in participantes.items():\n",
        "    if opiniao == \"satisfeito\":\n",
        "        print(nome)\n",
        "\n",
        "print(\"Lista de participantes insatisfeitos: \")\n",
        "for nome, opiniao in participantes.items():\n",
        "    if opiniao == \"insatisfeito\":\n",
        "        print(nome)\n",
        "\n",
        "\n",
        "\n"
      ],
      "metadata": {
        "id": "34JqxL0B7Tvj",
        "colab": {
          "base_uri": "https://localhost:8080/"
        },
        "outputId": "4ac21280-2275-4d67-d5d6-1d550b971cbe"
      },
      "execution_count": null,
      "outputs": [
        {
          "output_type": "stream",
          "name": "stdout",
          "text": [
            "Digite o  nome do participante:  jhon\n",
            "Digite a  opinião do participante. (satisfeito/insatisfeito):  satisfeito\n",
            "Digite o  nome do participante:  leon\n",
            "Digite a  opinião do participante. (satisfeito/insatisfeito):  insatisfeito\n",
            "Digite o  nome do participante:  eva\n",
            "Digite a  opinião do participante. (satisfeito/insatisfeito):  insatisfeito\n",
            "Digite o  nome do participante:  haku\n",
            "Digite a  opinião do participante. (satisfeito/insatisfeito):  satisfeito\n",
            "Digite o  nome do participante:  silva\n",
            "Digite a  opinião do participante. (satisfeito/insatisfeito):  satisfeito\n",
            "Total de participantes satisfeitos: 3\n",
            "Total de participantes insatisfeitos: 2\n",
            "Lista de participantes satisfeitos:\n",
            "jhon\n",
            "haku\n",
            "silva\n",
            "Lista de participantes insatisfeitos: \n",
            "leon\n",
            "eva\n"
          ]
        }
      ]
    }
  ]
}