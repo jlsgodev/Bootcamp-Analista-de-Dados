{
  "cells": [
    {
      "cell_type": "code",
      "execution_count": null,
      "metadata": {
        "id": "8mszC82jLpCh",
        "jupyter": {
          "is_executing": true
        }
      },
      "outputs": [],
      "source": [
        "# Importação da biblioteca pandas\n",
        "import pandas as pd"
      ]
    },
    {
      "cell_type": "code",
      "execution_count": null,
      "metadata": {
        "ExecuteTime": {
          "end_time": "2024-08-29T18:52:49.193869Z",
          "start_time": "2024-08-29T18:52:02.857555Z"
        },
        "id": "hz3NhJDsqVP7"
      },
      "outputs": [],
      "source": [
        "# Instalação dos requisitos para o PySpark\n",
        "!sudo apt-get install openjdk-8-jdk-headless -qq > /dev/null\n",
        "!wget -q http://archive.apache.org/dist/spark/spark-3.1.1/spark-3.1.1-bin-hadoop3.2.tgz\n",
        "!tar xf spark-3.1.1-bin-hadoop3.2.tgz\n",
        "!pip install -q findspark"
      ]
    },
    {
      "cell_type": "code",
      "execution_count": null,
      "metadata": {
        "ExecuteTime": {
          "end_time": "2024-08-29T19:01:23.312005Z",
          "start_time": "2024-08-29T19:01:19.098317Z"
        },
        "colab": {
          "base_uri": "https://localhost:8080/"
        },
        "id": "QiJA0v2HNSSV",
        "outputId": "2a2dd7ed-d77f-4d27-96b6-e57ea45f0604"
      },
      "outputs": [
        {
          "output_type": "stream",
          "name": "stdout",
          "text": [
            "Collecting pyspark\n",
            "  Downloading pyspark-3.5.2.tar.gz (317.3 MB)\n",
            "\u001b[2K     \u001b[90m━━━━━━━━━━━━━━━━━━━━━━━━━━━━━━━━━━━━━━━━\u001b[0m \u001b[32m317.3/317.3 MB\u001b[0m \u001b[31m3.6 MB/s\u001b[0m eta \u001b[36m0:00:00\u001b[0m\n",
            "\u001b[?25h  Preparing metadata (setup.py) ... \u001b[?25l\u001b[?25hdone\n",
            "Requirement already satisfied: py4j==0.10.9.7 in /usr/local/lib/python3.10/dist-packages (from pyspark) (0.10.9.7)\n",
            "Building wheels for collected packages: pyspark\n",
            "  Building wheel for pyspark (setup.py) ... \u001b[?25l\u001b[?25hdone\n",
            "  Created wheel for pyspark: filename=pyspark-3.5.2-py2.py3-none-any.whl size=317812365 sha256=ca5cba904414abfa21b30eafdebfdab73cb40d49d546377fd561d53f2286b2d5\n",
            "  Stored in directory: /root/.cache/pip/wheels/34/34/bd/03944534c44b677cd5859f248090daa9fb27b3c8f8e5f49574\n",
            "Successfully built pyspark\n",
            "Installing collected packages: pyspark\n",
            "Successfully installed pyspark-3.5.2\n"
          ]
        }
      ],
      "source": [
        "!pip install pyspark"
      ]
    },
    {
      "cell_type": "code",
      "execution_count": null,
      "metadata": {
        "colab": {
          "base_uri": "https://localhost:8080/"
        },
        "id": "OnvBVPCYTKuK",
        "outputId": "04244200-c7db-4d26-e0a8-3d045734c44a"
      },
      "outputs": [
        {
          "output_type": "stream",
          "name": "stdout",
          "text": [
            "Requirement already satisfied: openpyxl in /usr/local/lib/python3.10/dist-packages (3.1.5)\n",
            "Requirement already satisfied: et-xmlfile in /usr/local/lib/python3.10/dist-packages (from openpyxl) (1.1.0)\n"
          ]
        }
      ],
      "source": [
        "!pip install openpyxl"
      ]
    },
    {
      "cell_type": "markdown",
      "metadata": {
        "id": "ZZupf7VlFD__"
      },
      "source": [
        "### 1. Análise de Consistência de Dados: Identificar e corrigir inconsistências nos valores de \"Área\" e \"Status de Emprego\" (e.g., diferenças de maiúsculas/minúsculas)."
      ]
    },
    {
      "cell_type": "code",
      "execution_count": null,
      "metadata": {
        "ExecuteTime": {
          "end_time": "2024-08-29T19:12:17.646748Z",
          "start_time": "2024-08-29T19:12:17.494486Z"
        },
        "colab": {
          "base_uri": "https://localhost:8080/"
        },
        "id": "P6sswD5yA-hZ",
        "outputId": "34c53c46-04a5-4294-e85b-3546cc47376a"
      },
      "outputs": [
        {
          "output_type": "stream",
          "name": "stdout",
          "text": [
            "+----+--------------+-----+----------+-------+-------------------+-----------------+\n",
            "|  ID|          Nome|Idade|      Área|Salário|Data de Contratação|Status de Emprego|\n",
            "+----+--------------+-----+----------+-------+-------------------+-----------------+\n",
            "| 1.0|    João Silva| 29.0|Financeiro|   5500|         01/02/2020|            Ativo|\n",
            "| 2.0|   Maria Souza| 30.0|        RH|   4800|         15-03-2019|            ativo|\n",
            "| 3.0|Carlos Pereira| NULL| Finaceiro|   6200|         2020/04/01|            Ativo|\n",
            "| 4.0|     Ana Clara| 27.0| Marketing|   4800|         12/06/2018|            Ativo|\n",
            "| 5.0|  Fabio Santos| 31.0|          |   5500|         20-11-2017|            ativo|\n",
            "| 6.0|   Sandra Lima| 28.0|        RH|   NULL|         05-05-2020|            Ativo|\n",
            "| 7.0|    José Alves| 34.0| Marketing|   5400|         2018/02/01|          inativo|\n",
            "| 8.0| Luciana Costa| 30.0|Financeiro|R$ 5200|         01.01.2019|            Ativo|\n",
            "| 9.0| Paulo Ricardo| NULL| Finaceiro|   6100|         12/12/2020|          Inativo|\n",
            "|10.0| Fernanda Dias| 29.0|        RH|   4800|                   |            Ativo|\n",
            "| 1.0|    João Silva| 29.0|Financeiro|   5500|         01/02/2020|            Ativo|\n",
            "|NULL|          NULL| NULL|      NULL|   NULL|               NULL|             NULL|\n",
            "|NULL|          NULL| NULL|      NULL|   NULL|               NULL|             NULL|\n",
            "|NULL|          NULL| NULL|      NULL|   NULL|               NULL|             NULL|\n",
            "|NULL|          NULL| NULL|      NULL|   NULL|               NULL|             NULL|\n",
            "|NULL|          NULL| NULL|      NULL|   NULL|               NULL|             NULL|\n",
            "|NULL|          NULL| NULL|      NULL|   NULL|               NULL|             NULL|\n",
            "|NULL|          NULL| NULL|      NULL|   NULL|               NULL|             NULL|\n",
            "|NULL|          NULL| NULL|      NULL|   NULL|               NULL|             NULL|\n",
            "|NULL|          NULL| NULL|      NULL|   NULL|               NULL|             NULL|\n",
            "+----+--------------+-----+----------+-------+-------------------+-----------------+\n",
            "only showing top 20 rows\n",
            "\n"
          ]
        }
      ],
      "source": [
        "from pyspark.sql import SparkSession\n",
        "from pyspark.sql import functions as F\n",
        "\n",
        "# Configurar a sessão Spark com o pacote spark-excel\n",
        "spark = SparkSession.builder \\\n",
        "    .appName('Ler XLSX com PySpark') \\\n",
        "    .config('spark.jars.packages', 'com.crealytics:spark-excel_2.12:0.13.5') \\\n",
        "    .getOrCreate()\n",
        "\n",
        "# Caminho para o arquivo Excel\n",
        "file_path = '/content/base_suja.xlsx'\n",
        "\n",
        "# Ler o arquivo Excel\n",
        "df = spark.read.format('com.crealytics.spark.excel') \\\n",
        "    .option('header', 'true') \\\n",
        "    .option('inferSchema', 'true') \\\n",
        "    .option('dataAddress', \"'Planilha1'!A1\") \\\n",
        "    .load(file_path)\n",
        "\n",
        "# Exibir  DataFrame\n",
        "df.show()\n"
      ]
    },
    {
      "cell_type": "code",
      "source": [
        "# Alterar minusculas para maiusculas nas tabelas 'Área' e 'Status de Emprego'\n",
        "df = df.withColumn('Área', F.upper(F.col('Área')))\n",
        "df = df.withColumn('Status de Emprego', F.upper(F.col('Status de Emprego')))\n",
        "df.show()"
      ],
      "metadata": {
        "colab": {
          "base_uri": "https://localhost:8080/"
        },
        "id": "n5uAnALasx3Z",
        "outputId": "d6ca327a-275f-4d23-e81d-e35909e10534"
      },
      "execution_count": null,
      "outputs": [
        {
          "output_type": "stream",
          "name": "stdout",
          "text": [
            "+----+--------------+-----+----------+-------+-------------------+-----------------+\n",
            "|  ID|          Nome|Idade|      Área|Salário|Data de Contratação|Status de Emprego|\n",
            "+----+--------------+-----+----------+-------+-------------------+-----------------+\n",
            "| 1.0|    João Silva| 29.0|FINANCEIRO|   5500|         01/02/2020|            ATIVO|\n",
            "| 2.0|   Maria Souza| 30.0|        RH|   4800|         15-03-2019|            ATIVO|\n",
            "| 3.0|Carlos Pereira| NULL| FINACEIRO|   6200|         2020/04/01|            ATIVO|\n",
            "| 4.0|     Ana Clara| 27.0| MARKETING|   4800|         12/06/2018|            ATIVO|\n",
            "| 5.0|  Fabio Santos| 31.0|          |   5500|         20-11-2017|            ATIVO|\n",
            "| 6.0|   Sandra Lima| 28.0|        RH|   NULL|         05-05-2020|            ATIVO|\n",
            "| 7.0|    José Alves| 34.0| MARKETING|   5400|         2018/02/01|          INATIVO|\n",
            "| 8.0| Luciana Costa| 30.0|FINANCEIRO|R$ 5200|         01.01.2019|            ATIVO|\n",
            "| 9.0| Paulo Ricardo| NULL| FINACEIRO|   6100|         12/12/2020|          INATIVO|\n",
            "|10.0| Fernanda Dias| 29.0|        RH|   4800|                   |            ATIVO|\n",
            "| 1.0|    João Silva| 29.0|FINANCEIRO|   5500|         01/02/2020|            ATIVO|\n",
            "|NULL|          NULL| NULL|      NULL|   NULL|               NULL|             NULL|\n",
            "|NULL|          NULL| NULL|      NULL|   NULL|               NULL|             NULL|\n",
            "|NULL|          NULL| NULL|      NULL|   NULL|               NULL|             NULL|\n",
            "|NULL|          NULL| NULL|      NULL|   NULL|               NULL|             NULL|\n",
            "|NULL|          NULL| NULL|      NULL|   NULL|               NULL|             NULL|\n",
            "|NULL|          NULL| NULL|      NULL|   NULL|               NULL|             NULL|\n",
            "|NULL|          NULL| NULL|      NULL|   NULL|               NULL|             NULL|\n",
            "|NULL|          NULL| NULL|      NULL|   NULL|               NULL|             NULL|\n",
            "|NULL|          NULL| NULL|      NULL|   NULL|               NULL|             NULL|\n",
            "+----+--------------+-----+----------+-------+-------------------+-----------------+\n",
            "only showing top 20 rows\n",
            "\n"
          ]
        }
      ]
    },
    {
      "cell_type": "markdown",
      "metadata": {
        "id": "3mH_pDYOFXjk"
      },
      "source": [
        "### 2. Limpeza de Dados Faltantes: Detectar e tratar os valores ausentes na coluna \"Idade\" e \"Área\".\n"
      ]
    },
    {
      "cell_type": "code",
      "execution_count": null,
      "metadata": {
        "ExecuteTime": {
          "end_time": "2024-08-29T19:04:41.116565Z",
          "start_time": "2024-08-29T19:04:38.372865Z"
        },
        "colab": {
          "base_uri": "https://localhost:8080/"
        },
        "id": "xyrvKqx_Faec",
        "outputId": "dae4c6be-7009-40c6-e2a5-42dd3799d3a3"
      },
      "outputs": [
        {
          "output_type": "stream",
          "name": "stdout",
          "text": [
            "+----+--------------+-----+------------+-------+-------------------+-----------------+\n",
            "|  ID|          Nome|Idade|        Área|Salário|Data de Contratação|Status de Emprego|\n",
            "+----+--------------+-----+------------+-------+-------------------+-----------------+\n",
            "| 8.0| Luciana Costa| 30.0|  FINANCEIRO|R$ 5200|         01.01.2019|            ATIVO|\n",
            "|10.0| Fernanda Dias| 29.0|          RH|   4800|                   |            ATIVO|\n",
            "| 5.0|  Fabio Santos| 31.0|DESCONHECIDA|   5500|         20-11-2017|            ATIVO|\n",
            "| 2.0|   Maria Souza| 30.0|          RH|   4800|         15-03-2019|            ATIVO|\n",
            "| 7.0|    José Alves| 34.0|   MARKETING|   5400|         2018/02/01|          INATIVO|\n",
            "| 4.0|     Ana Clara| 27.0|   MARKETING|   4800|         12/06/2018|            ATIVO|\n",
            "| 1.0|    João Silva| 29.0|  FINANCEIRO|   5500|         01/02/2020|            ATIVO|\n",
            "| 3.0|Carlos Pereira| 30.0|  FINANCEIRO|   6200|         2020/04/01|            ATIVO|\n",
            "| 6.0|   Sandra Lima| 28.0|          RH|   NULL|         05-05-2020|            ATIVO|\n",
            "| 9.0| Paulo Ricardo| 30.0|  FINANCEIRO|   6100|         12/12/2020|          INATIVO|\n",
            "+----+--------------+-----+------------+-------+-------------------+-----------------+\n",
            "\n"
          ]
        }
      ],
      "source": [
        "from pyspark.sql import functions as F\n",
        "\n",
        "# Remover linhas duplicadas como exemplo João Silva\n",
        "df = df.dropDuplicates()\n",
        "\n",
        "# Remover linhas completamente vazias (todos os campos NULL)\n",
        "df = df.na.drop(how='all')\n",
        "\n",
        "# Substituir valores vazios na coluna 'Área' por 'DESCONHECIDA'\n",
        "df = df.withColumn('Área', F.when(F.col('Área') == '', 'DESCONHECIDA').otherwise(F.col('Área')))\n",
        "\n",
        "# Corrigir valores da coluna 'Área' de 'FINACEIRO' para 'FINANCEIRO'\n",
        "df = df.withColumn('Área', F.when(F.col('Área') == 'FINACEIRO', 'FINANCEIRO').otherwise(F.col('Área')))\n",
        "\n",
        "# Calcular a média da coluna 'Idade', se houver valores não nulos\n",
        "media_idade = df.agg(F.mean(F.col('Idade'))).first()[0]\n",
        "\n",
        "# Preencher valores nulos na coluna 'Idade' com a média calculada\n",
        "df = df.withColumn('Idade', F.when(F.col('Idade').isNull(), media_idade).otherwise(F.col('Idade')))\n",
        "\n",
        "# Arredondar a coluna 'Idade'\n",
        "df = df.withColumn('Idade', F.round(F.col('Idade'), 0))\n",
        "\n",
        "# Exibir o DataFrame final corrigido\n",
        "df.show()\n"
      ]
    },
    {
      "cell_type": "markdown",
      "metadata": {
        "id": "a2zWLGEXFa4K"
      },
      "source": [
        "### 3. Distribuição de Idade: Analisar a distribuição da idade dos funcionários por departamento."
      ]
    },
    {
      "cell_type": "code",
      "execution_count": null,
      "metadata": {
        "ExecuteTime": {
          "end_time": "2024-08-29T19:16:56.273679Z",
          "start_time": "2024-08-29T19:16:53.563909Z"
        },
        "colab": {
          "base_uri": "https://localhost:8080/"
        },
        "id": "lplkYd4xqVP-",
        "outputId": "ab601ba0-82b5-4ed3-e159-8b8d651bf517"
      },
      "outputs": [
        {
          "output_type": "stream",
          "name": "stdout",
          "text": [
            "+------------+--------+-----------+------------+------------+\n",
            "|        Área|Contagem|Média_Idade|Idade_Mínima|Idade_Máxima|\n",
            "+------------+--------+-----------+------------+------------+\n",
            "|   MARKETING|       2|       30.5|        27.0|        34.0|\n",
            "|          RH|       3|       29.0|        28.0|        30.0|\n",
            "|DESCONHECIDA|       1|       31.0|        31.0|        31.0|\n",
            "|  FINANCEIRO|       4|       29.8|        29.0|        30.0|\n",
            "+------------+--------+-----------+------------+------------+\n",
            "\n"
          ]
        }
      ],
      "source": [
        "from pyspark.sql import functions as F\n",
        "\n",
        "# Calcular a média, min e max da coluna 'Idade' agrupando por 'Área'\n",
        "df_idade_distribuicao = df.groupBy('Área') \\\n",
        "    .agg(F.count('Idade').alias('Contagem'),\n",
        "         F.round(F.mean('Idade'), 1).alias('Média_Idade'),\n",
        "         F.min('Idade').alias('Idade_Mínima'),\n",
        "         F.max('Idade').alias('Idade_Máxima'))\n",
        "\n",
        "# Exibir a distribuição de idades por área\n",
        "df_idade_distribuicao.show()"
      ]
    },
    {
      "cell_type": "markdown",
      "metadata": {
        "id": "u9YOmfPvFfUG"
      },
      "source": [
        "### 4. Salário por Departamento: Calcular a média, mediana e desvio padrão dos salários por departamento.\n"
      ]
    },
    {
      "cell_type": "code",
      "execution_count": null,
      "metadata": {
        "ExecuteTime": {
          "end_time": "2024-08-29T19:22:08.870733Z",
          "start_time": "2024-08-29T19:22:07.286396Z"
        },
        "colab": {
          "base_uri": "https://localhost:8080/"
        },
        "id": "bk0n5F0UFi9k",
        "outputId": "a3f733d6-21bb-4ab3-ef3f-833c95107af0"
      },
      "outputs": [
        {
          "output_type": "stream",
          "name": "stdout",
          "text": [
            "+------------+-------------+---------------+---------------------+\n",
            "|        Área|Media_Salario|Mediana_Salario|Desvio_Padrao_Salario|\n",
            "+------------+-------------+---------------+---------------------+\n",
            "|   MARKETING|       5100.0|         4800.0|                424.3|\n",
            "|          RH|       4800.0|         4800.0|                  0.0|\n",
            "|DESCONHECIDA|       5500.0|         5500.0|                 NULL|\n",
            "|  FINANCEIRO|       5750.0|         5500.0|                479.6|\n",
            "+------------+-------------+---------------+---------------------+\n",
            "\n"
          ]
        }
      ],
      "source": [
        "\n",
        "from pyspark.sql import functions as F\n",
        "\n",
        "# Renomear a coluna 'Salário' para evitar problemas\n",
        "df = df.withColumnRenamed('Salário', 'Salario')\n",
        "\n",
        "# Remover 'R$' e converter a coluna 'Salario' para numérico\n",
        "df = df.withColumn(\n",
        "    'Salario',\n",
        "    F.regexp_replace('Salario', 'R\\\\$', '').cast('double')\n",
        ")\n",
        "\n",
        "# Calcular estatísticas descritivas dos salários por departamento\n",
        "estatisticas_salario = df.groupBy('Área').agg(\n",
        "    F.mean('Salario').alias('Media_Salario'),\n",
        "    F.expr('percentile_approx(Salario, 0.5)').alias('Mediana_Salario'),\n",
        "    F.round(F.stddev('Salario'), 1).alias('Desvio_Padrao_Salario')\n",
        ")\n",
        "\n",
        "# Resultados\n",
        "estatisticas_salario.show()\n",
        "\n"
      ]
    },
    {
      "cell_type": "markdown",
      "metadata": {
        "id": "knwMdAArFjaD"
      },
      "source": [
        "### 5. Análise de Outliers: Identificar salários que estão fora do padrão (outliers) para cada departamento."
      ]
    },
    {
      "cell_type": "code",
      "execution_count": null,
      "metadata": {
        "colab": {
          "base_uri": "https://localhost:8080/"
        },
        "id": "BjneMjooqVP-",
        "outputId": "71df6d16-c01c-4308-d1a3-16db30bf9117"
      },
      "outputs": [
        {
          "output_type": "stream",
          "name": "stdout",
          "text": [
            "+----+--------------+-----+------------+-------+-------------------+-----------------+-------+\n",
            "|  ID|          Nome|Idade|        Área|Salario|Data de Contratação|Status de Emprego|Z_Score|\n",
            "+----+--------------+-----+------------+-------+-------------------+-----------------+-------+\n",
            "| 5.0|  Fabio Santos| 31.0|DESCONHECIDA| 5500.0|         20-11-2017|            ATIVO|   NULL|\n",
            "| 8.0| Luciana Costa| 30.0|  FINANCEIRO| 5200.0|         01.01.2019|            ATIVO|  -1.15|\n",
            "| 1.0|    João Silva| 29.0|  FINANCEIRO| 5500.0|         01/02/2020|            ATIVO|  -0.52|\n",
            "| 3.0|Carlos Pereira| 30.0|  FINANCEIRO| 6200.0|         2020/04/01|            ATIVO|   0.94|\n",
            "| 9.0| Paulo Ricardo| 30.0|  FINANCEIRO| 6100.0|         12/12/2020|          INATIVO|   0.73|\n",
            "| 7.0|    José Alves| 34.0|   MARKETING| 5400.0|         2018/02/01|          INATIVO|   0.71|\n",
            "| 4.0|     Ana Clara| 27.0|   MARKETING| 4800.0|         12/06/2018|            ATIVO|  -0.71|\n",
            "|10.0| Fernanda Dias| 29.0|          RH| 4800.0|                   |            ATIVO|   NULL|\n",
            "| 2.0|   Maria Souza| 30.0|          RH| 4800.0|         15-03-2019|            ATIVO|   NULL|\n",
            "| 6.0|   Sandra Lima| 28.0|          RH| 4800.0|         05-05-2020|            ATIVO|   NULL|\n",
            "+----+--------------+-----+------------+-------+-------------------+-----------------+-------+\n",
            "\n"
          ]
        }
      ],
      "source": [
        "from pyspark.sql import functions as F\n",
        "from pyspark.sql.window import Window\n",
        "\n",
        "# Remover 'R$' e converter a coluna 'Salario' para numérico\n",
        "df = df.withColumn(\n",
        "    'Salario',\n",
        "    F.regexp_replace('Salario', 'R\\\\$', '').cast('double')\n",
        ")\n",
        "\n",
        "# Adicionar o salário de Sandra Lima\n",
        "df = df.withColumn(\n",
        "    'Salario',\n",
        "    F.when(F.col('Nome') == 'Sandra Lima',  4800.0).otherwise(F.col('Salario'))\n",
        ")\n",
        "\n",
        "# Definir a janela por departamento\n",
        "windowSpec = Window.partitionBy('Área')\n",
        "\n",
        "# Calcular Z-Score e arredondar\n",
        "df_outliers = df.withColumn(\n",
        "    'Z_Score',\n",
        "    F.round((F.col('Salario') - F.avg('Salario').over(windowSpec)) / F.stddev('Salario').over(windowSpec), 2)\n",
        ")\n",
        "\n",
        "# Mostrar todas as linhas com suas estatísticas\n",
        "df_outliers.show()\n",
        "\n",
        "\n"
      ]
    },
    {
      "cell_type": "markdown",
      "metadata": {
        "id": "McFtq5-xFp-I"
      },
      "source": [
        "### 6. Correlação Idade-Salário: Analisar a correlação entre idade e salário dos funcionários.\n"
      ]
    },
    {
      "cell_type": "code",
      "execution_count": null,
      "metadata": {
        "id": "kYkWLjwwFrA5",
        "colab": {
          "base_uri": "https://localhost:8080/"
        },
        "outputId": "f531364c-4c87-4578-a9da-fcb603c7b4bb"
      },
      "outputs": [
        {
          "output_type": "stream",
          "name": "stdout",
          "text": [
            "Correlação entre Idade e Salário: 0.38106375880210946\n"
          ]
        }
      ],
      "source": [
        "# Calcular a correlação entre 'Idade' e 'Salário' usando o método de Pearson (padrão)\n",
        "correlacao = df.stat.corr('Idade', 'Salario')\n",
        "print(f'Correlação entre Idade e Salário: {correlacao}')\n"
      ]
    },
    {
      "cell_type": "markdown",
      "metadata": {
        "id": "CJ0NGw0wFrhq"
      },
      "source": [
        "### 7. Tempo de Casa: Calcular o tempo de contratação dos funcionários e categorizá-los em grupos (e.g., 1-3 anos, 4-6 anos, etc.)."
      ]
    },
    {
      "cell_type": "code",
      "execution_count": null,
      "metadata": {
        "colab": {
          "base_uri": "https://localhost:8080/"
        },
        "id": "EXN_MZmMqVP_",
        "outputId": "69cd4fd5-6dfb-478a-dae6-8e771c9b43b3"
      },
      "outputs": [
        {
          "output_type": "stream",
          "name": "stdout",
          "text": [
            "+--------------+-------------------+------------------+-------------------+\n",
            "|          Nome|Data_de_Contratação|     Tempo_de_Casa|   Grupo_Tempo_Casa|\n",
            "+--------------+-------------------+------------------+-------------------+\n",
            "| Luciana Costa|         01/01/2019| 5.670088980150582|           3-6 anos|\n",
            "| Fernanda Dias|               NULL|              NULL|Data não disponível|\n",
            "|  Fabio Santos|         20/11/2017| 6.784394250513347|            6+ anos|\n",
            "|   Maria Souza|         15/03/2019| 5.470225872689938|           3-6 anos|\n",
            "|    José Alves|         01/02/2018| 6.584531143052704|            6+ anos|\n",
            "|     Ana Clara|         12/06/2018| 6.225872689938399|            6+ anos|\n",
            "|    João Silva|         01/02/2020|  4.58590006844627|           3-6 anos|\n",
            "|Carlos Pereira|         01/04/2020| 4.421629021218344|           3-6 anos|\n",
            "|   Sandra Lima|         05/05/2020| 4.328542094455853|           3-6 anos|\n",
            "| Paulo Ricardo|         12/12/2020|3.7234770704996576|           3-6 anos|\n",
            "+--------------+-------------------+------------------+-------------------+\n",
            "\n"
          ]
        }
      ],
      "source": [
        "from pyspark.sql.functions import udf, col, to_date, datediff, current_date, when, date_format, lit\n",
        "from pyspark.sql.types import StringType\n",
        "from datetime import datetime\n",
        "\n",
        "# Função para padronizar datas\n",
        "def padronizar_data(data):\n",
        "    formatos = ['%d/%m/%Y', '%d-%m-%Y', '%Y/%m/%d', '%d.%m.%Y']\n",
        "    for formato in formatos:\n",
        "        try:\n",
        "            return datetime.strptime(data, formato).strftime('%d/%m/%Y')\n",
        "        except:\n",
        "            continue\n",
        "    return None\n",
        "\n",
        "# Registrar a função UDF\n",
        "padronizar_data_udf = udf(padronizar_data, StringType())\n",
        "\n",
        "# Aplicar a função ao DataFrame\n",
        "df = df.withColumn('Data de Contratação', padronizar_data_udf(col('Data de Contratação')))\n",
        "\n",
        "# Calcular a data de contratação e o tempo de casa em anos completos (arredondados)\n",
        "df_tempo_casa = df.withColumn('Data_de_Contratação', to_date(col('Data de Contratação'), 'dd/MM/yyyy')) \\\n",
        "    .withColumn('Tempo_de_Casa', datediff(current_date(), col('Data_de_Contratação')) / 365.25) \\\n",
        "    .withColumn('Grupo_Tempo_Casa',\n",
        "                when(col('Tempo_de_Casa').isNull(), 'Data não disponível')\n",
        "                .when(col('Tempo_de_Casa') < 1, 'Menos de 1 ano')\n",
        "                .when((col('Tempo_de_Casa') >= 1) & (col('Tempo_de_Casa') < 3), '1-3 anos')\n",
        "                .when((col('Tempo_de_Casa') >= 3) & (col('Tempo_de_Casa') < 6), '3-6 anos')\n",
        "                .otherwise('6+ anos')) \\\n",
        "    .withColumn('Data_de_Contratação', date_format(col('Data_de_Contratação'), 'dd/MM/yyyy'))\n",
        "\n",
        "df_tempo_casa.select('Nome', 'Data_de_Contratação', 'Tempo_de_Casa', 'Grupo_Tempo_Casa').show()"
      ]
    },
    {
      "cell_type": "markdown",
      "metadata": {
        "id": "Xw2elR4nFvaK"
      },
      "source": [
        "### 8. Análise de Rotatividade: Identificar padrões entre os funcionários que estão ativos versus os que não estão."
      ]
    },
    {
      "cell_type": "code",
      "source": [
        "# Identificar padrões  entre funcionários\n",
        "df_rotatividade = df.groupBy('Status de Emprego') \\\n",
        "    .agg(F.count('*').alias('Contagem'),\n",
        "         F.round(F.avg('Idade'), 1).alias('Média_Idade'),\n",
        "         F.avg('Salario').alias('Média_Salário'))\n",
        "\n",
        "df_rotatividade.show()"
      ],
      "metadata": {
        "colab": {
          "base_uri": "https://localhost:8080/"
        },
        "id": "lkF6y2iuOWyy",
        "outputId": "c4093b7b-b53d-478a-c2b6-b101382e16c1"
      },
      "execution_count": null,
      "outputs": [
        {
          "output_type": "stream",
          "name": "stdout",
          "text": [
            "+-----------------+--------+-----------+-------------+\n",
            "|Status de Emprego|Contagem|Média_Idade|Média_Salário|\n",
            "+-----------------+--------+-----------+-------------+\n",
            "|          INATIVO|       2|       32.0|       5750.0|\n",
            "|            ATIVO|       8|       29.3|       5200.0|\n",
            "+-----------------+--------+-----------+-------------+\n",
            "\n"
          ]
        }
      ]
    },
    {
      "cell_type": "markdown",
      "metadata": {
        "id": "142s-af0FzlX"
      },
      "source": [
        "### 9. Análise de Desempenho por Data de Contratação: Verificar se existe uma correlação entre o ano de contratação e o nível de salário."
      ]
    },
    {
      "cell_type": "code",
      "execution_count": null,
      "metadata": {
        "id": "M5hN9B7hF31j",
        "colab": {
          "base_uri": "https://localhost:8080/"
        },
        "outputId": "42cdbf3f-1599-4b4f-a039-92d540191837"
      },
      "outputs": [
        {
          "output_type": "stream",
          "name": "stdout",
          "text": [
            "+---------------+-------------+\n",
            "|Ano_Contratacao|Media_Salario|\n",
            "+---------------+-------------+\n",
            "|           2017|       5500.0|\n",
            "|           2018|       5100.0|\n",
            "|           2019|       5000.0|\n",
            "|           2020|       5650.0|\n",
            "|   Desconhecido|       4800.0|\n",
            "+---------------+-------------+\n",
            "\n"
          ]
        }
      ],
      "source": [
        "from pyspark.sql import functions as F\n",
        "from pyspark.sql.functions import udf, col\n",
        "from pyspark.sql.types import StringType\n",
        "\n",
        "# Extrair o ano da data de contratação da coluna 'Data de Contratação'\n",
        "padronizar_data_udf = udf(lambda data: data.split('/')[-1] if data is not None else 'Desconhecido', StringType())\n",
        "df = df.withColumn('Ano_Contratacao', padronizar_data_udf(col('Data de Contratação')))\n",
        "\n",
        "# Calcular a média de salário por ano de contratação\n",
        "df_salario_ano = df.groupBy('Ano_Contratacao').agg(F.mean('Salario').alias('Media_Salario')).sort('Ano_Contratacao')\n",
        "df_salario_ano.show()\n"
      ]
    },
    {
      "cell_type": "markdown",
      "metadata": {
        "id": "1o1EaIEjF4H-"
      },
      "source": [
        "### 10. Histograma de Salário: Criar um histograma de salários para visualizar a distribuição geral."
      ]
    },
    {
      "cell_type": "code",
      "source": [
        "import matplotlib.pyplot as plt  # Importar a biblioteca de visualização matplotlib que será usada para criar o histograma\n",
        "from pyspark.sql.functions import col # Importar a função 'col' para referenciar colunas\n",
        "\n",
        "# Converter a coluna 'Salário' para numérico, removendo qualquer caractere não numérico\n",
        "df_hist_salario = df.withColumn('Salario', col('Salario').cast('double'))\n",
        "\n",
        "# Verificar se a conversão foi bem-sucedida\n",
        "df_hist_salario.select('Salario').show()\n",
        "\n",
        "# Histograma de Salários\n",
        "hist_data = df_hist_salario.select('Salario').rdd.flatMap(lambda x: x).histogram(20)\n",
        "\n",
        "# Valores e contagens do histograma de salários\n",
        "valores, contagens = hist_data\n",
        "# Plotar o histograma de salários\n",
        "plt.bar(valores[:-1], contagens, width=valores[1] - valores[0])\n",
        "plt.xlabel('Salário')\n",
        "plt.ylabel('Frequência')\n",
        "plt.title('Histograma de Salários')\n",
        "plt.show()"
      ],
      "metadata": {
        "colab": {
          "base_uri": "https://localhost:8080/",
          "height": 732
        },
        "id": "_eF1EgPn386C",
        "outputId": "4f4cb61f-c39b-4641-c764-c2eb11ecc181"
      },
      "execution_count": null,
      "outputs": [
        {
          "output_type": "stream",
          "name": "stdout",
          "text": [
            "+-------+\n",
            "|Salario|\n",
            "+-------+\n",
            "| 5200.0|\n",
            "| 4800.0|\n",
            "| 5500.0|\n",
            "| 4800.0|\n",
            "| 5400.0|\n",
            "| 4800.0|\n",
            "| 5500.0|\n",
            "| 6200.0|\n",
            "| 4800.0|\n",
            "| 6100.0|\n",
            "+-------+\n",
            "\n"
          ]
        },
        {
          "output_type": "display_data",
          "data": {
            "text/plain": [
              "<Figure size 640x480 with 1 Axes>"
            ],
            "image/png": "[encoded data removed]"
          },
          "metadata": {}
        }
      ]
    },
    {
      "cell_type": "markdown",
      "metadata": {
        "id": "y3ihSfh2F8ZS"
      },
      "source": [
        "### 11. Análise de Frequência: Quantificar a frequência dos nomes dos funcionários para identificar nomes comuns."
      ]
    },
    {
      "cell_type": "code",
      "execution_count": null,
      "metadata": {
        "id": "45BVKL4mGAa5",
        "colab": {
          "base_uri": "https://localhost:8080/"
        },
        "outputId": "76cd5b49-9e80-4732-88b1-360010578059"
      },
      "outputs": [
        {
          "output_type": "stream",
          "name": "stdout",
          "text": [
            "+--------------+-----+\n",
            "|          Nome|count|\n",
            "+--------------+-----+\n",
            "|     Ana Clara|    1|\n",
            "| Paulo Ricardo|    1|\n",
            "| Fernanda Dias|    1|\n",
            "|   Sandra Lima|    1|\n",
            "|    José Alves|    1|\n",
            "| Luciana Costa|    1|\n",
            "|  Fabio Santos|    1|\n",
            "|Carlos Pereira|    1|\n",
            "|    João Silva|    1|\n",
            "|   Maria Souza|    1|\n",
            "+--------------+-----+\n",
            "\n"
          ]
        }
      ],
      "source": [
        "from pyspark.sql.functions import col   # Importar a função 'col' que é usada para referenciar colunas\n",
        "\n",
        "# Agrupar por 'Nome' e contar a frequência de cada nome\n",
        "nome_frequencia = df.groupBy('Nome').count()\n",
        "\n",
        "# Ordenar por frequência decrescente\n",
        "nome_frequencia = nome_frequencia.orderBy(col('count').desc())\n",
        "\n",
        "# Show the frequency of names\n",
        "nome_frequencia.show()"
      ]
    },
    {
      "cell_type": "markdown",
      "metadata": {
        "id": "WiXFA7waGAqU"
      },
      "source": [
        "### 12. Agrupamento de Departamentos: Analisar o impacto do departamento na variação salarial e na distribuição de idade."
      ]
    },
    {
      "cell_type": "code",
      "source": [
        "df_departamento = df.groupBy('Área') \\\n",
        "    .agg(F.count('Salario').alias('Contagem_Funcionários'),\n",
        "         F.round(F.mean('Salario'), 2).alias('Média_Salário'),\n",
        "         F.round(F.stddev('Salario'), 2).alias('Desvio_Padrão_Salário'),\n",
        "         F.round(F.mean('Idade'), 2).alias('Média_Idade'),\n",
        "         F.round(F.stddev('Idade'), 2).alias('Desvio_Padrão_Idade'))\n",
        "\n",
        "# Exibir o DataFrame\n",
        "df_departamento.show()"
      ],
      "metadata": {
        "colab": {
          "base_uri": "https://localhost:8080/"
        },
        "id": "zNZqRveO5mqO",
        "outputId": "ceb00b24-c798-4b10-f991-1bcb7b2151bf"
      },
      "execution_count": null,
      "outputs": [
        {
          "output_type": "stream",
          "name": "stdout",
          "text": [
            "+------------+---------------------+-------------+---------------------+-----------+-------------------+\n",
            "|        Área|Contagem_Funcionários|Média_Salário|Desvio_Padrão_Salário|Média_Idade|Desvio_Padrão_Idade|\n",
            "+------------+---------------------+-------------+---------------------+-----------+-------------------+\n",
            "|   MARKETING|                    2|       5100.0|               424.26|       30.5|               4.95|\n",
            "|          RH|                    3|       4800.0|                  0.0|       29.0|                1.0|\n",
            "|DESCONHECIDA|                    1|       5500.0|                 NULL|       31.0|               NULL|\n",
            "|  FINANCEIRO|                    4|       5750.0|               479.58|      29.75|                0.5|\n",
            "+------------+---------------------+-------------+---------------------+-----------+-------------------+\n",
            "\n"
          ]
        }
      ]
    },
    {
      "cell_type": "markdown",
      "metadata": {
        "id": "d5hfVHzXGF_h"
      },
      "source": [
        "### 13. Normalização de Dados: Normalizar o salário e idade para comparações entre diferentes departamentos."
      ]
    },
    {
      "cell_type": "code",
      "execution_count": null,
      "metadata": {
        "id": "ac7bnbbCGHNR",
        "colab": {
          "base_uri": "https://localhost:8080/"
        },
        "outputId": "c14c7f89-a555-4e86-c9ae-ad2510260b86"
      },
      "outputs": [
        {
          "output_type": "stream",
          "name": "stdout",
          "text": [
            "+--------------+------------+-------+-----+-------------------------+\n",
            "|          Nome|        Área|Salario|Idade|caracteristicas_escaladas|\n",
            "+--------------+------------+-------+-----+-------------------------+\n",
            "| Luciana Costa|  FINANCEIRO| 5200.0| 30.0|     [0.28571428571428...|\n",
            "| Fernanda Dias|          RH| 4800.0| 29.0|     [0.0,0.2857142857...|\n",
            "|  Fabio Santos|DESCONHECIDA| 5500.0| 31.0|     [0.5,0.5714285714...|\n",
            "|   Maria Souza|          RH| 4800.0| 30.0|     [0.0,0.4285714285...|\n",
            "|    José Alves|   MARKETING| 5400.0| 34.0|     [0.42857142857142...|\n",
            "|     Ana Clara|   MARKETING| 4800.0| 27.0|                (2,[],[])|\n",
            "|    João Silva|  FINANCEIRO| 5500.0| 29.0|     [0.5,0.2857142857...|\n",
            "|Carlos Pereira|  FINANCEIRO| 6200.0| 30.0|     [1.0,0.4285714285...|\n",
            "|   Sandra Lima|          RH| 4800.0| 28.0|     [0.0,0.1428571428...|\n",
            "| Paulo Ricardo|  FINANCEIRO| 6100.0| 30.0|     [0.92857142857142...|\n",
            "+--------------+------------+-------+-----+-------------------------+\n",
            "\n"
          ]
        }
      ],
      "source": [
        "from pyspark.ml.feature import MinMaxScaler, VectorAssembler\n",
        "\n",
        "# Criar um VectorAssembler para combinar as colunas 'Salário' e 'Idade' em uma única coluna 'caracteristicas'\n",
        "montador = VectorAssembler(inputCols=['Salario', 'Idade'], outputCol='caracteristicas')\n",
        "\n",
        "# Aplicar o VectorAssembler ao DataFrame\n",
        "df_montado = montador.transform(df)\n",
        "\n",
        "# Inicializar o MinMaxScaler\n",
        "escalador = MinMaxScaler(inputCol='caracteristicas', outputCol='caracteristicas_escaladas')\n",
        "\n",
        "# Ajustar e transformar os dados\n",
        "modelo_escalador = escalador.fit(df_montado)\n",
        "df_normalizado = modelo_escalador.transform(df_montado)\n",
        "\n",
        "# Mostrar o DataFrame com os dados normalizados\n",
        "df_normalizado.select('Nome', 'Área', 'Salario', 'Idade', 'caracteristicas_escaladas').show()\n"
      ]
    },
    {
      "cell_type": "markdown",
      "metadata": {
        "id": "iDPGuQ8iGJEw"
      },
      "source": [
        "14. Proporção de Gêneros: Analisar a proporção de gêneros entre os funcionários, caso houvesse uma coluna de gênero."
      ]
    },
    {
      "cell_type": "code",
      "execution_count": null,
      "metadata": {
        "id": "JHo90f1AGN26",
        "colab": {
          "base_uri": "https://localhost:8080/"
        },
        "outputId": "2f80f0c1-08f3-431b-8ff9-ddd7a7b0983f"
      },
      "outputs": [
        {
          "output_type": "stream",
          "name": "stdout",
          "text": [
            "+------+-----+---------+\n",
            "|Gênero|count|Proporção|\n",
            "+------+-----+---------+\n",
            "|     F|    5|     50.0|\n",
            "|     M|    5|     50.0|\n",
            "+------+-----+---------+\n",
            "\n"
          ]
        }
      ],
      "source": [
        "from pyspark.sql.functions import when\n",
        "\n",
        "\n",
        "# Criar a coluna 'Gênero' com valores  'M' e 'F'\n",
        "df = df.withColumn('Gênero', when(df.ID % 2 == 0, 'F').otherwise('M'))\n",
        "\n",
        "# Calcular a proporção de gêneros\n",
        "proporcao_genero = df.groupBy('Gênero').count()\n",
        "total = df.count()\n",
        "proporcao_genero = proporcao_genero.withColumn('Proporção', (proporcao_genero['count'] / total) * 100)\n",
        "\n",
        "# Exibir a proporção de gêneros\n",
        "proporcao_genero.show()"
      ]
    },
    {
      "cell_type": "markdown",
      "metadata": {
        "id": "qj0ySXwHGOsu"
      },
      "source": [
        "### 15. Correção de Formato de Data: Uniformizar o formato das datas de contratação."
      ]
    },
    {
      "cell_type": "code",
      "execution_count": null,
      "metadata": {
        "id": "ufzUZBo2GSkV",
        "colab": {
          "base_uri": "https://localhost:8080/"
        },
        "outputId": "d052d0dc-bea1-40b9-f4c2-814628754c68"
      },
      "outputs": [
        {
          "output_type": "stream",
          "name": "stdout",
          "text": [
            "+----+--------------+-----+------------+-------+-------------------+-----------------+---------------+------+\n",
            "|  ID|          Nome|Idade|        Área|Salario|Data de Contratação|Status de Emprego|Ano_Contratacao|Gênero|\n",
            "+----+--------------+-----+------------+-------+-------------------+-----------------+---------------+------+\n",
            "| 8.0| Luciana Costa| 30.0|  FINANCEIRO| 5200.0|         01/01/2019|            ATIVO|           2019|     F|\n",
            "|10.0| Fernanda Dias| 29.0|          RH| 4800.0|               NULL|            ATIVO|   Desconhecido|     F|\n",
            "| 5.0|  Fabio Santos| 31.0|DESCONHECIDA| 5500.0|         20/11/2017|            ATIVO|           2017|     M|\n",
            "| 2.0|   Maria Souza| 30.0|          RH| 4800.0|         15/03/2019|            ATIVO|           2019|     F|\n",
            "| 7.0|    José Alves| 34.0|   MARKETING| 5400.0|         01/02/2018|          INATIVO|           2018|     M|\n",
            "| 4.0|     Ana Clara| 27.0|   MARKETING| 4800.0|         12/06/2018|            ATIVO|           2018|     F|\n",
            "| 1.0|    João Silva| 29.0|  FINANCEIRO| 5500.0|         01/02/2020|            ATIVO|           2020|     M|\n",
            "| 3.0|Carlos Pereira| 30.0|  FINANCEIRO| 6200.0|         01/04/2020|            ATIVO|           2020|     M|\n",
            "| 6.0|   Sandra Lima| 28.0|          RH| 4800.0|         05/05/2020|            ATIVO|           2020|     F|\n",
            "| 9.0| Paulo Ricardo| 30.0|  FINANCEIRO| 6100.0|         12/12/2020|          INATIVO|           2020|     M|\n",
            "+----+--------------+-----+------------+-------+-------------------+-----------------+---------------+------+\n",
            "\n"
          ]
        }
      ],
      "source": [
        "from pyspark.sql.functions import udf, col, to_date, datediff, current_date, when, date_format, lit\n",
        "from pyspark.sql.types import StringType\n",
        "from datetime import datetime\n",
        "\n",
        "# Função para padronizar datas\n",
        "def padronizar_data(data):\n",
        "    formatos = ['%d/%m/%Y', '%d-%m-%Y', '%Y/%m/%d', '%d.%m.%Y']\n",
        "    for formato in formatos:\n",
        "        try:\n",
        "            return datetime.strptime(data, formato).strftime('%d/%m/%Y')\n",
        "        except:\n",
        "            continue\n",
        "    return None\n",
        "\n",
        "# Registrar a função UDF\n",
        "padronizar_data_udf = udf(padronizar_data, StringType())\n",
        "\n",
        "# Aplicar a função ao DataFrame\n",
        "df = df.withColumn('Data de Contratação', padronizar_data_udf(col('Data de Contratação')))\n",
        "\n",
        "df.show()"
      ]
    },
    {
      "cell_type": "markdown",
      "metadata": {
        "id": "ylMz8ESaGTI9"
      },
      "source": [
        "### 16. Impacto de Status no Salário: Comparar salários médios entre funcionários ativos e não ativos."
      ]
    },
    {
      "cell_type": "code",
      "execution_count": null,
      "metadata": {
        "id": "whScbE--GXGL",
        "colab": {
          "base_uri": "https://localhost:8080/"
        },
        "outputId": "675903a3-c211-47ef-fbe5-395579bbc935"
      },
      "outputs": [
        {
          "output_type": "stream",
          "name": "stdout",
          "text": [
            "+-----------------+-------------+\n",
            "|Status de Emprego|Média_Salário|\n",
            "+-----------------+-------------+\n",
            "|          INATIVO|       5750.0|\n",
            "|            ATIVO|       5200.0|\n",
            "+-----------------+-------------+\n",
            "\n"
          ]
        }
      ],
      "source": [
        "from pyspark.sql import functions as F # boa prática para importar funções do PySpark\n",
        "# Dividir entre ATIVO e INATIVO na coluna 'Status de Emprego' e calcular a média de salário para cada grupo\n",
        "df_status_salario = df.groupBy('Status de Emprego') \\\n",
        "    .agg(F.mean('Salario').alias('Média_Salário'))\n",
        "\n",
        "df_status_salario.show()\n"
      ]
    },
    {
      "cell_type": "markdown",
      "metadata": {
        "id": "emzegvlmGXss"
      },
      "source": [
        "### 17. Data de Contratação e Demografia: Relacionar a data de contratação com a idade dos funcionários na época da contratação."
      ]
    },
    {
      "cell_type": "code",
      "execution_count": null,
      "metadata": {
        "id": "NA92gVQ8GcRa",
        "colab": {
          "base_uri": "https://localhost:8080/"
        },
        "outputId": "f68f4b87-e14b-4f14-fa28-3d94d3dbf69d"
      },
      "outputs": [
        {
          "output_type": "stream",
          "name": "stdout",
          "text": [
            "+--------------+-----+-------------------+-----------------+\n",
            "|          Nome|Idade|Data de Contratação|Idade_Contratacao|\n",
            "+--------------+-----+-------------------+-----------------+\n",
            "| Luciana Costa| 30.0|         01/01/2019|             25.0|\n",
            "| Fernanda Dias| 29.0|               NULL|             NULL|\n",
            "|  Fabio Santos| 31.0|         20/11/2017|             25.0|\n",
            "|   Maria Souza| 30.0|         15/03/2019|             25.0|\n",
            "|    José Alves| 34.0|         01/02/2018|             28.0|\n",
            "|     Ana Clara| 27.0|         12/06/2018|             21.0|\n",
            "|    João Silva| 29.0|         01/02/2020|             25.0|\n",
            "|Carlos Pereira| 30.0|         01/04/2020|             26.0|\n",
            "|   Sandra Lima| 28.0|         05/05/2020|             24.0|\n",
            "| Paulo Ricardo| 30.0|         12/12/2020|             27.0|\n",
            "+--------------+-----+-------------------+-----------------+\n",
            "\n",
            "Correlação entre Idade e Idade_Contratacao: 0.335971657404758\n"
          ]
        }
      ],
      "source": [
        "from pyspark.sql import functions as F\n",
        "\n",
        "# Calcular a idade dos funcionários na data de contratação\n",
        "df_idade_contratacao = df.withColumn(\n",
        "    'Idade_Contratacao',\n",
        "    F.floor(F.datediff(F.current_date(), F.to_date('Data de Contratação', 'dd/MM/yyyy')) / 365.25)\n",
        ")\n",
        "\n",
        "df_idade_contratacao = df_idade_contratacao.withColumn(\n",
        "    'Idade_Contratacao',\n",
        "    F.col('Idade') - F.col('Idade_Contratacao')\n",
        ")\n",
        "\n",
        "# Exibir o DataFrame com a idade na contratação\n",
        "df_idade_contratacao.select('Nome', 'Idade', 'Data de Contratação', 'Idade_Contratacao').show()\n",
        "\n",
        "# calcular correlação entre Idade e Idade_Contratacao\n",
        "correlacao = df_idade_contratacao.stat.corr('Idade', 'Idade_Contratacao')\n",
        "print(f'Correlação entre Idade e Idade_Contratacao: {correlacao}')"
      ]
    },
    {
      "cell_type": "markdown",
      "metadata": {
        "id": "v30ZHvC0GcjH"
      },
      "source": [
        "### 18. Distribuição de Status de Emprego: Analisar a distribuição do status de emprego (ativo vs. não ativo)."
      ]
    },
    {
      "cell_type": "code",
      "execution_count": null,
      "metadata": {
        "id": "BO0DLtSnGikE",
        "colab": {
          "base_uri": "https://localhost:8080/"
        },
        "outputId": "cf6a111e-ad84-4fa1-d3f1-6542f575f603"
      },
      "outputs": [
        {
          "output_type": "stream",
          "name": "stdout",
          "text": [
            "+-----------------+--------+\n",
            "|Status de Emprego|Contagem|\n",
            "+-----------------+--------+\n",
            "|          INATIVO|       2|\n",
            "|            ATIVO|       8|\n",
            "+-----------------+--------+\n",
            "\n"
          ]
        }
      ],
      "source": [
        "from pyspark.sql import functions as F\n",
        "\n",
        "# Calcular a distribuição do status de emprego (ativo vs. não ativo)\n",
        "df_distribuicao_status = df.groupBy('Status de Emprego') \\\n",
        "    .agg(F.count('Status de Emprego').alias('Contagem'))\n",
        "\n",
        "# Exibir a distribuição do status de emprego\n",
        "df_distribuicao_status.show()"
      ]
    },
    {
      "cell_type": "markdown",
      "metadata": {
        "id": "4ogD1IBxGj2r"
      },
      "source": [
        "### 19. Criação de Coluna de Idade de Contratação: Criar uma coluna que calcule a idade do funcionário na época da contratação e analisar os dados."
      ]
    },
    {
      "cell_type": "code",
      "execution_count": null,
      "metadata": {
        "id": "CFeONyqlGnMe",
        "colab": {
          "base_uri": "https://localhost:8080/"
        },
        "outputId": "9905f23c-52e2-471e-c041-9cdd9fa69822"
      },
      "outputs": [
        {
          "output_type": "stream",
          "name": "stdout",
          "text": [
            "+--------------+-----+-------------------+-----------------+\n",
            "|          Nome|Idade|Data de Contratação|Idade_Contratacao|\n",
            "+--------------+-----+-------------------+-----------------+\n",
            "| Luciana Costa| 30.0|         01/01/2019|             24.0|\n",
            "| Fernanda Dias| 29.0|               NULL|             NULL|\n",
            "|  Fabio Santos| 31.0|         20/11/2017|             24.0|\n",
            "|   Maria Souza| 30.0|         15/03/2019|             25.0|\n",
            "|    José Alves| 34.0|         01/02/2018|             27.0|\n",
            "|     Ana Clara| 27.0|         12/06/2018|             21.0|\n",
            "|    João Silva| 29.0|         01/02/2020|             24.0|\n",
            "|Carlos Pereira| 30.0|         01/04/2020|             26.0|\n",
            "|   Sandra Lima| 28.0|         05/05/2020|             24.0|\n",
            "| Paulo Ricardo| 30.0|         12/12/2020|             26.0|\n",
            "+--------------+-----+-------------------+-----------------+\n",
            "\n"
          ]
        }
      ],
      "source": [
        "from pyspark.sql import functions as F\n",
        "from pyspark.sql.functions import round\n",
        "\n",
        "# Criar uma nova coluna que calcula a idade do funcionário na época da contratação\n",
        "df_idade_contratacao = df.withColumn(\n",
        "    'Idade_Contratacao',\n",
        "    F.col('Idade') - (F.datediff(F.current_date(), F.to_date('Data de Contratação', 'dd/MM/yyyy')) / 365.25)\n",
        ")\n",
        "\n",
        "# Arredondar a coluna 'Idade_Contratacao'\n",
        "df_idade_contratacao = df_idade_contratacao.withColumn(\"Idade_Contratacao\", round(df_idade_contratacao[\"Idade_Contratacao\"], 0))\n",
        "\n",
        "# Exibir o DataFrame com a nova coluna 'Idade_Contratacao'\n",
        "df_idade_contratacao.select('Nome', 'Idade', 'Data de Contratação', 'Idade_Contratacao').show()\n"
      ]
    },
    {
      "cell_type": "markdown",
      "metadata": {
        "id": "JW-0G95pGqVU"
      },
      "source": [
        "### 20. Análise de Promoções: Analisar possíveis promoções dentro da empresa ao comparar datas de contratação e aumentos salariais, se houvesse uma coluna histórica de salários.\n"
      ]
    },
    {
      "cell_type": "code",
      "execution_count": null,
      "metadata": {
        "id": "k8hWaIpsGrnc",
        "colab": {
          "base_uri": "https://localhost:8080/"
        },
        "outputId": "a9184b3f-65a4-480a-d8a5-c5653591e234"
      },
      "outputs": [
        {
          "output_type": "stream",
          "name": "stdout",
          "text": [
            "+--------------+-------------------+-------+----------------+\n",
            "|          Nome|Data de Contratação|Salario|Contagem_Salario|\n",
            "+--------------+-------------------+-------+----------------+\n",
            "|   Maria Souza|         15/03/2019| 4800.0|               1|\n",
            "|    João Silva|         01/02/2020| 5500.0|               1|\n",
            "|  Fabio Santos|         20/11/2017| 5500.0|               1|\n",
            "|     Ana Clara|         12/06/2018| 4800.0|               1|\n",
            "| Luciana Costa|         01/01/2019| 5200.0|               1|\n",
            "| Paulo Ricardo|         12/12/2020| 6100.0|               1|\n",
            "|    José Alves|         01/02/2018| 5400.0|               1|\n",
            "| Fernanda Dias|               NULL| 4800.0|               1|\n",
            "|Carlos Pereira|         01/04/2020| 6200.0|               1|\n",
            "|   Sandra Lima|         05/05/2020| 4800.0|               1|\n",
            "+--------------+-------------------+-------+----------------+\n",
            "\n"
          ]
        }
      ],
      "source": [
        "# 20. Análise de Promoções: Analisar possíveis promoções dentro da empresa ao comparar datas de contratação e aumentos salariais, se houvesse uma coluna histórica de salários\n",
        "from pyspark.sql import functions as F\n",
        "\n",
        "# agrupar por 'Nome', 'Data de Contratação' e 'Salario'\n",
        "df_promocoes = df.groupBy('Nome', 'Data de Contratação', 'Salario') \\\n",
        "    .agg(F.count('Salario').alias('Contagem_Salario'))\n",
        "\n",
        "# Exibir o DataFrame\n",
        "df_promocoes.show()\n"
      ]
    },
    {
      "cell_type": "markdown",
      "metadata": {
        "id": "IAczNjgPGvo_"
      },
      "source": [
        "### 21. Análise de Desempenho Temporal: Verificar se o tempo de casa influencia o salário ou a permanência no emprego."
      ]
    },
    {
      "cell_type": "code",
      "execution_count": null,
      "metadata": {
        "id": "G04Sp5trG0tT",
        "colab": {
          "base_uri": "https://localhost:8080/"
        },
        "outputId": "4373b406-e802-4403-85a0-62b1721fdf20"
      },
      "outputs": [
        {
          "output_type": "stream",
          "name": "stdout",
          "text": [
            "Correlação entre Tempo de Casa e Salário: 0.08752227235896064\n",
            "+-----------------+-------------------+-------------+\n",
            "|Status de Emprego|Média_Tempo_de_Casa|Média_Salario|\n",
            "+-----------------+-------------------+-------------+\n",
            "|          INATIVO|               5.15|       5750.0|\n",
            "|            ATIVO|  5.355714285714285|       5200.0|\n",
            "+-----------------+-------------------+-------------+\n",
            "\n"
          ]
        }
      ],
      "source": [
        "from pyspark.sql import functions as F\n",
        "\n",
        "# Adicionar coluna de Tempo de Casa (em anos)\n",
        "df = df.withColumn(\n",
        "    \"Tempo_de_Casa\",\n",
        "    F.round(F.datediff(F.current_date(), F.to_date(\"Data de Contratação\", \"dd/MM/yyyy\")) / 365.25, 2)\n",
        ")\n",
        "# Calcular correlação entre Tempo de Casa e Salário\n",
        "correlacao = df.stat.corr(\"Tempo_de_Casa\", \"Salario\")\n",
        "print(f\"Correlação entre Tempo de Casa e Salário: {correlacao}\")\n",
        "\n",
        "# Agrupar por Status de Emprego e calcular média de Tempo de Casa\n",
        "df_grouped = df.groupBy(\"Status de Emprego\").agg(\n",
        "    F.avg(\"Tempo_de_Casa\").alias(\"Média_Tempo_de_Casa\"),\n",
        "    F.avg(\"Salario\").alias(\"Média_Salario\")\n",
        ")\n",
        "\n",
        "# Mostrar os resultados\n",
        "df_grouped.show()\n"
      ]
    },
    {
      "cell_type": "markdown",
      "metadata": {
        "id": "08L8CwMGG1Qd"
      },
      "source": [
        "### 22. Filtragem por Data de Contratação: Identificar funcionários contratados em períodos específicos (e.g., antes de 2019, entre 2019-2020)."
      ]
    },
    {
      "cell_type": "code",
      "execution_count": null,
      "metadata": {
        "id": "70ByMBeKG5EJ",
        "colab": {
          "base_uri": "https://localhost:8080/"
        },
        "outputId": "5489769a-8e9b-4158-c4b8-521de2ffedb6"
      },
      "outputs": [
        {
          "output_type": "stream",
          "name": "stdout",
          "text": [
            "Funcionários contratados antes de 2019:\n",
            "+---+------------+-----+------------+-------+-------------------+-----------------+---------------+------+-------------+\n",
            "| ID|        Nome|Idade|        Área|Salario|Data de Contratação|Status de Emprego|Ano_Contratacao|Gênero|Tempo_de_Casa|\n",
            "+---+------------+-----+------------+-------+-------------------+-----------------+---------------+------+-------------+\n",
            "|5.0|Fabio Santos| 31.0|DESCONHECIDA| 5500.0|         20/11/2017|            ATIVO|           2017|     M|         6.78|\n",
            "|7.0|  José Alves| 34.0|   MARKETING| 5400.0|         01/02/2018|          INATIVO|           2018|     M|         6.58|\n",
            "|4.0|   Ana Clara| 27.0|   MARKETING| 4800.0|         12/06/2018|            ATIVO|           2018|     F|         6.23|\n",
            "+---+------------+-----+------------+-------+-------------------+-----------------+---------------+------+-------------+\n",
            "\n",
            "\n",
            "Funcionários contratados entre 2019 e 2020:\n",
            "+---+--------------+-----+----------+-------+-------------------+-----------------+---------------+------+-------------+\n",
            "| ID|          Nome|Idade|      Área|Salario|Data de Contratação|Status de Emprego|Ano_Contratacao|Gênero|Tempo_de_Casa|\n",
            "+---+--------------+-----+----------+-------+-------------------+-----------------+---------------+------+-------------+\n",
            "|8.0| Luciana Costa| 30.0|FINANCEIRO| 5200.0|         01/01/2019|            ATIVO|           2019|     F|         5.67|\n",
            "|2.0|   Maria Souza| 30.0|        RH| 4800.0|         15/03/2019|            ATIVO|           2019|     F|         5.47|\n",
            "|1.0|    João Silva| 29.0|FINANCEIRO| 5500.0|         01/02/2020|            ATIVO|           2020|     M|         4.59|\n",
            "|3.0|Carlos Pereira| 30.0|FINANCEIRO| 6200.0|         01/04/2020|            ATIVO|           2020|     M|         4.42|\n",
            "|6.0|   Sandra Lima| 28.0|        RH| 4800.0|         05/05/2020|            ATIVO|           2020|     F|         4.33|\n",
            "|9.0| Paulo Ricardo| 30.0|FINANCEIRO| 6100.0|         12/12/2020|          INATIVO|           2020|     M|         3.72|\n",
            "+---+--------------+-----+----------+-------+-------------------+-----------------+---------------+------+-------------+\n",
            "\n"
          ]
        }
      ],
      "source": [
        "from pyspark.sql import functions as F\n",
        "\n",
        "# Filtrar funcionários contratados antes de 2019\n",
        "df_antes_2019 = df.filter(F.year(F.to_date('Data de Contratação', 'dd/MM/yyyy')) < 2019)\n",
        "\n",
        "# Filtrar funcionários contratados entre 2019 e 2020\n",
        "df_entre_2019_2020 = df.filter((F.year(F.to_date('Data de Contratação', 'dd/MM/yyyy')) >= 2019) &\n",
        "                               (F.year(F.to_date('Data de Contratação', 'dd/MM/yyyy')) <= 2020))\n",
        "\n",
        "# Exibir os DataFrames\n",
        "print('Funcionários contratados antes de 2019:')\n",
        "df_antes_2019.show()\n",
        "\n",
        "print()\n",
        "\n",
        "print('Funcionários contratados entre 2019 e 2020:')\n",
        "df_entre_2019_2020.show()"
      ]
    },
    {
      "cell_type": "markdown",
      "metadata": {
        "id": "NTAirpXGG5Zs"
      },
      "source": [
        "### 23. Análise de Status de Emprego e Tempo de Casa: Verificar a relação entre tempo de casa e status de emprego (ativo vs. não ativo)."
      ]
    },
    {
      "cell_type": "code",
      "execution_count": null,
      "metadata": {
        "id": "w4RoeJSQG-Nb",
        "colab": {
          "base_uri": "https://localhost:8080/"
        },
        "outputId": "e7d85dee-1e57-41e9-e113-5adc377d6ed4"
      },
      "outputs": [
        {
          "output_type": "stream",
          "name": "stdout",
          "text": [
            "+-----------------+-------------------+\n",
            "|Status de Emprego|Média_Tempo_de_Casa|\n",
            "+-----------------+-------------------+\n",
            "|          INATIVO|               5.15|\n",
            "|            ATIVO|               5.36|\n",
            "+-----------------+-------------------+\n",
            "\n"
          ]
        }
      ],
      "source": [
        "from pyspark.sql import functions as F\n",
        "\n",
        "# Calcular o Tempo de Casa em anos e arredondar para 2 casas decimais\n",
        "df = df.withColumn(\n",
        "    'Tempo_de_Casa',\n",
        "    F.round(F.datediff(F.current_date(), F.to_date('Data de Contratação', 'dd/MM/yyyy')) / 365.25, 2)\n",
        ")\n",
        "\n",
        "# Calcular a média de Tempo de Casa por Status de Emprego e arredondar a média para 2 casas decimais\n",
        "df_tempo_casa_status = df.groupBy('Status de Emprego') \\\n",
        "    .agg(F.round(F.mean('Tempo_de_Casa'), 2).alias('Média_Tempo_de_Casa'))\n",
        "\n",
        "# Exibir o DataFrame\n",
        "df_tempo_casa_status.show()\n",
        "\n",
        "\n"
      ]
    },
    {
      "cell_type": "markdown",
      "metadata": {
        "id": "o2yaJUjQG-8a"
      },
      "source": [
        "### 24. Identificação de Funcionários Veteranos: Encontrar os funcionários com maior tempo de casa e analisar seu impacto na empresa."
      ]
    },
    {
      "cell_type": "code",
      "execution_count": null,
      "metadata": {
        "id": "RIzEdG2jHDiZ",
        "colab": {
          "base_uri": "https://localhost:8080/"
        },
        "outputId": "ab1260d1-50c4-41ac-e1f3-9f7eb79d9d86"
      },
      "outputs": [
        {
          "output_type": "stream",
          "name": "stdout",
          "text": [
            "+---+-------------+-----+------------+-------+-------------------+-----------------+---------------+------+-------------+\n",
            "| ID|         Nome|Idade|        Área|Salario|Data de Contratação|Status de Emprego|Ano_Contratacao|Gênero|Tempo_de_Casa|\n",
            "+---+-------------+-----+------------+-------+-------------------+-----------------+---------------+------+-------------+\n",
            "|8.0|Luciana Costa| 30.0|  FINANCEIRO| 5200.0|         01/01/2019|            ATIVO|           2019|     F|         5.67|\n",
            "|5.0| Fabio Santos| 31.0|DESCONHECIDA| 5500.0|         20/11/2017|            ATIVO|           2017|     M|         6.78|\n",
            "|2.0|  Maria Souza| 30.0|          RH| 4800.0|         15/03/2019|            ATIVO|           2019|     F|         5.47|\n",
            "|7.0|   José Alves| 34.0|   MARKETING| 5400.0|         01/02/2018|          INATIVO|           2018|     M|         6.58|\n",
            "|4.0|    Ana Clara| 27.0|   MARKETING| 4800.0|         12/06/2018|            ATIVO|           2018|     F|         6.23|\n",
            "+---+-------------+-----+------------+-------+-------------------+-----------------+---------------+------+-------------+\n",
            "\n"
          ]
        }
      ],
      "source": [
        "\n",
        "from pyspark.sql import functions as F\n",
        "\n",
        "# Calcular o Tempo de Casa de funcionários com mais de 5 anos\n",
        "df_veteranos = df.withColumn(\n",
        "    'Tempo_de_Casa',\n",
        "    F.round(F.datediff(F.current_date(), F.to_date('Data de Contratação', 'dd/MM/yyyy')) / 365.25, 2)\n",
        ").filter(F.col('Tempo_de_Casa') > 5)\n",
        "\n",
        "# Exibir os funcionários veteranos\n",
        "df_veteranos.show()"
      ]
    },
    {
      "cell_type": "markdown",
      "metadata": {
        "id": "cGBHJXTfHD6B"
      },
      "source": [
        "### 25. Análise de Tendências de Contratação: Identificar padrões de contratação ao longo do tempo, como sazonalidade."
      ]
    },
    {
      "cell_type": "code",
      "execution_count": null,
      "metadata": {
        "id": "CA9WRqT5HHEB",
        "colab": {
          "base_uri": "https://localhost:8080/"
        },
        "outputId": "dcdb105a-763d-4c82-fafb-72a78dc4ef2e"
      },
      "outputs": [
        {
          "output_type": "stream",
          "name": "stdout",
          "text": [
            "+----+----+----------------------+\n",
            "| Ano| Mês|Número_de_Contratações|\n",
            "+----+----+----------------------+\n",
            "|NULL|NULL|                     1|\n",
            "|2017|  11|                     1|\n",
            "|2018|   2|                     1|\n",
            "|2018|   6|                     1|\n",
            "|2019|   1|                     1|\n",
            "|2019|   3|                     1|\n",
            "|2020|   2|                     1|\n",
            "|2020|   4|                     1|\n",
            "|2020|   5|                     1|\n",
            "|2020|  12|                     1|\n",
            "+----+----+----------------------+\n",
            "\n"
          ]
        }
      ],
      "source": [
        "from pyspark.sql import functions as F\n",
        "\n",
        "# Agrupar por ano e mês da data de contratação e contar o número de contratações\n",
        "df_tendencias = df.groupBy(\n",
        "    F.year(F.to_date('Data de Contratação', 'dd/MM/yyyy')).alias('Ano'),\n",
        "    F.month(F.to_date('Data de Contratação', 'dd/MM/yyyy')).alias('Mês')\n",
        ").agg(\n",
        "    F.count('*').alias('Número_de_Contratações')\n",
        ").orderBy('Ano', 'Mês')\n",
        "\n",
        "# Exibir os resultados\n",
        "df_tendencias.show()\n"
      ]
    },
    {
      "cell_type": "markdown",
      "metadata": {
        "id": "4o_s0AKlHHWv"
      },
      "source": [
        "### 26. Salário Máximo e Mínimo por Departamento: Determinar os salários mais altos e mais baixos dentro de cada departamento.\n"
      ]
    },
    {
      "cell_type": "code",
      "execution_count": null,
      "metadata": {
        "id": "eph5hrhYHKnP",
        "colab": {
          "base_uri": "https://localhost:8080/"
        },
        "outputId": "d44c6392-4431-4501-e837-5fa12514e1ac"
      },
      "outputs": [
        {
          "output_type": "stream",
          "name": "stdout",
          "text": [
            "+------------+--------------+--------------+\n",
            "|        Área|Salario_Mínimo|Salario_Máximo|\n",
            "+------------+--------------+--------------+\n",
            "|   MARKETING|        4800.0|        5400.0|\n",
            "|          RH|        4800.0|        4800.0|\n",
            "|DESCONHECIDA|        5500.0|        5500.0|\n",
            "|  FINANCEIRO|        5200.0|        6200.0|\n",
            "+------------+--------------+--------------+\n",
            "\n"
          ]
        }
      ],
      "source": [
        "\n",
        "from pyspark.sql import functions as F\n",
        "from pyspark.sql.functions import max, min\n",
        "# Calcular o salário minimum e máximo por departamento\n",
        "df_salario_min_max = df.groupBy('Área') \\\n",
        "    .agg(\n",
        "        F.min('Salario').alias('Salario_Mínimo'),\n",
        "        F.max('Salario').alias('Salario_Máximo')\n",
        "\n",
        "    )\n",
        "\n",
        "# Exibir os salários minimum e máximo por departamento\n",
        "df_salario_min_max.show()"
      ]
    },
    {
      "cell_type": "markdown",
      "metadata": {
        "id": "cohtfXq3HLB9"
      },
      "source": [
        "### 27. Classificação de Funcionários por Salário: Criar rankings de funcionários por salário dentro de cada departamento."
      ]
    },
    {
      "cell_type": "code",
      "execution_count": null,
      "metadata": {
        "id": "nyR5dca7HOTO",
        "colab": {
          "base_uri": "https://localhost:8080/"
        },
        "outputId": "271088c3-daac-489b-db73-1306baa52842"
      },
      "outputs": [
        {
          "output_type": "stream",
          "name": "stdout",
          "text": [
            "+--------------+------------+-------+----+\n",
            "|          Nome|        Área|Salario|Rank|\n",
            "+--------------+------------+-------+----+\n",
            "|  Fabio Santos|DESCONHECIDA| 5500.0|   1|\n",
            "|Carlos Pereira|  FINANCEIRO| 6200.0|   1|\n",
            "| Paulo Ricardo|  FINANCEIRO| 6100.0|   2|\n",
            "|    João Silva|  FINANCEIRO| 5500.0|   3|\n",
            "| Luciana Costa|  FINANCEIRO| 5200.0|   4|\n",
            "|    José Alves|   MARKETING| 5400.0|   1|\n",
            "|     Ana Clara|   MARKETING| 4800.0|   2|\n",
            "| Fernanda Dias|          RH| 4800.0|   1|\n",
            "|   Maria Souza|          RH| 4800.0|   1|\n",
            "|   Sandra Lima|          RH| 4800.0|   1|\n",
            "+--------------+------------+-------+----+\n",
            "\n"
          ]
        }
      ],
      "source": [
        "from pyspark.sql import functions as F\n",
        "from pyspark.sql.window import Window\n",
        "\n",
        "# Definir a janela para classificação por departamento e ordenar por salário em ordem decrescente\n",
        "window_spec = Window.partitionBy('Área').orderBy(F.desc('Salario'))\n",
        "\n",
        "# Adicionar uma coluna de ranking baseado no salário dentro de cada departamento\n",
        "df_ranked = df.withColumn('Rank', F.rank().over(window_spec))\n",
        "\n",
        "# Exibir o DataFrame com os rankings\n",
        "df_ranked.select('Nome', 'Área', 'Salario', 'Rank').show()"
      ]
    },
    {
      "cell_type": "markdown",
      "metadata": {
        "id": "A0ov35v_HPms"
      },
      "source": [
        "### 28. Projeção de Aposentadoria: Estimar o número de funcionários que podem se aposentar em breve com base na idade."
      ]
    },
    {
      "cell_type": "code",
      "execution_count": null,
      "metadata": {
        "id": "5-165aOwHUUF",
        "colab": {
          "base_uri": "https://localhost:8080/"
        },
        "outputId": "4cb0f044-ae98-48c1-912f-c54318727b68"
      },
      "outputs": [
        {
          "output_type": "stream",
          "name": "stdout",
          "text": [
            "Número de funcionários elegíveis para aposentadoria: 0\n"
          ]
        }
      ],
      "source": [
        "from pyspark.sql import functions as F\n",
        "\n",
        "# Definir a idade de aposentadoria\n",
        "idade_aposentadoria = 65\n",
        "\n",
        "# Filtrar e contar os funcionários elegíveis para aposentadoria\n",
        "num_aposentadoria = df.filter(F.col('Idade') >= idade_aposentadoria).count()\n",
        "\n",
        "# Exibir o número de funcionários elegíveis para aposentadoria\n",
        "print(f'Número de funcionários elegíveis para aposentadoria: {num_aposentadoria}')"
      ]
    },
    {
      "cell_type": "markdown",
      "metadata": {
        "id": "Q1lnKTu5HUoe"
      },
      "source": [
        "### 29. Segmentação de Funcionários por Faixa Salarial: Agrupar funcionários em faixas salariais (e.g., 2000-3000, 3001-4000) e analisar a distribuição."
      ]
    },
    {
      "cell_type": "code",
      "execution_count": null,
      "metadata": {
        "id": "JRW9XuZiHXsZ",
        "colab": {
          "base_uri": "https://localhost:8080/"
        },
        "outputId": "75b1c42c-66fd-4b37-b573-a0e9b969f4ab"
      },
      "outputs": [
        {
          "output_type": "stream",
          "name": "stdout",
          "text": [
            "+--------------+-----+\n",
            "|Faixa_Salarial|count|\n",
            "+--------------+-----+\n",
            "|     4001-5000|    4|\n",
            "|     5001-6000|    4|\n",
            "|     6001-7000|    2|\n",
            "+--------------+-----+\n",
            "\n"
          ]
        }
      ],
      "source": [
        "from pyspark.sql import functions as F\n",
        "\n",
        "# Definir as faixas salariais e usar `when` para criar a expressão SQL\n",
        "faixas_salarial_expr = F.when((F.col('Salario') >= 2000) & (F.col('Salario') <= 3000), '2000-3000') \\\n",
        "    .when((F.col('Salario') >= 3001) & (F.col('Salario') <= 4000), '3001-4000') \\\n",
        "    .when((F.col('Salario') >= 4001) & (F.col('Salario') <= 5000), '4001-5000') \\\n",
        "    .when((F.col('Salario') >= 5001) & (F.col('Salario') <= 6000), '5001-6000') \\\n",
        "    .when((F.col('Salario') >= 6001) & (F.col('Salario') <= 7000), '6001-7000') \\\n",
        "    .otherwise('Outros')\n",
        "\n",
        "# Contar a distribuição de funcionários por faixa salarial\n",
        "df_distribuicao_faixa = df.groupBy(faixas_salarial_expr.alias('Faixa_Salarial')) \\\n",
        "    .count() \\\n",
        "    .orderBy('Faixa_Salarial')\n",
        "\n",
        "# Exibir o resultado\n",
        "df_distribuicao_faixa.show()"
      ]
    },
    {
      "cell_type": "markdown",
      "metadata": {
        "id": "xP7PSlhwHZwp"
      },
      "source": [
        "### 30. Análise de Equidade Salarial: Verificar se há desigualdade salarial dentro de departamentos específicos."
      ]
    },
    {
      "cell_type": "code",
      "execution_count": null,
      "metadata": {
        "id": "FDjfGnB8Hc6j",
        "colab": {
          "base_uri": "https://localhost:8080/"
        },
        "outputId": "4c73f5af-a522-433e-988a-9b1e0f7054d3"
      },
      "outputs": [
        {
          "output_type": "stream",
          "name": "stdout",
          "text": [
            "+------+------------+-------------+\n",
            "|Gênero|        Área|Média_Salário|\n",
            "+------+------------+-------------+\n",
            "|     F|  FINANCEIRO|       5200.0|\n",
            "|     F|   MARKETING|       4800.0|\n",
            "|     F|          RH|       4800.0|\n",
            "|     M|DESCONHECIDA|       5500.0|\n",
            "|     M|  FINANCEIRO|       5933.3|\n",
            "|     M|   MARKETING|       5400.0|\n",
            "+------+------------+-------------+\n",
            "\n"
          ]
        }
      ],
      "source": [
        "from pyspark.sql import functions as F\n",
        "\n",
        "# Calcular a média de salário por 'Gênero' e 'Área'\n",
        "df_genero_area = df.groupBy('Gênero', 'Área') \\\n",
        "    .agg(F.round(F.mean('Salario'), 1).alias('Média_Salário')) \\\n",
        "    .orderBy('Gênero', 'Área')\n",
        "\n",
        "# Exibir o DataFrame com a média de salário por gênero e área\n",
        "df_genero_area.show()"
      ]
    },
    {
      "cell_type": "markdown",
      "metadata": {
        "id": "T_RftG80HlY0"
      },
      "source": [
        "### 31. Comparação de Salários por Período de Contratação: Comparar os salários de funcionários contratados em diferentes anos para identificar tendências de aumento salarial."
      ]
    },
    {
      "cell_type": "code",
      "execution_count": null,
      "metadata": {
        "id": "LTfwx1LrHm9r",
        "colab": {
          "base_uri": "https://localhost:8080/"
        },
        "outputId": "5f3c700d-fad9-4836-e2ca-a03200a6faeb"
      },
      "outputs": [
        {
          "output_type": "stream",
          "name": "stdout",
          "text": [
            "+---------------+-------------+\n",
            "|Ano_Contratacao|Media_Salario|\n",
            "+---------------+-------------+\n",
            "|           NULL|       4800.0|\n",
            "|           2017|       5500.0|\n",
            "|           2018|       5100.0|\n",
            "|           2019|       5000.0|\n",
            "|           2020|       5650.0|\n",
            "+---------------+-------------+\n",
            "\n"
          ]
        }
      ],
      "source": [
        "\n",
        "from pyspark.sql import functions as F\n",
        "\n",
        "# Extrair o ano da data de contratação\n",
        "df = df.withColumn('Ano_Contratacao', F.year(F.to_date('Data de Contratação', 'dd/MM/yyyy')))\n",
        "\n",
        "# Calcular a média de salário por ano de contratação\n",
        "df_salario_ano = df.groupBy('Ano_Contratacao').agg(F.mean('Salario').alias('Media_Salario')).sort('Ano_Contratacao')\n",
        "df_salario_ano.show()"
      ]
    },
    {
      "cell_type": "markdown",
      "metadata": {
        "id": "vdkZMJ14HnUt"
      },
      "source": [
        "### 32. Criação de Coluna de Faixa Etária: Agrupar os funcionários em faixas etárias (e.g., 20-30 anos, 31-40 anos) e analisar diferenças entre elas."
      ]
    },
    {
      "cell_type": "code",
      "execution_count": null,
      "metadata": {
        "id": "DhVXJZuwHsW_",
        "colab": {
          "base_uri": "https://localhost:8080/"
        },
        "outputId": "bd7f8004-0921-438c-af62-d2f4751ba6ef"
      },
      "outputs": [
        {
          "output_type": "stream",
          "name": "stdout",
          "text": [
            "+----+--------------+-----+------------+-------+-------------------+-----------------+---------------+------+-------------+------------+\n",
            "|  ID|          Nome|Idade|        Área|Salario|Data de Contratação|Status de Emprego|Ano_Contratacao|Gênero|Tempo_de_Casa|Faixa_Etaria|\n",
            "+----+--------------+-----+------------+-------+-------------------+-----------------+---------------+------+-------------+------------+\n",
            "| 8.0| Luciana Costa| 30.0|  FINANCEIRO| 5200.0|         01/01/2019|            ATIVO|           2019|     F|         5.67|  20-30 anos|\n",
            "|10.0| Fernanda Dias| 29.0|          RH| 4800.0|               NULL|            ATIVO|           NULL|     F|         NULL|  20-30 anos|\n",
            "| 5.0|  Fabio Santos| 31.0|DESCONHECIDA| 5500.0|         20/11/2017|            ATIVO|           2017|     M|         6.78|  31-40 anos|\n",
            "| 2.0|   Maria Souza| 30.0|          RH| 4800.0|         15/03/2019|            ATIVO|           2019|     F|         5.47|  20-30 anos|\n",
            "| 7.0|    José Alves| 34.0|   MARKETING| 5400.0|         01/02/2018|          INATIVO|           2018|     M|         6.58|  31-40 anos|\n",
            "| 4.0|     Ana Clara| 27.0|   MARKETING| 4800.0|         12/06/2018|            ATIVO|           2018|     F|         6.23|  20-30 anos|\n",
            "| 1.0|    João Silva| 29.0|  FINANCEIRO| 5500.0|         01/02/2020|            ATIVO|           2020|     M|         4.59|  20-30 anos|\n",
            "| 3.0|Carlos Pereira| 30.0|  FINANCEIRO| 6200.0|         01/04/2020|            ATIVO|           2020|     M|         4.42|  20-30 anos|\n",
            "| 6.0|   Sandra Lima| 28.0|          RH| 4800.0|         05/05/2020|            ATIVO|           2020|     F|         4.33|  20-30 anos|\n",
            "| 9.0| Paulo Ricardo| 30.0|  FINANCEIRO| 6100.0|         12/12/2020|          INATIVO|           2020|     M|         3.72|  20-30 anos|\n",
            "+----+--------------+-----+------------+-------+-------------------+-----------------+---------------+------+-------------+------------+\n",
            "\n",
            "+------------+-----+\n",
            "|Faixa_Etaria|count|\n",
            "+------------+-----+\n",
            "|  20-30 anos|    8|\n",
            "|  31-40 anos|    2|\n",
            "+------------+-----+\n",
            "\n"
          ]
        }
      ],
      "source": [
        "from pyspark.sql import functions as F\n",
        "\n",
        "# Definir a expressão para a faixa etária\n",
        "faixa_etaria_expr = F.when((F.col('Idade') >= 20) & (F.col('Idade') <= 30), '20-30 anos') \\\n",
        "    .when((F.col('Idade') >= 31) & (F.col('Idade') <= 40), '31-40 anos') \\\n",
        "    .when((F.col('Idade') >= 41) & (F.col('Idade') <= 50), '41-50 anos') \\\n",
        "    .when((F.col('Idade') >= 51) & (F.col('Idade') <= 60), '51-60 anos') \\\n",
        "    .otherwise('Outras')\n",
        "\n",
        "# Adicionar a coluna de faixa etária ao DataFrame\n",
        "df_faixa_etaria = df.withColumn('Faixa_Etaria', faixa_etaria_expr)\n",
        "\n",
        "# Exibir o DataFrame com a nova coluna\n",
        "df_faixa_etaria.show()\n",
        "\n",
        "# Contar a distribuição de funcionários por faixa etária\n",
        "df_distribuicao_faixa_etaria = df_faixa_etaria.groupBy('Faixa_Etaria') \\\n",
        "    .count() \\\n",
        "    .orderBy('Faixa_Etaria')\n",
        "\n",
        "# Exibir o resultado da distribuição de faixa etária dos funcionários\n",
        "df_distribuicao_faixa_etaria.show()\n",
        "\n"
      ]
    },
    {
      "cell_type": "markdown",
      "metadata": {
        "id": "mQu7ukA_Hsq1"
      },
      "source": [
        "### 33. Relação Entre Área e Tempo de Contratação: Identificar se alguns departamentos tendem a manter seus funcionários por mais tempo do que outros.\n"
      ]
    },
    {
      "cell_type": "code",
      "execution_count": null,
      "metadata": {
        "id": "ynw0GUDsHwyG",
        "colab": {
          "base_uri": "https://localhost:8080/"
        },
        "outputId": "3013bd59-87ac-465d-ce6a-a71b51c2c2d4"
      },
      "outputs": [
        {
          "output_type": "stream",
          "name": "stdout",
          "text": [
            "+------------+-------------------+\n",
            "|        Área|Média_Tempo_de_Casa|\n",
            "+------------+-------------------+\n",
            "|  FINANCEIRO|                4.6|\n",
            "|          RH|                4.9|\n",
            "|   MARKETING|              6.405|\n",
            "|DESCONHECIDA|               6.78|\n",
            "+------------+-------------------+\n",
            "\n"
          ]
        }
      ],
      "source": [
        "\n",
        "from pyspark.sql import functions as F\n",
        "# Calcular a média do Tempo de Casa por Área\n",
        "df_tempo_area = df.groupBy('Área') \\\n",
        "    .agg(F.mean('Tempo_de_Casa').alias('Média_Tempo_de_Casa')) \\\n",
        "    .orderBy('Média_Tempo_de_Casa')\n",
        "\n",
        "# Exibir o DataFrame com a média de Tempo de Casa por Área\n",
        "df_tempo_area.show()"
      ]
    },
    {
      "cell_type": "markdown",
      "metadata": {
        "id": "6R_KRafxHxDI"
      },
      "source": [
        "### 34. Previsão de Turnover: Usar dados históricos para prever quais funcionários têm maior probabilidade de deixar a empresa."
      ]
    },
    {
      "cell_type": "code",
      "source": [
        "# Identificar funcionários com maior probabilidade de deixar a empresa (probabilidade de 'INATIVO' > 0.5)\n",
        "from pyspark.sql.functions import udf\n",
        "from pyspark.sql.types import DoubleType\n",
        "from pyspark.ml.feature import Imputer, VectorAssembler\n",
        "from pyspark.ml.classification import LogisticRegression\n",
        "from pyspark.ml.evaluation import BinaryClassificationEvaluator\n",
        "\n",
        "# Converter a coluna 'Status de Emprego' para numérica: 1 para 'ATIVO' e 0 para 'INATIVO'\n",
        "df = df.withColumn('Status_Emprego_Num', when(df['Status de Emprego'] == 'ATIVO', 1).otherwise(0))\n",
        "\n",
        "# Selecionar as colunas relevantes para o modelo, incluindo 'Nome'\n",
        "df_modelo = df.select('Nome', 'Idade', 'Salario', 'Tempo_de_Casa', 'Status_Emprego_Num')  # Include 'Nome' here\n",
        "\n",
        "# Preencher valores nulos com a média da coluna (ou outra estratégia de imputação)\n",
        "imputer = Imputer(inputCols=['Idade', 'Salario', 'Tempo_de_Casa'],\n",
        "                  outputCols=['Idade_Imputed', 'Salario_Imputed', 'Tempo_de_Casa_Imputed'])\n",
        "df_modelo = imputer.fit(df_modelo).transform(df_modelo)\n",
        "\n",
        "# Criar um VectorAssembler para combinar as features em uma única coluna\n",
        "assembler = VectorAssembler(inputCols=['Idade_Imputed', 'Salario_Imputed', 'Tempo_de_Casa_Imputed'],\n",
        "                            outputCol='features') # Use as colunas imputadas\n",
        "df_modelo = assembler.transform(df_modelo)\n",
        "\n",
        "# Dividir os dados em conjuntos de treinamento e teste\n",
        "train_data, test_data = df_modelo.randomSplit([0.7, 0.3], seed=42)\n",
        "\n",
        "# Importar e treinar um modelo de Machine Learning (ex: Regressão Logística)\n",
        "lr = LogisticRegression(featuresCol='features', labelCol='Status_Emprego_Num')\n",
        "model = lr.fit(train_data)\n",
        "\n",
        "# Fazer previsões no conjunto de teste\n",
        "predictions = model.transform(test_data)\n",
        "\n",
        "# Avaliar o modelo\n",
        "evaluator = BinaryClassificationEvaluator(labelCol='Status_Emprego_Num')\n",
        "auc = evaluator.evaluate(predictions)\n",
        "print(f'AUC: {auc}')\n",
        "\n",
        "# Define a UDF to extract the probability of 'INATIVO' (index 1)\n",
        "extract_inativo_prob = udf(lambda v: float(v[1]), DoubleType())\n",
        "\n",
        "# Create the 'prob_inativo' column\n",
        "funcionarios_risco = predictions.withColumn('prob_inativo', extract_inativo_prob(predictions['probability']))\n",
        "\n",
        "# Now you can filter using the newly created column\n",
        "funcionarios_risco = funcionarios_risco.filter(funcionarios_risco['prob_inativo'] > 0.5)\n",
        "\n",
        "# Select columns including 'Nome'\n",
        "funcionarios_risco.select('Nome', 'Idade', 'Salario', 'Tempo_de_Casa', 'prediction', 'probability', 'prob_inativo').show()"
      ],
      "metadata": {
        "colab": {
          "base_uri": "https://localhost:8080/"
        },
        "id": "xSHXB_fzSZfK",
        "outputId": "44b710bd-b125-4b54-9b69-74d988224141"
      },
      "execution_count": null,
      "outputs": [
        {
          "output_type": "stream",
          "name": "stdout",
          "text": [
            "AUC: 0.3333333333333333\n",
            "+-------------+-----+-------+-------------+----------+--------------------+------------------+\n",
            "|         Nome|Idade|Salario|Tempo_de_Casa|prediction|         probability|      prob_inativo|\n",
            "+-------------+-----+-------+-------------+----------+--------------------+------------------+\n",
            "|Luciana Costa| 30.0| 5200.0|         5.67|       1.0|[1.34017873273946...|0.9999865982126726|\n",
            "|Paulo Ricardo| 30.0| 6100.0|         3.72|       1.0|[5.14160248141845...|0.9999999999994859|\n",
            "|  Sandra Lima| 28.0| 4800.0|         4.33|       1.0|[4.11948773526440...|               1.0|\n",
            "+-------------+-----+-------+-------------+----------+--------------------+------------------+\n",
            "\n"
          ]
        }
      ]
    },
    {
      "cell_type": "markdown",
      "metadata": {
        "id": "qXtTRWvhH0pv"
      },
      "source": [
        "### 35. Análise de Homogeneidade Salarial: Verificar a homogeneidade dos salários dentro de cada departamento."
      ]
    },
    {
      "cell_type": "code",
      "execution_count": null,
      "metadata": {
        "id": "lJ8A6UNxH3vJ",
        "colab": {
          "base_uri": "https://localhost:8080/"
        },
        "outputId": "ca0df596-df57-40b1-c319-1c9635aea14f"
      },
      "outputs": [
        {
          "output_type": "stream",
          "name": "stdout",
          "text": [
            "+------------+-------------+---------------------+\n",
            "|        Área|Média_Salario|Desvio_Padrao_Salario|\n",
            "+------------+-------------+---------------------+\n",
            "|   MARKETING|       5100.0|                424.3|\n",
            "|          RH|       4800.0|                  0.0|\n",
            "|DESCONHECIDA|       5500.0|                 NULL|\n",
            "|  FINANCEIRO|       5750.0|                479.6|\n",
            "+------------+-------------+---------------------+\n",
            "\n"
          ]
        }
      ],
      "source": [
        "\n",
        "from pyspark.sql import functions as F\n",
        "\n",
        "# Calcular a média e desvio padrão dos salários por departamento\n",
        "df_salario_stats = df.groupBy('Área') \\\n",
        "    .agg(\n",
        "        F.mean('Salario').alias('Média_Salario'),\n",
        "        F.round(F.stddev('Salario'), 1).alias('Desvio_Padrao_Salario')\n",
        "    )\n",
        "\n",
        "\n",
        "df_salario_stats.show()"
      ]
    },
    {
      "cell_type": "markdown",
      "metadata": {
        "id": "4kpsnGkrH4GJ"
      },
      "source": [
        "### 36. Detecção de Funcionários Com Anomalias: Identificar funcionários com salários e idades que destoam significativamente dos outros no mesmo departamento."
      ]
    },
    {
      "cell_type": "code",
      "execution_count": null,
      "metadata": {
        "id": "rre5UpfGH65C",
        "colab": {
          "base_uri": "https://localhost:8080/"
        },
        "outputId": "63dd0a3d-88f0-4afe-ceb7-c8cf869bcfaa"
      },
      "outputs": [
        {
          "output_type": "stream",
          "name": "stdout",
          "text": [
            "+------------+-------------+---------------------+-----------+-------------------+\n",
            "|        Área|Média_Salario|Desvio_Padrao_Salario|Média_Idade|Desvio_Padrao_Idade|\n",
            "+------------+-------------+---------------------+-----------+-------------------+\n",
            "|   MARKETING|       5100.0|   424.26406871192853|       30.5|  4.949747468305833|\n",
            "|          RH|       4800.0|                  0.0|       29.0|                1.0|\n",
            "|DESCONHECIDA|       5500.0|                 NULL|       31.0|               NULL|\n",
            "|  FINANCEIRO|       5750.0|   479.58315233127206|      29.75| 0.4999999999999998|\n",
            "+------------+-------------+---------------------+-----------+-------------------+\n",
            "\n"
          ]
        }
      ],
      "source": [
        "from pyspark.sql import functions as F\n",
        "\n",
        "# Calcular a média e desvio padrão dos salários e idades por departamento\n",
        "df_stats = df.groupBy('Área') \\\n",
        "    .agg(\n",
        "        F.mean('Salario').alias('Média_Salario'),\n",
        "        F.stddev('Salario').alias('Desvio_Padrao_Salario'),\n",
        "        F.mean('Idade').alias('Média_Idade'),\n",
        "        F.stddev('Idade').alias('Desvio_Padrao_Idade')\n",
        "    )\n",
        "\n",
        "# Exibir o DataFrame com as estatísticas por departamento\n",
        "df_stats.show()\n"
      ]
    },
    {
      "cell_type": "markdown",
      "metadata": {
        "id": "BHWhD7OFH7Of"
      },
      "source": [
        "### 37. Comparação de Salários por Região: Se houvesse uma coluna de localização, comparar os salários entre diferentes regiões."
      ]
    },
    {
      "cell_type": "code",
      "execution_count": null,
      "metadata": {
        "id": "89ywaOz3H9zf",
        "colab": {
          "base_uri": "https://localhost:8080/"
        },
        "outputId": "238400e4-be79-40dc-8870-3d467156b405"
      },
      "outputs": [
        {
          "output_type": "stream",
          "name": "stdout",
          "text": [
            "+------+-----------------+\n",
            "|Região|    Média_Salário|\n",
            "+------+-----------------+\n",
            "|   Sul|           4800.0|\n",
            "| Norte|           5750.0|\n",
            "|Centro|5233.333333333333|\n",
            "+------+-----------------+\n",
            "\n"
          ]
        }
      ],
      "source": [
        "from pyspark.sql import functions as F\n",
        "\n",
        "# Adicionar uma coluna fictícia de localização\n",
        "df_com_regiao = df.withColumn('Região', F.when(F.col('Área') == 'FINANCEIRO', 'Norte')\n",
        "                                      .when(F.col('Área') == 'RH', 'Sul')\n",
        "                                      .otherwise('Centro'))\n",
        "\n",
        "# Calcular a média de salário por região\n",
        "df_salario_regiao = df_com_regiao.groupBy('Região') \\\n",
        "    .agg(F.mean('Salario').alias('Média_Salário'))\n",
        "\n",
        "# Exibir o DataFrame com a média de salário por região\n",
        "df_salario_regiao.show()"
      ]
    },
    {
      "cell_type": "markdown",
      "metadata": {
        "id": "r6CYQtRhH-KS"
      },
      "source": [
        "### 38. Criação de Métricas Personalizadas: Desenvolver novas métricas como \"salário ajustado pela idade\" ou \"tempo de casa ajustado pela idade\"."
      ]
    },
    {
      "cell_type": "code",
      "execution_count": null,
      "metadata": {
        "id": "yNX58rG7IP5d",
        "colab": {
          "base_uri": "https://localhost:8080/"
        },
        "outputId": "390f2e79-6c6b-4559-b9ad-311a5e74e917"
      },
      "outputs": [
        {
          "output_type": "stream",
          "name": "stdout",
          "text": [
            "+--------------+-------+-----+----------------------+-------------------------+\n",
            "|          Nome|Salario|Idade|Salario_Ajustado_Idade|Tempo_Casa_Ajustado_Idade|\n",
            "+--------------+-------+-----+----------------------+-------------------------+\n",
            "| Luciana Costa| 5200.0| 30.0|    173.33333333333334|                    0.189|\n",
            "| Fernanda Dias| 4800.0| 29.0|    165.51724137931035|                     NULL|\n",
            "|  Fabio Santos| 5500.0| 31.0|    177.41935483870967|      0.21870967741935485|\n",
            "|   Maria Souza| 4800.0| 30.0|                 160.0|      0.18233333333333332|\n",
            "|    José Alves| 5400.0| 34.0|     158.8235294117647|       0.1935294117647059|\n",
            "|     Ana Clara| 4800.0| 27.0|    177.77777777777777|      0.23074074074074075|\n",
            "|    João Silva| 5500.0| 29.0|     189.6551724137931|      0.15827586206896552|\n",
            "|Carlos Pereira| 6200.0| 30.0|    206.66666666666666|      0.14733333333333334|\n",
            "|   Sandra Lima| 4800.0| 28.0|    171.42857142857142|      0.15464285714285714|\n",
            "| Paulo Ricardo| 6100.0| 30.0|    203.33333333333334|      0.12400000000000001|\n",
            "+--------------+-------+-----+----------------------+-------------------------+\n",
            "\n"
          ]
        }
      ],
      "source": [
        "# 38. Criação de Métricas Personalizadas: Desenvolver novas métricas como \"salário ajustado pela idade\" ou \"tempo de casa ajustado pela idade\".\n",
        "from pyspark.sql import functions as F\n",
        "\n",
        "# Calcular o salário ajustado pela idade\n",
        "df = df.withColumn('Salario_Ajustado_Idade', F.col('Salario') / F.col('Idade'))\n",
        "\n",
        "# Calcular o tempo de casa ajustado pela idade\n",
        "df = df.withColumn('Tempo_Casa_Ajustado_Idade', F.col('Tempo_de_Casa') / F.col('Idade'))\n",
        "\n",
        "# Exibir o DataFrame com as novas métricas\n",
        "df.select('Nome', 'Salario', 'Idade', 'Salario_Ajustado_Idade', 'Tempo_Casa_Ajustado_Idade').show()"
      ]
    },
    {
      "cell_type": "markdown",
      "metadata": {
        "id": "pbehSiJeIQK8"
      },
      "source": [
        "### 39. Análise de Recrutamento Recente: Focar na análise dos funcionários contratados nos últimos 12 meses para ver tendências."
      ]
    },
    {
      "cell_type": "code",
      "execution_count": null,
      "metadata": {
        "id": "GSG5MiyZIUB9",
        "colab": {
          "base_uri": "https://localhost:8080/"
        },
        "outputId": "0744f7a4-a2e7-46d2-e61e-5d2749bb290f"
      },
      "outputs": [
        {
          "output_type": "stream",
          "name": "stdout",
          "text": [
            "Média salarial dos funcionários contratados nos últimos 12 meses: None\n"
          ]
        }
      ],
      "source": [
        "from pyspark.sql import functions as F\n",
        "\n",
        "# Filtrar funcionários contratados nos últimos 12 meses\n",
        "df_recrutamento_recente = df.filter(F.datediff(F.current_date(), F.to_date('Data de Contratação', 'dd/MM/yyyy')) <= 365)\n",
        "\n",
        "# Analisar tendências de recrutamento recente (exemplo: média salarial)\n",
        "media_salario_recente = df_recrutamento_recente.agg(F.mean('Salario').alias('Média_Salario_Recente')).collect()[0][0]\n",
        "\n",
        "# Exibir a média salarial dos funcionários contratados recentemente\n",
        "print(f'Média salarial dos funcionários contratados nos últimos 12 meses: {media_salario_recente}')\n"
      ]
    },
    {
      "cell_type": "markdown",
      "metadata": {
        "id": "YSlsqlK6IUVQ"
      },
      "source": [
        "### 40. Distribuição de Funcionários por Departamento: Quantificar o número de funcionários por departamento e comparar com a média salarial.\n"
      ]
    },
    {
      "cell_type": "code",
      "execution_count": null,
      "metadata": {
        "id": "XvfwIb1vIXgd",
        "colab": {
          "base_uri": "https://localhost:8080/"
        },
        "outputId": "f6a23898-9aed-417c-fdda-c5ab3030d21a"
      },
      "outputs": [
        {
          "output_type": "stream",
          "name": "stdout",
          "text": [
            "+------------+-------------+-------------------+\n",
            "|        Área|Média_Salário|Número_Funcionários|\n",
            "+------------+-------------+-------------------+\n",
            "|   MARKETING|       5100.0|                  2|\n",
            "|          RH|       4800.0|                  3|\n",
            "|DESCONHECIDA|       5500.0|                  1|\n",
            "|  FINANCEIRO|       5750.0|                  4|\n",
            "+------------+-------------+-------------------+\n",
            "\n"
          ]
        }
      ],
      "source": [
        "\n",
        "from pyspark.sql import functions as F\n",
        "\n",
        "# Calcular a média de salário por departamento e contar o número de funcionários\n",
        "df_media_salario = df.groupBy('Área') \\\n",
        "    .agg(F.mean('Salario').alias('Média_Salário'),\n",
        "         F.count('Nome').alias('Número_Funcionários'))\n",
        "\n",
        "# Exibir o DataFrame com a média salarial e o número de funcionários por departamento\n",
        "df_media_salario.show()"
      ]
    },
    {
      "cell_type": "markdown",
      "metadata": {
        "id": "ycW9lIKAIX6r"
      },
      "source": [
        "### 41. Análise de Rotatividade por Departamento: Verificar se há departamentos com alta rotatividade de funcionários."
      ]
    },
    {
      "cell_type": "code",
      "execution_count": null,
      "metadata": {
        "id": "WKIwQ14cIa4q",
        "colab": {
          "base_uri": "https://localhost:8080/"
        },
        "outputId": "8b9bde39-d11f-4d6d-8374-0880542fdeb0"
      },
      "outputs": [
        {
          "output_type": "stream",
          "name": "stdout",
          "text": [
            "+------------+---------------------+-------------+-----------+\n",
            "|        Área|Contagem_Funcionários|Média_Salário|Média_Idade|\n",
            "+------------+---------------------+-------------+-----------+\n",
            "|   MARKETING|                    2|       5100.0|       30.5|\n",
            "|          RH|                    3|       4800.0|       29.0|\n",
            "|DESCONHECIDA|                    1|       5500.0|       31.0|\n",
            "|  FINANCEIRO|                    4|       5750.0|      29.75|\n",
            "+------------+---------------------+-------------+-----------+\n",
            "\n"
          ]
        }
      ],
      "source": [
        "from pyspark.sql import functions as F\n",
        "\n",
        "# Calcular a rotatividade por departamento\n",
        "df_rotatividade = df.groupBy('Área') \\\n",
        "    .agg(F.count('Nome').alias('Contagem_Funcionários'),\n",
        "         F.round(F.avg('Salario'), 1).alias('Média_Salário'),\n",
        "         F.avg('Idade').alias('Média_Idade'))\n",
        "\n",
        "# Exibir o DataFrame com a rotatividade por departamento\n",
        "df_rotatividade.show()"
      ]
    },
    {
      "cell_type": "markdown",
      "metadata": {
        "id": "juiACAZYIbRt"
      },
      "source": [
        "### 42. Comparação de Salários por Gênero: Se houvesse uma coluna de gênero, comparar os salários médios entre homens e mulheres."
      ]
    },
    {
      "cell_type": "code",
      "execution_count": null,
      "metadata": {
        "id": "DRT9W8zSIvkF",
        "colab": {
          "base_uri": "https://localhost:8080/"
        },
        "outputId": "f66340af-3057-40b8-8007-0ecc5d26306b"
      },
      "outputs": [
        {
          "output_type": "stream",
          "name": "stdout",
          "text": [
            "+------+-------------+\n",
            "|Gênero|Média_Salário|\n",
            "+------+-------------+\n",
            "|     F|       4880.0|\n",
            "|     M|       5740.0|\n",
            "+------+-------------+\n",
            "\n"
          ]
        }
      ],
      "source": [
        "from pyspark.sql import functions as F\n",
        "\n",
        "# Calcular a média de salário por gênero\n",
        "df_salario_genero = df.groupBy('Gênero') \\\n",
        "    .agg(F.mean('Salario').alias('Média_Salário'))\n",
        "\n",
        "# Exibir o DataFrame com a média de salário por gênero\n",
        "df_salario_genero.show()"
      ]
    },
    {
      "cell_type": "markdown",
      "metadata": {
        "id": "g-bUqphTIv5F"
      },
      "source": [
        "### 43. Correlação Entre Status de Emprego e Desempenho Salarial: Avaliar se há diferença significativa de salários entre diferentes status de emprego."
      ]
    },
    {
      "cell_type": "code",
      "execution_count": null,
      "metadata": {
        "id": "dtwe5-aQIzPr",
        "colab": {
          "base_uri": "https://localhost:8080/"
        },
        "outputId": "fb74a578-c248-4d4d-e3f1-5daa06780cc1"
      },
      "outputs": [
        {
          "output_type": "stream",
          "name": "stdout",
          "text": [
            "+-----------------+-------------+\n",
            "|Status de Emprego|Média_Salário|\n",
            "+-----------------+-------------+\n",
            "|            ATIVO|       5200.0|\n",
            "|          INATIVO|       5750.0|\n",
            "+-----------------+-------------+\n",
            "\n"
          ]
        }
      ],
      "source": [
        "from pyspark.sql import functions as F\n",
        "\n",
        "# Calcular a média de salário por 'Status de Emprego'\n",
        "df_salario_status = df.groupBy('Status de Emprego') \\\n",
        "    .agg(F.mean('Salario').alias('Média_Salário')) \\\n",
        "    .orderBy('Status de Emprego')\n",
        "\n",
        "# Exibir o DataFrame com a média de salário por status de emprego\n",
        "df_salario_status.show()"
      ]
    },
    {
      "cell_type": "markdown",
      "metadata": {
        "id": "2kPL9H8QIzh0"
      },
      "source": [
        "### 44. Análise de Impacto de Promoções: Se houvesse dados de promoções, analisar o impacto das promoções no salário ao longo do tempo."
      ]
    },
    {
      "cell_type": "code",
      "execution_count": null,
      "metadata": {
        "id": "Ff_dy6YDI2po",
        "colab": {
          "base_uri": "https://localhost:8080/"
        },
        "outputId": "726a11d0-4074-448c-e05a-9c0633c5b207"
      },
      "outputs": [
        {
          "output_type": "stream",
          "name": "stdout",
          "text": [
            "+--------------+-------------------+-------------+\n",
            "|          Nome|Data de Contratação|Média_Salário|\n",
            "+--------------+-------------------+-------------+\n",
            "|     Ana Clara|         12/06/2018|       4800.0|\n",
            "|Carlos Pereira|         01/04/2020|       6200.0|\n",
            "|  Fabio Santos|         20/11/2017|       5500.0|\n",
            "| Fernanda Dias|               NULL|       4800.0|\n",
            "|    José Alves|         01/02/2018|       5400.0|\n",
            "|    João Silva|         01/02/2020|       5500.0|\n",
            "| Luciana Costa|         01/01/2019|       5200.0|\n",
            "|   Maria Souza|         15/03/2019|       4800.0|\n",
            "| Paulo Ricardo|         12/12/2020|       6100.0|\n",
            "|   Sandra Lima|         05/05/2020|       4800.0|\n",
            "+--------------+-------------------+-------------+\n",
            "\n"
          ]
        }
      ],
      "source": [
        "from pyspark.sql import functions as F\n",
        "\n",
        "# Calcular a média de salário por 'Nome' e 'Data de Contratação'\n",
        "df_promocoes = df.groupBy('Nome', 'Data de Contratação') \\\n",
        "    .agg(F.mean('Salario').alias('Média_Salário')) \\\n",
        "    .orderBy('Nome', 'Data de Contratação')\n",
        "\n",
        "# Exibir o DataFrame com a média de salário por nome e data de contratação\n",
        "df_promocoes.show()"
      ]
    },
    {
      "cell_type": "markdown",
      "metadata": {
        "id": "XErmUOI0I3BQ"
      },
      "source": [
        "### 45. Projeção de Custos Salariais: Calcular o custo projetado para a empresa em termos de salários nos próximos anos."
      ]
    },
    {
      "cell_type": "code",
      "execution_count": null,
      "metadata": {
        "id": "rUjFM45YI6aq",
        "colab": {
          "base_uri": "https://localhost:8080/"
        },
        "outputId": "552ad1fe-eabf-44e5-bea5-967ec1375633"
      },
      "outputs": [
        {
          "output_type": "stream",
          "name": "stdout",
          "text": [
            "+----------------+----------------+\n",
            "|Custo_Total_2024|Custo_Total_2025|\n",
            "+----------------+----------------+\n",
            "|         55755.0|        58542.75|\n",
            "+----------------+----------------+\n",
            "\n"
          ]
        }
      ],
      "source": [
        "from pyspark.sql import functions as F\n",
        "\n",
        "# Definir o aumento percentual anual (por exemplo, 5%)\n",
        "aumento_percentual_anual = 0.05\n",
        "\n",
        "# Definir o número de anos para a projeção\n",
        "anos_projecao = 2\n",
        "\n",
        "# Calcular o custo projetado para os próximos 2 anos\n",
        "# A fórmula usada é: Salario * (1 + aumento_percentual_anual) ** anos_projecao\n",
        "\n",
        "df_projecao = df.withColumn(\n",
        "    'Custo_Projetado_2024',\n",
        "    F.col('Salario') * (1 + aumento_percentual_anual) ** 1\n",
        ").withColumn(\n",
        "    'Custo_Projetado_2025',\n",
        "    F.col('Salario') * (1 + aumento_percentual_anual) ** 2\n",
        ")\n",
        "\n",
        "# Calcular o custo total projetado para cada ano\n",
        "df_custo_total = df_projecao.select(\n",
        "    F.sum('Custo_Projetado_2024').alias('Custo_Total_2024'),\n",
        "    F.sum('Custo_Projetado_2025').alias('Custo_Total_2025')\n",
        ")\n",
        "\n",
        "# Exibir o custo total projetado para os próximos 2 anos\n",
        "df_custo_total.show()\n"
      ]
    },
    {
      "cell_type": "markdown",
      "metadata": {
        "id": "IE7tgQ3EI64O"
      },
      "source": [
        "### 46. Análise de Desempenho por Escolaridade: Se houvesse uma coluna de escolaridade, analisar o impacto da escolaridade no salário."
      ]
    },
    {
      "cell_type": "code",
      "execution_count": null,
      "metadata": {
        "id": "m_MQWW4xI-Ki",
        "colab": {
          "base_uri": "https://localhost:8080/"
        },
        "outputId": "870a697b-a82b-41b5-e1b4-2311a9f8de05"
      },
      "outputs": [
        {
          "output_type": "stream",
          "name": "stdout",
          "text": [
            "+---------------+-------------+\n",
            "|   Escolaridade|Média_Salário|\n",
            "+---------------+-------------+\n",
            "|Ensino Superior|       5740.0|\n",
            "|   Ensino Médio|       4880.0|\n",
            "+---------------+-------------+\n",
            "\n"
          ]
        }
      ],
      "source": [
        "from pyspark.sql import functions as F\n",
        "\n",
        "\n",
        "# Criar uma coluna  'Escolaridade' com valores aleatórios 'Ensino Médio' e 'Ensino Superior'\n",
        "df = df.withColumn('Escolaridade', F.when(df.ID % 2 == 0, 'Ensino Médio').otherwise('Ensino Superior'))\n",
        "\n",
        "# agrupar escolaridade dos funcionários por 'Salario'\n",
        "df_escolaridade_salario = df.groupBy('Escolaridade') \\\n",
        "    .agg(F.mean('Salario').alias('Média_Salário'))\n",
        "\n",
        "# Exibir o DataFrame com a média de salário por escolaridade\n",
        "df_escolaridade_salario.show()\n"
      ]
    },
    {
      "cell_type": "markdown",
      "metadata": {
        "id": "FNFsd_HlJA-q"
      },
      "source": [
        "### 47. Comparação Entre Funcionários com Benefícios: Se houvesse dados de benefícios, comparar o salário entre funcionários que recebem ou não benefícios."
      ]
    },
    {
      "cell_type": "code",
      "execution_count": null,
      "metadata": {
        "id": "v5BJBTKxJDJ2",
        "colab": {
          "base_uri": "https://localhost:8080/"
        },
        "outputId": "9ebf8c67-9e6e-442b-d6c1-94ec0958318d"
      },
      "outputs": [
        {
          "output_type": "stream",
          "name": "stdout",
          "text": [
            "+----------+-------------+\n",
            "|Beneficios|Média_Salário|\n",
            "+----------+-------------+\n",
            "|       Não|       4800.0|\n",
            "|       Sim|       5650.0|\n",
            "+----------+-------------+\n",
            "\n"
          ]
        }
      ],
      "source": [
        "from pyspark.sql import functions as F\n",
        "\n",
        "\n",
        "# Criar uma coluna de benefícios fictícia\n",
        "df = df.withColumn('Beneficios', when(df.Salario > 5000, 'Sim').otherwise('Não'))\n",
        "\n",
        "# Calcular a média de salário por benefício\n",
        "df_salario_beneficios = df.groupBy('Beneficios') \\\n",
        "    .agg(F.mean('Salario').alias('Média_Salário'))\n",
        "\n",
        "# Exibir o DataFrame com a média de salário por benefício\n",
        "df_salario_beneficios.show()\n"
      ]
    },
    {
      "cell_type": "markdown",
      "metadata": {
        "id": "SSoKMSEMJDle"
      },
      "source": [
        "### 48. Análise de Desempenho por Formação Acadêmica: Se houvesse uma coluna de formação, analisar como diferentes formações afetam o salário e tempo de casa."
      ]
    },
    {
      "cell_type": "code",
      "execution_count": null,
      "metadata": {
        "id": "qB0cmVNcJIjO",
        "colab": {
          "base_uri": "https://localhost:8080/"
        },
        "outputId": "f8cdaac2-666d-4b3c-cb14-4bf9a05f5f76"
      },
      "outputs": [
        {
          "output_type": "stream",
          "name": "stdout",
          "text": [
            "+---------------+-------------+-------------------+\n",
            "|   Escolaridade|Média_Salário|Média_Tempo_de_Casa|\n",
            "+---------------+-------------+-------------------+\n",
            "|Ensino Superior|       5740.0|  5.217999999999999|\n",
            "|   Ensino Médio|       4880.0|  5.425000000000001|\n",
            "+---------------+-------------+-------------------+\n",
            "\n"
          ]
        }
      ],
      "source": [
        "from pyspark.sql import functions as F\n",
        "\n",
        "# Calcular a média de salário e tempo de casa por 'Escolaridade'\n",
        "df_escolaridade = df.groupBy('Escolaridade') \\\n",
        "    .agg(F.mean('Salario').alias('Média_Salário'),\n",
        "         F.mean('Tempo_de_Casa').alias('Média_Tempo_de_Casa'))\n",
        "\n",
        "# Exibir o DataFrame com a média de salário e tempo de casa por escolaridade\n",
        "df_escolaridade.show()"
      ]
    },
    {
      "cell_type": "markdown",
      "metadata": {
        "id": "G6oFtFwaJH2q"
      },
      "source": [
        "### 49. Previsão de Salários Futuros: Usar regressão linear ou outros modelos para prever o crescimento salarial futuro."
      ]
    },
    {
      "cell_type": "code",
      "execution_count": null,
      "metadata": {
        "id": "SYwzb8aYJMgi",
        "colab": {
          "base_uri": "https://localhost:8080/"
        },
        "outputId": "2dbb4f98-45a6-4a8f-c542-74c410a28bbc"
      },
      "outputs": [
        {
          "output_type": "stream",
          "name": "stdout",
          "text": [
            "['Tempo_de_Casa', 'Salario', 'Tempo_de_Casa_Imputed', 'features', 'prediction']\n",
            "+-------------+-------+-----------------+\n",
            "|Tempo_de_Casa|Salario|       prediction|\n",
            "+-------------+-------+-----------------+\n",
            "|         4.42| 6200.0|5331.977450253043|\n",
            "|         6.23| 4800.0|5190.082742260934|\n",
            "+-------------+-------+-----------------+\n",
            "\n",
            "Root Mean Squared Error (RMSE): 672.9144420648954\n"
          ]
        }
      ],
      "source": [
        "from pyspark.ml.regression import LinearRegression\n",
        "from pyspark.ml.feature import VectorAssembler\n",
        "from pyspark.ml.feature import Imputer\n",
        "from pyspark.sql import functions as F\n",
        "# Selecionar as colunas relevantes para a previsão\n",
        "df_regressao = df.select('Tempo_de_Casa', 'Salario')\n",
        "\n",
        "# Lidar com valores nulos em 'Tempo_de_Casa' usando Imputer\n",
        "imputer = Imputer(inputCols=['Tempo_de_Casa'], outputCols=[\"Tempo_de_Casa_Imputed\"])\n",
        "df_regressao = imputer.fit(df_regressao).transform(df_regressao)\n",
        "\n",
        "# Criar um VectorAssembler para combinar as features em um único vetor\n",
        "assembler = VectorAssembler(inputCols=['Tempo_de_Casa_Imputed'], outputCol='features') # Use a coluna imputada\n",
        "df_regressao = assembler.transform(df_regressao)\n",
        "\n",
        "# Dividir os dados em conjuntos de treinamento e teste\n",
        "(training_data, test_data) = df_regressao.randomSplit([0.8, 0.2])\n",
        "\n",
        "# Criar um modelo de regressão linear\n",
        "lr = LinearRegression(featuresCol='features', labelCol='Salario')\n",
        "\n",
        "# Treinar o modelo com os dados de treinamento\n",
        "lr_model = lr.fit(training_data)\n",
        "\n",
        "# Fazer previsões com os dados de teste\n",
        "predictions = lr_model.transform(test_data)\n",
        "\n",
        "# Verificar se as colunas 'Salario' e 'prediction' estão presentes no DataFrame 'predictions'\n",
        "print(predictions.columns)\n",
        "\n",
        "# Exibir as previsões\n",
        "predictions.select('Tempo_de_Casa', 'Salario', 'prediction').show()\n",
        "\n",
        "# Avaliar o modelo\n",
        "from pyspark.ml.evaluation import RegressionEvaluator\n",
        "evaluator = RegressionEvaluator(labelCol='Salario', predictionCol='prediction', metricName='rmse')\n",
        "rmse = evaluator.evaluate(predictions)\n",
        "print(f'Root Mean Squared Error (RMSE): {rmse}')"
      ]
    },
    {
      "cell_type": "markdown",
      "metadata": {
        "id": "z2oEgbw0JMvj"
      },
      "source": [
        "### 50. Identificação de Padrões de Promoção Interna: Analisar os padrões de promoção dentro da empresa ao longo dos anos."
      ]
    },
    {
      "cell_type": "code",
      "execution_count": null,
      "metadata": {
        "id": "Mkd5ZIYuJQHy",
        "colab": {
          "base_uri": "https://localhost:8080/"
        },
        "outputId": "d0962c6f-b60a-491d-f264-92294eff9883"
      },
      "outputs": [
        {
          "output_type": "stream",
          "name": "stdout",
          "text": [
            "+---+---------------+----------------------+---------------+-------------------+---------------------+\n",
            "| ID| Cargo_Anterior|Data_Promocao_Anterior|    Cargo_Atual|Data_Promocao_Atual|Tempo_Entre_Promocoes|\n",
            "+---+---------------+----------------------+---------------+-------------------+---------------------+\n",
            "|  1|       Analista|            2020-01-15|Analista Senior|         2022-06-20|                  887|\n",
            "|  2|       Analista|            2021-03-10|   Especialista|         2023-09-15|                  919|\n",
            "|  3|        Gerente|            2019-05-05| Gerente Senior|         2021-12-01|                  941|\n",
            "|  1|Analista Senior|            2022-06-20|        Gerente|         2023-11-10|                  508|\n",
            "+---+---------------+----------------------+---------------+-------------------+---------------------+\n",
            "\n",
            "Tempo médio entre promoções: 813.75 dias\n"
          ]
        }
      ],
      "source": [
        "from pyspark.sql import functions as F\n",
        "# Criar um DataFrame com dados de promoção simulados\n",
        "df_promocoes = spark.createDataFrame([\n",
        "    (1, 'Analista', '2020-01-15', 'Analista Senior', '2022-06-20'),\n",
        "    (2, 'Analista', '2021-03-10', 'Especialista', '2023-09-15'),\n",
        "    (3, 'Gerente', '2019-05-05', 'Gerente Senior', '2021-12-01'),\n",
        "    (1, 'Analista Senior', '2022-06-20', 'Gerente', '2023-11-10')\n",
        "], ['ID', 'Cargo_Anterior', 'Data_Promocao_Anterior', 'Cargo_Atual', 'Data_Promocao_Atual'])\n",
        "\n",
        "# Calcular o tempo entre as promoções\n",
        "df_promocoes = df_promocoes.withColumn(\n",
        "    'Tempo_Entre_Promocoes',\n",
        "    F.datediff(F.to_date('Data_Promocao_Atual'), F.to_date('Data_Promocao_Anterior'))\n",
        ")\n",
        "\n",
        "# Exibir o DataFrame com o tempo entre as promoções\n",
        "df_promocoes.show()\n",
        "\n",
        "# Analisar os padrões de promoção (exemplo: tempo médio entre promoções)\n",
        "tempo_medio_promocoes = df_promocoes.agg(F.mean('Tempo_Entre_Promocoes')).collect()[0][0]\n",
        "\n",
        "# Exibir o tempo médio entre promoções\n",
        "print(f'Tempo médio entre promoções: {tempo_medio_promocoes} dias')\n"
      ]
    }
  ],
  "metadata": {
    "colab": {
      "provenance": []
    },
    "kernelspec": {
      "display_name": "Python 3",
      "language": "python",
      "name": "python3"
    },
    "language_info": {
      "codemirror_mode": {
        "name": "ipython",
        "version": 3
      },
      "file_extension": ".py",
      "mimetype": "text/x-python",
      "name": "python",
      "nbconvert_exporter": "python",
      "pygments_lexer": "ipython3",
      "version": "3.12.4"
    }
  },
  "nbformat": 4,
  "nbformat_minor": 0
}