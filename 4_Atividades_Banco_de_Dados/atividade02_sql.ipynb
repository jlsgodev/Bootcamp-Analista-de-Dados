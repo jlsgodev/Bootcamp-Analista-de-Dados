{
  "nbformat": 4,
  "nbformat_minor": 0,
  "metadata": {
    "colab": {
      "provenance": []
    },
    "kernelspec": {
      "name": "python3",
      "display_name": "Python 3"
    },
    "language_info": {
      "name": "python"
    }
  },
  "cells": [
    {
      "cell_type": "markdown",
      "source": [
        "### 1. Empregados e seus Departamentos (INNER JOIN)\n",
        "### - Liste todos os empregados juntamente com o nome de seus departamentos.\n"
      ],
      "metadata": {
        "id": "_Mg8cCo1I1Pt"
      }
    },
    {
      "cell_type": "code",
      "execution_count": null,
      "metadata": {
        "id": "jXzF7rZOIcw8"
      },
      "outputs": [],
      "source": [
        "SELECT\n",
        "  E.NOME AS EMPREGADO_NOME,\n",
        "  D.NOME AS DEPARTAMENTO_NOME\n",
        "FROM\n",
        "  EMPREGADO E INNER JOIN  DEPARTAMENTO D\n",
        "ON E.NUMDEPTO = D.NUMDEPTO;"
      ]
    },
    {
      "cell_type": "markdown",
      "source": [
        "### 2. Empregados sem Departamento (LEFT JOIN + IS NULL)\n",
        "### - Liste todos os empregados que não estão associados a nenhum departamento."
      ],
      "metadata": {
        "id": "DIa7jLP9I_-0"
      }
    },
    {
      "cell_type": "code",
      "source": [
        "SELECT\n",
        "  E.NOME AS EMPREGADO_NOME,\n",
        "  D.NOME AS DEPARTAMENTO_NOME\n",
        "FROM\n",
        "  EMPREGADO E LEFT JOIN DEPARTAMENTO D\n",
        "ON E.NUMDEPTO = D.NUMDEPTO\n",
        "WHERE\n",
        "  D.NUMDEPTO IS NULL;\n"
      ],
      "metadata": {
        "id": "Krsmfw7aJH1n"
      },
      "execution_count": null,
      "outputs": []
    },
    {
      "cell_type": "markdown",
      "source": [
        "### 3. Projetos sem Empregados (LEFT JOIN + IS NULL)\n",
        "### - Liste todos os projetos que não têm empregados associados."
      ],
      "metadata": {
        "id": "VJCfz6o9JIqm"
      }
    },
    {
      "cell_type": "code",
      "source": [
        "\n",
        "SELECT\n",
        "    PROJETO.nome AS projeto_nome\n",
        "FROM\n",
        "    PROJETO\n",
        "LEFT JOIN\n",
        "    TRABALHA_EM ON PROJETO.codprojeto = TRABALHA_EM.codprojeto\n",
        "WHERE\n",
        "    TRABALHA_EM.codprojeto IS NULL;"
      ],
      "metadata": {
        "id": "qB6i0PU_JRNE"
      },
      "execution_count": null,
      "outputs": []
    },
    {
      "cell_type": "markdown",
      "source": [
        "### 4. Empregados e suas Habilidades (INNER JOIN)\n",
        "### - Liste todos os empregados juntamente com suas habilidades."
      ],
      "metadata": {
        "id": "_2cpkvHDJRoJ"
      }
    },
    {
      "cell_type": "code",
      "source": [
        "\n",
        "SELECT\n",
        "    E.nome AS empregado_nome,\n",
        "    H.descricao AS habilidade\n",
        "FROM\n",
        "    EMPREGADO E\n",
        "INNER JOIN\n",
        "    EMPREGADO_HABILIDADE EH ON E.matricula = EH.matricula\n",
        "INNER JOIN\n",
        "    HABILIDADE H ON EH.codhabilidade = H.codhabilidade;"
      ],
      "metadata": {
        "id": "jTyqmNLQJYS3"
      },
      "execution_count": null,
      "outputs": []
    },
    {
      "cell_type": "markdown",
      "source": [
        "### 5. Empregados sem Habilidades (LEFT JOIN + IS NULL)\n",
        "### - Liste todos os empregados que não têm habilidades associadas."
      ],
      "metadata": {
        "id": "qW7t-1xWJZLK"
      }
    },
    {
      "cell_type": "code",
      "source": [
        "SELECT  E.nome\n",
        "FROM EMPREGADO E\n",
        "LEFT JOIN EMPREGADO_HABILIDADE EH ON E.matricula = EH.matricula\n",
        "WHERE EH.matricula IS NULL;\n"
      ],
      "metadata": {
        "id": "5DDX5H1ZJezs"
      },
      "execution_count": null,
      "outputs": []
    },
    {
      "cell_type": "markdown",
      "source": [
        "### 6. Departamentos e Número de Empregados (LEFT JOIN + COUNT)\n",
        "### - Liste todos os departamentos e o número de empregados em cada um."
      ],
      "metadata": {
        "id": "kaIZnSD0JfL2"
      }
    },
    {
      "cell_type": "code",
      "source": [
        "SELECT D.numdepto, D.nome, COUNT(E.matricula) AS numero_empregados\n",
        "FROM DEPARTAMENTO D\n",
        "LEFT JOIN EMPREGADO E ON D.numdepto = E.numdepto\n",
        "GROUP BY D.numdepto, D.nome;"
      ],
      "metadata": {
        "id": "de6g9QuYJlvd"
      },
      "execution_count": null,
      "outputs": []
    },
    {
      "cell_type": "markdown",
      "source": [
        "### 7. Empregados e seus Projetos (INNER JOIN)\n",
        "### - Liste todos os empregados juntamente com os projetos em que estão trabalhando."
      ],
      "metadata": {
        "id": "pF1ubrzOJmKB"
      }
    },
    {
      "cell_type": "code",
      "source": [
        "SELECT  E.nome AS nome_empregado, P.nome AS nome_projeto\n",
        "FROM EMPREGADO E\n",
        "INNER JOIN  TRABALHA_EM T ON E.matricula = T.matricula\n",
        "INNER JOIN PROJETO P ON T.codprojeto = P.codprojeto;"
      ],
      "metadata": {
        "id": "UN-rooOKJrtK"
      },
      "execution_count": null,
      "outputs": []
    },
    {
      "cell_type": "markdown",
      "source": [
        "### 8. Empregados em Projetos Atuais (INNER JOIN + WHERE)\n",
        "### - Liste todos os empregados que estão trabalhando em projetos que ainda não\n",
        "### terminaram."
      ],
      "metadata": {
        "id": "JMIUp-xFJsD8"
      }
    },
    {
      "cell_type": "code",
      "source": [
        "\n",
        "SELECT  E.nome AS nome_empregado, P.nome AS nome_projeto\n",
        "FROM EMPREGADO E\n",
        "INNER JOIN TRABALHA_EM T ON E.matricula = T.matricula\n",
        "INNER JOIN PROJETO P ON T.codprojeto = P.codprojeto\n",
        "WHERE P.data_fim IS NULL  OR P.data_fim   >   CURRENT_DATE;"
      ],
      "metadata": {
        "id": "wrKGMfvjJzQ9"
      },
      "execution_count": null,
      "outputs": []
    },
    {
      "cell_type": "markdown",
      "source": [
        "### 9. Projetos e Duração (DATEDIFF)\n",
        "### - Liste todos os projetos juntamente com a duração em dias (diferente entre data_fim e data_inicio)."
      ],
      "metadata": {
        "id": "BPy_xW1pJz1r"
      }
    },
    {
      "cell_type": "code",
      "source": [
        "SELECT P.NOME AS projeto, datediff(P.data_fim, P.data_inicio) AS duracao_dias\n",
        "FROM PROJETO P;"
      ],
      "metadata": {
        "id": "x7bLHj74J7ty"
      },
      "execution_count": null,
      "outputs": []
    },
    {
      "cell_type": "markdown",
      "source": [
        "### 10. Empregados com Mais de uma Habilidade (INNER JOIN + HAVING COUNT)\n",
        "### - Liste todos os empregados que têm mais de uma habilidade."
      ],
      "metadata": {
        "id": "ybeAibUOKBlE"
      }
    },
    {
      "cell_type": "code",
      "source": [
        "SELECT  E.nome  FROM EMPREGADO E\n",
        "INNER JOIN EMPREGADO_HABILIDADE EH ON E.matricula = EH.matricula\n",
        "GROUP BY E.matricula, E.nome HAVING COUNT(EH.codhabilidade) > 1;\n"
      ],
      "metadata": {
        "id": "H8_gayrgKHdu"
      },
      "execution_count": null,
      "outputs": []
    },
    {
      "cell_type": "markdown",
      "source": [
        "### 11. Departamentos e Salário Médio (LEFT JOIN + AVG)\n",
        "### - Liste todos os departamentos juntamente com o salário médio dos empregados\n",
        "### em cada departamento."
      ],
      "metadata": {
        "id": "4miug-_VKIIy"
      }
    },
    {
      "cell_type": "code",
      "source": [
        "SELECT D.nome AS DEPARTAMENTO, AVG (E.salario) AS salario_medio\n",
        "FROM DEPARTAMENTO D\n",
        "LEFT JOIN EMPREGADO E ON D.numdepto = E.numdepto\n",
        "GROUP BY D.nome , D.numdepto;\n"
      ],
      "metadata": {
        "id": "dB45rYcZKQFe"
      },
      "execution_count": null,
      "outputs": []
    },
    {
      "cell_type": "markdown",
      "source": [
        "### 12. Empregados e suas Habilidades Ordenadas (INNER JOIN + ORDER BY)\n",
        "### - Liste todos os empregados juntamente com suas habilidades, ordenando os\n",
        "### resultados pelo nome do empregado e pela descrição da habilidade."
      ],
      "metadata": {
        "id": "HofKOLX5KQlo"
      }
    },
    {
      "cell_type": "code",
      "source": [
        "SELECT E.nome AS nome_empregado, H.descricao AS habilidade\n",
        "FROM EMPREGADO E\n",
        "INNER JOIN EMPREGADO_HABILIDADE EH ON E.matricula = EH.matricula\n",
        "INNER JOIN HABILIDADE H  ON EH.codhabilidade = H.codhabilidade\n",
        "ORDER BY E.nome, H.descricao;\n"
      ],
      "metadata": {
        "id": "1s94zYw8KXzX"
      },
      "execution_count": null,
      "outputs": []
    },
    {
      "cell_type": "markdown",
      "source": [
        "### 13. Projetos e Número de Empregados (INNER JOIN + COUNT)\n",
        "\n",
        "###- Liste todos os projetos juntamente com o número de empregados que estão\n",
        "### trabalhando em cada projeto."
      ],
      "metadata": {
        "id": "rvscPAcjKYLq"
      }
    },
    {
      "cell_type": "code",
      "source": [
        "\n",
        "\n",
        "\n",
        "SELECT P.nome AS nome_projeto , COUNT(T.matricula) AS numero_empregados\n",
        "FROM PROJETO P\n",
        "INNER JOIN TRABALHA_EM T ON P.codprojeto = T.codprojeto\n",
        "GROUP BY P.codprojeto , P.nome;"
      ],
      "metadata": {
        "id": "tw-5MvnrLaiY"
      },
      "execution_count": null,
      "outputs": []
    },
    {
      "cell_type": "markdown",
      "source": [
        "### 14. Empregados com Habilidades Específicas (INNER JOIN + WHERE)\n",
        "###- Liste todos os empregados que possuem uma habilidade específica (por exemplo, \"SQL\")."
      ],
      "metadata": {
        "id": "Bdnnh-vGLa4J"
      }
    },
    {
      "cell_type": "code",
      "source": [
        "SELECT\n",
        " E.nome AS nome_empregado, H.descricao AS habilidade\n",
        " FROM EMPREGADO E\n",
        " INNER JOIN EMPREGADO_HABILIDADE EH ON E.matricula = EH.matricula\n",
        " INNER JOIN HABILIDADE H ON EH.codhabilidade = H.codhabilidade\n",
        " WHERE H.descricao = 'SQL Database Management';\n"
      ],
      "metadata": {
        "id": "XebmMTq9Lqt4"
      },
      "execution_count": null,
      "outputs": []
    },
    {
      "cell_type": "markdown",
      "source": [
        "### 15. Departamentos sem Empregados (LEFT JOIN + IS NULL)\n",
        "### - Liste todos os departamentos que não têm empregados associados."
      ],
      "metadata": {
        "id": "S4wpgE0NLq-c"
      }
    },
    {
      "cell_type": "code",
      "source": [
        "SELECT D.nome AS nome_departamento\n",
        "FROM DEPARTAMENTO D\n",
        "LEFT JOIN EMPREGADO E ON D.numdepto = E.numdepto\n",
        "WHERE E.numdepto IS NULL;\n",
        "\n",
        "\n"
      ],
      "metadata": {
        "id": "WIpa61lgLxl2"
      },
      "execution_count": null,
      "outputs": []
    },
    {
      "cell_type": "markdown",
      "source": [
        "### 16. Projetos Ativos e seus Empregados (INNER JOIN + WHERE)\n",
        "### - Liste todos os projetos que ainda estão em andamento e os empregados que\n",
        "### estão trabalhando neles."
      ],
      "metadata": {
        "id": "GuqaPZ7DLx5D"
      }
    },
    {
      "cell_type": "code",
      "source": [
        "SELECT P.nome AS nome_projeto , E.matricula , E.nome AS nome_empregado\n",
        "FROM PROJETO P\n",
        "INNER JOIN TRABALHA_EM T ON P.codprojeto = T.codprojeto\n",
        "INNER JOIN EMPREGADO E ON T.matricula = E.matricula\n",
        "WHERE P.data_fim IS NULL OR P.data_fim > CURRENT_DATE;\n"
      ],
      "metadata": {
        "id": "T3VYwVnlL2YD"
      },
      "execution_count": null,
      "outputs": []
    },
    {
      "cell_type": "markdown",
      "source": [
        "### 17. Empregados e suas Habilidades e Projetos (INNER JOIN + Multiple Tables)\n",
        "### - Liste todos os empregados juntamente com suas habilidades e os projetos em que estão trabalhando."
      ],
      "metadata": {
        "id": "1PRnxkYrL2_I"
      }
    },
    {
      "cell_type": "code",
      "source": [
        "\n",
        "SELECT  E.nome AS nome_empregado, H.descricao AS habilidade, P.nome AS nome_projeto\n",
        "FROM EMPREGADO E\n",
        "INNER JOIN EMPREGADO_HABILIDADE EH ON E.matricula = EH.matricula\n",
        "INNER JOIN HABILIDADE H ON EH.codhabilidade = H.codhabilidade\n",
        "INNER JOIN TRABALHA_EM T ON E.matricula = T.matricula\n",
        "INNER JOIN PROJETO P ON T.codprojeto = P.codprojeto;\n"
      ],
      "metadata": {
        "id": "uSq-b7_rL8xe"
      },
      "execution_count": null,
      "outputs": []
    },
    {
      "cell_type": "markdown",
      "source": [
        "### 18. Projetos e Data de Início mais Recente (INNER JOIN + MAX)\n",
        "### - Liste todos os projetos juntamente com a data de início mais recente de um\n",
        "### empregado que começou a trabalhar nesse projeto."
      ],
      "metadata": {
        "id": "drJXQ30OL9HD"
      }
    },
    {
      "cell_type": "code",
      "source": [
        "SELECT  P.nome AS nome_projeto, MAX(T.data_inicio) AS data_inicio_mais_recente\n",
        "FROM PROJETO P\n",
        "INNER JOIN TRABALHA_EM T ON P.codprojeto = T.codprojeto\n",
        "GROUP BY P.codprojeto, P.nome;"
      ],
      "metadata": {
        "id": "QCEXYJcXUdmg"
      },
      "execution_count": null,
      "outputs": []
    },
    {
      "cell_type": "markdown",
      "source": [
        "### 19. Empregados que Trabalham em Mais de um Projeto (INNER JOIN + HAVING COUNT)\n",
        "###- Liste todos os empregados que estão trabalhando em mais de um projeto."
      ],
      "metadata": {
        "id": "IlDYJo77Ud_g"
      }
    },
    {
      "cell_type": "code",
      "source": [
        "\n",
        "SELECT E.matricula, E.nome\n",
        "FROM EMPREGADO E\n",
        "INNER JOIN TRABALHA_EM T ON E.matricula = T.matricula\n",
        "GROUP BY E.matricula, E.nome\n",
        "HAVING COUNT(T.codprojeto) > 1;"
      ],
      "metadata": {
        "id": "Rs0mKUqpUnxE"
      },
      "execution_count": null,
      "outputs": []
    },
    {
      "cell_type": "markdown",
      "source": [
        "### 20. Empregados e Departamento, Habilidade e Projeto (Multiple INNER JOINs)\n",
        "### - Liste todos os empregados juntamente com o nome do departamento, a descrição da habilidade e o nome do projeto em que estão trabalhando."
      ],
      "metadata": {
        "id": "8lgBVzY0UoFM"
      }
    },
    {
      "cell_type": "code",
      "source": [
        "SELECT  E.nome AS nome_empregado, D.nome AS nome_departamento, H.descricao AS habilidade, P.nome AS nome_projeto\n",
        "FROM EMPREGADO E\n",
        "INNER JOIN DEPARTAMENTO D ON E.numdepto = D.numdepto\n",
        "INNER JOIN EMPREGADO_HABILIDADE EH ON E.matricula = EH.matricula\n",
        "INNER JOIN HABILIDADE H ON EH.codhabilidade = H.codhabilidade\n",
        "INNER JOIN TRABALHA_EM T ON E.matricula = T.matricula\n",
        "INNER JOIN PROJETO P ON T.codprojeto = P.codprojeto;"
      ],
      "metadata": {
        "id": "ow468qH_Uvq4"
      },
      "execution_count": null,
      "outputs": []
    }
  ]
}